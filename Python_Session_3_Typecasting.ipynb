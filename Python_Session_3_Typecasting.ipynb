{
 "cells": [
  {
   "cell_type": "code",
   "execution_count": 1,
   "id": "96570b28-20e2-4572-a780-9e4f716f8619",
   "metadata": {},
   "outputs": [
    {
     "data": {
      "text/plain": [
       "True"
      ]
     },
     "execution_count": 1,
     "metadata": {},
     "output_type": "execute_result"
    }
   ],
   "source": [
    "true=True\n",
    "true\n",
    "\n",
    "#true is a variable\n",
    "#True is boolean we are storing in true"
   ]
  },
  {
   "cell_type": "markdown",
   "id": "2a4044cb-62fc-48e6-918b-50b548f814b7",
   "metadata": {},
   "source": [
    "- integer data type=int\n",
    "- float data type=float\n",
    "- string data type=str\n",
    "- boolean data type=bool"
   ]
  },
  {
   "cell_type": "markdown",
   "id": "964e8e6c-6c97-4311-992d-8e0ca527ba82",
   "metadata": {},
   "source": [
    "**Type Casting**\n",
    "\n",
    "- Converting one data type into another data type is called as type casting\n",
    "- Which means we want to convert\n",
    "- integer type to all another(float,string,bool) data type\n",
    "- float type to all another(int,string,bool) data type\n",
    "- str to all others(int,float,bool) data type"
   ]
  },
  {
   "cell_type": "markdown",
   "id": "9c8f9e2f-5700-4191-a501-8922ffd49623",
   "metadata": {},
   "source": [
    "int-float"
   ]
  },
  {
   "cell_type": "code",
   "execution_count": 3,
   "id": "9f6a7a9e-5f00-4050-9aac-59c834debf43",
   "metadata": {},
   "outputs": [
    {
     "data": {
      "text/plain": [
       "int"
      ]
     },
     "execution_count": 3,
     "metadata": {},
     "output_type": "execute_result"
    }
   ],
   "source": [
    "num=100\n",
    "type(num)"
   ]
  },
  {
   "cell_type": "code",
   "execution_count": 4,
   "id": "e75fa2af-314e-4a83-99db-bb857d5d9fc9",
   "metadata": {},
   "outputs": [
    {
     "data": {
      "text/plain": [
       "float"
      ]
     },
     "execution_count": 4,
     "metadata": {},
     "output_type": "execute_result"
    }
   ],
   "source": [
    "float_num=float(num)\n",
    "type(float_num)"
   ]
  },
  {
   "cell_type": "markdown",
   "id": "f20bb4b4-9a6e-4e44-bb2e-2726f2222637",
   "metadata": {},
   "source": [
    "**Note**\n",
    "- Integer=0 then only boolean conversion becomes false\n",
    "- otherwise for any positive or any negative number it becomes true"
   ]
  },
  {
   "cell_type": "code",
   "execution_count": 5,
   "id": "0849319e-43cb-4af9-956f-987a3a217eae",
   "metadata": {},
   "outputs": [
    {
     "data": {
      "text/plain": [
       "True"
      ]
     },
     "execution_count": 5,
     "metadata": {},
     "output_type": "execute_result"
    }
   ],
   "source": [
    "int(200.5)\n",
    "str(200.5)\n",
    "bool(200.5)"
   ]
  },
  {
   "cell_type": "markdown",
   "id": "0c5586ac-7ce3-48f2-a8c6-389ef9b496fd",
   "metadata": {},
   "source": [
    "String to another data type"
   ]
  },
  {
   "cell_type": "code",
   "execution_count": 7,
   "id": "d99c5566-5798-4fb6-a20d-a52d847310a1",
   "metadata": {},
   "outputs": [],
   "source": [
    "#case-1\n",
    "str='apple'\n",
    "#case-2\n",
    "str1='10'\n",
    "#case-3\n",
    "str='10.5'"
   ]
  },
  {
   "cell_type": "code",
   "execution_count": 8,
   "id": "e52596be-a112-4941-aa68-147f4e08746b",
   "metadata": {},
   "outputs": [
    {
     "data": {
      "text/plain": [
       "True"
      ]
     },
     "execution_count": 8,
     "metadata": {},
     "output_type": "execute_result"
    }
   ],
   "source": [
    "int('10') #10\n",
    "float('10') #10.0\n",
    "bool('10') #true"
   ]
  },
  {
   "cell_type": "code",
   "execution_count": 9,
   "id": "415a6588-4a04-4ecb-99c8-333084335574",
   "metadata": {},
   "outputs": [
    {
     "ename": "SyntaxError",
     "evalue": "invalid syntax (2231839759.py, line 1)",
     "output_type": "error",
     "traceback": [
      "\u001b[1;36m  Cell \u001b[1;32mIn[9], line 1\u001b[1;36m\u001b[0m\n\u001b[1;33m    int('10')  pass\u001b[0m\n\u001b[1;37m               ^\u001b[0m\n\u001b[1;31mSyntaxError\u001b[0m\u001b[1;31m:\u001b[0m invalid syntax\n"
     ]
    }
   ],
   "source": [
    "int('10')pass\n",
    "int('10.5')  fail\n",
    "float(10) pass\n",
    "bool('10') pass"
   ]
  },
  {
   "cell_type": "markdown",
   "id": "12df177e-fbb3-4dfb-affa-dea40f3052b1",
   "metadata": {},
   "source": [
    "- Float is the boss\n",
    "- Float of any value either it is integer in string format\n",
    "- Or float in string format will works\n",
    "- But integer will works only for integer in string format\n",
    "- Integer string format will fail or float in string"
   ]
  },
  {
   "cell_type": "code",
   "execution_count": 11,
   "id": "bfc32a6e-abbc-4fc2-b968-8118991c5920",
   "metadata": {},
   "outputs": [
    {
     "data": {
      "text/plain": [
       "True"
      ]
     },
     "execution_count": 11,
     "metadata": {},
     "output_type": "execute_result"
    }
   ],
   "source": [
    "bool('-7')"
   ]
  },
  {
   "cell_type": "markdown",
   "id": "58ba5146-6370-4406-9b85-bd82db7d840d",
   "metadata": {},
   "source": [
    "Bool to other type "
   ]
  },
  {
   "cell_type": "code",
   "execution_count": 12,
   "id": "cec6bceb-370d-4731-be20-4171eb77592a",
   "metadata": {},
   "outputs": [
    {
     "ename": "SyntaxError",
     "evalue": "invalid syntax (408262616.py, line 1)",
     "output_type": "error",
     "traceback": [
      "\u001b[1;36m  Cell \u001b[1;32mIn[12], line 1\u001b[1;36m\u001b[0m\n\u001b[1;33m    True=== int float str\u001b[0m\n\u001b[1;37m          ^\u001b[0m\n\u001b[1;31mSyntaxError\u001b[0m\u001b[1;31m:\u001b[0m invalid syntax\n"
     ]
    }
   ],
   "source": [
    "True=== int float str"
   ]
  },
  {
   "cell_type": "code",
   "execution_count": 13,
   "id": "6cd51597-2814-413f-b8db-8af74c1da6d4",
   "metadata": {},
   "outputs": [
    {
     "data": {
      "text/plain": [
       "1"
      ]
     },
     "execution_count": 13,
     "metadata": {},
     "output_type": "execute_result"
    }
   ],
   "source": [
    "int(True)"
   ]
  },
  {
   "cell_type": "code",
   "execution_count": 14,
   "id": "b3822b6d-64fa-49d5-ab2f-8d6683e2b27e",
   "metadata": {},
   "outputs": [
    {
     "data": {
      "text/plain": [
       "1.0"
      ]
     },
     "execution_count": 14,
     "metadata": {},
     "output_type": "execute_result"
    }
   ],
   "source": [
    "float(True)"
   ]
  },
  {
   "cell_type": "markdown",
   "id": "b3e8eb8a-431c-4e47-acd2-b1725e029ba1",
   "metadata": {},
   "source": [
    "Int to other"
   ]
  },
  {
   "cell_type": "code",
   "execution_count": 4,
   "id": "eea73145-eeb1-4aa2-85ef-7d69d6aee38b",
   "metadata": {},
   "outputs": [
    {
     "data": {
      "text/plain": [
       "(100.0, '1', True)"
      ]
     },
     "execution_count": 4,
     "metadata": {},
     "output_type": "execute_result"
    }
   ],
   "source": [
    "float(100),str(1),bool(100)"
   ]
  },
  {
   "cell_type": "code",
   "execution_count": 1,
   "id": "7581a476-f71f-47d5-a2c1-08f8eb2ca7bc",
   "metadata": {},
   "outputs": [
    {
     "data": {
      "text/plain": [
       "False"
      ]
     },
     "execution_count": 1,
     "metadata": {},
     "output_type": "execute_result"
    }
   ],
   "source": [
    "bool(0)"
   ]
  },
  {
   "cell_type": "code",
   "execution_count": 2,
   "id": "c20dcc0d-1cc0-478f-b6ec-be0e697cdeca",
   "metadata": {},
   "outputs": [
    {
     "data": {
      "text/plain": [
       "True"
      ]
     },
     "execution_count": 2,
     "metadata": {},
     "output_type": "execute_result"
    }
   ],
   "source": [
    "bool(100)"
   ]
  },
  {
   "cell_type": "code",
   "execution_count": 3,
   "id": "c13da9c0-b09e-46c0-bd82-363b206b798b",
   "metadata": {},
   "outputs": [
    {
     "data": {
      "text/plain": [
       "'100'"
      ]
     },
     "execution_count": 3,
     "metadata": {},
     "output_type": "execute_result"
    }
   ],
   "source": [
    "str(100)"
   ]
  },
  {
   "cell_type": "code",
   "execution_count": null,
   "id": "ece6f404-8458-4ecf-9b99-2dbd2de964d0",
   "metadata": {},
   "outputs": [],
   "source": []
  }
 ],
 "metadata": {
  "kernelspec": {
   "display_name": "Python 3 (ipykernel)",
   "language": "python",
   "name": "python3"
  },
  "language_info": {
   "codemirror_mode": {
    "name": "ipython",
    "version": 3
   },
   "file_extension": ".py",
   "mimetype": "text/x-python",
   "name": "python",
   "nbconvert_exporter": "python",
   "pygments_lexer": "ipython3",
   "version": "3.11.7"
  }
 },
 "nbformat": 4,
 "nbformat_minor": 5
}
