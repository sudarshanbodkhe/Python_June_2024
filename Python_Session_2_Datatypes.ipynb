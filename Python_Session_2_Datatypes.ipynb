{
 "cells": [
  {
   "cell_type": "markdown",
   "id": "af4a55f1-a0ff-42be-ba91-9838740d5ea8",
   "metadata": {},
   "source": [
    " **Data types**\n",
    "- In python type declare not required\n",
    "- python will automatically takes the bases on provided value\n",
    "- we have many data types avilable\n",
    "- the main data type are\n",
    "    - integer\n",
    "    - float\n",
    "    - boolean\n",
    "    - string\n",
    "- list\n",
    "- dictionary\n",
    "- Tuple\n",
    "- Complex"
   ]
  },
  {
   "cell_type": "markdown",
   "id": "99cf2d42-d7c0-43ed-9077-66efacd9874d",
   "metadata": {},
   "source": [
    "**Integer**"
   ]
  },
  {
   "cell_type": "code",
   "execution_count": 1,
   "id": "951004b9-1483-4c5c-8abb-4d0db2832c32",
   "metadata": {},
   "outputs": [
    {
     "data": {
      "text/plain": [
       "int"
      ]
     },
     "execution_count": 1,
     "metadata": {},
     "output_type": "execute_result"
    }
   ],
   "source": [
    "n=100\n",
    "type(n)"
   ]
  },
  {
   "cell_type": "markdown",
   "id": "4582d794-3fed-4c4e-918e-71c4f20bf39c",
   "metadata": {},
   "source": [
    "- Binary Representation\n",
    "\n",
    "- Octa Representation\n",
    "\n",
    "- Hexa Representation"
   ]
  },
  {
   "cell_type": "markdown",
   "id": "a7fb1f53-1b11-4c1a-9606-c55cde65f15f",
   "metadata": {},
   "source": [
    "**binary**\n",
    " - bi mean 2\n",
    "- so it requires 2 digits\n",
    "- generally we have 0 1 2 3 4 5 6 7 8 9\n",
    "- so it will repressent with only 0 and 1\n",
    "- representation ia 0b10,0b01111\n",
    "- wrong representation ia 0b102,0b007"
   ]
  },
  {
   "cell_type": "code",
   "execution_count": 2,
   "id": "bd056d57-810f-49eb-9ab3-f7b2ea2f565b",
   "metadata": {},
   "outputs": [
    {
     "data": {
      "text/plain": [
       "37"
      ]
     },
     "execution_count": 2,
     "metadata": {},
     "output_type": "execute_result"
    }
   ],
   "source": [
    " 0b100101"
   ]
  },
  {
   "cell_type": "code",
   "execution_count": 4,
   "id": "9c09b841-f57c-4323-9c50-0aebd8a33fb8",
   "metadata": {},
   "outputs": [
    {
     "data": {
      "text/plain": [
       "29"
      ]
     },
     "execution_count": 4,
     "metadata": {},
     "output_type": "execute_result"
    }
   ],
   "source": [
    "0b11101"
   ]
  },
  {
   "cell_type": "code",
   "execution_count": 8,
   "id": "cf119286-78f3-4c78-84bb-36dfd3680ff3",
   "metadata": {},
   "outputs": [],
   "source": [
    "import os"
   ]
  },
  {
   "cell_type": "code",
   "execution_count": 12,
   "id": "aa7413e5-f19f-426b-b8d1-dbf32fbdd4e0",
   "metadata": {},
   "outputs": [
    {
     "data": {
      "text/plain": [
       "'C:\\\\Users\\\\Lenovo\\\\Documents\\\\Naresh It\\\\Python'"
      ]
     },
     "execution_count": 12,
     "metadata": {},
     "output_type": "execute_result"
    }
   ],
   "source": [
    "os.getcwd()\n",
    "\n",
    "# get current working directory\n",
    "# It will give the path\n",
    "# Where our python file is located"
   ]
  },
  {
   "cell_type": "code",
   "execution_count": 11,
   "id": "643dc109-60c4-496d-9394-8ef0621495e6",
   "metadata": {},
   "outputs": [
    {
     "ename": "SyntaxError",
     "evalue": "invalid syntax (2455018491.py, line 1)",
     "output_type": "error",
     "traceback": [
      "\u001b[1;36m  Cell \u001b[1;32mIn[11], line 1\u001b[1;36m\u001b[0m\n\u001b[1;33m    4   2   1   num\u001b[0m\n\u001b[1;37m        ^\u001b[0m\n\u001b[1;31mSyntaxError\u001b[0m\u001b[1;31m:\u001b[0m invalid syntax\n"
     ]
    }
   ],
   "source": [
    "4   2   1   num\n",
    "0   0   0    0\n",
    "0   0   1    1\n",
    "0   1   0    2\n",
    "0   1   1    3\n",
    "1   0   0    4\n",
    "1   0   1    5\n",
    "1   1   0    6\n",
    "1   1   1    7"
   ]
  },
  {
   "cell_type": "markdown",
   "id": "e5b00d36-1440-43c5-979f-7ced2f5fc24d",
   "metadata": {},
   "source": [
    "**Octal**\n",
    "- Octa means 8\n",
    "\n",
    "- So it requires 8 digits\n",
    "\n",
    "- Generally we have 0 1 2 3 4 5 6 7 8 9\n",
    "\n",
    "- So it will represents with only 0 1 2 3 4 5 6 7\n",
    "\n",
    "- Representation is 0o123,0o12345,0o7654321\n",
    "\n",
    "- Wrong representation is 0o108,0o987"
   ]
  },
  {
   "cell_type": "code",
   "execution_count": 5,
   "id": "8f149cf3-1fe6-455d-a8dd-b6f7c36012ea",
   "metadata": {},
   "outputs": [
    {
     "data": {
      "text/plain": [
       "83"
      ]
     },
     "execution_count": 5,
     "metadata": {},
     "output_type": "execute_result"
    }
   ],
   "source": [
    "0o123"
   ]
  },
  {
   "cell_type": "code",
   "execution_count": 6,
   "id": "94e97bc4-68e0-4fd3-8f89-49e62b1ddca7",
   "metadata": {},
   "outputs": [
    {
     "data": {
      "text/plain": [
       "5349"
      ]
     },
     "execution_count": 6,
     "metadata": {},
     "output_type": "execute_result"
    }
   ],
   "source": [
    "0o12345"
   ]
  },
  {
   "cell_type": "markdown",
   "id": "ea75ac4f-b436-42a9-bbe2-8ef780ce33e6",
   "metadata": {},
   "source": [
    "**Hexa**\n",
    "- Hexa means 16\n",
    "\n",
    "- So it requires 16 digits\n",
    "\n",
    "- Generally we have 0 1 2 3 4 5 6 7 8 9 A(10) B(11) C(12) D(13) E(14) F(15)\n",
    "\n",
    "- So it will represents with only 0-9  A-F\n",
    "\n",
    "- Representation is 0xF9,0X0123abc,0xabc\n",
    "\n",
    "- Wrong representation is 0xgh"
   ]
  },
  {
   "cell_type": "markdown",
   "id": "dad374cf-f186-4755-a389-b347269c7464",
   "metadata": {},
   "source": [
    "**Float**\n",
    "\n"
   ]
  },
  {
   "cell_type": "markdown",
   "id": "2ab99b12-1beb-44d4-aa75-001c9ef9b336",
   "metadata": {},
   "source": [
    "1e1,1e2,1e3,1e4\n",
    "# kep=k*10^p"
   ]
  },
  {
   "cell_type": "code",
   "execution_count": 20,
   "id": "c816baf2-e466-4314-b17d-38cbcaefaa73",
   "metadata": {},
   "outputs": [
    {
     "data": {
      "text/plain": [
       "24000.0"
      ]
     },
     "execution_count": 20,
     "metadata": {},
     "output_type": "execute_result"
    }
   ],
   "source": [
    "24e3"
   ]
  },
  {
   "cell_type": "code",
   "execution_count": 21,
   "id": "cd626adb-6eff-4156-b2db-5d5f5054077b",
   "metadata": {},
   "outputs": [
    {
     "data": {
      "text/plain": [
       "(10.0, 100.0, 1000.0, 10000.0)"
      ]
     },
     "execution_count": 21,
     "metadata": {},
     "output_type": "execute_result"
    }
   ],
   "source": [
    "1e+1,1e+2,1e+3,1e+4"
   ]
  },
  {
   "cell_type": "code",
   "execution_count": 22,
   "id": "ab3ce0d7-2012-483b-9381-be424bb99ca5",
   "metadata": {},
   "outputs": [
    {
     "data": {
      "text/plain": [
       "(0.1, 0.01, 0.001)"
      ]
     },
     "execution_count": 22,
     "metadata": {},
     "output_type": "execute_result"
    }
   ],
   "source": [
    "1e-1,1e-2,1e-3"
   ]
  },
  {
   "cell_type": "markdown",
   "id": "477cc847-7746-4272-a062-06007251eb1d",
   "metadata": {},
   "source": [
    "- Positive signs means multiply\n",
    "\n",
    "- Negative signs means divide"
   ]
  },
  {
   "cell_type": "markdown",
   "id": "cc6f9427-0787-4e28-8189-1790e2d97c46",
   "metadata": {},
   "source": [
    "**Strings**"
   ]
  },
  {
   "cell_type": "markdown",
   "id": "1f92808f-f3aa-483a-8149-32009248c672",
   "metadata": {},
   "source": [
    "- Strings are used to represents the english charecter generally\n",
    "\n",
    "- Sttrings will represent in\n",
    "\n",
    "    - Single Code\n",
    " \n",
    "    - Doble code\n",
    " \n",
    "    - Triple code\n",
    "\n"
   ]
  },
  {
   "cell_type": "code",
   "execution_count": 25,
   "id": "ac18a9a0-0b6f-435e-af68-c28e454eafb0",
   "metadata": {},
   "outputs": [
    {
     "data": {
      "text/plain": [
       "str"
      ]
     },
     "execution_count": 25,
     "metadata": {},
     "output_type": "execute_result"
    }
   ],
   "source": [
    "name='python'\n",
    "type(name)"
   ]
  },
  {
   "cell_type": "code",
   "execution_count": 26,
   "id": "d268b89a-bbaa-46d4-88b2-ceadacc7f954",
   "metadata": {},
   "outputs": [
    {
     "data": {
      "text/plain": [
       "str"
      ]
     },
     "execution_count": 26,
     "metadata": {},
     "output_type": "execute_result"
    }
   ],
   "source": [
    "name1='Sudarshan'\n",
    "type(name1)"
   ]
  },
  {
   "cell_type": "code",
   "execution_count": 27,
   "id": "10ad0b38-cd3a-4bfb-9e25-4c581d75dbc9",
   "metadata": {},
   "outputs": [
    {
     "data": {
      "text/plain": [
       "str"
      ]
     },
     "execution_count": 27,
     "metadata": {},
     "output_type": "execute_result"
    }
   ],
   "source": [
    "name2=\"10\"\n",
    "type(name2)"
   ]
  },
  {
   "cell_type": "code",
   "execution_count": 28,
   "id": "dadc2936-cc80-4a9f-8609-d2980fe57330",
   "metadata": {},
   "outputs": [
    {
     "data": {
      "text/plain": [
       "str"
      ]
     },
     "execution_count": 28,
     "metadata": {},
     "output_type": "execute_result"
    }
   ],
   "source": [
    "email_id=\"sudarshanbodkhe158@gmail.com\"\n",
    "type(email_id)"
   ]
  },
  {
   "cell_type": "markdown",
   "id": "7b45ba8e-e3a9-44d4-b709-a8ac4069a6f5",
   "metadata": {},
   "source": [
    "**Red color means strings**\n",
    "\n",
    "**Green color means keyword**\n",
    "\n",
    "**Black color means variables**"
   ]
  },
  {
   "cell_type": "code",
   "execution_count": 31,
   "id": "72886a8a-ad30-4038-980b-0519220fe0a8",
   "metadata": {},
   "outputs": [
    {
     "data": {
      "text/plain": [
       "'python'"
      ]
     },
     "execution_count": 31,
     "metadata": {},
     "output_type": "execute_result"
    }
   ],
   "source": [
    "name='python'\n",
    "name1='python'\n",
    "name1"
   ]
  },
  {
   "cell_type": "markdown",
   "id": "c9b00261-71cd-47fb-94b2-814b14e2e31b",
   "metadata": {},
   "source": [
    "- Whenever you prints quotes will not visible"
   ]
  },
  {
   "cell_type": "code",
   "execution_count": 34,
   "id": "a1258efb-8223-4f50-8651-a7c9f2bceff6",
   "metadata": {},
   "outputs": [
    {
     "name": "stdout",
     "output_type": "stream",
     "text": [
      "i like 'python'\n"
     ]
    }
   ],
   "source": [
    "name=\"i like 'python'\" \n",
    "print(name)"
   ]
  },
  {
   "cell_type": "markdown",
   "id": "252d88dc-ac81-4aec-9a6b-17b570f52982",
   "metadata": {},
   "source": [
    "- Entire string in double code the highligted word in single quote vice  versa"
   ]
  },
  {
   "cell_type": "markdown",
   "id": "9fc18449-47d3-47b6-a9b5-912c4a01599b",
   "metadata": {},
   "source": [
    "***Triple quotes***\n",
    "- Triple quotes is not for coding\n",
    "\n",
    "- Triple code is used to provide the information to the user\n",
    "\n",
    "- In order to provide the information in jupyter notebook we will markdown\n",
    "\n",
    "- In vs code or pycharm there is no markdown option\n",
    "\n",
    "- thats why the world start used to write the information in triple quotes\n",
    "\n",
    "- This entire process is called Doc String"
   ]
  },
  {
   "cell_type": "markdown",
   "id": "b4050d28-6cf5-4245-8490-53ee99894316",
   "metadata": {},
   "source": [
    "***Boolean***"
   ]
  },
  {
   "cell_type": "code",
   "execution_count": 38,
   "id": "78541568-cc26-403c-a818-1d3be6318909",
   "metadata": {},
   "outputs": [
    {
     "data": {
      "text/plain": [
       "bool"
      ]
     },
     "execution_count": 38,
     "metadata": {},
     "output_type": "execute_result"
    }
   ],
   "source": [
    "value=True\n",
    "type(value)"
   ]
  },
  {
   "cell_type": "code",
   "execution_count": 41,
   "id": "3b4570cb-694d-4d84-916f-ef247a5772a2",
   "metadata": {},
   "outputs": [],
   "source": [
    "true=\"True\"\n",
    "false=False\n",
    "\n",
    "# True and False are variables\n",
    "# type true is string\n",
    "# type false is boolean\n"
   ]
  },
  {
   "cell_type": "code",
   "execution_count": 4,
   "id": "90f9d387-96c6-416e-a6f0-a66203a93f12",
   "metadata": {},
   "outputs": [
    {
     "data": {
      "text/plain": [
       "float"
      ]
     },
     "execution_count": 4,
     "metadata": {},
     "output_type": "execute_result"
    }
   ],
   "source": [
    "num=1\n",
    "type(num)"
   ]
  },
  {
   "cell_type": "code",
   "execution_count": 3,
   "id": "c5d1b33e-8542-42a4-82e1-28c6f2088ea2",
   "metadata": {},
   "outputs": [
    {
     "data": {
      "text/plain": [
       "False"
      ]
     },
     "execution_count": 3,
     "metadata": {},
     "output_type": "execute_result"
    }
   ],
   "source": [
    "bool(0)"
   ]
  },
  {
   "cell_type": "code",
   "execution_count": 4,
   "id": "91a28ac3-f35f-467a-8b68-2a9226252fe5",
   "metadata": {},
   "outputs": [
    {
     "data": {
      "text/plain": [
       "True"
      ]
     },
     "execution_count": 4,
     "metadata": {},
     "output_type": "execute_result"
    }
   ],
   "source": [
    "bool(1)"
   ]
  },
  {
   "cell_type": "code",
   "execution_count": null,
   "id": "6282acb2-024e-4016-94f1-81ceb1b1269e",
   "metadata": {},
   "outputs": [],
   "source": []
  }
 ],
 "metadata": {
  "kernelspec": {
   "display_name": "Python 3 (ipykernel)",
   "language": "python",
   "name": "python3"
  },
  "language_info": {
   "codemirror_mode": {
    "name": "ipython",
    "version": 3
   },
   "file_extension": ".py",
   "mimetype": "text/x-python",
   "name": "python",
   "nbconvert_exporter": "python",
   "pygments_lexer": "ipython3",
   "version": "3.11.7"
  }
 },
 "nbformat": 4,
 "nbformat_minor": 5
}
