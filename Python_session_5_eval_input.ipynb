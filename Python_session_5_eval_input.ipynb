{
 "cells": [
  {
   "cell_type": "code",
   "execution_count": 2,
   "id": "e928b9b7-6621-48e2-b39d-ab880f8f52d3",
   "metadata": {},
   "outputs": [],
   "source": [
    "num1=100\n",
    "num2=200\n",
    "add=num1+num2"
   ]
  },
  {
   "cell_type": "markdown",
   "id": "3fdb466e-cad2-4030-b6bf-25148367fee2",
   "metadata": {},
   "source": [
    "**Input Keyword**\n",
    "\n",
    "- Input keyword is used to take the values from user"
   ]
  },
  {
   "cell_type": "code",
   "execution_count": 28,
   "id": "9a1aec62-4278-46e7-a10f-e7dc2baa6a9f",
   "metadata": {},
   "outputs": [
    {
     "name": "stdin",
     "output_type": "stream",
     "text": [
      " sudarshan\n"
     ]
    },
    {
     "data": {
      "text/plain": [
       "'sudarshan'"
      ]
     },
     "execution_count": 28,
     "metadata": {},
     "output_type": "execute_result"
    }
   ],
   "source": [
    "input()"
   ]
  },
  {
   "cell_type": "code",
   "execution_count": 4,
   "id": "fc237d6e-da00-463f-b99e-be7be249e367",
   "metadata": {},
   "outputs": [
    {
     "name": "stdin",
     "output_type": "stream",
     "text": [
      " 10\n"
     ]
    },
    {
     "data": {
      "text/plain": [
       "'10'"
      ]
     },
     "execution_count": 4,
     "metadata": {},
     "output_type": "execute_result"
    }
   ],
   "source": [
    "input()"
   ]
  },
  {
   "cell_type": "code",
   "execution_count": 5,
   "id": "5196ed9b-4558-4fd3-881c-64ad16f62173",
   "metadata": {},
   "outputs": [
    {
     "name": "stdin",
     "output_type": "stream",
     "text": [
      "enter the number 100\n"
     ]
    },
    {
     "data": {
      "text/plain": [
       "'100'"
      ]
     },
     "execution_count": 5,
     "metadata": {},
     "output_type": "execute_result"
    }
   ],
   "source": [
    "input(\"enter the number\")"
   ]
  },
  {
   "cell_type": "code",
   "execution_count": 6,
   "id": "2040f6c5-b636-4e15-9641-914aa974be78",
   "metadata": {},
   "outputs": [
    {
     "name": "stdin",
     "output_type": "stream",
     "text": [
      " 10\n",
      " 20\n"
     ]
    },
    {
     "data": {
      "text/plain": [
       "'20'"
      ]
     },
     "execution_count": 6,
     "metadata": {},
     "output_type": "execute_result"
    }
   ],
   "source": [
    "input()\n",
    "input()"
   ]
  },
  {
   "cell_type": "code",
   "execution_count": 7,
   "id": "4a6d9f00-5dff-43af-8574-7c461c9b430c",
   "metadata": {},
   "outputs": [
    {
     "name": "stdin",
     "output_type": "stream",
     "text": [
      " 100\n",
      " 200\n",
      " 300\n"
     ]
    },
    {
     "data": {
      "text/plain": [
       "'300'"
      ]
     },
     "execution_count": 7,
     "metadata": {},
     "output_type": "execute_result"
    }
   ],
   "source": [
    "input()\n",
    "input()\n",
    "input()"
   ]
  },
  {
   "cell_type": "code",
   "execution_count": 8,
   "id": "5f6cade3-7749-4a50-8892-49a461447411",
   "metadata": {},
   "outputs": [
    {
     "name": "stdin",
     "output_type": "stream",
     "text": [
      "enter the number1: 100\n",
      "enter the number2: 200\n",
      "enter the number3: 300\n"
     ]
    },
    {
     "data": {
      "text/plain": [
       "'300'"
      ]
     },
     "execution_count": 8,
     "metadata": {},
     "output_type": "execute_result"
    }
   ],
   "source": [
    "input(\"enter the number1:\")\n",
    "input(\"enter the number2:\")\n",
    "input(\"enter the number3:\")"
   ]
  },
  {
   "cell_type": "code",
   "execution_count": 9,
   "id": "4aae4e6d-04a0-4002-9aae-1418af135598",
   "metadata": {},
   "outputs": [
    {
     "name": "stdin",
     "output_type": "stream",
     "text": [
      "enter the number1: 100\n",
      "enter the number2: 200\n"
     ]
    }
   ],
   "source": [
    "num1=input(\"enter the number1:\")\n",
    "num2=input(\"enter the number2:\")"
   ]
  },
  {
   "cell_type": "markdown",
   "id": "a82b535b-121d-4207-a878-9009f1f97338",
   "metadata": {},
   "source": [
    "**Note**\n",
    "\n",
    "- input always gives the string data type only\n",
    "\n",
    "- in order to perform math calculations we need to convert int numerical format i.e: int or float"
   ]
  },
  {
   "cell_type": "code",
   "execution_count": 12,
   "id": "a821dcf1-52cd-40d2-8cd2-6b448ce681f5",
   "metadata": {},
   "outputs": [
    {
     "name": "stdin",
     "output_type": "stream",
     "text": [
      " 100\n"
     ]
    },
    {
     "data": {
      "text/plain": [
       "'100'"
      ]
     },
     "execution_count": 12,
     "metadata": {},
     "output_type": "execute_result"
    }
   ],
   "source": [
    "input()"
   ]
  },
  {
   "cell_type": "code",
   "execution_count": 14,
   "id": "ab6ac4d9-31a5-4d60-8f35-019c5fedfc17",
   "metadata": {},
   "outputs": [
    {
     "name": "stdin",
     "output_type": "stream",
     "text": [
      "enter the number: 100\n",
      "enter the number1: 200\n"
     ]
    }
   ],
   "source": [
    "input(\"enter the number:\")\n",
    "a=input(\"enter the number1:\")"
   ]
  },
  {
   "cell_type": "code",
   "execution_count": 16,
   "id": "1dddfefe-358a-441d-9a37-b502a0022104",
   "metadata": {},
   "outputs": [
    {
     "name": "stdin",
     "output_type": "stream",
     "text": [
      "enter the number1: 100\n",
      "enter the number2: 200\n"
     ]
    },
    {
     "data": {
      "text/plain": [
       "400"
      ]
     },
     "execution_count": 16,
     "metadata": {},
     "output_type": "execute_result"
    }
   ],
   "source": [
    "num1=int(input(\"enter the number1:\"))\n",
    "num2=int(input(\"enter the number2:\"))\n",
    "num+num2"
   ]
  },
  {
   "cell_type": "code",
   "execution_count": 20,
   "id": "fb27daf8-81ca-4e47-bc71-59611e4b4e08",
   "metadata": {},
   "outputs": [
    {
     "name": "stdin",
     "output_type": "stream",
     "text": [
      "enter the number1: 100\n",
      "enter the number2: 200\n"
     ]
    },
    {
     "data": {
      "text/plain": [
       "'100200'"
      ]
     },
     "execution_count": 20,
     "metadata": {},
     "output_type": "execute_result"
    }
   ],
   "source": [
    "num1=input(\"enter the number1:\")\n",
    "num2=input(\"enter the number2:\")\n",
    "num1+num2"
   ]
  },
  {
   "cell_type": "code",
   "execution_count": 22,
   "id": "7be4db9e-e1e6-48be-bb16-08df3d94f204",
   "metadata": {},
   "outputs": [
    {
     "name": "stdin",
     "output_type": "stream",
     "text": [
      "enter the number1: 100\n",
      "enter the number2: 200\n"
     ]
    },
    {
     "data": {
      "text/plain": [
       "300"
      ]
     },
     "execution_count": 22,
     "metadata": {},
     "output_type": "execute_result"
    }
   ],
   "source": [
    "num1=input(\"enter the number1:\")\n",
    "num2=input(\"enter the number2:\")\n",
    "int(num1)+int(num2)"
   ]
  },
  {
   "cell_type": "markdown",
   "id": "15924677-dfbe-4925-9c51-6415d0930321",
   "metadata": {},
   "source": [
    "**Eval**\n",
    "\n",
    "- eval means evaluate\n",
    "\n",
    "- eval means what ever the number we enter,eval will convert into corresponding datatype"
   ]
  },
  {
   "cell_type": "code",
   "execution_count": 23,
   "id": "ea872171-d1fc-4caf-875d-be24b7cc2a39",
   "metadata": {},
   "outputs": [
    {
     "name": "stdin",
     "output_type": "stream",
     "text": [
      "enter the number1: 100\n",
      "enter the number2: 200\n"
     ]
    },
    {
     "data": {
      "text/plain": [
       "300"
      ]
     },
     "execution_count": 23,
     "metadata": {},
     "output_type": "execute_result"
    }
   ],
   "source": [
    "num1=eval(input(\"enter the number1:\"))\n",
    "num2=eval(input(\"enter the number2:\"))\n",
    "add=num1+num2\n",
    "print(f\"addition is {add}\")"
   ]
  },
  {
   "cell_type": "code",
   "execution_count": 15,
   "id": "774ad075-9285-4d3d-8540-a58893fbfa9c",
   "metadata": {},
   "outputs": [],
   "source": [
    "# wap ask the user enter three number calculate average\n",
    "# wap ask the user the 2 numbers find the substraction,addition,multiplication and division\n",
    "# wap ask the user enter radius values find the area of a circle\n",
    "# wap ask the user bill amount\n",
    "#     ask the user how much tip you want to pay in percentage\n",
    "#     calculate total bill\n",
    "# wap ask the user bill amount in dollars\n",
    "#    ask the user value of one dollar rupees\n",
    "#    print the bill amount in ruppes\n",
    "# wap ask the user enter base height calculate area of triangle\n",
    "# wap ask the user enter length and breath calculate area of triangle"
   ]
  },
  {
   "cell_type": "code",
   "execution_count": 21,
   "id": "0c12215d-cfb9-46c9-9baa-c57364af1f70",
   "metadata": {},
   "outputs": [
    {
     "name": "stdin",
     "output_type": "stream",
     "text": [
      "enter the number1: 10\n",
      "enter the number2: 20\n",
      "enter the number3: 30\n"
     ]
    },
    {
     "name": "stdout",
     "output_type": "stream",
     "text": [
      "The average of 10,20 and 30 is 20.0\n"
     ]
    }
   ],
   "source": [
    "# wap ask the user enter 3 numbers calculate average\n",
    "num1=eval(input(\"enter the number1:\"))\n",
    "num2=eval(input(\"enter the number2:\"))\n",
    "num3=eval(input(\"enter the number3:\"))\n",
    "\n",
    "average=(num1+num2+num3)/3\n",
    "\n",
    "print(f\"The average of {num1},{num2} and {num3} is {average}\")"
   ]
  },
  {
   "cell_type": "code",
   "execution_count": 22,
   "id": "5b1b986e-acba-4990-b014-241ab94ba7a4",
   "metadata": {},
   "outputs": [
    {
     "name": "stdin",
     "output_type": "stream",
     "text": [
      "enter number1 20\n",
      "enter number2 10\n"
     ]
    },
    {
     "name": "stdout",
     "output_type": "stream",
     "text": [
      "The substractionn of two numbers 10\n",
      "The addition of two numbers 30\n",
      "The division of two numbers 2.0\n",
      "The multiplication of two numbers 200\n"
     ]
    }
   ],
   "source": [
    "# wap ask the user enter the 2 numbers find the subtraction, addition, multuplication and division\n",
    "\n",
    "num1=eval(input(\"enter number1\"))\n",
    "num2=eval(input(\"enter number2\"))\n",
    "\n",
    "substraction=num1-num2\n",
    "addition=num1+num2\n",
    "division=num1/num2\n",
    "multiplication=num1*num2\n",
    "\n",
    "print(f\"The substractionn of two numbers {substraction}\")\n",
    "print(f\"The addition of two numbers {addition}\")\n",
    "print(f\"The division of two numbers {division}\")\n",
    "print(f\"The multiplication of two numbers {multiplication}\")"
   ]
  },
  {
   "cell_type": "code",
   "execution_count": null,
   "id": "b8d2766a-abde-42ea-ae54-7526ea0613c9",
   "metadata": {},
   "outputs": [],
   "source": [
    "# wap ask the uer enter radius values find the area of the circle\n",
    "radius=eval(input(\"enter the radius\"))\n",
    "pi=3.14\n",
    "area_circle=pi*radius*radius\n",
    "print(f\"area of circle={area_circle}\")"
   ]
  },
  {
   "cell_type": "code",
   "execution_count": 24,
   "id": "ce658914-fa26-44e9-98ce-b0107b279338",
   "metadata": {},
   "outputs": [
    {
     "name": "stdin",
     "output_type": "stream",
     "text": [
      "enter the bill amount 1000\n",
      "enter the tip percentage 10\n"
     ]
    },
    {
     "name": "stdout",
     "output_type": "stream",
     "text": [
      "total bill is=1100.0\n"
     ]
    }
   ],
   "source": [
    "# wap ask the user bill amount,\n",
    "# ask the user how much tip you want pay in percentage\n",
    "# calculate total bill\n",
    "\n",
    "bill_amount=eval(input(\"enter the bill amount\"))\n",
    "tip_percentage=eval(input(\"enter the tip percentage\"))\n",
    "tip_amount=bill_amount*(tip_percentage/100)\n",
    "total_bill=bill_amount+tip_amount\n",
    "print(f\"total bill is={total_bill}\")"
   ]
  },
  {
   "cell_type": "code",
   "execution_count": null,
   "id": "d76fcab5-bd41-482b-93a0-b9c12af098c4",
   "metadata": {},
   "outputs": [],
   "source": [
    "# wap ask the user bill amount in dollars\n",
    "# ask the user onedollar\n",
    "# print the bill amount in rupees\n",
    "dollar_bill=eval(input(\"enter the total amount in dollars\"))\n",
    "dollar_ruppes=eval(input(\"enter the value  of one dollar in ruppes\"))\n",
    "ruppes_bill=dollar_bill*dollar_ruppes\n",
    "print(f\"total bill amount in ruppes={ruppes_bill}\")"
   ]
  },
  {
   "cell_type": "code",
   "execution_count": null,
   "id": "5aaba863-3790-4fb3-90e3-1e61bbc19297",
   "metadata": {},
   "outputs": [],
   "source": [
    "#wap ask the user enter base height calculate area of the traingle\n",
    "base=eval(input(\"enter the base of triangle\"))\n",
    "height=eval(input(\"enter the height of triangle\"))\n",
    "triangle_area=1/2*base*height\n",
    "\n",
    "print(f\"The area of triangle is={triangle_area}\")\n"
   ]
  },
  {
   "cell_type": "code",
   "execution_count": null,
   "id": "1fb6f26c-7344-4fa3-be0a-c7d554194098",
   "metadata": {},
   "outputs": [],
   "source": [
    "#wap ask the user enter length and breadth calculate area of the rectangle\n",
    "\n",
    "length=eval(input(\"enter the length\"))\n",
    "breadth=eval(input(\"enter the breadth\"))\n",
    "\n",
    "rectangle_area=length*breadth\n",
    "\n",
    "print(f\"area of rectangle is={rectangle_area}\")"
   ]
  },
  {
   "cell_type": "code",
   "execution_count": 2,
   "id": "8e2205e2-419d-48a1-8112-de458861d6aa",
   "metadata": {},
   "outputs": [
    {
     "name": "stdin",
     "output_type": "stream",
     "text": [
      "enter the number: 5\n"
     ]
    },
    {
     "name": "stdout",
     "output_type": "stream",
     "text": [
      "The square of num is 25\n"
     ]
    }
   ],
   "source": [
    "# 1\n",
    "\n",
    "num=eval(input(\"enter the number:\"))\n",
    "\n",
    "square=num*num\n",
    "print(f\"The square of num is {square}\")\n"
   ]
  },
  {
   "cell_type": "code",
   "execution_count": null,
   "id": "de780fe7-6a59-4cc8-9736-c025baf97a82",
   "metadata": {},
   "outputs": [],
   "source": []
  }
 ],
 "metadata": {
  "kernelspec": {
   "display_name": "Python 3 (ipykernel)",
   "language": "python",
   "name": "python3"
  },
  "language_info": {
   "codemirror_mode": {
    "name": "ipython",
    "version": 3
   },
   "file_extension": ".py",
   "mimetype": "text/x-python",
   "name": "python",
   "nbconvert_exporter": "python",
   "pygments_lexer": "ipython3",
   "version": "3.11.7"
  }
 },
 "nbformat": 4,
 "nbformat_minor": 5
}
