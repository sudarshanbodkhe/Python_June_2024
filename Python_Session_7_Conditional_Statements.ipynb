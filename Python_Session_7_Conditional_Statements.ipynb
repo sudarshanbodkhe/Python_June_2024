{
 "cells": [
  {
   "cell_type": "markdown",
   "id": "abb4ec79-40bd-44d3-b660-7f7a7162c302",
   "metadata": {},
   "source": [
    "**Conditional statements**"
   ]
  },
  {
   "cell_type": "markdown",
   "id": "5ddd4fbc-6f11-47b8-8600-c1cd22c858b1",
   "metadata": {},
   "source": [
    "- conditional statements means we want to run the code lines based on condition\n",
    "\n",
    "- if rain comes I will not go to school other wise I will go to movie\n",
    "\n",
    "- Rain is there effect one process\n",
    "\n",
    "- Rain is not there  will effect another process\n",
    "\n",
    "- if\n",
    "\n",
    "- elif\n",
    "\n",
    "- else"
   ]
  },
  {
   "cell_type": "markdown",
   "id": "8c57e938-8a2e-4bec-a6e8-84386753d210",
   "metadata": {},
   "source": [
    "**If**"
   ]
  },
  {
   "cell_type": "markdown",
   "id": "fc8e0422-d268-4705-9551-3fd76834ea53",
   "metadata": {},
   "source": [
    "- syntax\n",
    "\n",
    "if <condition>:\n",
    "    <codeline1>\n",
    "    <codeline2>"
   ]
  },
  {
   "cell_type": "markdown",
   "id": "84f152a7-6268-4aad-a097-e19a2748db08",
   "metadata": {},
   "source": [
    "- whenever any line start with **keyword(green)** at the end of the line we have colon(:)\n",
    "\n",
    "- whenever we have a colon(:) the next line starts with some gap\n",
    "\n",
    "- and this gap is called as indentation\n",
    "\n",
    "- how many lines we are maintaining gap(indentation)that are under one area"
   ]
  },
  {
   "cell_type": "markdown",
   "id": "f2da441d-aee3-43bb-9889-91f585378063",
   "metadata": {},
   "source": [
    "- if a conditional statements,it will checks new condition is True or False\n",
    "\n",
    "- if that condition is True then only it will not enter inside the area\n",
    "\n",
    "- and it will not exicute those code lines"
   ]
  },
  {
   "cell_type": "code",
   "execution_count": 10,
   "id": "0dc8c7f9-e32c-4ecd-8b54-41be418d4965",
   "metadata": {},
   "outputs": [
    {
     "name": "stdout",
     "output_type": "stream",
     "text": [
      "hello\n"
     ]
    }
   ],
   "source": [
    "if 100>10:\n",
    "    print(\"hello\")\n",
    "\n",
    "#indentation requires four spaces"
   ]
  },
  {
   "cell_type": "markdown",
   "id": "604255cb-5a0c-4d1b-980e-d7a18f73131a",
   "metadata": {},
   "source": [
    "**mistake-1**\n",
    "\n",
    "- Indentation "
   ]
  },
  {
   "cell_type": "markdown",
   "id": "9ad549cf-2f07-4f2a-93de-8e8d6554ddf9",
   "metadata": {},
   "source": [
    "**mistake-2**\n",
    "\n",
    "- colon(:)"
   ]
  },
  {
   "cell_type": "code",
   "execution_count": 12,
   "id": "59d66059-b1b4-4ba7-93e8-9effb0ea6725",
   "metadata": {},
   "outputs": [
    {
     "ename": "SyntaxError",
     "evalue": "expected ':' (4173596931.py, line 1)",
     "output_type": "error",
     "traceback": [
      "\u001b[1;36m  Cell \u001b[1;32mIn[12], line 1\u001b[1;36m\u001b[0m\n\u001b[1;33m    if 100>10\u001b[0m\n\u001b[1;37m             ^\u001b[0m\n\u001b[1;31mSyntaxError\u001b[0m\u001b[1;31m:\u001b[0m expected ':'\n"
     ]
    }
   ],
   "source": [
    "if 100>10\n",
    "    print(\"hello\")"
   ]
  },
  {
   "cell_type": "markdown",
   "id": "e409145f-c3fd-415b-b642-539f47d1f28b",
   "metadata": {},
   "source": [
    "**mistake-3**\n",
    "\n",
    "-  if staement missing"
   ]
  },
  {
   "cell_type": "markdown",
   "id": "0a0db629-3d99-49f2-b062-dd06ea480e9b",
   "metadata": {},
   "source": []
  },
  {
   "cell_type": "markdown",
   "id": "7bd86cda-3162-48b0-a63e-1d7a47ec5691",
   "metadata": {},
   "source": [
    "**mistake-4**\n",
    "\n",
    "- missing brackets"
   ]
  },
  {
   "cell_type": "code",
   "execution_count": 17,
   "id": "74d2edea-47b8-43ee-93a7-740675f907cd",
   "metadata": {},
   "outputs": [
    {
     "ename": "SyntaxError",
     "evalue": "Missing parentheses in call to 'print'. Did you mean print(...)? (3868590120.py, line 2)",
     "output_type": "error",
     "traceback": [
      "\u001b[1;36m  Cell \u001b[1;32mIn[17], line 2\u001b[1;36m\u001b[0m\n\u001b[1;33m    print \"hello\"\u001b[0m\n\u001b[1;37m    ^\u001b[0m\n\u001b[1;31mSyntaxError\u001b[0m\u001b[1;31m:\u001b[0m Missing parentheses in call to 'print'. Did you mean print(...)?\n"
     ]
    }
   ],
   "source": [
    "if 100>10:\n",
    "    print \"hello\"\n",
    "    "
   ]
  },
  {
   "cell_type": "markdown",
   "id": "fcbb2d00-719d-4da4-b9ce-d6ec7a46e77f",
   "metadata": {},
   "source": [
    "**mistake-5**\n",
    "\n",
    "- never assign a variable to the print statement\n",
    "\n",
    "- print we are using for the see teh answer"
   ]
  },
  {
   "cell_type": "code",
   "execution_count": 19,
   "id": "926f9bb8-09f6-43bb-988b-3667adfdbcd9",
   "metadata": {},
   "outputs": [
    {
     "name": "stdin",
     "output_type": "stream",
     "text": [
      "hello 3\n"
     ]
    }
   ],
   "source": [
    "if 100>10:\n",
    "    name=eval(input(\"hello\"))"
   ]
  },
  {
   "cell_type": "markdown",
   "id": "c047f357-353e-4a58-9640-d5c920a963f4",
   "metadata": {},
   "source": [
    "**mistake-6**\n",
    "\n",
    "- all type of syntax error\n",
    "\n",
    "- spelling mistakes"
   ]
  },
  {
   "cell_type": "code",
   "execution_count": 22,
   "id": "3ed1a20a-3107-41fa-8c86-493f2ec229b1",
   "metadata": {},
   "outputs": [
    {
     "name": "stdout",
     "output_type": "stream",
     "text": [
      "hello\n",
      "good morning\n"
     ]
    }
   ],
   "source": [
    "if 100>10:\n",
    "    print(\"hello\")\n",
    "    print(\"good morning\")"
   ]
  },
  {
   "cell_type": "code",
   "execution_count": 21,
   "id": "7de4e558-5630-41dc-b37d-d26c6046ae8a",
   "metadata": {},
   "outputs": [
    {
     "name": "stdout",
     "output_type": "stream",
     "text": [
      "hello\n",
      "good morning\n",
      "hello\n",
      "bye\n"
     ]
    }
   ],
   "source": [
    "if 100>10:\n",
    "    print(\"hello\")\n",
    "    print(\"good morning\")\n",
    "print(\"hello\")\n",
    "print(\"bye\")"
   ]
  },
  {
   "cell_type": "code",
   "execution_count": 23,
   "id": "5afc6809-f4d2-4f4b-ad85-aab34e5d4e0a",
   "metadata": {},
   "outputs": [
    {
     "name": "stdout",
     "output_type": "stream",
     "text": [
      "10\n",
      "20\n",
      "hello\n",
      "good morning\n",
      "Okay\n",
      "Bye\n"
     ]
    }
   ],
   "source": [
    "print(10)\n",
    "print(20)\n",
    "#############################################\n",
    "if 100>10:\n",
    "    print(\"hello\")\n",
    "    print(\"good morning\")\n",
    "#############################################\n",
    "print(\"Okay\")\n",
    "print(\"Bye\")"
   ]
  },
  {
   "cell_type": "code",
   "execution_count": 25,
   "id": "c8267fcb-0c79-4c3d-a445-7a52fe1f05f1",
   "metadata": {},
   "outputs": [
    {
     "ename": "IndentationError",
     "evalue": "unexpected indent (880677361.py, line 6)",
     "output_type": "error",
     "traceback": [
      "\u001b[1;36m  Cell \u001b[1;32mIn[25], line 6\u001b[1;36m\u001b[0m\n\u001b[1;33m    print(\"Bye\")\u001b[0m\n\u001b[1;37m    ^\u001b[0m\n\u001b[1;31mIndentationError\u001b[0m\u001b[1;31m:\u001b[0m unexpected indent\n"
     ]
    }
   ],
   "source": [
    "print(10)\n",
    "print(20)\n",
    "if 100>10:\n",
    "    print(\"hello\")\n",
    "print(\"Good morning\")\n",
    "    print(\"Bye\")"
   ]
  },
  {
   "cell_type": "code",
   "execution_count": 27,
   "id": "87ce1f4d-c859-4a36-b59f-c0de11d6c48f",
   "metadata": {},
   "outputs": [
    {
     "name": "stdout",
     "output_type": "stream",
     "text": [
      "10\n"
     ]
    }
   ],
   "source": [
    "if True:\n",
    "    print(\"10\")"
   ]
  },
  {
   "cell_type": "code",
   "execution_count": 28,
   "id": "733ceee1-8b38-42d4-8cd9-d5cc0a1c7d52",
   "metadata": {},
   "outputs": [
    {
     "name": "stdout",
     "output_type": "stream",
     "text": [
      "10\n",
      "20\n",
      "hello\n",
      "good morning\n",
      "Okay\n",
      "Bye\n"
     ]
    }
   ],
   "source": [
    "print(\"10\")\n",
    "print(\"20\")\n",
    "if 100:\n",
    "    print(\"hello\")\n",
    "    print(\"good morning\")\n",
    "print(\"Okay\")\n",
    "print(\"Bye\")"
   ]
  },
  {
   "cell_type": "code",
   "execution_count": 29,
   "id": "0e2a3707-9c5e-4c98-b8a4-741dc7a5cb4d",
   "metadata": {},
   "outputs": [
    {
     "name": "stdout",
     "output_type": "stream",
     "text": [
      "10\n",
      "20\n",
      "okay\n",
      "bye\n"
     ]
    }
   ],
   "source": [
    "print(\"10\")\n",
    "print(\"20\")\n",
    "if 0:\n",
    "    print(\"good morning\")\n",
    "    pritn(\"hello\")\n",
    "print(\"okay\")\n",
    "print(\"bye\")"
   ]
  },
  {
   "cell_type": "code",
   "execution_count": 34,
   "id": "2240a9f3-5058-47e0-bf67-f36488115fe8",
   "metadata": {},
   "outputs": [
    {
     "name": "stdout",
     "output_type": "stream",
     "text": [
      "10\n",
      "20\n",
      "hello\n",
      "good morning\n",
      "okay\n",
      "bye\n"
     ]
    }
   ],
   "source": [
    "print(\"10\")\n",
    "print(\"20\")\n",
    "if 'hello':\n",
    "    print(\"hello\")\n",
    "    print(\"good morning\")\n",
    "print(\"okay\")\n",
    "print(\"bye\")"
   ]
  },
  {
   "cell_type": "code",
   "execution_count": 32,
   "id": "8af13929-7526-4776-bcd8-8a116689b09b",
   "metadata": {},
   "outputs": [
    {
     "name": "stdout",
     "output_type": "stream",
     "text": [
      "10\n",
      "20\n",
      "okay\n",
      "bye\n"
     ]
    }
   ],
   "source": [
    "print(\"10\")\n",
    "print(\"20\")\n",
    "if '':\n",
    "    print(\"hello\")\n",
    "    print(\"good morning\")\n",
    "print(\"okay\")\n",
    "print(\"bye\")"
   ]
  },
  {
   "cell_type": "code",
   "execution_count": 33,
   "id": "fedcc518-22a5-475d-aaab-920e2ae48cb0",
   "metadata": {},
   "outputs": [
    {
     "name": "stdout",
     "output_type": "stream",
     "text": [
      "10\n",
      "20\n",
      "hello\n",
      "good morning\n",
      "okay\n",
      "bye\n"
     ]
    }
   ],
   "source": [
    "print(\"10\")\n",
    "print(\"20\")\n",
    "if '_':\n",
    "    print(\"hello\")\n",
    "    print(\"good morning\")\n",
    "print(\"okay\")\n",
    "print(\"bye\")"
   ]
  },
  {
   "cell_type": "code",
   "execution_count": 35,
   "id": "e57a43ad-e1b7-41b1-9234-040525959ed6",
   "metadata": {},
   "outputs": [
    {
     "name": "stdout",
     "output_type": "stream",
     "text": [
      "10\n",
      "10\n"
     ]
    },
    {
     "ename": "NameError",
     "evalue": "name 'true' is not defined",
     "output_type": "error",
     "traceback": [
      "\u001b[1;31m---------------------------------------------------------------------------\u001b[0m",
      "\u001b[1;31mNameError\u001b[0m                                 Traceback (most recent call last)",
      "Cell \u001b[1;32mIn[35], line 3\u001b[0m\n\u001b[0;32m      1\u001b[0m \u001b[38;5;28mprint\u001b[39m(\u001b[38;5;124m\"\u001b[39m\u001b[38;5;124m10\u001b[39m\u001b[38;5;124m\"\u001b[39m)\n\u001b[0;32m      2\u001b[0m \u001b[38;5;28mprint\u001b[39m(\u001b[38;5;124m\"\u001b[39m\u001b[38;5;124m10\u001b[39m\u001b[38;5;124m\"\u001b[39m)\n\u001b[1;32m----> 3\u001b[0m \u001b[38;5;28;01mif\u001b[39;00m true:\n\u001b[0;32m      4\u001b[0m     \u001b[38;5;28mprint\u001b[39m(\u001b[38;5;124m\"\u001b[39m\u001b[38;5;124mhello\u001b[39m\u001b[38;5;124m\"\u001b[39m)\n\u001b[0;32m      5\u001b[0m     \u001b[38;5;28mprint\u001b[39m(\u001b[38;5;124m\"\u001b[39m\u001b[38;5;124mgood morning\u001b[39m\u001b[38;5;124m\"\u001b[39m)\n",
      "\u001b[1;31mNameError\u001b[0m: name 'true' is not defined"
     ]
    }
   ],
   "source": [
    "print(\"10\")\n",
    "print(\"10\")\n",
    "if true:\n",
    "    print(\"hello\")\n",
    "    print(\"good morning\")\n",
    "print(\"okay\")\n",
    "print(\"bye\")"
   ]
  },
  {
   "cell_type": "markdown",
   "id": "3cd14864-53ab-495f-a335-d346d157386f",
   "metadata": {},
   "source": [
    "**if-else**"
   ]
  },
  {
   "cell_type": "markdown",
   "id": "a4ecf684-4984-4b5c-9120-898bb865fcc8",
   "metadata": {},
   "source": [
    "- if required condition\n",
    "\n",
    "- if that condition is true,then it will exicute the if block\n",
    "\n",
    "- otherwise it can directly goto the else block\n",
    "\n",
    "- so else block does not requires any condition "
   ]
  },
  {
   "cell_type": "code",
   "execution_count": null,
   "id": "fa78dea0-a9cb-4612-9eee-a1121ec70dc5",
   "metadata": {},
   "outputs": [],
   "source": [
    "# syntax\n",
    " if <condition>:\n",
    "     <codeline>\n",
    " else:\n",
    "    <codeline>"
   ]
  },
  {
   "cell_type": "code",
   "execution_count": 37,
   "id": "8bd8ece6-a1cf-4175-8690-17ff850db778",
   "metadata": {},
   "outputs": [
    {
     "name": "stdout",
     "output_type": "stream",
     "text": [
      "comdition is true \n"
     ]
    }
   ],
   "source": [
    "if 100>10:\n",
    "    print(\"comdition is true \")\n",
    "else:\n",
    "    print(\"condition is wrong\")"
   ]
  },
  {
   "cell_type": "code",
   "execution_count": 38,
   "id": "14ff907d-5d08-4d60-80e1-408242ce831f",
   "metadata": {},
   "outputs": [
    {
     "name": "stdout",
     "output_type": "stream",
     "text": [
      "comdition is true \n",
      "bye\n"
     ]
    }
   ],
   "source": [
    "if 100>10:\n",
    "    print(\"comdition is true \")\n",
    "else:\n",
    "    print(\"condition is wrong\")\n",
    "print(\"bye\")"
   ]
  },
  {
   "cell_type": "code",
   "execution_count": 39,
   "id": "79075180-145b-4c75-87fd-129b4aaee271",
   "metadata": {},
   "outputs": [
    {
     "ename": "SyntaxError",
     "evalue": "invalid syntax (1757824290.py, line 5)",
     "output_type": "error",
     "traceback": [
      "\u001b[1;36m  Cell \u001b[1;32mIn[39], line 5\u001b[1;36m\u001b[0m\n\u001b[1;33m    else:\u001b[0m\n\u001b[1;37m    ^\u001b[0m\n\u001b[1;31mSyntaxError\u001b[0m\u001b[1;31m:\u001b[0m invalid syntax\n"
     ]
    }
   ],
   "source": [
    "print(\"hello\")\n",
    "if 100>10:\n",
    "    print(\"comdition is true \")\n",
    "print(\"why you are in middle\")\n",
    "else:\n",
    "    print(\"condition is wrong\")\n",
    "print(\"bye\")"
   ]
  },
  {
   "cell_type": "code",
   "execution_count": 42,
   "id": "fc8721b9-6737-4977-b5f3-48593986d133",
   "metadata": {},
   "outputs": [
    {
     "name": "stdout",
     "output_type": "stream",
     "text": [
      "10\n",
      "5\n",
      "15\n",
      "0.5\n",
      "2.0\n"
     ]
    }
   ],
   "source": [
    "if True:\n",
    "    a=10\n",
    "    b=5\n",
    "    print(a)\n",
    "    print(b)\n",
    "    c=a+b\n",
    "    print(c)\n",
    "    d=b/a\n",
    "    print(d)\n",
    "    e=a/b\n",
    "    print(e)\n",
    "else:\n",
    "    print(\"error\")"
   ]
  },
  {
   "cell_type": "code",
   "execution_count": 43,
   "id": "2d3317e6-fa39-42c8-a83d-a882a92b9a3e",
   "metadata": {},
   "outputs": [
    {
     "data": {
      "text/plain": [
       "1.25"
      ]
     },
     "execution_count": 43,
     "metadata": {},
     "output_type": "execute_result"
    }
   ],
   "source": [
    "5/4 #normal division"
   ]
  },
  {
   "cell_type": "code",
   "execution_count": 44,
   "id": "7596f2c3-2aa1-4247-9d08-d644aca11624",
   "metadata": {},
   "outputs": [
    {
     "data": {
      "text/plain": [
       "1"
      ]
     },
     "execution_count": 44,
     "metadata": {},
     "output_type": "execute_result"
    }
   ],
   "source": [
    "5%4 #reminder"
   ]
  },
  {
   "cell_type": "code",
   "execution_count": 45,
   "id": "b6633ff8-79ad-40f0-8f7a-87a0ec7a1fa7",
   "metadata": {},
   "outputs": [
    {
     "data": {
      "text/plain": [
       "1"
      ]
     },
     "execution_count": 45,
     "metadata": {},
     "output_type": "execute_result"
    }
   ],
   "source": [
    "5//4 #floor division"
   ]
  },
  {
   "cell_type": "code",
   "execution_count": 50,
   "id": "5f9b038b-2161-4eb3-8f1f-84a781bdaabb",
   "metadata": {},
   "outputs": [
    {
     "name": "stdin",
     "output_type": "stream",
     "text": [
      "Enter the number: 20\n"
     ]
    },
    {
     "name": "stdout",
     "output_type": "stream",
     "text": [
      "Number is even\n"
     ]
    }
   ],
   "source": [
    "#wap ask the user enter a number\n",
    "#find it is even number or odd number\n",
    "\n",
    "num=eval(input(\"Enter the number:\"))\n",
    "\n",
    "if num%2==0:\n",
    "    print(\"Number is even\")\n",
    "else:\n",
    "    print(\"Number is odd\")"
   ]
  },
  {
   "cell_type": "code",
   "execution_count": 2,
   "id": "b5fe711e-f987-47b9-b86e-1351b017ee62",
   "metadata": {},
   "outputs": [
    {
     "name": "stdout",
     "output_type": "stream",
     "text": [
      "Number is even\n"
     ]
    }
   ],
   "source": [
    "#implement the above problem by taking a random input between 1,100\n",
    "import random\n",
    "number=random.randint(1,100)\n",
    "if number%2==0:\n",
    "    print(\"Number is even\")\n",
    "else:\n",
    "    print(\"Number is odd\")"
   ]
  },
  {
   "cell_type": "code",
   "execution_count": 5,
   "id": "ef53d15f-03dd-4b16-bc37-7aa3260627ff",
   "metadata": {},
   "outputs": [
    {
     "name": "stdin",
     "output_type": "stream",
     "text": [
      "Enter the start value 1\n",
      "Enter the end value 100\n"
     ]
    },
    {
     "name": "stdout",
     "output_type": "stream",
     "text": [
      "Number is even\n"
     ]
    }
   ],
   "source": [
    "import random\n",
    "start=eval(input(\"Enter the start value\"))\n",
    "end=eval(input(\"Enter the end value\"))\n",
    "number=random.randint(start,end)\n",
    "if number%2==0:\n",
    "    print(\"Number is even\")\n",
    "else:\n",
    "    print(\"Number is odd\")"
   ]
  },
  {
   "cell_type": "code",
   "execution_count": 9,
   "id": "481678c0-7f17-4e83-9b8d-3a25a0ea8c27",
   "metadata": {},
   "outputs": [
    {
     "name": "stdin",
     "output_type": "stream",
     "text": [
      "How much distance you wants to travel 30\n",
      "enter the charge per/km ? 4\n"
     ]
    },
    {
     "name": "stdout",
     "output_type": "stream",
     "text": [
      "Total cost is 120\n"
     ]
    }
   ],
   "source": [
    "#wap a program ask the user enter the distance\n",
    "#if distance is greater than 25km\n",
    "#  then enter the charge\n",
    "#  print the total cost\n",
    "#otherwise\n",
    "#print free ride\n",
    "\n",
    "distance=eval(input(\"How much distance you wants to travel\"))\n",
    "if distance>25:\n",
    "    charge=eval(input(\"enter the charge per/km ?\"))\n",
    "    total_cost=distance*charge\n",
    "    print(f\"Total cost is {total_cost}\")\n",
    "else:\n",
    "    print(\"Enjoy the free ride\")"
   ]
  },
  {
   "cell_type": "code",
   "execution_count": 4,
   "id": "29e99a84-764b-4c17-9220-bbc67d290f40",
   "metadata": {},
   "outputs": [
    {
     "name": "stdin",
     "output_type": "stream",
     "text": [
      "How much distance you wants to travel: 50\n",
      "Enter the cutoff distance in km: 25\n"
     ]
    },
    {
     "name": "stdout",
     "output_type": "stream",
     "text": [
      "chargeble distance is 25\n"
     ]
    },
    {
     "name": "stdin",
     "output_type": "stream",
     "text": [
      "enter the charge in ruppes 5\n"
     ]
    },
    {
     "name": "stdout",
     "output_type": "stream",
     "text": [
      "Total cost is 125\n"
     ]
    }
   ],
   "source": [
    "#wap a program ask the user enter the distance\n",
    "#cutoff distance enter 25\n",
    "#if distance is greater than 25km\n",
    "#  then enter the charge\n",
    "#  print the total cost\n",
    "#otherwise\n",
    "# print free ride\n",
    "\n",
    "distance=eval(input(\"How much distance you wants to travel:\"))\n",
    "cutoff_distance=eval(input(\"Enter the cutoff distance in km:\"))\n",
    "if distance>cutoff_distance:\n",
    "    chargeble_distance=distance-cutoff_distance\n",
    "    print(f\"chargeble distance is {chargeble_distance}\")\n",
    "    charge=eval(input(\"enter the charge in ruppes\"))\n",
    "    total_cost=chargeble_distance*charge\n",
    "    print(f\"Total cost is {total_cost}\")\n",
    "else:\n",
    "    print(\"Enjoy the free ride\")\n"
   ]
  },
  {
   "cell_type": "code",
   "execution_count": 14,
   "id": "f228ffed-e073-449f-adb4-d897dd917958",
   "metadata": {},
   "outputs": [
    {
     "name": "stdin",
     "output_type": "stream",
     "text": [
      "enter the course data science\n",
      "enter the institute naresh it\n"
     ]
    },
    {
     "name": "stdout",
     "output_type": "stream",
     "text": [
      "You are good\n"
     ]
    }
   ],
   "source": [
    "#wap ask the user enter the course\n",
    "#ask the user enter the institue\n",
    "#if the course equals to data science and institute equals to data science\n",
    "#   then you are good \n",
    "#otherwise\n",
    "#   you are bad\n",
    "\n",
    "course=input(\"enter the course\")\n",
    "institute=input(\"enter the institute\")\n",
    "if course=='data science' and institute=='naresh it':\n",
    "   print(\"You are good\") \n",
    "else:\n",
    "    print(\"You are bad\")"
   ]
  },
  {
   "cell_type": "markdown",
   "id": "fcb0d51f-6999-475c-992d-8f6dc14a6353",
   "metadata": {},
   "source": [
    "- and means two conditions need to satisfy\n",
    "\n",
    "- or means any one condition is enough to satisfy"
   ]
  },
  {
   "cell_type": "code",
   "execution_count": 32,
   "id": "49e816e0-c664-402e-a7bc-968d1a7522b0",
   "metadata": {},
   "outputs": [
    {
     "name": "stdout",
     "output_type": "stream",
     "text": [
      "5\n"
     ]
    },
    {
     "name": "stdin",
     "output_type": "stream",
     "text": [
      "enter number2: 5\n"
     ]
    },
    {
     "name": "stdout",
     "output_type": "stream",
     "text": [
      "You Won\n"
     ]
    }
   ],
   "source": [
    "#wap ask the user enter a random between 0 to 10,treat this as number1\n",
    "#ask the user enter another number is from keyboaard,treat this as number2\n",
    "#if number1 is equals to number2\n",
    "#   print you won\n",
    "#otherwise\n",
    "#   print you lose\n",
    "\n",
    "import random\n",
    "number1=random.randint(1,10)\n",
    "print(number1)\n",
    "number2=eval(input(\"enter number2:\"))\n",
    "\n",
    "if number1==number2:\n",
    "    print(\"You Won\")\n",
    "else:\n",
    "    print(\"You Lose\")"
   ]
  },
  {
   "cell_type": "markdown",
   "id": "99a7e24e-f559-419b-bfc4-d67c59c28030",
   "metadata": {},
   "source": [
    "- Till we have seen one condition problem\n",
    "\n",
    "- which means if that condition is True will get one answer\n",
    "\n",
    "- if that condition is false then will get another answer\n",
    "\n",
    "- How about if we have more than two conditions\n",
    "\n",
    "- if-elif-else\n",
    "\n",
    "- Two condition means three result\n",
    "\n",
    "- if has one condition\n",
    "\n",
    "- elif has second condition\n",
    "\n",
    "- if both are false then the result in else"
   ]
  },
  {
   "cell_type": "code",
   "execution_count": null,
   "id": "d6807445-28c4-4526-9a49-b172567d09f4",
   "metadata": {},
   "outputs": [],
   "source": [
    "if <condition>:\n",
    "    <statements>\n",
    "elif <condition>:\n",
    "    <statements>\n",
    "else:\n",
    "    <statements>\n",
    "\n",
    "if-else(1)\n",
    "if-elif-else(2)\n",
    "if-elif-elif-else(3)"
   ]
  },
  {
   "cell_type": "code",
   "execution_count": 34,
   "id": "33340dd1-66d3-4a25-b0e3-3d185e55e83f",
   "metadata": {},
   "outputs": [
    {
     "name": "stdin",
     "output_type": "stream",
     "text": [
      "enter the num1ber 1\n"
     ]
    },
    {
     "name": "stdout",
     "output_type": "stream",
     "text": [
      "one\n"
     ]
    }
   ],
   "source": [
    "# wap ask the user enter number\n",
    "#if number equals to 1 then print one\n",
    "#if number equals to 2 then print two\n",
    "#if number equals to 3 then print three\n",
    "#otherwise print enter a valid number\n",
    "\n",
    "number=eval(input(\"enter the num1ber\"))\n",
    "if number==1:\n",
    "    print(\"one\")\n",
    "elif number==2:\n",
    "    print(\"Two\")\n",
    "elif number==3:\n",
    "    print(\"Tree\")\n",
    "else:\n",
    "    print(\"enter the valid number\")\n",
    "\n"
   ]
  },
  {
   "cell_type": "code",
   "execution_count": 35,
   "id": "fd63aac8-53a7-4f2f-9901-11474f381907",
   "metadata": {},
   "outputs": [
    {
     "name": "stdin",
     "output_type": "stream",
     "text": [
      "enter the number 1\n"
     ]
    },
    {
     "name": "stdout",
     "output_type": "stream",
     "text": [
      "number is positive\n"
     ]
    }
   ],
   "source": [
    "number=eval(input(\"enter the number\"))\n",
    "\n",
    "if number>0:\n",
    "   print(\"number is positive\")\n",
    "elif number<0:\n",
    "    print(\"number is negative\")\n",
    "else:\n",
    "    print(\"zero\")"
   ]
  },
  {
   "cell_type": "code",
   "execution_count": 42,
   "id": "14131c87-8526-4af4-90cf-f0901a2ba787",
   "metadata": {},
   "outputs": [
    {
     "name": "stdin",
     "output_type": "stream",
     "text": [
      "Enter the percentage 95\n"
     ]
    },
    {
     "name": "stdout",
     "output_type": "stream",
     "text": [
      "A grade\n"
     ]
    }
   ],
   "source": [
    "#wap ask the user enter the percentage of marks \n",
    "#if percentage is greater 90 print A grade\n",
    "#if percentage betwenn 75 to 90 print B grade\n",
    "#if percentage between 50 to 75 print C grade\n",
    "#if percentage between 35 to 50 print D grade\n",
    "#if percentage is less than 35 print fail\n",
    "\n",
    "percentage=eval(input(\"Enter the percentage\"))\n",
    "\n",
    "if percentage>=90:\n",
    "    print('A grade')\n",
    "elif percentage>=75:\n",
    "    print('B grade')\n",
    "elif percentage>=50:\n",
    "    print('C grade')\n",
    "elif percentage>=35:\n",
    "    print('D grade')\n",
    "else:\n",
    "    print(\"Fail\")\n"
   ]
  },
  {
   "cell_type": "code",
   "execution_count": 45,
   "id": "75b60e11-654e-4281-99f9-b3d14e31006e",
   "metadata": {},
   "outputs": [
    {
     "name": "stdin",
     "output_type": "stream",
     "text": [
      "enter the age 35\n"
     ]
    },
    {
     "name": "stdout",
     "output_type": "stream",
     "text": [
      "Middle age\n"
     ]
    }
   ],
   "source": [
    "#wap ask the user enter the age\n",
    "# if the age is greater than 75 print old age\n",
    "# if the age between 50 to 75 print ss\n",
    "# if the age between 30 to 50 print MA\n",
    "# if the age between 15 to 30 print young age\n",
    "# if the age less than 15 print kid\n",
    "\n",
    "age=eval(input(\"enter the age\"))\n",
    "if age>75:\n",
    "    print(\"old age\")\n",
    "elif age>50:\n",
    "    print(\"Senior citizen\")\n",
    "elif age>30:\n",
    "    print(\"Middle age\")\n",
    "elif age>15:\n",
    "    print(\"young age\")\n",
    "else:\n",
    "    print(\"kid\")"
   ]
  },
  {
   "cell_type": "code",
   "execution_count": 1,
   "id": "b388546a-b8fe-4f19-bbbd-1fe2ee17e365",
   "metadata": {},
   "outputs": [
    {
     "name": "stdout",
     "output_type": "stream",
     "text": [
      "100\n"
     ]
    }
   ],
   "source": [
    "print(100)"
   ]
  },
  {
   "cell_type": "code",
   "execution_count": 7,
   "id": "f2e4dcf4-6ba2-468f-9b44-241b5482d673",
   "metadata": {},
   "outputs": [
    {
     "name": "stdin",
     "output_type": "stream",
     "text": [
      "enter number one 300\n",
      "enter number two 2\n"
     ]
    },
    {
     "name": "stdout",
     "output_type": "stream",
     "text": [
      "Enter operation 1 for addition\n",
      "Enter operation 2 for multiplication\n",
      "Enter operation 3 for substraction\n",
      "Enter operation 4 for division\n"
     ]
    },
    {
     "name": "stdin",
     "output_type": "stream",
     "text": [
      "Enter opertion between 1 to 4: 2\n"
     ]
    },
    {
     "name": "stdout",
     "output_type": "stream",
     "text": [
      "multiplication of num1 and num2: 600\n"
     ]
    }
   ],
   "source": [
    "#wap a program the user enter two numbers\n",
    "#num1\n",
    "#num2\n",
    "#you need to print\n",
    "#enter operation 1  for addition\n",
    "#enter operation 2 for multiplication\n",
    "#enter operation 3 for sub\n",
    "#enter operation for 4 for div\n",
    "\n",
    "#enter the operation between 1 to 4\n",
    "#if operation equal to 1 then do add\n",
    "#if operation equal to 2 then do mul\n",
    "#if operation equal to 3 then do sub\n",
    "#if operation equal to 4 then do div\n",
    "#otherwise print enter the valid number\n",
    "\n",
    "num1=eval(input(\"enter number one\"))\n",
    "num2=eval(input(\"enter number two\"))\n",
    "\n",
    "print(\"Enter operation 1 for addition\")\n",
    "print(\"Enter operation 2 for multiplication\")\n",
    "print(\"Enter operation 3 for substraction\")\n",
    "print(\"Enter operation 4 for division\")\n",
    "\n",
    "operation=eval(input(\"Enter opertion between 1 to 4:\"))\n",
    "if operation==1:\n",
    "    print(f\"addition of num1 and num2:\",num1+num2)\n",
    "elif operation==2:\n",
    "    print(f\"multiplication of num1 and num2:\",num1*num2)\n",
    "elif operation==3:\n",
    "    print(f\"substraction of num1 and num2:\",num1-num2)\n",
    "elif operation==4:\n",
    "    print(f\" division of num1 and num2:\",num1/num2)\n",
    "else:\n",
    "    print(\"Enter the valid number\")\n"
   ]
  },
  {
   "cell_type": "code",
   "execution_count": 15,
   "id": "b97788f1-2900-4e03-afd9-1840e0dd3e82",
   "metadata": {},
   "outputs": [
    {
     "name": "stdin",
     "output_type": "stream",
     "text": [
      "Enter the gender (male/female): male\n",
      "Enter the age: 60\n"
     ]
    },
    {
     "name": "stdout",
     "output_type": "stream",
     "text": [
      "Senior citizen\n"
     ]
    }
   ],
   "source": [
    "#wap ask the user enter the gender \n",
    "#if gender equal to male\n",
    "#    ask the user enter age\n",
    "#    if age greater than 60 print ss\n",
    "#    if the age between 30 to 60 print middle mman\n",
    "#    if the age between 15 to 30 print young man\n",
    "#    otherwise print boy\n",
    "#elif gender equal to female\n",
    "#ask the user enter age\n",
    "#    if age greater than 60 print ss\n",
    "#    if the age between 30 to 60 print middle woman\n",
    "#    if the age between 15 to 30 print young girl\n",
    "#    otherwise print girl\n",
    "#otherwise:\n",
    "#     print enter a valid gender\n",
    "\n",
    "\n",
    "gender=input(\"Enter the gender (male/female):\")\n",
    "if gender=='male':\n",
    "    age=eval(input(\"Enter the age:\"))\n",
    "    if age>=60:\n",
    "        print(\"Senior citizen\")\n",
    "    elif age>=30:\n",
    "        print(\"Middle age man\")\n",
    "    elif age>=15:\n",
    "        print(\"young man\")\n",
    "    else:\n",
    "        print(\"Boy\")\n",
    "elif gender=='female':\n",
    "    age=eval(input(\"Enter the age:\"))\n",
    "    if age>=60:\n",
    "        print(\"Senior citizen\")\n",
    "    elif age>=30:\n",
    "        print(\"Middle age Woman\")\n",
    "    elif age>=15:\n",
    "        print(\"young girl\")\n",
    "    else:\n",
    "        print(\"girl\")\n",
    "else:\n",
    "    print(\"Enter a valid input\")\n",
    "        \n"
   ]
  },
  {
   "cell_type": "code",
   "execution_count": 3,
   "id": "77842a9b-c62e-4009-8c0e-7af818ef6cfc",
   "metadata": {},
   "outputs": [
    {
     "name": "stdin",
     "output_type": "stream",
     "text": [
      "Enter the number -7\n"
     ]
    },
    {
     "name": "stdout",
     "output_type": "stream",
     "text": [
      "Negative\n"
     ]
    }
   ],
   "source": [
    "#wap ask the user enter the number\n",
    "#if that number greater than or equal to zero\n",
    "#       if number equal to zero\n",
    "#              print zero\n",
    "#       else\n",
    "#             print positive\n",
    "#else\n",
    "#     print negative\n",
    "\n",
    "\n",
    "\n",
    "number=eval(input(\"Enter the number\"))\n",
    "if number>=0:\n",
    "    if number==0:\n",
    "        print(\"Zero\")\n",
    "    else:\n",
    "        print(\"Positive\")\n",
    "else:\n",
    "    print(\"Negative\")\n"
   ]
  },
  {
   "cell_type": "code",
   "execution_count": 20,
   "id": "8c70ba7b-5f3f-4f7c-a6c1-44a08841a5ae",
   "metadata": {},
   "outputs": [],
   "source": [
    "#take three numbers\n",
    "#num1 num2 num3\n",
    "#find the maximum value\n"
   ]
  },
  {
   "cell_type": "code",
   "execution_count": 3,
   "id": "8a69c46a-99ac-440d-b4a6-ddf88a4ea4a5",
   "metadata": {},
   "outputs": [
    {
     "name": "stdout",
     "output_type": "stream",
     "text": [
      "5\n",
      "6\n"
     ]
    }
   ],
   "source": []
  },
  {
   "cell_type": "code",
   "execution_count": null,
   "id": "cd3c332f-8314-4242-95e7-e5a2825313f7",
   "metadata": {},
   "outputs": [],
   "source": []
  }
 ],
 "metadata": {
  "kernelspec": {
   "display_name": "Python 3 (ipykernel)",
   "language": "python",
   "name": "python3"
  },
  "language_info": {
   "codemirror_mode": {
    "name": "ipython",
    "version": 3
   },
   "file_extension": ".py",
   "mimetype": "text/x-python",
   "name": "python",
   "nbconvert_exporter": "python",
   "pygments_lexer": "ipython3",
   "version": "3.11.7"
  }
 },
 "nbformat": 4,
 "nbformat_minor": 5
}
