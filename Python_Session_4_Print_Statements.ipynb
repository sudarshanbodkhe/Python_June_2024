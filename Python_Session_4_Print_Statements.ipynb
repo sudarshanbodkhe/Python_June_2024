{
 "cells": [
  {
   "cell_type": "code",
   "execution_count": 1,
   "id": "1b666d2c-713d-4d41-b780-02b6a407b0ed",
   "metadata": {},
   "outputs": [
    {
     "name": "stdout",
     "output_type": "stream",
     "text": [
      "10\n"
     ]
    }
   ],
   "source": [
    "print(10)"
   ]
  },
  {
   "cell_type": "code",
   "execution_count": 2,
   "id": "d1de1434-c9a4-4147-9a01-6e099f8e2010",
   "metadata": {},
   "outputs": [
    {
     "name": "stdout",
     "output_type": "stream",
     "text": [
      "python\n"
     ]
    }
   ],
   "source": [
    "print('python')"
   ]
  },
  {
   "cell_type": "code",
   "execution_count": 3,
   "id": "48c590ee-24ce-4375-9b34-1ec6fe5dfc3a",
   "metadata": {},
   "outputs": [
    {
     "name": "stdout",
     "output_type": "stream",
     "text": [
      "10 20 30\n"
     ]
    }
   ],
   "source": [
    "print(10,20,30)"
   ]
  },
  {
   "cell_type": "code",
   "execution_count": 4,
   "id": "0f813616-4b79-4ef0-bfaf-1450ce1e1d96",
   "metadata": {},
   "outputs": [
    {
     "name": "stdout",
     "output_type": "stream",
     "text": [
      "10 10.5 Naresh It True\n"
     ]
    }
   ],
   "source": [
    "print(10,10.5,'Naresh It',True)"
   ]
  },
  {
   "cell_type": "code",
   "execution_count": 5,
   "id": "193bac9c-e556-4bab-bbde-0689d7516e5a",
   "metadata": {},
   "outputs": [
    {
     "name": "stdout",
     "output_type": "stream",
     "text": [
      "10 20\n"
     ]
    }
   ],
   "source": [
    "n1=10\n",
    "n2=20\n",
    "print(n1,n2)"
   ]
  },
  {
   "cell_type": "code",
   "execution_count": 9,
   "id": "e43b6879-cae4-46b2-81c4-fe2cfc35c4a9",
   "metadata": {},
   "outputs": [
    {
     "name": "stdout",
     "output_type": "stream",
     "text": [
      "10\n",
      "20\n"
     ]
    }
   ],
   "source": [
    "print(10)\n",
    "print(20)"
   ]
  },
  {
   "cell_type": "code",
   "execution_count": 10,
   "id": "3497c65c-a430-4867-9c41-e6d5466b8d42",
   "metadata": {},
   "outputs": [
    {
     "name": "stdout",
     "output_type": "stream",
     "text": [
      "10 20 30\n",
      "10\n",
      "20\n"
     ]
    },
    {
     "data": {
      "text/plain": [
       "(None, None)"
      ]
     },
     "execution_count": 10,
     "metadata": {},
     "output_type": "execute_result"
    }
   ],
   "source": [
    "print(10,20,30)\n",
    "print(10),print(20)\n"
   ]
  },
  {
   "cell_type": "code",
   "execution_count": 11,
   "id": "2a918e3d-9dcf-41e9-8aeb-f4a2aa008538",
   "metadata": {},
   "outputs": [
    {
     "name": "stdout",
     "output_type": "stream",
     "text": [
      "10 20\n"
     ]
    }
   ],
   "source": [
    "print(10,20)"
   ]
  },
  {
   "cell_type": "code",
   "execution_count": 13,
   "id": "3e6b1018-36be-47e5-ad64-ef7455990caa",
   "metadata": {},
   "outputs": [
    {
     "name": "stdout",
     "output_type": "stream",
     "text": [
      "The addition is 10 and 20 is 30\n",
      "the addition of 100 and 200 is 300\n"
     ]
    }
   ],
   "source": [
    "a=100\n",
    "b=200\n",
    "c=a+b\n",
    "# the addition of 10 and 20 is 30\n",
    "print(\"The addition is 10 and 20 is 30\")\n",
    "print(\"the addition of\",a,\"and\",b,\"is\",c)\n"
   ]
  },
  {
   "cell_type": "markdown",
   "id": "edf0c1ff-c6cd-40f9-9d46-60114b3768a9",
   "metadata": {},
   "source": [
    "# Format"
   ]
  },
  {
   "cell_type": "code",
   "execution_count": 15,
   "id": "5590eb0f-2aa0-4679-a282-7814ea0c3178",
   "metadata": {},
   "outputs": [
    {
     "name": "stdout",
     "output_type": "stream",
     "text": [
      "the addition of 100 and 200 is 300\n"
     ]
    }
   ],
   "source": [
    "a=100\n",
    "b=200\n",
    "c=a+b\n",
    "print(\"the addition of {} and {} is {}\".format(a,b,c))"
   ]
  },
  {
   "cell_type": "code",
   "execution_count": 20,
   "id": "31975409-f190-416f-8062-7abbb6b84ab8",
   "metadata": {},
   "outputs": [
    {
     "name": "stdout",
     "output_type": "stream",
     "text": [
      "my name is sambhajinagar, i am 21 years old and i am from sudarshan\n"
     ]
    }
   ],
   "source": [
    "name='sudarshan'\n",
    "age=21\n",
    "city='sambhajinagar'\n",
    "print(\"my name is {}, i am {} years old and i am from {}\".format(city,age,name))\n"
   ]
  },
  {
   "cell_type": "code",
   "execution_count": 23,
   "id": "e4ce2b08-da5e-4ea8-a66f-161c825f487e",
   "metadata": {},
   "outputs": [
    {
     "name": "stdout",
     "output_type": "stream",
     "text": [
      "my name is sudarshan,I am a Data scientist,Company Google\n"
     ]
    }
   ],
   "source": [
    "employee_name='sudarshan'\n",
    "employee_role='Data scientist'\n",
    "company='Google'\n",
    "\n",
    "print(\"my name is {},I am a {},Company {}\".format(employee_name,employee_role,company))"
   ]
  },
  {
   "cell_type": "markdown",
   "id": "5c2df09e-f9d5-4d12-a3ec-fdb67665b98a",
   "metadata": {},
   "source": [
    "**Fstring**"
   ]
  },
  {
   "cell_type": "code",
   "execution_count": 25,
   "id": "db4c0929-fbaf-458c-820f-ce52fe914f10",
   "metadata": {},
   "outputs": [
    {
     "name": "stdout",
     "output_type": "stream",
     "text": [
      "The addition of 100 and 200 is 300 \n"
     ]
    }
   ],
   "source": [
    "a=100\n",
    "b=200\n",
    "c=a+b\n",
    "\n",
    "print(f\"The addition of {a} and {b} is {c} \")"
   ]
  },
  {
   "cell_type": "code",
   "execution_count": 28,
   "id": "dbb6d2f0-924a-490d-88c6-b86db1e05eb2",
   "metadata": {},
   "outputs": [
    {
     "name": "stdout",
     "output_type": "stream",
     "text": [
      "My name is sudarshan and I am 21 years old and I am working in Google company\n"
     ]
    }
   ],
   "source": [
    "name='sudarshan'\n",
    "age=21\n",
    "company='Google'\n",
    "\n",
    "print(f\"My name is {name} and I am {age} years old and I am working in {company} company\")\n"
   ]
  },
  {
   "cell_type": "code",
   "execution_count": 7,
   "id": "d612879e-050f-4a67-875b-b3d8c6278aba",
   "metadata": {},
   "outputs": [
    {
     "name": "stdout",
     "output_type": "stream",
     "text": [
      "The average of 100 and 200 is 150.0\n",
      "The average of 100 and 200 is 150.0\n"
     ]
    }
   ],
   "source": [
    "num1=100\n",
    "num2=200\n",
    "\n",
    "average=(num1+num2)/2\n",
    "\n",
    "# The average of 100 and 200 is 150\n",
    "  \n",
    "print(f\"The average of {num1} and {num2} is {average}\") # fstring method\n",
    "print(\"The average of {} and {} is {}\".format(num1,num2,average))"
   ]
  },
  {
   "cell_type": "code",
   "execution_count": 12,
   "id": "252d014b-1adc-4029-a8a7-0f6f8b5af45c",
   "metadata": {},
   "outputs": [
    {
     "name": "stdout",
     "output_type": "stream",
     "text": [
      "Area of circle is 314.0\n",
      "Area of circle is 314.0\n"
     ]
    }
   ],
   "source": [
    "#Take a radius of a circle\n",
    "#Take the pi value=3.14\n",
    "#Find the area of a circle=pi*r*r\n",
    "\n",
    "radius=10\n",
    "pi=3.14\n",
    "\n",
    "area=pi*radius*radius\n",
    "print(\"Area of circle is {}\".format(area))\n",
    "print(f\"Area of circle is {area}\")"
   ]
  },
  {
   "cell_type": "code",
   "execution_count": 16,
   "id": "3e5b9924-40f8-4b0e-911d-c79f973eb489",
   "metadata": {},
   "outputs": [
    {
     "name": "stdout",
     "output_type": "stream",
     "text": [
      "The area of triangle is 10.0\n",
      "The area of triangle is 10.0\n"
     ]
    }
   ],
   "source": [
    "# Take take base of the triangle\n",
    "# Take the height of the triangle\n",
    "# Area of the triangle=1/2*base*height\n",
    "\n",
    "base=4\n",
    "height=5\n",
    "\n",
    "Area=1/2*base*height\n",
    "\n",
    "print(f\"The area of triangle is {Area}\")\n",
    "print(\"The area of triangle is {}\".format(Area))"
   ]
  },
  {
   "cell_type": "code",
   "execution_count": 19,
   "id": "35a0c034-6514-4741-9407-112c44561ff2",
   "metadata": {},
   "outputs": [
    {
     "name": "stdout",
     "output_type": "stream",
     "text": [
      "The toatal bill amount is 1100.0\n"
     ]
    }
   ],
   "source": [
    "# take the bill_amount =1000\n",
    "# take the tip_percentage =10\n",
    "# calculate tip_amount\n",
    "# calculate the total bill\n",
    "\n",
    "bill_amount=1000\n",
    "tip_percentage=10\n",
    "tip_amount=bill_amount*tip_percentage/100\n",
    "total_bill=bill_amount+tip_amount\n",
    "\n",
    "print(f\"The toatal bill amount is {total_bill}\")\n",
    "\n",
    "\n",
    "\n"
   ]
  },
  {
   "cell_type": "code",
   "execution_count": 20,
   "id": "b99fa184-508d-4a6d-8ab5-aefc9f0c5a0c",
   "metadata": {},
   "outputs": [
    {
     "name": "stdout",
     "output_type": "stream",
     "text": [
      "10\n",
      "20\n"
     ]
    }
   ],
   "source": [
    "print(10)\n",
    "print(20)"
   ]
  },
  {
   "cell_type": "code",
   "execution_count": 23,
   "id": "67c0df40-3e11-4226-b30e-bf424bb69db1",
   "metadata": {},
   "outputs": [
    {
     "name": "stdout",
     "output_type": "stream",
     "text": [
      "10 20\n"
     ]
    }
   ],
   "source": [
    "print(10,20)"
   ]
  },
  {
   "cell_type": "markdown",
   "id": "1ad2d67d-30f0-465b-8543-1fdca565dea6",
   "metadata": {},
   "source": [
    "**End operator**\n",
    "\n",
    "- combining multiple statement into single line"
   ]
  },
  {
   "cell_type": "code",
   "execution_count": 26,
   "id": "45212240-0947-4908-b75b-ec9b2a001ab2",
   "metadata": {},
   "outputs": [
    {
     "name": "stdout",
     "output_type": "stream",
     "text": [
      "10 20\n"
     ]
    }
   ],
   "source": [
    "print(10,end=' ')\n",
    "print(20)"
   ]
  },
  {
   "cell_type": "code",
   "execution_count": 27,
   "id": "e2ac264a-bf46-4b4d-84b5-08683a610c44",
   "metadata": {},
   "outputs": [
    {
     "name": "stdout",
     "output_type": "stream",
     "text": [
      "10 20 30\n"
     ]
    }
   ],
   "source": [
    "print(10,end=' ')\n",
    "print(20,end=' ')\n",
    "print(30)"
   ]
  },
  {
   "cell_type": "markdown",
   "id": "d6c1dbce-c970-42e6-8fb7-480563ba1a88",
   "metadata": {},
   "source": [
    "**Seperate operater**\n",
    "\n",
    "- Seperate the multiple values into single print statements"
   ]
  },
  {
   "cell_type": "code",
   "execution_count": 28,
   "id": "b963d1fa-5373-48ec-a6fa-3b67e1ec7a5b",
   "metadata": {},
   "outputs": [
    {
     "name": "stdout",
     "output_type": "stream",
     "text": [
      "10 & 20 & 30\n"
     ]
    }
   ],
   "source": [
    "print(10,20,30,sep=' & ')"
   ]
  },
  {
   "cell_type": "code",
   "execution_count": 29,
   "id": "dcca5f58-0f91-489f-9250-c68b079217b1",
   "metadata": {},
   "outputs": [
    {
     "name": "stdout",
     "output_type": "stream",
     "text": [
      "The addition of 5 and 3 is 8\n"
     ]
    }
   ],
   "source": [
    "print(f\"The addition of {5} and {3} is {5+3}\")"
   ]
  },
  {
   "cell_type": "code",
   "execution_count": 31,
   "id": "811b4ed0-80a3-4b11-8da1-2aa05fc1f873",
   "metadata": {},
   "outputs": [
    {
     "name": "stdout",
     "output_type": "stream",
     "text": [
      "The addition of 5 and 3 is 8.\n"
     ]
    }
   ],
   "source": [
    "print(\"The addition of {} and {} is {}.\".format(5,3,5+3))"
   ]
  },
  {
   "cell_type": "code",
   "execution_count": 4,
   "id": "20ceffc3-4885-4712-887e-6cca6f1b0c95",
   "metadata": {},
   "outputs": [
    {
     "name": "stdout",
     "output_type": "stream",
     "text": [
      "30 & 40\n"
     ]
    }
   ],
   "source": [
    "print(30,40,sep=' & ')\n"
   ]
  },
  {
   "cell_type": "code",
   "execution_count": null,
   "id": "bc7b326a-a6e8-4a90-ae81-42c1919f2506",
   "metadata": {},
   "outputs": [],
   "source": []
  }
 ],
 "metadata": {
  "kernelspec": {
   "display_name": "Python 3 (ipykernel)",
   "language": "python",
   "name": "python3"
  },
  "language_info": {
   "codemirror_mode": {
    "name": "ipython",
    "version": 3
   },
   "file_extension": ".py",
   "mimetype": "text/x-python",
   "name": "python",
   "nbconvert_exporter": "python",
   "pygments_lexer": "ipython3",
   "version": "3.11.7"
  }
 },
 "nbformat": 4,
 "nbformat_minor": 5
}
