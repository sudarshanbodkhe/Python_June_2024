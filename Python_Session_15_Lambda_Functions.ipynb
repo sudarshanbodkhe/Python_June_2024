{
 "cells": [
  {
   "cell_type": "markdown",
   "id": "11b1d9a9-4dc4-45da-baa7-9ddeb444dae0",
   "metadata": {},
   "source": [
    "**Lambda Functions**\n",
    "\n",
    "- lambda fucntions represents fucntion concept\n",
    "\n",
    "- but we are write in a single line\n",
    "\n",
    "- like list comprehention ,lambda fucntion similar only\n",
    "\n",
    "- it will decrease the time complexity\n",
    "\n",
    "- always remember if we use many for loop or many condition using multiple line,the time complexity will increse"
   ]
  },
  {
   "cell_type": "markdown",
   "id": "3e895b6e-aedf-4865-a40b-a12b89de9309",
   "metadata": {},
   "source": [
    "$pattern-1$\n",
    "\n"
   ]
  },
  {
   "cell_type": "markdown",
   "id": "4efef8a1-d445-4c98-89e2-19131aa4f870",
   "metadata": {},
   "source": [
    "**Function with only one argument**\n",
    "\n",
    "- function name\n",
    "\n",
    "- argument name\n",
    "\n",
    "- return output\n",
    "  "
   ]
  },
  {
   "cell_type": "code",
   "execution_count": 1,
   "id": "72bb379e-1b09-4058-8981-b39fc9956adc",
   "metadata": {},
   "outputs": [
    {
     "data": {
      "text/plain": [
       "20"
      ]
     },
     "execution_count": 1,
     "metadata": {},
     "output_type": "execute_result"
    }
   ],
   "source": [
    "def summ(n):\n",
    "    return(n+10)\n",
    "summ(10)"
   ]
  },
  {
   "cell_type": "code",
   "execution_count": 2,
   "id": "fbef6aac-9b4d-49c1-8dd5-50734413b1b0",
   "metadata": {},
   "outputs": [
    {
     "data": {
      "text/plain": [
       "110"
      ]
     },
     "execution_count": 2,
     "metadata": {},
     "output_type": "execute_result"
    }
   ],
   "source": [
    "#syntax:<function name>= lambda <argument name>: <return output>\n",
    "\n",
    "summ: lambda n:n+10\n",
    "summ(100)\n"
   ]
  },
  {
   "cell_type": "code",
   "execution_count": 3,
   "id": "d2e62f41-6b0d-4313-9a60-9be0e865237e",
   "metadata": {},
   "outputs": [
    {
     "data": {
      "text/plain": [
       "1000"
      ]
     },
     "execution_count": 3,
     "metadata": {},
     "output_type": "execute_result"
    }
   ],
   "source": [
    "def cube(n):\n",
    "    return (n**3)\n",
    "cube(10)"
   ]
  },
  {
   "cell_type": "code",
   "execution_count": 4,
   "id": "47df0078-d33b-45cb-9014-12dc545dea68",
   "metadata": {},
   "outputs": [
    {
     "data": {
      "text/plain": [
       "1000"
      ]
     },
     "execution_count": 4,
     "metadata": {},
     "output_type": "execute_result"
    }
   ],
   "source": [
    "cube=lambda n:n**3\n",
    "cube(10)"
   ]
  },
  {
   "cell_type": "markdown",
   "id": "78a59492-17e6-42e3-83f6-e43e4b773981",
   "metadata": {},
   "source": [
    "$Patten-2$"
   ]
  },
  {
   "cell_type": "markdown",
   "id": "2d6bb10c-b56e-4507-814a-5300cbe3a006",
   "metadata": {},
   "source": [
    "**Two arguments**"
   ]
  },
  {
   "cell_type": "code",
   "execution_count": 7,
   "id": "16a10d98-9def-4793-862d-ff7794a5b95a",
   "metadata": {},
   "outputs": [
    {
     "data": {
      "text/plain": [
       "100"
      ]
     },
     "execution_count": 7,
     "metadata": {},
     "output_type": "execute_result"
    }
   ],
   "source": [
    "#syntax : <function name>= lambda <arg1>,<arg2>: <return output>\n",
    "\n",
    "def add(a,b):\n",
    "    return a+b\n",
    "add(50,50)"
   ]
  },
  {
   "cell_type": "code",
   "execution_count": 8,
   "id": "69ef50d7-6043-44e6-a3aa-0ba30fa84e61",
   "metadata": {},
   "outputs": [
    {
     "data": {
      "text/plain": [
       "100"
      ]
     },
     "execution_count": 8,
     "metadata": {},
     "output_type": "execute_result"
    }
   ],
   "source": [
    "add=lambda a,b:a+b\n",
    "add(50,50)"
   ]
  },
  {
   "cell_type": "code",
   "execution_count": 2,
   "id": "06e026d8-86da-4876-9507-2a7c532104bd",
   "metadata": {},
   "outputs": [
    {
     "data": {
      "text/plain": [
       "30"
      ]
     },
     "execution_count": 2,
     "metadata": {},
     "output_type": "execute_result"
    }
   ],
   "source": [
    "sudarshan=lambda ar1,ar2:ar1+ar2\n",
    "sudarshan(10,20)"
   ]
  },
  {
   "cell_type": "code",
   "execution_count": 14,
   "id": "2c88fb86-390a-4010-85f1-aee42becbe0a",
   "metadata": {},
   "outputs": [
    {
     "data": {
      "text/plain": [
       "237.33"
      ]
     },
     "execution_count": 14,
     "metadata": {},
     "output_type": "execute_result"
    }
   ],
   "source": [
    "average=lambda a,b,c=500:round((a+b+c)/3,2)\n",
    "average(10,202)"
   ]
  },
  {
   "cell_type": "markdown",
   "id": "abc7bfc0-d943-4e6d-b3b5-7c99e38ea8e3",
   "metadata": {},
   "source": [
    "**Pattern-4**"
   ]
  },
  {
   "cell_type": "markdown",
   "id": "ea0c524e-8d4c-4501-847a-edab40e85bd4",
   "metadata": {},
   "source": [
    "**if-else**"
   ]
  },
  {
   "cell_type": "code",
   "execution_count": 15,
   "id": "6a975724-8f72-48a9-970d-206d95ac97f2",
   "metadata": {},
   "outputs": [
    {
     "data": {
      "text/plain": [
       "20"
      ]
     },
     "execution_count": 15,
     "metadata": {},
     "output_type": "execute_result"
    }
   ],
   "source": [
    "def max(a,b):\n",
    "    if a>b:\n",
    "        return(a)\n",
    "    else:\n",
    "        return(b)\n",
    "max(10,20)    "
   ]
  },
  {
   "cell_type": "code",
   "execution_count": 17,
   "id": "881d3d86-0c04-430f-bbf7-683c9c78119d",
   "metadata": {},
   "outputs": [
    {
     "data": {
      "text/plain": [
       "30"
      ]
     },
     "execution_count": 17,
     "metadata": {},
     "output_type": "execute_result"
    }
   ],
   "source": [
    "# syntax:<function name>= lambda <arg1>,<arg2>:<if_out><if_con><else><else_out>\n",
    "\n",
    "max=lambda a,b: a if a>b else b\n",
    "max(30,20)"
   ]
  },
  {
   "cell_type": "markdown",
   "id": "78436d2c-0f18-4f60-b6d2-2d3fc5e49148",
   "metadata": {},
   "source": [
    "**Pattern-5**\n",
    "\n",
    "**Using List**"
   ]
  },
  {
   "cell_type": "code",
   "execution_count": 21,
   "id": "cb444379-e7cf-434e-a922-d52e3f5de610",
   "metadata": {},
   "outputs": [
    {
     "data": {
      "text/plain": [
       "['Hyd', 'Chennai', 'Mumbai']"
      ]
     },
     "execution_count": 21,
     "metadata": {},
     "output_type": "execute_result"
    }
   ],
   "source": [
    "l=['hyd','chennai','mumbai']\n",
    "op=[]\n",
    "for i in l:\n",
    "    op.append(i.capitalize())\n",
    "op"
   ]
  },
  {
   "cell_type": "markdown",
   "id": "830b35b7-69c9-4b23-957b-e30ecae91adf",
   "metadata": {},
   "source": [
    "**Map**\n",
    "\n",
    "- the function and iterator are available now\n",
    "\n",
    "- we need to map both"
   ]
  },
  {
   "cell_type": "code",
   "execution_count": 2,
   "id": "67f2ca70-7efc-4d2d-b209-e09a045811a2",
   "metadata": {},
   "outputs": [
    {
     "data": {
      "text/plain": [
       "<map at 0x26d1133bbe0>"
      ]
     },
     "execution_count": 2,
     "metadata": {},
     "output_type": "execute_result"
    }
   ],
   "source": [
    "#lambda <variable>:<op>\n",
    "#varible=i\n",
    "#op=i.capitalize()\n",
    "\n",
    "#lambda <variable>:<op>,<iterator>\n",
    "#<iterator>:List\n",
    "l=['hyd','chennai','mumbai']\n",
    "map(lambda i: i.capitalize(),l)"
   ]
  },
  {
   "cell_type": "code",
   "execution_count": 29,
   "id": "f0aeb06d-fc27-45a9-bb82-cf0e76833659",
   "metadata": {},
   "outputs": [
    {
     "data": {
      "text/plain": [
       "['Hyd', 'Chennai', 'Mumbai']"
      ]
     },
     "execution_count": 29,
     "metadata": {},
     "output_type": "execute_result"
    }
   ],
   "source": [
    "# apply the list ro see the values\n",
    "l=['hyd','chennai','mumbai']\n",
    "list(map(lambda i: i.capitalize(),l))"
   ]
  },
  {
   "cell_type": "code",
   "execution_count": 30,
   "id": "29ffa100-eddb-4b44-b9d7-fd2173d725e0",
   "metadata": {},
   "outputs": [],
   "source": [
    "# step1:write your normal expression\n",
    "#        ex:lambda <var> : <op>===>lambda i:i.capitalize()\n",
    "# step 2:add the iterator\n",
    "#        ex: lambda <var> : <op>===>lambda i:i.capitalize(),list1\n",
    "# step 3:map the both\n",
    "#       map(lambda <var> : <op>===>lambda i:i.capitalize(),list1)\n",
    "\n",
    "#step 4:save the values in a list,\n",
    "#         list(map(lambda <var> : <op>===>lambda i:i.capitalize(),list1))"
   ]
  },
  {
   "cell_type": "markdown",
   "id": "7a4104d8-f7e4-4582-ae30-fbd5ea182f8a",
   "metadata": {},
   "source": [
    "- Case-1:Function call with One argument\n",
    "\n",
    "    - lambda arguments:Expression\n",
    " \n",
    "    - lambda variables: return output\n",
    "\n",
    "\n",
    "- Case-2:Function call with Two arguments\n",
    "    \n",
    "     - lambda arg1,arg2: Expression\n",
    " \n",
    "     - lambda var1,var2: return output\n",
    " \n",
    "- Case-3: Function call with Default arguments\n",
    "    \n",
    "    - lambda arg1,arg2=500: Expression\n",
    " \n",
    "    - lambda var1,var2=500: return output\n",
    " \n",
    "- Case-4: Function call with Two arguments and if-else statement\n",
    "\n",
    "    - lambda arg1,arg2:  Expression\n",
    " \n",
    "    - lambda var1,var2:if_output if_condition else else_op forloop\n",
    " \n",
    "- Case-5:Lambda operations using list\n",
    "\n",
    "    - lambda arg: Expression\n",
    " \n",
    "    - map"
   ]
  },
  {
   "cell_type": "code",
   "execution_count": 4,
   "id": "3a279104-58fc-4762-847b-688d5d8ab249",
   "metadata": {},
   "outputs": [
    {
     "name": "stdout",
     "output_type": "stream",
     "text": [
      "HYD\n",
      "CHENNAI\n",
      "MUMBAI\n"
     ]
    }
   ],
   "source": [
    "l=['hyd','chennai','mumbai']\n",
    "for i in l:\n",
    "    print(i.upper())"
   ]
  },
  {
   "cell_type": "code",
   "execution_count": 6,
   "id": "d8317b7b-a056-4be2-b2f4-2792652b1b5b",
   "metadata": {},
   "outputs": [
    {
     "data": {
      "text/plain": [
       "['HYD', 'CHENNAI', 'MUMBAI']"
      ]
     },
     "execution_count": 6,
     "metadata": {},
     "output_type": "execute_result"
    }
   ],
   "source": [
    "list(map(lambda i:i.upper(),l))"
   ]
  },
  {
   "cell_type": "code",
   "execution_count": 5,
   "id": "2ef3d89b-894c-4349-88ff-2f6abc23e138",
   "metadata": {},
   "outputs": [
    {
     "data": {
      "text/plain": [
       "['Hyd', 'Chennai', 'Mumbai']"
      ]
     },
     "execution_count": 5,
     "metadata": {},
     "output_type": "execute_result"
    }
   ],
   "source": [
    "l=['hyd','chennai','mumbai']\n",
    "list(map(lambda i:i.title(),l))"
   ]
  },
  {
   "cell_type": "markdown",
   "id": "30ba6802-8768-449c-9520-c2500192633c",
   "metadata": {},
   "source": [
    "**Filter**\n",
    "\n",
    "- whenever if condtion are there use filter\n"
   ]
  },
  {
   "cell_type": "code",
   "execution_count": 10,
   "id": "772b1499-92d6-42f5-9ae7-b0f7fd3e4e09",
   "metadata": {},
   "outputs": [
    {
     "data": {
      "text/plain": [
       "(False, True, True)"
      ]
     },
     "execution_count": 10,
     "metadata": {},
     "output_type": "execute_result"
    }
   ],
   "source": [
    "l=['hyd','chen#nai','mum#bai']\n",
    "\n",
    "#for i in l:\n",
    "#    if '#' in i:\n",
    "#        print(i)\n",
    "\n",
    "tuple(map(lambda i:'#' in i,l))"
   ]
  },
  {
   "cell_type": "code",
   "execution_count": 11,
   "id": "4db532a9-6a09-4b05-9145-9afa957a820b",
   "metadata": {},
   "outputs": [
    {
     "data": {
      "text/plain": [
       "('chen#nai', 'mum#bai')"
      ]
     },
     "execution_count": 11,
     "metadata": {},
     "output_type": "execute_result"
    }
   ],
   "source": [
    "tuple(filter(lambda i:'#' in i,l))"
   ]
  },
  {
   "cell_type": "code",
   "execution_count": 14,
   "id": "12a5bac7-7be4-46d1-a845-9393e1b98e16",
   "metadata": {},
   "outputs": [
    {
     "data": {
      "text/plain": [
       "(2, 6)"
      ]
     },
     "execution_count": 14,
     "metadata": {},
     "output_type": "execute_result"
    }
   ],
   "source": [
    "l=[1,3,2,7,6]\n",
    "# op=[2,6]\n",
    "\n",
    "tuple(filter(lambda i:i%2==0,l))"
   ]
  },
  {
   "cell_type": "markdown",
   "id": "c16fec7f-55d3-4b36-9677-1a164b1ac244",
   "metadata": {},
   "source": [
    "**Reduce**\n",
    "\n",
    "- All induilt functions can achieve by reduce\n",
    "\n",
    "- Reduce is available from functools package\n",
    "\n",
    "- level-1:reduce(lambda summ,i:summ+i,l1)\n",
    "\n",
    "- level-2:reduce(lambda summ,i:summ+i,l1,initial_value)\n",
    "\n",
    "- for example we want initialize summ=0 then we choose level-1\n",
    "\n",
    "- fpr example we want start with other than zero then we choose level-2"
   ]
  },
  {
   "cell_type": "code",
   "execution_count": 21,
   "id": "eee4bba1-8740-4458-b993-65db196132cc",
   "metadata": {},
   "outputs": [
    {
     "name": "stdout",
     "output_type": "stream",
     "text": [
      "15\n"
     ]
    }
   ],
   "source": [
    "l1=[1,2,3,4,5]\n",
    "\n",
    "# Method-1:sum\n",
    "#sum(l1)\n",
    "\n",
    "# Method-2:with out sum\n",
    "summ=0\n",
    "for i in l1:\n",
    "    summ=summ+i\n",
    "print(summ)"
   ]
  },
  {
   "cell_type": "code",
   "execution_count": 41,
   "id": "d1880707-a6a9-4065-a97e-9d2353a52114",
   "metadata": {},
   "outputs": [
    {
     "data": {
      "text/plain": [
       "15"
      ]
     },
     "execution_count": 41,
     "metadata": {},
     "output_type": "execute_result"
    }
   ],
   "source": [
    "import functools\n",
    "l1=[1,2,3,4,5]\n",
    "functools.reduce(lambda summ,i:summ+i,l1)"
   ]
  },
  {
   "cell_type": "code",
   "execution_count": 36,
   "id": "f2e15269-7bf4-47c7-a968-c4b2c4d37465",
   "metadata": {},
   "outputs": [
    {
     "data": {
      "text/plain": [
       "15"
      ]
     },
     "execution_count": 36,
     "metadata": {},
     "output_type": "execute_result"
    }
   ],
   "source": [
    "from functools import reduce\n",
    "l1=[1,2,3,4,5]\n",
    "reduce(lambda summ,i:summ+i,l1)"
   ]
  },
  {
   "cell_type": "code",
   "execution_count": 40,
   "id": "f469c610-96e9-4fec-98e2-0e1cf4a8c9ba",
   "metadata": {},
   "outputs": [
    {
     "data": {
      "text/plain": [
       "15"
      ]
     },
     "execution_count": 40,
     "metadata": {},
     "output_type": "execute_result"
    }
   ],
   "source": [
    "import functools as ft\n",
    "ft.reduce(lambda summ,i:summ+i,l1)"
   ]
  },
  {
   "cell_type": "code",
   "execution_count": 48,
   "id": "c1450bd3-4ec0-4094-a203-59fea8a6adca",
   "metadata": {},
   "outputs": [
    {
     "data": {
      "text/plain": [
       "120"
      ]
     },
     "execution_count": 48,
     "metadata": {},
     "output_type": "execute_result"
    }
   ],
   "source": [
    "import functools\n",
    "l1=[1,2,3,4,5]\n",
    "functools.reduce(lambda x,y:x*y,l1)"
   ]
  },
  {
   "cell_type": "code",
   "execution_count": 5,
   "id": "adbab9cd-921e-480a-94b0-fb885803cf3f",
   "metadata": {},
   "outputs": [
    {
     "name": "stdout",
     "output_type": "stream",
     "text": [
      "5\n",
      "6\n"
     ]
    }
   ],
   "source": [
    "string='NaReSh i TeCh'\n",
    "u_count=0\n",
    "l_count=0\n",
    "for i in range(len(string)):\n",
    "    if string[i].isupper():\n",
    "        u_count+=1\n",
    "    elif string[i].islower():\n",
    "        l_count+=1\n",
    "print(u_count)\n",
    "print(l_count)\n"
   ]
  },
  {
   "cell_type": "code",
   "execution_count": null,
   "id": "092a3995-eca9-4783-8d27-4f46da294e75",
   "metadata": {},
   "outputs": [],
   "source": []
  }
 ],
 "metadata": {
  "kernelspec": {
   "display_name": "Python 3 (ipykernel)",
   "language": "python",
   "name": "python3"
  },
  "language_info": {
   "codemirror_mode": {
    "name": "ipython",
    "version": 3
   },
   "file_extension": ".py",
   "mimetype": "text/x-python",
   "name": "python",
   "nbconvert_exporter": "python",
   "pygments_lexer": "ipython3",
   "version": "3.11.7"
  }
 },
 "nbformat": 4,
 "nbformat_minor": 5
}
