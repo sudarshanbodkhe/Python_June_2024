{
 "cells": [
  {
   "cell_type": "markdown",
   "id": "69e21d1b-5c8c-4383-b8b9-771d92dfa13d",
   "metadata": {},
   "source": [
    "**Dictionary**\n",
    "\n",
    "- we already seen many Data types\n",
    "\n",
    "- String\n",
    "\n",
    "- List\n",
    "\n",
    "- Tuple\n",
    "\n",
    "- Set\n",
    "\n",
    "- Dictionary\n",
    "\n",
    "- int float bool complex\n",
    "\n",
    "- eval is not a data type"
   ]
  },
  {
   "cell_type": "markdown",
   "id": "b373d3aa-64a7-4dc7-9b33-80eb2d189b54",
   "metadata": {},
   "source": [
    "**Zip**"
   ]
  },
  {
   "cell_type": "code",
   "execution_count": 1,
   "id": "3e3b9fbf-a6c7-46e7-a899-9b5ef3a836e4",
   "metadata": {},
   "outputs": [
    {
     "name": "stdout",
     "output_type": "stream",
     "text": [
      "Ramesh 20\n",
      "Suresh 25\n",
      "Satish 30\n"
     ]
    }
   ],
   "source": [
    "names=['Ramesh','Suresh','Satish']\n",
    "age=[20,25,30]\n",
    "\n",
    "for i,j in zip(names,age):\n",
    "    print(i,j)\n"
   ]
  },
  {
   "cell_type": "code",
   "execution_count": 5,
   "id": "f2a20361-5f08-4f57-a16c-28f9f2610325",
   "metadata": {},
   "outputs": [
    {
     "data": {
      "text/plain": [
       "[('Ramesh', 20), ('Suresh', 25), ('Satish', 30)]"
      ]
     },
     "execution_count": 5,
     "metadata": {},
     "output_type": "execute_result"
    }
   ],
   "source": [
    "list(zip(names,age))"
   ]
  },
  {
   "cell_type": "code",
   "execution_count": null,
   "id": "a3c9e300-8dcc-4cd3-a254-41201578581f",
   "metadata": {},
   "outputs": [],
   "source": [
    "#dict1={<key:<value>}\n",
    "names=['Ramesh','Suresh','Satish']\n",
    "age=[20,25,30]\n",
    "'Ramesh' is the key ===== 20 its related value\n",
    "dict1={'Ramesh':20,'Suresh':25,'Satish':30}\n",
    "type(dict1)"
   ]
  },
  {
   "cell_type": "markdown",
   "id": "f5cec836-ba32-4ee1-a441-eafb16466e15",
   "metadata": {},
   "source": [
    "dict1={'Ramesh':20,'Suresh':25,'Satish':30}\n",
    "type(dict1)"
   ]
  },
  {
   "cell_type": "markdown",
   "id": "e9b02e1f-32c9-4281-9ec5-4d2cff88b823",
   "metadata": {},
   "source": [
    "- initialization"
   ]
  },
  {
   "cell_type": "markdown",
   "id": "b45cc5aa-3339-4c14-97a0-5556eea46834",
   "metadata": {},
   "source": [
    "**Creates all type of dictionary**"
   ]
  },
  {
   "cell_type": "code",
   "execution_count": 21,
   "id": "ee27283f-ad3f-4b73-a162-112801b2b719",
   "metadata": {},
   "outputs": [
    {
     "data": {
      "text/plain": [
       "{'age': 20, 'location': 'mumbai', 'college': 'Deogiri'}"
      ]
     },
     "execution_count": 21,
     "metadata": {},
     "output_type": "execute_result"
    }
   ],
   "source": [
    "dict1={'age':20,'location':'mumbai','college':'Deogiri'}\n",
    "dict1"
   ]
  },
  {
   "cell_type": "code",
   "execution_count": 22,
   "id": "853a11bb-bcc7-42e1-8172-0d306503997c",
   "metadata": {},
   "outputs": [
    {
     "data": {
      "text/plain": [
       "{1: 'age', 2: 'name', 3: 'location'}"
      ]
     },
     "execution_count": 22,
     "metadata": {},
     "output_type": "execute_result"
    }
   ],
   "source": [
    "dict2={1:'age',2:'name',3:'location'}\n",
    "dict2"
   ]
  },
  {
   "cell_type": "code",
   "execution_count": 23,
   "id": "4943ae3c-14e0-4ada-94ed-a022db232763",
   "metadata": {},
   "outputs": [
    {
     "data": {
      "text/plain": [
       "{'marks': 200, 'percentage': 99.6}"
      ]
     },
     "execution_count": 23,
     "metadata": {},
     "output_type": "execute_result"
    }
   ],
   "source": [
    "dict3={'marks':200,'percentage':99.6}\n",
    "dict3"
   ]
  },
  {
   "cell_type": "code",
   "execution_count": 24,
   "id": "6e627604-4865-4030-9d30-e8f7511f8d79",
   "metadata": {},
   "outputs": [
    {
     "data": {
      "text/plain": [
       "{1: 100}"
      ]
     },
     "execution_count": 24,
     "metadata": {},
     "output_type": "execute_result"
    }
   ],
   "source": [
    "dict4={1:100}\n",
    "dict4"
   ]
  },
  {
   "cell_type": "code",
   "execution_count": 28,
   "id": "7c12f984-bc3c-4ecc-a6e6-3e81a0c8487e",
   "metadata": {},
   "outputs": [
    {
     "data": {
      "text/plain": [
       "{'Fruits': ['Apple', 'Cherry']}"
      ]
     },
     "execution_count": 28,
     "metadata": {},
     "output_type": "execute_result"
    }
   ],
   "source": [
    "d5={'Fruits':['Apple','Cherry']}\n",
    "d5"
   ]
  },
  {
   "cell_type": "code",
   "execution_count": 29,
   "id": "8cb0e807-47eb-4745-a730-bbc79dc1c082",
   "metadata": {},
   "outputs": [
    {
     "ename": "TypeError",
     "evalue": "unhashable type: 'list'",
     "output_type": "error",
     "traceback": [
      "\u001b[1;31m---------------------------------------------------------------------------\u001b[0m",
      "\u001b[1;31mTypeError\u001b[0m                                 Traceback (most recent call last)",
      "Cell \u001b[1;32mIn[29], line 1\u001b[0m\n\u001b[1;32m----> 1\u001b[0m d6\u001b[38;5;241m=\u001b[39m{[\u001b[38;5;124m'\u001b[39m\u001b[38;5;124mApple\u001b[39m\u001b[38;5;124m'\u001b[39m,\u001b[38;5;124m'\u001b[39m\u001b[38;5;124mCherry\u001b[39m\u001b[38;5;124m'\u001b[39m]:\u001b[38;5;124m'\u001b[39m\u001b[38;5;124mFruites\u001b[39m\u001b[38;5;124m'\u001b[39m}\n\u001b[0;32m      2\u001b[0m d6\n",
      "\u001b[1;31mTypeError\u001b[0m: unhashable type: 'list'"
     ]
    }
   ],
   "source": [
    "d6={['Apple','Cherry']:'Fruites'}\n",
    "d6"
   ]
  },
  {
   "cell_type": "code",
   "execution_count": 30,
   "id": "bfd3ac16-275f-4940-a3bb-6838dab28c67",
   "metadata": {},
   "outputs": [
    {
     "data": {
      "text/plain": [
       "{('Apple', 'Cherry'): 'Fruits'}"
      ]
     },
     "execution_count": 30,
     "metadata": {},
     "output_type": "execute_result"
    }
   ],
   "source": [
    "d7={('Apple','Cherry'):'Fruits'}\n",
    "d7"
   ]
  },
  {
   "cell_type": "code",
   "execution_count": 31,
   "id": "1251c3e6-8145-423b-8821-f6de14210f9b",
   "metadata": {},
   "outputs": [
    {
     "data": {
      "text/plain": [
       "{'Ajay': 30}"
      ]
     },
     "execution_count": 31,
     "metadata": {},
     "output_type": "execute_result"
    }
   ],
   "source": [
    "d8={'Ajay':25,'Ajay':30}\n",
    "d8"
   ]
  },
  {
   "cell_type": "code",
   "execution_count": 32,
   "id": "b9add8f2-eb87-45d0-b18d-b3806cf39809",
   "metadata": {},
   "outputs": [
    {
     "data": {
      "text/plain": [
       "{25: 'Ajay', 30: 'Ajay'}"
      ]
     },
     "execution_count": 32,
     "metadata": {},
     "output_type": "execute_result"
    }
   ],
   "source": [
    "d9={25:'Ajay',30:'Ajay'}\n",
    "d9"
   ]
  },
  {
   "cell_type": "markdown",
   "id": "dadd142c-8dba-4a11-82d4-629ead285350",
   "metadata": {},
   "source": [
    "**Keys are important**\n",
    "\n",
    "- Keys have only latest value\n",
    "\n",
    "- No duplicate keys\n",
    "\n",
    "- keys should be only one\n",
    "\n",
    "- Value can be duplicate\n",
    "\n",
    "- which means different keys have same value\n",
    "\n",
    "- List can not be a key,Beacuase lists are mutable\n",
    "\n",
    "- Tuple can be a key,Beacuase tuple are immutable "
   ]
  },
  {
   "cell_type": "markdown",
   "id": "a3c63cdd-b9e7-44d3-902a-5ccaf04738a4",
   "metadata": {},
   "source": [
    "**Max**"
   ]
  },
  {
   "cell_type": "code",
   "execution_count": 33,
   "id": "860a5395-7c06-43a5-ad68-47147eab28c9",
   "metadata": {},
   "outputs": [
    {
     "data": {
      "text/plain": [
       "'location'"
      ]
     },
     "execution_count": 33,
     "metadata": {},
     "output_type": "execute_result"
    }
   ],
   "source": [
    "dict1={'age':20,'location':'mumbai','college':'Deogiri'}\n",
    "max(dict1)\n",
    "\n",
    "# Operation apply only on key\n",
    "# Keys are important"
   ]
  },
  {
   "cell_type": "code",
   "execution_count": 34,
   "id": "a04b3a23-5ad6-4d85-b6ae-d1499878aec6",
   "metadata": {},
   "outputs": [
    {
     "data": {
      "text/plain": [
       "3"
      ]
     },
     "execution_count": 34,
     "metadata": {},
     "output_type": "execute_result"
    }
   ],
   "source": [
    "dict2={1:'age',2:'name',3:'location'}\n",
    "max(dict2)"
   ]
  },
  {
   "cell_type": "code",
   "execution_count": 35,
   "id": "c3d84ac1-956d-4661-a665-3d557dd9c298",
   "metadata": {},
   "outputs": [
    {
     "data": {
      "text/plain": [
       "'percentage'"
      ]
     },
     "execution_count": 35,
     "metadata": {},
     "output_type": "execute_result"
    }
   ],
   "source": [
    "dict3={'marks':200,'percentage':99.6}\n",
    "max(dict3)"
   ]
  },
  {
   "cell_type": "code",
   "execution_count": 36,
   "id": "1eb79642-837d-40ed-b721-26d32bc632d6",
   "metadata": {},
   "outputs": [
    {
     "data": {
      "text/plain": [
       "1"
      ]
     },
     "execution_count": 36,
     "metadata": {},
     "output_type": "execute_result"
    }
   ],
   "source": [
    "dict4={1:100}\n",
    "max(dict4)"
   ]
  },
  {
   "cell_type": "code",
   "execution_count": 37,
   "id": "a7df7c89-c8c3-4f3a-a002-c900839a4b5d",
   "metadata": {},
   "outputs": [
    {
     "data": {
      "text/plain": [
       "'Fruits'"
      ]
     },
     "execution_count": 37,
     "metadata": {},
     "output_type": "execute_result"
    }
   ],
   "source": [
    "d5={'Fruits':['Apple','Cherry']}\n",
    "max(d5)"
   ]
  },
  {
   "cell_type": "code",
   "execution_count": 38,
   "id": "283b7647-cf2b-48a2-b48b-f16d0eb7b117",
   "metadata": {},
   "outputs": [
    {
     "ename": "TypeError",
     "evalue": "unhashable type: 'list'",
     "output_type": "error",
     "traceback": [
      "\u001b[1;31m---------------------------------------------------------------------------\u001b[0m",
      "\u001b[1;31mTypeError\u001b[0m                                 Traceback (most recent call last)",
      "Cell \u001b[1;32mIn[38], line 1\u001b[0m\n\u001b[1;32m----> 1\u001b[0m d6\u001b[38;5;241m=\u001b[39m{[\u001b[38;5;124m'\u001b[39m\u001b[38;5;124mApple\u001b[39m\u001b[38;5;124m'\u001b[39m,\u001b[38;5;124m'\u001b[39m\u001b[38;5;124mCherry\u001b[39m\u001b[38;5;124m'\u001b[39m]:\u001b[38;5;124m'\u001b[39m\u001b[38;5;124mFruites\u001b[39m\u001b[38;5;124m'\u001b[39m}\n\u001b[0;32m      2\u001b[0m \u001b[38;5;28mmax\u001b[39m(d6)\n",
      "\u001b[1;31mTypeError\u001b[0m: unhashable type: 'list'"
     ]
    }
   ],
   "source": [
    "d6={['Apple','Cherry']:'Fruites'}\n",
    "max(d6)"
   ]
  },
  {
   "cell_type": "code",
   "execution_count": 39,
   "id": "4ab088bf-e139-4acc-ba80-3bbe748fd971",
   "metadata": {},
   "outputs": [
    {
     "data": {
      "text/plain": [
       "('Apple', 'Cherry')"
      ]
     },
     "execution_count": 39,
     "metadata": {},
     "output_type": "execute_result"
    }
   ],
   "source": [
    "d7={('Apple','Cherry'):'Fruits'}\n",
    "max(d7)"
   ]
  },
  {
   "cell_type": "markdown",
   "id": "5de1d2a5-2994-46e7-87cc-d85be7dd63cc",
   "metadata": {},
   "source": [
    "**Min**"
   ]
  },
  {
   "cell_type": "code",
   "execution_count": 42,
   "id": "c94f7ff1-9dc6-49af-baeb-6f38fd740c4b",
   "metadata": {},
   "outputs": [
    {
     "data": {
      "text/plain": [
       "'age'"
      ]
     },
     "execution_count": 42,
     "metadata": {},
     "output_type": "execute_result"
    }
   ],
   "source": [
    "dict1={'age':20,'location':'mumbai','college':'Deogiri'}\n",
    "min(dict1)"
   ]
  },
  {
   "cell_type": "code",
   "execution_count": 43,
   "id": "30c38b2d-885c-49c5-8948-51dde625d18a",
   "metadata": {},
   "outputs": [
    {
     "data": {
      "text/plain": [
       "1"
      ]
     },
     "execution_count": 43,
     "metadata": {},
     "output_type": "execute_result"
    }
   ],
   "source": [
    "dict2={1:'age',2:'name',3:'location'}\n",
    "min(dict2)"
   ]
  },
  {
   "cell_type": "code",
   "execution_count": 44,
   "id": "ffd53764-8960-460e-b54d-47c2228ab849",
   "metadata": {},
   "outputs": [
    {
     "data": {
      "text/plain": [
       "'marks'"
      ]
     },
     "execution_count": 44,
     "metadata": {},
     "output_type": "execute_result"
    }
   ],
   "source": [
    "dict3={'marks':200,'percentage':99.6}\n",
    "min(dict3)"
   ]
  },
  {
   "cell_type": "code",
   "execution_count": 45,
   "id": "b023adab-ca8d-455c-b1d8-083c449aae54",
   "metadata": {},
   "outputs": [
    {
     "data": {
      "text/plain": [
       "1"
      ]
     },
     "execution_count": 45,
     "metadata": {},
     "output_type": "execute_result"
    }
   ],
   "source": [
    "dict4={1:100}\n",
    "min(dict4)"
   ]
  },
  {
   "cell_type": "code",
   "execution_count": 46,
   "id": "2263c714-2a98-4d3e-98da-76815d731a7c",
   "metadata": {},
   "outputs": [
    {
     "data": {
      "text/plain": [
       "'Fruits'"
      ]
     },
     "execution_count": 46,
     "metadata": {},
     "output_type": "execute_result"
    }
   ],
   "source": [
    "d5={'Fruits':['Apple','Cherry']}\n",
    "min(d5)"
   ]
  },
  {
   "cell_type": "code",
   "execution_count": 47,
   "id": "9fab8d5c-8c47-4b9e-a5a7-857fd4301643",
   "metadata": {},
   "outputs": [
    {
     "ename": "TypeError",
     "evalue": "unhashable type: 'list'",
     "output_type": "error",
     "traceback": [
      "\u001b[1;31m---------------------------------------------------------------------------\u001b[0m",
      "\u001b[1;31mTypeError\u001b[0m                                 Traceback (most recent call last)",
      "Cell \u001b[1;32mIn[47], line 1\u001b[0m\n\u001b[1;32m----> 1\u001b[0m d6\u001b[38;5;241m=\u001b[39m{[\u001b[38;5;124m'\u001b[39m\u001b[38;5;124mApple\u001b[39m\u001b[38;5;124m'\u001b[39m,\u001b[38;5;124m'\u001b[39m\u001b[38;5;124mCherry\u001b[39m\u001b[38;5;124m'\u001b[39m]:\u001b[38;5;124m'\u001b[39m\u001b[38;5;124mFruites\u001b[39m\u001b[38;5;124m'\u001b[39m}\n\u001b[0;32m      2\u001b[0m \u001b[38;5;28mmin\u001b[39m(d6)\n",
      "\u001b[1;31mTypeError\u001b[0m: unhashable type: 'list'"
     ]
    }
   ],
   "source": [
    "d6={['Apple','Cherry']:'Fruites'}\n",
    "min(d6)"
   ]
  },
  {
   "cell_type": "code",
   "execution_count": 48,
   "id": "1fa43502-74a5-455b-ad7b-0e05994d6199",
   "metadata": {},
   "outputs": [
    {
     "data": {
      "text/plain": [
       "('Apple', 'Cherry')"
      ]
     },
     "execution_count": 48,
     "metadata": {},
     "output_type": "execute_result"
    }
   ],
   "source": [
    "d7={('Apple','Cherry'):'Fruits'}\n",
    "min(d7)"
   ]
  },
  {
   "cell_type": "markdown",
   "id": "4209c877-8fb0-4cae-ad4d-ace141ab81c3",
   "metadata": {},
   "source": [
    "**Len**"
   ]
  },
  {
   "cell_type": "code",
   "execution_count": 49,
   "id": "4aef8ea0-c713-432a-bc7a-56220b5af213",
   "metadata": {},
   "outputs": [
    {
     "data": {
      "text/plain": [
       "3"
      ]
     },
     "execution_count": 49,
     "metadata": {},
     "output_type": "execute_result"
    }
   ],
   "source": [
    "dict1={'age':20,'location':'mumbai','college':'Deogiri'}\n",
    "len(dict1)"
   ]
  },
  {
   "cell_type": "code",
   "execution_count": 50,
   "id": "4c96976c-1662-4936-b97d-2182935074c1",
   "metadata": {},
   "outputs": [
    {
     "data": {
      "text/plain": [
       "3"
      ]
     },
     "execution_count": 50,
     "metadata": {},
     "output_type": "execute_result"
    }
   ],
   "source": [
    "dict2={1:'age',2:'name',3:'location'}\n",
    "len(dict2)"
   ]
  },
  {
   "cell_type": "code",
   "execution_count": 51,
   "id": "8df05f1c-fe5a-4ec7-b4eb-c0d70be7afa9",
   "metadata": {},
   "outputs": [
    {
     "data": {
      "text/plain": [
       "2"
      ]
     },
     "execution_count": 51,
     "metadata": {},
     "output_type": "execute_result"
    }
   ],
   "source": [
    "dict3={'marks':200,'percentage':99.6}\n",
    "len(dict3)"
   ]
  },
  {
   "cell_type": "code",
   "execution_count": 52,
   "id": "f580f303-c81f-4b50-b578-c7c957298712",
   "metadata": {},
   "outputs": [
    {
     "data": {
      "text/plain": [
       "1"
      ]
     },
     "execution_count": 52,
     "metadata": {},
     "output_type": "execute_result"
    }
   ],
   "source": [
    "dict4={1:100}\n",
    "len(dict4)"
   ]
  },
  {
   "cell_type": "code",
   "execution_count": 53,
   "id": "d032a80a-5a49-4333-b7e1-d6589f88534f",
   "metadata": {},
   "outputs": [
    {
     "data": {
      "text/plain": [
       "1"
      ]
     },
     "execution_count": 53,
     "metadata": {},
     "output_type": "execute_result"
    }
   ],
   "source": [
    "d5={'Fruits':['Apple','Cherry']}\n",
    "len(d5)"
   ]
  },
  {
   "cell_type": "code",
   "execution_count": 54,
   "id": "4a393e30-680c-44a9-a630-3afee62d88bb",
   "metadata": {},
   "outputs": [
    {
     "ename": "TypeError",
     "evalue": "unhashable type: 'list'",
     "output_type": "error",
     "traceback": [
      "\u001b[1;31m---------------------------------------------------------------------------\u001b[0m",
      "\u001b[1;31mTypeError\u001b[0m                                 Traceback (most recent call last)",
      "Cell \u001b[1;32mIn[54], line 1\u001b[0m\n\u001b[1;32m----> 1\u001b[0m d6\u001b[38;5;241m=\u001b[39m{[\u001b[38;5;124m'\u001b[39m\u001b[38;5;124mApple\u001b[39m\u001b[38;5;124m'\u001b[39m,\u001b[38;5;124m'\u001b[39m\u001b[38;5;124mCherry\u001b[39m\u001b[38;5;124m'\u001b[39m]:\u001b[38;5;124m'\u001b[39m\u001b[38;5;124mFruites\u001b[39m\u001b[38;5;124m'\u001b[39m}\n\u001b[0;32m      2\u001b[0m \u001b[38;5;28mlen\u001b[39m(d6)\n",
      "\u001b[1;31mTypeError\u001b[0m: unhashable type: 'list'"
     ]
    }
   ],
   "source": [
    "d6={['Apple','Cherry']:'Fruites'}\n",
    "len(d6)"
   ]
  },
  {
   "cell_type": "code",
   "execution_count": 55,
   "id": "9311f0d4-69d6-4551-900f-b13fc87c367e",
   "metadata": {},
   "outputs": [
    {
     "data": {
      "text/plain": [
       "1"
      ]
     },
     "execution_count": 55,
     "metadata": {},
     "output_type": "execute_result"
    }
   ],
   "source": [
    "d7={('Apple','Cherry'):'Fruits'}\n",
    "len(d7)"
   ]
  },
  {
   "cell_type": "markdown",
   "id": "e0ba46ce-f6f3-4961-a47e-1337503edb02",
   "metadata": {},
   "source": [
    "**sorted**"
   ]
  },
  {
   "cell_type": "code",
   "execution_count": 57,
   "id": "8a4e981f-c7e4-4d1f-81c6-a2e7b96b7e6e",
   "metadata": {},
   "outputs": [
    {
     "data": {
      "text/plain": [
       "['age', 'college', 'location']"
      ]
     },
     "execution_count": 57,
     "metadata": {},
     "output_type": "execute_result"
    }
   ],
   "source": [
    "dict1={'age':20,'location':'mumbai','college':'Deogiri'}\n",
    "sorted(dict1)"
   ]
  },
  {
   "cell_type": "code",
   "execution_count": 58,
   "id": "863311e4-4d27-4f3f-a961-3a07239bb6ad",
   "metadata": {},
   "outputs": [
    {
     "data": {
      "text/plain": [
       "[1, 2, 3]"
      ]
     },
     "execution_count": 58,
     "metadata": {},
     "output_type": "execute_result"
    }
   ],
   "source": [
    "dict2={1:'age',2:'name',3:'location'}\n",
    "sorted(dict2)"
   ]
  },
  {
   "cell_type": "code",
   "execution_count": 59,
   "id": "b5721d0c-cc9a-403e-a5ed-f80c6451149e",
   "metadata": {},
   "outputs": [
    {
     "data": {
      "text/plain": [
       "['marks', 'percentage']"
      ]
     },
     "execution_count": 59,
     "metadata": {},
     "output_type": "execute_result"
    }
   ],
   "source": [
    "dict3={'marks':200,'percentage':99.6}\n",
    "sorted(dict3)"
   ]
  },
  {
   "cell_type": "code",
   "execution_count": 60,
   "id": "e259c7af-90c3-436c-a087-77819b8eabec",
   "metadata": {},
   "outputs": [
    {
     "data": {
      "text/plain": [
       "[1]"
      ]
     },
     "execution_count": 60,
     "metadata": {},
     "output_type": "execute_result"
    }
   ],
   "source": [
    "dict4={1:100}\n",
    "sorted(dict4)"
   ]
  },
  {
   "cell_type": "code",
   "execution_count": 61,
   "id": "9db0bd0c-6d29-487e-beb7-0ce7f9a2123b",
   "metadata": {},
   "outputs": [
    {
     "data": {
      "text/plain": [
       "['Fruits']"
      ]
     },
     "execution_count": 61,
     "metadata": {},
     "output_type": "execute_result"
    }
   ],
   "source": [
    "d5={'Fruits':['Apple','Cherry']}\n",
    "sorted(d5)"
   ]
  },
  {
   "cell_type": "code",
   "execution_count": 62,
   "id": "fee4268f-1109-4c6d-b0a9-825d89452ca5",
   "metadata": {},
   "outputs": [
    {
     "ename": "TypeError",
     "evalue": "unhashable type: 'list'",
     "output_type": "error",
     "traceback": [
      "\u001b[1;31m---------------------------------------------------------------------------\u001b[0m",
      "\u001b[1;31mTypeError\u001b[0m                                 Traceback (most recent call last)",
      "Cell \u001b[1;32mIn[62], line 1\u001b[0m\n\u001b[1;32m----> 1\u001b[0m d6\u001b[38;5;241m=\u001b[39m{[\u001b[38;5;124m'\u001b[39m\u001b[38;5;124mApple\u001b[39m\u001b[38;5;124m'\u001b[39m,\u001b[38;5;124m'\u001b[39m\u001b[38;5;124mCherry\u001b[39m\u001b[38;5;124m'\u001b[39m]:\u001b[38;5;124m'\u001b[39m\u001b[38;5;124mFruites\u001b[39m\u001b[38;5;124m'\u001b[39m}\n\u001b[0;32m      2\u001b[0m \u001b[38;5;28msorted\u001b[39m(d6)\n",
      "\u001b[1;31mTypeError\u001b[0m: unhashable type: 'list'"
     ]
    }
   ],
   "source": [
    "d6={['Apple','Cherry']:'Fruites'}\n",
    "sorted(d6)"
   ]
  },
  {
   "cell_type": "code",
   "execution_count": 63,
   "id": "76746808-deb5-4ce6-bf21-af3ff9b1a6df",
   "metadata": {},
   "outputs": [
    {
     "data": {
      "text/plain": [
       "[('Apple', 'Cherry')]"
      ]
     },
     "execution_count": 63,
     "metadata": {},
     "output_type": "execute_result"
    }
   ],
   "source": [
    "d7={('Apple','Cherry'):'Fruits'}\n",
    "sorted(d7)"
   ]
  },
  {
   "cell_type": "markdown",
   "id": "c5d206c0-dcc7-478d-9e3a-bab7c1d83194",
   "metadata": {},
   "source": [
    "**Reversed**\n",
    "\n",
    "- you might have dictionary will reverse\n",
    "\n",
    "- when you apply the reversed then you get to know\n",
    "\n",
    "- only key will come in reverse"
   ]
  },
  {
   "cell_type": "code",
   "execution_count": 8,
   "id": "3bc32db3-1dc3-4b4c-ab99-8fc274dfc7c1",
   "metadata": {
    "scrolled": true
   },
   "outputs": [
    {
     "data": {
      "text/plain": [
       "<dict_reversekeyiterator at 0x1fb564ff3d0>"
      ]
     },
     "execution_count": 8,
     "metadata": {},
     "output_type": "execute_result"
    }
   ],
   "source": [
    "d1={'manish':'25','shubham':'20','govind':15}\n",
    "reversed(d1)"
   ]
  },
  {
   "cell_type": "code",
   "execution_count": null,
   "id": "1152a71c-fab2-4cd3-9ebf-357716e9ed3a",
   "metadata": {},
   "outputs": [],
   "source": [
    "d1={'manish':'25','shubham':'20',' govind':15}\n",
    "# Dictionory is a key\n",
    "# we can not use index directly\n",
    "# whenever you want to call value,we will use key\n",
    "d1['manish'\n",
    "d1['shubham']"
   ]
  },
  {
   "cell_type": "code",
   "execution_count": 3,
   "id": "8e74ab4d-3613-40f3-b507-2568d09f06b0",
   "metadata": {},
   "outputs": [
    {
     "name": "stdout",
     "output_type": "stream",
     "text": [
      "manish has age 25\n",
      "shubham has age 20\n",
      " govind has age 15\n"
     ]
    }
   ],
   "source": [
    "for i in d1:\n",
    "    print(f'{i} has age {d1[i]}')"
   ]
  },
  {
   "cell_type": "code",
   "execution_count": 4,
   "id": "7c60c1c0-9dd7-4a85-8a27-51fb3e159337",
   "metadata": {},
   "outputs": [
    {
     "name": "stdout",
     "output_type": "stream",
     "text": [
      "Vignesh has age 20\n",
      "Mohit has age 25\n",
      "Nagesh has age 30\n"
     ]
    }
   ],
   "source": [
    "names=['Vignesh','Mohit','Nagesh']\n",
    "age=[20,25,30]\n",
    "for i,j in zip(names,age):\n",
    "     print(f'{i} has age {j}')\n",
    "    "
   ]
  },
  {
   "cell_type": "code",
   "execution_count": 14,
   "id": "9b4e6625-06e7-4c6b-84ed-67c3a3b5461b",
   "metadata": {},
   "outputs": [
    {
     "data": {
      "text/plain": [
       "['manish', 'shubham', 'govind']"
      ]
     },
     "execution_count": 14,
     "metadata": {},
     "output_type": "execute_result"
    }
   ],
   "source": [
    "d1={'manish':25,'shubham':20,'govind':15}\n",
    "key,values=[],[]\n",
    "for i in d1:\n",
    "    key.append(i)\n",
    "    values.append(i)\n",
    "values"
   ]
  },
  {
   "cell_type": "markdown",
   "id": "6610c244-019f-4d9f-b1d1-b54a3d85bf11",
   "metadata": {},
   "source": [
    "**How to create empty list**"
   ]
  },
  {
   "cell_type": "code",
   "execution_count": 15,
   "id": "2c616c41-3612-4e55-a585-695efc66d860",
   "metadata": {},
   "outputs": [
    {
     "data": {
      "text/plain": [
       "[20]"
      ]
     },
     "execution_count": 15,
     "metadata": {},
     "output_type": "execute_result"
    }
   ],
   "source": [
    "l=[]\n",
    "l.append(20)\n",
    "l"
   ]
  },
  {
   "cell_type": "markdown",
   "id": "74479881-520b-4db4-a2f6-680fc3fa7d65",
   "metadata": {},
   "source": [
    "**Empty string**"
   ]
  },
  {
   "cell_type": "code",
   "execution_count": 1,
   "id": "f27c804f-ee66-438b-b053-b4c5035fe4a9",
   "metadata": {},
   "outputs": [
    {
     "data": {
      "text/plain": [
       "' a'"
      ]
     },
     "execution_count": 1,
     "metadata": {},
     "output_type": "execute_result"
    }
   ],
   "source": [
    "s=' '\n",
    "s=s+'a'\n",
    "s"
   ]
  },
  {
   "cell_type": "markdown",
   "id": "568d018c-0385-4834-a598-73ce96624029",
   "metadata": {},
   "source": [
    "**Empty Dictionary**"
   ]
  },
  {
   "cell_type": "code",
   "execution_count": 23,
   "id": "8a8a1000-321b-47ac-a853-71ce131d62d2",
   "metadata": {},
   "outputs": [
    {
     "data": {
      "text/plain": [
       "{'vignesh': 20, 'mohit': 25, 'nagesh': 30}"
      ]
     },
     "execution_count": 23,
     "metadata": {},
     "output_type": "execute_result"
    }
   ],
   "source": [
    "d={}\n",
    "#d[<key>]=<value>\n",
    "d['vignesh']=20\n",
    "d['mohit']=25\n",
    "d['nagesh']=30\n",
    "d"
   ]
  },
  {
   "cell_type": "code",
   "execution_count": 26,
   "id": "73798465-9ca7-4e61-bdc4-8246114208e2",
   "metadata": {},
   "outputs": [
    {
     "data": {
      "text/plain": [
       "{'vignesh': 20, 'mohit': 25, 'nagesh': 30}"
      ]
     },
     "execution_count": 26,
     "metadata": {},
     "output_type": "execute_result"
    }
   ],
   "source": [
    "names=['vignesh','mohit','nagesh']\n",
    "age=[20,25,30]\n",
    "NAMES={}\n",
    "for i,j in zip(names,age):\n",
    "    NAMES[i]=j\n",
    "NAMES\n",
    "    "
   ]
  },
  {
   "cell_type": "markdown",
   "id": "c688d64a-f49a-496f-ac2e-cbf96080289e",
   "metadata": {},
   "source": [
    "**string to list**"
   ]
  },
  {
   "cell_type": "code",
   "execution_count": 27,
   "id": "9bfc2a93-c213-4f9d-b5ed-1cb914a1583c",
   "metadata": {},
   "outputs": [
    {
     "data": {
      "text/plain": [
       "['hello', 'how', 'are', 'you']"
      ]
     },
     "execution_count": 27,
     "metadata": {},
     "output_type": "execute_result"
    }
   ],
   "source": [
    "s='hello hai hai how how are you'\n",
    "s.split()"
   ]
  },
  {
   "cell_type": "code",
   "execution_count": 28,
   "id": "2dc0159f-0afb-44ea-885e-54edef996094",
   "metadata": {},
   "outputs": [],
   "source": [
    "#i/p: s='hello hai hai how how are you'\n",
    "#o/p: {'hello':1,'hai':2,'how':2,'are':1,'you':}"
   ]
  },
  {
   "cell_type": "code",
   "execution_count": 32,
   "id": "43f39414-bddc-4189-8455-3857990d8347",
   "metadata": {},
   "outputs": [
    {
     "data": {
      "text/plain": [
       "{'hello': 1, 'hai': 2, 'how': 2, 'are': 1, 'you': 1}"
      ]
     },
     "execution_count": 32,
     "metadata": {},
     "output_type": "execute_result"
    }
   ],
   "source": [
    "s='hello hai hai how how are you'\n",
    "words_list=s.split()\n",
    "words_list\n",
    "dict1={}\n",
    "for word in words_list:\n",
    "    dict1[word]=s.count(word)\n",
    "dict1"
   ]
  },
  {
   "cell_type": "markdown",
   "id": "31b13cb5-9b06-4bdb-a902-5453484f3328",
   "metadata": {},
   "source": [
    "**Mutable-immutable**\n",
    "\n",
    "- Change the elements using index\n",
    "\n",
    "- But in dictionary there is no index\n",
    "\n",
    "- In dictionary we will change the value based on key only\n",
    "\n",
    "- instead of using the index,change the values using key\n",
    "\n",
    "- if it change it is mutable\n",
    "\n",
    "- if it is not change it is immutable"
   ]
  },
  {
   "cell_type": "code",
   "execution_count": 35,
   "id": "aa6d1cc2-4a39-4af1-afd5-5a65d024f70b",
   "metadata": {},
   "outputs": [
    {
     "data": {
      "text/plain": [
       "{'vignesh': 20, 'mohit': 25, 'nagesh': 22}"
      ]
     },
     "execution_count": 35,
     "metadata": {},
     "output_type": "execute_result"
    }
   ],
   "source": [
    "{'vignesh': 20, 'mohit': 25, 'nagesh': 30}\n",
    "d['nagesh']=22\n",
    "d"
   ]
  },
  {
   "cell_type": "markdown",
   "id": "12d5e586-cf36-4a11-a15e-08027ec562b2",
   "metadata": {},
   "source": [
    "- lists and dictionary are mutable\n",
    "\n",
    "- tuple and strings are immutable\n",
    "\n",
    "- Difference between list and tuple"
   ]
  },
  {
   "cell_type": "code",
   "execution_count": 41,
   "id": "24eff6fe-e5bd-4ab0-a0d0-59f53f4a6b1e",
   "metadata": {},
   "outputs": [
    {
     "data": {
      "text/plain": [
       "'Mango'"
      ]
     },
     "execution_count": 41,
     "metadata": {},
     "output_type": "execute_result"
    }
   ],
   "source": [
    "d={'Fruits':['Mango']}\n",
    "d['Fruits'][0]"
   ]
  },
  {
   "cell_type": "code",
   "execution_count": 42,
   "id": "f0450e4a-c24f-451d-a9ac-0f9a2dd7b383",
   "metadata": {},
   "outputs": [
    {
     "data": {
      "text/plain": [
       "{'Fruites': [{'Apple': ['kashmir']}]}"
      ]
     },
     "execution_count": 42,
     "metadata": {},
     "output_type": "execute_result"
    }
   ],
   "source": [
    "d={'Fruites':[{'Apple':['kashmir']}]}\n",
    "d"
   ]
  },
  {
   "cell_type": "code",
   "execution_count": 47,
   "id": "0d9a239c-fc41-4e2f-a53c-48b0100d5099",
   "metadata": {},
   "outputs": [
    {
     "data": {
      "text/plain": [
       "'kashmir'"
      ]
     },
     "execution_count": 47,
     "metadata": {},
     "output_type": "execute_result"
    }
   ],
   "source": [
    "d['Fruites'][0]['Apple'][0]"
   ]
  },
  {
   "cell_type": "code",
   "execution_count": 50,
   "id": "17c8d99b-b3f2-472d-a1ce-3a5fc1be33fb",
   "metadata": {},
   "outputs": [
    {
     "data": {
      "text/plain": [
       "{'Fruites': [{'Apple': {'Kashmir': ['India']}}]}"
      ]
     },
     "execution_count": 50,
     "metadata": {},
     "output_type": "execute_result"
    }
   ],
   "source": [
    "d={'Fruites':[\n",
    "   {'Apple':\n",
    "    {'Kashmir':\n",
    "     ['India']\n",
    "    }\n",
    "   }\n",
    "   ]\n",
    "  }\n",
    "d"
   ]
  },
  {
   "cell_type": "code",
   "execution_count": 55,
   "id": "25446887-90a5-4600-af08-d0c8f49cfb25",
   "metadata": {},
   "outputs": [
    {
     "data": {
      "text/plain": [
       "'India'"
      ]
     },
     "execution_count": 55,
     "metadata": {},
     "output_type": "execute_result"
    }
   ],
   "source": [
    "d['Fruites'][0]['Apple']['Kashmir'][0]"
   ]
  },
  {
   "cell_type": "code",
   "execution_count": 56,
   "id": "30cd2cba-2d2f-491d-963d-1a3d5a0bbc28",
   "metadata": {},
   "outputs": [
    {
     "data": {
      "text/plain": [
       "{'Bengampalli': {'Mango': {'Nagpur': {'MH': {'Shivaji': {'Shambhaji'}}}}}}"
      ]
     },
     "execution_count": 56,
     "metadata": {},
     "output_type": "execute_result"
    }
   ],
   "source": [
    "d={'Bengampalli':{'Mango':{'Nagpur':{'MH':{'Shivaji':{'Shambhaji'}}}}}}\n",
    "d"
   ]
  },
  {
   "cell_type": "code",
   "execution_count": 63,
   "id": "ed86d957-41a9-4f6a-b535-d5f192e66fbb",
   "metadata": {},
   "outputs": [
    {
     "data": {
      "text/plain": [
       "{'Shambhaji'}"
      ]
     },
     "execution_count": 63,
     "metadata": {},
     "output_type": "execute_result"
    }
   ],
   "source": [
    "d['Bengampalli']['Mango']['Nagpur']['MH']['Shivaji']"
   ]
  },
  {
   "cell_type": "code",
   "execution_count": 15,
   "id": "81bb0258-6142-4c62-9ba4-06266b11c9c8",
   "metadata": {},
   "outputs": [
    {
     "data": {
      "text/plain": [
       "{'Data': 68,\n",
       " 'science': 115,\n",
       " 'interdisciplinary': 105,\n",
       " 'academic': 97,\n",
       " 'field': 102,\n",
       " 'that': 116,\n",
       " 'uses': 117,\n",
       " 'statistics,': 115,\n",
       " 'scientific': 115,\n",
       " 'computing,': 99,\n",
       " 'methods,': 109,\n",
       " 'processes,': 112,\n",
       " 'visualization,': 118,\n",
       " 'algorithms': 97,\n",
       " 'and': 97,\n",
       " 'systems': 115,\n",
       " 'to': 116,\n",
       " 'extract': 101,\n",
       " 'or': 111,\n",
       " 'extrapolate': 101,\n",
       " 'knowledge': 107,\n",
       " 'insights': 105,\n",
       " 'from': 102,\n",
       " 'potentially': 112,\n",
       " 'noisy,': 110,\n",
       " 'structured,': 115,\n",
       " 'unstructured': 117,\n",
       " 'data.': 100,\n",
       " 'also': 97,\n",
       " 'integrates': 105,\n",
       " 'domain': 100,\n",
       " 'underlying': 117,\n",
       " 'applicatin.Data': 97,\n",
       " 'multifaceted': 109,\n",
       " 'can': 99,\n",
       " 'be': 98,\n",
       " 'described': 100,\n",
       " 'as': 97,\n",
       " 'science,': 115,\n",
       " 'research': 114,\n",
       " 'paradigm,': 112,\n",
       " 'method,': 109,\n",
       " 'discipline,': 100,\n",
       " 'workflow,': 119,\n",
       " 'profession.': 112}"
      ]
     },
     "execution_count": 15,
     "metadata": {},
     "output_type": "execute_result"
    }
   ],
   "source": [
    "d=\"\"\"Data science is an interdisciplinary academic field that uses statistics,\n",
    "          scientific computing, scientific methods, processes, scientific visualization,\n",
    "          algorithms and systems to extract or extrapolate knowledge and insights from potentially noisy, structured, or unstructured data.\n",
    "         Data science also integrates domain knowledge from the underlying applicatin.Data science is multifaceted and can be described as a science,\n",
    "         a research paradigm, a research method, a discipline, a workflow, and a profession.\"\"\".split()\n",
    "\n",
    "b=[i   for i in d   if i not in 'a an is the']\n",
    "e={}\n",
    "for i in b:\n",
    "    e[i]=ord(i[0])\n",
    "e"
   ]
  },
  {
   "cell_type": "markdown",
   "id": "9345c3e6-4860-4398-950c-d8d6971f3b7b",
   "metadata": {},
   "source": [
    "**Dictionary Methods**"
   ]
  },
  {
   "cell_type": "code",
   "execution_count": null,
   "id": "332f3583-57d4-495d-8ad5-1dc2327a9fc0",
   "metadata": {},
   "outputs": [],
   "source": [
    "dir('') # string method\n",
    "dir([]) # List methods\n",
    "dir(()) # Tuple method\n",
    "dir({}) # Dictionary methods"
   ]
  },
  {
   "cell_type": "code",
   "execution_count": null,
   "id": "87e4143e-ec06-4cc4-a91d-b307301fef01",
   "metadata": {},
   "outputs": [],
   "source": [
    "string\n",
    "list\n",
    "tuple \n",
    "Dictionary all are class objects"
   ]
  },
  {
   "cell_type": "code",
   "execution_count": 3,
   "id": "c9913731-383a-4d88-a7f9-5b2daeff55cb",
   "metadata": {},
   "outputs": [
    {
     "name": "stdout",
     "output_type": "stream",
     "text": [
      "<class 'list'>\n"
     ]
    }
   ],
   "source": [
    "print(type([]))"
   ]
  },
  {
   "cell_type": "code",
   "execution_count": 4,
   "id": "213ceef4-2bb7-4b83-a790-71234bc8f8dd",
   "metadata": {},
   "outputs": [
    {
     "data": {
      "text/plain": [
       "['__class__',\n",
       " '__class_getitem__',\n",
       " '__contains__',\n",
       " '__delattr__',\n",
       " '__delitem__',\n",
       " '__dir__',\n",
       " '__doc__',\n",
       " '__eq__',\n",
       " '__format__',\n",
       " '__ge__',\n",
       " '__getattribute__',\n",
       " '__getitem__',\n",
       " '__getstate__',\n",
       " '__gt__',\n",
       " '__hash__',\n",
       " '__init__',\n",
       " '__init_subclass__',\n",
       " '__ior__',\n",
       " '__iter__',\n",
       " '__le__',\n",
       " '__len__',\n",
       " '__lt__',\n",
       " '__ne__',\n",
       " '__new__',\n",
       " '__or__',\n",
       " '__reduce__',\n",
       " '__reduce_ex__',\n",
       " '__repr__',\n",
       " '__reversed__',\n",
       " '__ror__',\n",
       " '__setattr__',\n",
       " '__setitem__',\n",
       " '__sizeof__',\n",
       " '__str__',\n",
       " '__subclasshook__',\n",
       " 'clear',\n",
       " 'copy',\n",
       " 'fromkeys',\n",
       " 'get',\n",
       " 'items',\n",
       " 'keys',\n",
       " 'pop',\n",
       " 'popitem',\n",
       " 'setdefault',\n",
       " 'update',\n",
       " 'values']"
      ]
     },
     "execution_count": 4,
     "metadata": {},
     "output_type": "execute_result"
    }
   ],
   "source": [
    "dir({})"
   ]
  },
  {
   "cell_type": "markdown",
   "id": "b17d3526-90e5-4d12-b792-606093f9938a",
   "metadata": {},
   "source": [
    "**items-keys-values**"
   ]
  },
  {
   "cell_type": "code",
   "execution_count": 5,
   "id": "04466f9a-9ce8-4094-affd-86e0d0e0805a",
   "metadata": {},
   "outputs": [
    {
     "data": {
      "text/plain": [
       "{'vignesh': 20, 'mohit': 25, 'nagesh': 30}"
      ]
     },
     "execution_count": 5,
     "metadata": {},
     "output_type": "execute_result"
    }
   ],
   "source": [
    "d={'vignesh': 20, 'mohit': 25, 'nagesh': 30}\n",
    "d"
   ]
  },
  {
   "cell_type": "code",
   "execution_count": 6,
   "id": "5b904d29-515d-4583-bee5-7c15f79705e2",
   "metadata": {},
   "outputs": [
    {
     "data": {
      "text/plain": [
       "dict_items([('vignesh', 20), ('mohit', 25), ('nagesh', 30)])"
      ]
     },
     "execution_count": 6,
     "metadata": {},
     "output_type": "execute_result"
    }
   ],
   "source": [
    "d.items()"
   ]
  },
  {
   "cell_type": "code",
   "execution_count": 7,
   "id": "37559150-fdc5-492b-93cf-982e1eb2d8eb",
   "metadata": {},
   "outputs": [
    {
     "data": {
      "text/plain": [
       "dict_keys(['vignesh', 'mohit', 'nagesh'])"
      ]
     },
     "execution_count": 7,
     "metadata": {},
     "output_type": "execute_result"
    }
   ],
   "source": [
    "d.keys()"
   ]
  },
  {
   "cell_type": "code",
   "execution_count": 9,
   "id": "7f24c32d-6627-4495-8a28-63d65c546043",
   "metadata": {},
   "outputs": [
    {
     "data": {
      "text/plain": [
       "dict_values([20, 25, 30])"
      ]
     },
     "execution_count": 9,
     "metadata": {},
     "output_type": "execute_result"
    }
   ],
   "source": [
    "d.values()"
   ]
  },
  {
   "cell_type": "code",
   "execution_count": 11,
   "id": "9769f3c9-9cbf-4751-89c2-2560e296b318",
   "metadata": {},
   "outputs": [
    {
     "name": "stdout",
     "output_type": "stream",
     "text": [
      "vignesh 20\n",
      "mohit 25\n",
      "nagesh 30\n"
     ]
    },
    {
     "data": {
      "text/plain": [
       "(['vignesh', 'mohit', 'nagesh'], [20, 25, 30])"
      ]
     },
     "execution_count": 11,
     "metadata": {},
     "output_type": "execute_result"
    }
   ],
   "source": [
    "#we already learn how to make list from dictionary\n",
    "d={'vignesh': 20, 'mohit': 25, 'nagesh': 30}\n",
    "keys,values=[],[]\n",
    "for i in d:\n",
    "    print(i,d[i])\n",
    "    keys.append(i)\n",
    "    values.append(d[i])\n",
    "keys,values"
   ]
  },
  {
   "cell_type": "code",
   "execution_count": 12,
   "id": "7c16010b-7d00-45b7-bb77-4c229c14650d",
   "metadata": {},
   "outputs": [
    {
     "data": {
      "text/plain": [
       "dict_keys(['vignesh', 'mohit', 'nagesh'])"
      ]
     },
     "execution_count": 12,
     "metadata": {},
     "output_type": "execute_result"
    }
   ],
   "source": [
    "d.keys()"
   ]
  },
  {
   "cell_type": "code",
   "execution_count": 15,
   "id": "8f82fadd-5f91-4ff7-9a6e-82a04d981c8b",
   "metadata": {},
   "outputs": [
    {
     "data": {
      "text/plain": [
       "dict_keys"
      ]
     },
     "execution_count": 15,
     "metadata": {},
     "output_type": "execute_result"
    }
   ],
   "source": [
    "type(d.keys())"
   ]
  },
  {
   "cell_type": "code",
   "execution_count": 17,
   "id": "cc2e479b-beb0-4426-98ff-8a2acce8fa95",
   "metadata": {},
   "outputs": [
    {
     "data": {
      "text/plain": [
       "(['vignesh', 'mohit', 'nagesh'], [20, 25, 30])"
      ]
     },
     "execution_count": 17,
     "metadata": {},
     "output_type": "execute_result"
    }
   ],
   "source": [
    "list(d.keys()),list(d.values())"
   ]
  },
  {
   "cell_type": "markdown",
   "id": "76e42100-f454-4025-9cd0-84ce8f6a67a7",
   "metadata": {},
   "source": [
    "- Dictionary keys will give dictionary keys item in a list\n",
    "\n",
    "- It looks like a list, but it is not a list\n",
    "\n",
    "- Which means we can not apply list methods\n",
    "\n",
    "- so we need to convert into list type,by using list type casting"
   ]
  },
  {
   "cell_type": "code",
   "execution_count": 24,
   "id": "2665a66e-5d92-44a8-96f8-a0a994bbc300",
   "metadata": {},
   "outputs": [
    {
     "name": "stdout",
     "output_type": "stream",
     "text": [
      "list[dict_keys(['vignesh', 'mohit', 'nagesh'])]\n",
      "list[dict_values([20, 25, 30])]\n"
     ]
    }
   ],
   "source": [
    "d={'vignesh': 20, 'mohit': 25, 'nagesh': 30}\n",
    "print(list[d.keys()])\n",
    "print(list[d.values()])"
   ]
  },
  {
   "cell_type": "code",
   "execution_count": 6,
   "id": "1a0691b5-a46a-4390-a8bb-fa17d6a6c58a",
   "metadata": {},
   "outputs": [
    {
     "data": {
      "text/plain": [
       "['vignesh', 'mohit', 'nagesh']"
      ]
     },
     "execution_count": 6,
     "metadata": {},
     "output_type": "execute_result"
    }
   ],
   "source": [
    "d={'vignesh': 20, 'mohit': 25, 'nagesh': 30}\n",
    "list(d.keys())"
   ]
  },
  {
   "cell_type": "code",
   "execution_count": 9,
   "id": "aec3bdfe-ff72-4eb8-bd69-b050a675c75f",
   "metadata": {},
   "outputs": [
    {
     "data": {
      "text/plain": [
       "types.GenericAlias"
      ]
     },
     "execution_count": 9,
     "metadata": {},
     "output_type": "execute_result"
    }
   ],
   "source": [
    "type(list[d.keys()])"
   ]
  },
  {
   "cell_type": "markdown",
   "id": "3a57a1f2-fb02-4066-b369-b6a943cadf5a",
   "metadata": {},
   "source": [
    "**Method-1**"
   ]
  },
  {
   "cell_type": "code",
   "execution_count": 10,
   "id": "6475e4ed-842b-473e-9d1c-72f8cf022555",
   "metadata": {},
   "outputs": [
    {
     "name": "stdout",
     "output_type": "stream",
     "text": [
      "vignesh 20\n",
      "mohit 25\n",
      "nagesh 30\n"
     ]
    },
    {
     "data": {
      "text/plain": [
       "(['vignesh', 'mohit', 'nagesh'], [20, 25, 30])"
      ]
     },
     "execution_count": 10,
     "metadata": {},
     "output_type": "execute_result"
    }
   ],
   "source": [
    "d={'vignesh': 20, 'mohit': 25, 'nagesh': 30}\n",
    "keys,values=[],[]\n",
    "for i in d:\n",
    "    print(i,d[i])\n",
    "    keys.append(i)\n",
    "    values.append(d[i])\n",
    "keys,values"
   ]
  },
  {
   "cell_type": "markdown",
   "id": "638a59f8-57fc-4387-8829-5d162e0976e8",
   "metadata": {},
   "source": [
    "**Method-2**"
   ]
  },
  {
   "cell_type": "code",
   "execution_count": 11,
   "id": "8cb133b8-f91d-4c18-beab-fc5c891c83af",
   "metadata": {},
   "outputs": [
    {
     "data": {
      "text/plain": [
       "[20, 25, 30]"
      ]
     },
     "execution_count": 11,
     "metadata": {},
     "output_type": "execute_result"
    }
   ],
   "source": [
    "d={'vignesh': 20, 'mohit': 25, 'nagesh': 30}\n",
    "list(d.keys())\n",
    "list(d.values())"
   ]
  },
  {
   "cell_type": "code",
   "execution_count": 12,
   "id": "3f6e9b40-bade-438c-a35e-866bffa9da83",
   "metadata": {},
   "outputs": [
    {
     "data": {
      "text/plain": [
       "dict_items([('vignesh', 20), ('mohit', 25), ('nagesh', 30)])"
      ]
     },
     "execution_count": 12,
     "metadata": {},
     "output_type": "execute_result"
    }
   ],
   "source": [
    "d.items()"
   ]
  },
  {
   "cell_type": "code",
   "execution_count": 13,
   "id": "623b885c-837b-4214-af6f-1f7b496c04fa",
   "metadata": {},
   "outputs": [
    {
     "name": "stdout",
     "output_type": "stream",
     "text": [
      "('vignesh', 20)\n",
      "('mohit', 25)\n",
      "('nagesh', 30)\n"
     ]
    }
   ],
   "source": [
    "for i  in d.items():\n",
    "    print(i)"
   ]
  },
  {
   "cell_type": "markdown",
   "id": "60a9ea25-efa8-4c89-bce0-09165cc0d6ce",
   "metadata": {},
   "source": [
    "**Method-3**"
   ]
  },
  {
   "cell_type": "code",
   "execution_count": 1,
   "id": "9fb6f4aa-5535-4fdc-8047-379eed382ecb",
   "metadata": {},
   "outputs": [
    {
     "name": "stdout",
     "output_type": "stream",
     "text": [
      "vignesh 20\n",
      "mohit 25\n",
      "nagesh 30\n"
     ]
    },
    {
     "data": {
      "text/plain": [
       "(['vignesh', 'mohit', 'nagesh'], [20, 25, 30])"
      ]
     },
     "execution_count": 1,
     "metadata": {},
     "output_type": "execute_result"
    }
   ],
   "source": [
    "d={'vignesh': 20, 'mohit': 25, 'nagesh': 30}\n",
    "list(d.keys())\n",
    "keys,values=[],[]\n",
    "for i,j in d.items():\n",
    "    keys.append(i)\n",
    "    values.append(j)\n",
    "keys,values"
   ]
  },
  {
   "cell_type": "markdown",
   "id": "b2a69b32-0589-497b-bffc-2c071c3f915d",
   "metadata": {},
   "source": [
    "**clear**"
   ]
  },
  {
   "cell_type": "code",
   "execution_count": 11,
   "id": "0d37b9c4-dfbd-432b-b4d5-25343f8ffa42",
   "metadata": {},
   "outputs": [
    {
     "data": {
      "text/plain": [
       "['__class__',\n",
       " '__class_getitem__',\n",
       " '__contains__',\n",
       " '__delattr__',\n",
       " '__delitem__',\n",
       " '__dir__',\n",
       " '__doc__',\n",
       " '__eq__',\n",
       " '__format__',\n",
       " '__ge__',\n",
       " '__getattribute__',\n",
       " '__getitem__',\n",
       " '__getstate__',\n",
       " '__gt__',\n",
       " '__hash__',\n",
       " '__init__',\n",
       " '__init_subclass__',\n",
       " '__ior__',\n",
       " '__iter__',\n",
       " '__le__',\n",
       " '__len__',\n",
       " '__lt__',\n",
       " '__ne__',\n",
       " '__new__',\n",
       " '__or__',\n",
       " '__reduce__',\n",
       " '__reduce_ex__',\n",
       " '__repr__',\n",
       " '__reversed__',\n",
       " '__ror__',\n",
       " '__setattr__',\n",
       " '__setitem__',\n",
       " '__sizeof__',\n",
       " '__str__',\n",
       " '__subclasshook__',\n",
       " 'clear',\n",
       " 'copy',\n",
       " 'fromkeys',\n",
       " 'get',\n",
       " 'items',\n",
       " 'keys',\n",
       " 'pop',\n",
       " 'popitem',\n",
       " 'setdefault',\n",
       " 'update',\n",
       " 'values']"
      ]
     },
     "execution_count": 11,
     "metadata": {},
     "output_type": "execute_result"
    }
   ],
   "source": [
    "dir({})"
   ]
  },
  {
   "cell_type": "code",
   "execution_count": 10,
   "id": "a53f355f-3f20-482e-b3f0-abc035e8d673",
   "metadata": {},
   "outputs": [
    {
     "data": {
      "text/plain": [
       "{}"
      ]
     },
     "execution_count": 10,
     "metadata": {},
     "output_type": "execute_result"
    }
   ],
   "source": [
    "d={'vignesh': 20, 'mohit': 25, 'nagesh': 30}\n",
    "d.clear()\n",
    "d"
   ]
  },
  {
   "cell_type": "markdown",
   "id": "70d0c0c1-891c-44ab-a0b1-40e9218231e6",
   "metadata": {},
   "source": [
    "**copy**"
   ]
  },
  {
   "cell_type": "code",
   "execution_count": 13,
   "id": "13a4b27c-b35f-4606-98a7-e5a92d3de795",
   "metadata": {},
   "outputs": [
    {
     "data": {
      "text/plain": [
       "{'vignesh': 20, 'mohit': 25, 'nagesh': 30}"
      ]
     },
     "execution_count": 13,
     "metadata": {},
     "output_type": "execute_result"
    }
   ],
   "source": [
    "d={'vignesh': 20, 'mohit': 25, 'nagesh': 30}\n",
    "e={}\n",
    "e=d.copy()\n",
    "e"
   ]
  },
  {
   "cell_type": "code",
   "execution_count": null,
   "id": "b30bb423-f7c4-45af-ae1e-67bd0dc1e29b",
   "metadata": {},
   "outputs": [],
   "source": []
  },
  {
   "cell_type": "code",
   "execution_count": null,
   "id": "8aca92ed-768d-466b-baa3-2238f7fcf926",
   "metadata": {},
   "outputs": [],
   "source": []
  }
 ],
 "metadata": {
  "kernelspec": {
   "display_name": "Python 3 (ipykernel)",
   "language": "python",
   "name": "python3"
  },
  "language_info": {
   "codemirror_mode": {
    "name": "ipython",
    "version": 3
   },
   "file_extension": ".py",
   "mimetype": "text/x-python",
   "name": "python",
   "nbconvert_exporter": "python",
   "pygments_lexer": "ipython3",
   "version": "3.11.7"
  }
 },
 "nbformat": 4,
 "nbformat_minor": 5
}
