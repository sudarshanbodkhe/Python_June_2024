{
 "cells": [
  {
   "cell_type": "code",
   "execution_count": 24,
   "id": "ed1e3e00-38ff-4e30-a553-7d35483b77ef",
   "metadata": {},
   "outputs": [
    {
     "data": {
      "text/plain": [
       "30"
      ]
     },
     "execution_count": 24,
     "metadata": {},
     "output_type": "execute_result"
    }
   ],
   "source": [
    "a=10\n",
    "b=20\n",
    "c=a+b\n",
    "c"
   ]
  },
  {
   "cell_type": "code",
   "execution_count": 2,
   "id": "801f6dbc-197e-4a12-92b0-8cc19bb2d24f",
   "metadata": {},
   "outputs": [
    {
     "data": {
      "text/plain": [
       "300"
      ]
     },
     "execution_count": 2,
     "metadata": {},
     "output_type": "execute_result"
    }
   ],
   "source": [
    "a=100\n",
    "b=200\n",
    "c=a+b\n",
    "c"
   ]
  },
  {
   "cell_type": "code",
   "execution_count": 2,
   "id": "bcc6c755-7389-4c7c-8075-4b1c2572d641",
   "metadata": {},
   "outputs": [],
   "source": [
    "# Python "
   ]
  },
  {
   "cell_type": "markdown",
   "id": "bf510f39-c712-4e72-80a9-81c64f97c7c7",
   "metadata": {},
   "source": [
    "i am learning python today"
   ]
  },
  {
   "cell_type": "markdown",
   "id": "2ab0a020-cbf9-4178-9491-83685cc18d71",
   "metadata": {},
   "source": [
    "My name is sudarshan bodkhe.\n",
    "I want to become a software engineer in a future"
   ]
  },
  {
   "cell_type": "markdown",
   "id": "a62cfd3f-1ac2-4583-a03a-b1e5eda4b3ca",
   "metadata": {},
   "source": [
    "# Python"
   ]
  },
  {
   "cell_type": "markdown",
   "id": "5c1d546c-903d-40ae-8eaa-fa9a08c9b9bb",
   "metadata": {},
   "source": [
    "## Python"
   ]
  },
  {
   "cell_type": "markdown",
   "id": "5b8a8469-5413-4cee-8f23-ff5f40cc165f",
   "metadata": {},
   "source": [
    "- Today i learned how to open jupyter notebook\n",
    "\n",
    "- created a folder for python\n",
    "\n",
    "- from tomorrow onwords I will open all my python notebooks in this folder only\n",
    "\n",
    "- I understand about kernel\n",
    "\n",
    "- When kernel is busy i will not run any other code cell\n",
    "\n",
    "- Beacause python kernel will run step by step\n",
    "\n",
    "- i also learned how to run the the code cell using shift+enter\n",
    "\n"
   ]
  },
  {
   "cell_type": "code",
   "execution_count": 6,
   "id": "43312fd6-0ef8-4608-92e8-39c950cdaa05",
   "metadata": {},
   "outputs": [
    {
     "data": {
      "text/plain": [
       "200"
      ]
     },
     "execution_count": 6,
     "metadata": {},
     "output_type": "execute_result"
    }
   ],
   "source": [
    "a=10\n",
    "b=20\n",
    "c=a*b\n",
    "c\n"
   ]
  },
  {
   "cell_type": "code",
   "execution_count": 23,
   "id": "5404e679-c145-4d26-8ff9-1725a52ef702",
   "metadata": {},
   "outputs": [
    {
     "data": {
      "text/plain": [
       "400"
      ]
     },
     "execution_count": 23,
     "metadata": {},
     "output_type": "execute_result"
    }
   ],
   "source": [
    "a=20\n",
    "b=20\n",
    "multiply=a*b\n",
    "\n",
    "\n",
    "\n",
    "multiply\n"
   ]
  },
  {
   "cell_type": "markdown",
   "id": "6b651751-f8a0-4493-8502-b148fb36dca0",
   "metadata": {},
   "source": [
    "# Variable\n",
    "\n",
    "- Variable are used to store the values.\n",
    "\n",
    "- And the value can be change\n"
   ]
  },
  {
   "cell_type": "code",
   "execution_count": 1,
   "id": "b7c90e15-074c-43e6-a1c4-258844133f88",
   "metadata": {},
   "outputs": [
    {
     "data": {
      "text/plain": [
       "100"
      ]
     },
     "execution_count": 1,
     "metadata": {},
     "output_type": "execute_result"
    }
   ],
   "source": [
    "number=100  # value 100 stored in a variable name called 'number'\n",
    "number"
   ]
  },
  {
   "cell_type": "code",
   "execution_count": 5,
   "id": "7282c6cb-66c3-465c-b814-2da2f3d7e1c6",
   "metadata": {},
   "outputs": [
    {
     "data": {
      "text/plain": [
       "200"
      ]
     },
     "execution_count": 5,
     "metadata": {},
     "output_type": "execute_result"
    }
   ],
   "source": [
    "number=200  #value 200 stored in a variable name called 'number'\n",
    "number"
   ]
  },
  {
   "cell_type": "code",
   "execution_count": null,
   "id": "c4272932-a5f5-4a59-8409-25804307b0b1",
   "metadata": {},
   "outputs": [],
   "source": []
  },
  {
   "cell_type": "markdown",
   "id": "37f2ccf4-64be-4f71-bdb7-c59bb242602f",
   "metadata": {},
   "source": [
    "**NOTE**\n",
    "\n",
    "- Python is a step by step process\n",
    "\n",
    "- Python will take only last value as a output\n",
    "\n",
    "- In above code we are using same variable:number\n",
    "\n",
    "- But number values changes two times\n",
    "\n",
    "- First times 100\n",
    "\n",
    "- second time 200\n",
    "\n",
    "- Latest value 200\n",
    "\n",
    "\n",
    "\n",
    "\n"
   ]
  },
  {
   "cell_type": "code",
   "execution_count": 6,
   "id": "ce3e8a87-1877-4668-8b69-2d73b9851974",
   "metadata": {},
   "outputs": [
    {
     "data": {
      "text/plain": [
       "200"
      ]
     },
     "execution_count": 6,
     "metadata": {},
     "output_type": "execute_result"
    }
   ],
   "source": [
    "NUMBER=200\n",
    "NUMBER"
   ]
  },
  {
   "cell_type": "code",
   "execution_count": 7,
   "id": "19b5d1cf-63f3-411d-9883-571bb6d9a363",
   "metadata": {},
   "outputs": [
    {
     "data": {
      "text/plain": [
       "300"
      ]
     },
     "execution_count": 7,
     "metadata": {},
     "output_type": "execute_result"
    }
   ],
   "source": [
    "NUMber=300\n",
    "NUMber"
   ]
  },
  {
   "cell_type": "code",
   "execution_count": 8,
   "id": "5b0c30e9-0fa3-4b6d-aac7-21595c89fe63",
   "metadata": {},
   "outputs": [
    {
     "data": {
      "text/plain": [
       "400"
      ]
     },
     "execution_count": 8,
     "metadata": {},
     "output_type": "execute_result"
    }
   ],
   "source": [
    "number123=400\n",
    "number123"
   ]
  },
  {
   "cell_type": "code",
   "execution_count": 9,
   "id": "713ac557-aec0-4342-92e4-16a8f228fca2",
   "metadata": {},
   "outputs": [
    {
     "ename": "SyntaxError",
     "evalue": "invalid decimal literal (1181908654.py, line 1)",
     "output_type": "error",
     "traceback": [
      "\u001b[1;36m  Cell \u001b[1;32mIn[9], line 1\u001b[1;36m\u001b[0m\n\u001b[1;33m    123number=500\u001b[0m\n\u001b[1;37m      ^\u001b[0m\n\u001b[1;31mSyntaxError\u001b[0m\u001b[1;31m:\u001b[0m invalid decimal literal\n"
     ]
    }
   ],
   "source": [
    "123number=500\n",
    "123number"
   ]
  },
  {
   "cell_type": "code",
   "execution_count": 10,
   "id": "84b55c3b-2ed2-41ca-935f-97bbf5c36a95",
   "metadata": {},
   "outputs": [
    {
     "ename": "SyntaxError",
     "evalue": "cannot assign to expression here. Maybe you meant '==' instead of '='? (1823274275.py, line 1)",
     "output_type": "error",
     "traceback": [
      "\u001b[1;36m  Cell \u001b[1;32mIn[10], line 1\u001b[1;36m\u001b[0m\n\u001b[1;33m    numb%er=600\u001b[0m\n\u001b[1;37m    ^\u001b[0m\n\u001b[1;31mSyntaxError\u001b[0m\u001b[1;31m:\u001b[0m cannot assign to expression here. Maybe you meant '==' instead of '='?\n"
     ]
    }
   ],
   "source": [
    "numb%er=600\n",
    "numb%er"
   ]
  },
  {
   "cell_type": "code",
   "execution_count": 11,
   "id": "cad73399-17c2-4494-aef0-5f81453623eb",
   "metadata": {},
   "outputs": [
    {
     "ename": "SyntaxError",
     "evalue": "invalid syntax (2656576567.py, line 1)",
     "output_type": "error",
     "traceback": [
      "\u001b[1;36m  Cell \u001b[1;32mIn[11], line 1\u001b[1;36m\u001b[0m\n\u001b[1;33m    number one=800\u001b[0m\n\u001b[1;37m           ^\u001b[0m\n\u001b[1;31mSyntaxError\u001b[0m\u001b[1;31m:\u001b[0m invalid syntax\n"
     ]
    }
   ],
   "source": [
    "number one=800\n",
    "number one"
   ]
  },
  {
   "cell_type": "code",
   "execution_count": 21,
   "id": "44e9f39e-e7f7-4723-94dd-64a3e0416a29",
   "metadata": {},
   "outputs": [
    {
     "data": {
      "text/plain": [
       "900"
      ]
     },
     "execution_count": 21,
     "metadata": {},
     "output_type": "execute_result"
    }
   ],
   "source": [
    "number_one=900\n",
    "number_one"
   ]
  },
  {
   "cell_type": "code",
   "execution_count": 13,
   "id": "620bd238-f670-488f-962e-10268fd53563",
   "metadata": {},
   "outputs": [
    {
     "data": {
      "text/plain": [
       "1000"
      ]
     },
     "execution_count": 13,
     "metadata": {},
     "output_type": "execute_result"
    }
   ],
   "source": [
    "_=1000\n",
    "_"
   ]
  },
  {
   "cell_type": "code",
   "execution_count": 14,
   "id": "eab17258-0131-4ca7-95e3-ecc59c3da964",
   "metadata": {},
   "outputs": [
    {
     "data": {
      "text/plain": [
       "(100, 200)"
      ]
     },
     "execution_count": 14,
     "metadata": {},
     "output_type": "execute_result"
    }
   ],
   "source": [
    "n1=100,200\n",
    "n1"
   ]
  },
  {
   "cell_type": "code",
   "execution_count": 16,
   "id": "f4da315b-d8b0-401e-ab22-a5c9f41cc668",
   "metadata": {},
   "outputs": [
    {
     "ename": "TypeError",
     "evalue": "cannot unpack non-iterable int object",
     "output_type": "error",
     "traceback": [
      "\u001b[1;31m---------------------------------------------------------------------------\u001b[0m",
      "\u001b[1;31mTypeError\u001b[0m                                 Traceback (most recent call last)",
      "Cell \u001b[1;32mIn[16], line 1\u001b[0m\n\u001b[1;32m----> 1\u001b[0m n2,n3\u001b[38;5;241m=\u001b[39m\u001b[38;5;241m300\u001b[39m\n\u001b[0;32m      2\u001b[0m n2\n",
      "\u001b[1;31mTypeError\u001b[0m: cannot unpack non-iterable int object"
     ]
    }
   ],
   "source": [
    "n2,n3=300\n",
    "n2,n3"
   ]
  },
  {
   "cell_type": "code",
   "execution_count": 18,
   "id": "cbd70836-ff36-4c84-bf1b-17ff4b145eb1",
   "metadata": {},
   "outputs": [
    {
     "name": "stdout",
     "output_type": "stream",
     "text": [
      "100\n",
      "200\n"
     ]
    }
   ],
   "source": [
    "n4,n5=100,200\n",
    "n4,n5\n",
    "\n",
    "print(n4)\n",
    "print(n5)"
   ]
  },
  {
   "cell_type": "code",
   "execution_count": 20,
   "id": "d3251d9f-4515-44c2-9344-f0dd1ff00464",
   "metadata": {},
   "outputs": [
    {
     "ename": "SyntaxError",
     "evalue": "invalid decimal literal (2175656152.py, line 5)",
     "output_type": "error",
     "traceback": [
      "\u001b[1;36m  Cell \u001b[1;32mIn[20], line 5\u001b[1;36m\u001b[0m\n\u001b[1;33m    123number=600\u001b[0m\n\u001b[1;37m      ^\u001b[0m\n\u001b[1;31mSyntaxError\u001b[0m\u001b[1;31m:\u001b[0m invalid decimal literal\n"
     ]
    }
   ],
   "source": [
    "number=200\n",
    "NUMBER=300\n",
    "NUNber=400\n",
    "number123=500\n",
    "123number=600\n",
    "numb%er=700\n",
    "number one=800\n",
    "number_one=900\n"
   ]
  },
  {
   "cell_type": "markdown",
   "id": "f6fddd17-9073-49ec-8aa4-ed39efe317bc",
   "metadata": {},
   "source": [
    "- Python variables are case sensitive\n",
    "\n",
    "- Variable can be declared as a capital letters\n",
    "\n",
    "- Variable can be declare as a small letters\n",
    "\n",
    "- Variable can not start with number(prefix)\n",
    "\n",
    "- Variable can not have special charecters except **Underscore**\n",
    "\n",
    "- Numbers can be suffix of the variables\n",
    "\n",
    "- Variables does not have space between names\n",
    "\n",
    "- Only underscore is possible\n",
    "\n",
    "- Keywords or reserved can not be used as a variables\n",
    "\n",
    "- Two values can be assign to a single variable\n",
    "\n",
    "- One value can not be assign to a two variables\n"
   ]
  },
  {
   "cell_type": "code",
   "execution_count": 1,
   "id": "3c9ef33c-722f-4674-92f9-60db5d4f7f09",
   "metadata": {},
   "outputs": [
    {
     "data": {
      "text/plain": [
       "(10, 20)"
      ]
     },
     "execution_count": 1,
     "metadata": {},
     "output_type": "execute_result"
    }
   ],
   "source": [
    "a=10,20\n",
    "a"
   ]
  },
  {
   "cell_type": "code",
   "execution_count": null,
   "id": "f3e01b1f-533d-49cb-b51e-6d6e89e3614d",
   "metadata": {},
   "outputs": [],
   "source": []
  },
  {
   "cell_type": "code",
   "execution_count": null,
   "id": "e3ec4b33-b208-48d6-9889-6aab81656208",
   "metadata": {},
   "outputs": [],
   "source": []
  }
 ],
 "metadata": {
  "kernelspec": {
   "display_name": "Python 3 (ipykernel)",
   "language": "python",
   "name": "python3"
  },
  "language_info": {
   "codemirror_mode": {
    "name": "ipython",
    "version": 3
   },
   "file_extension": ".py",
   "mimetype": "text/x-python",
   "name": "python",
   "nbconvert_exporter": "python",
   "pygments_lexer": "ipython3",
   "version": "3.11.7"
  }
 },
 "nbformat": 4,
 "nbformat_minor": 5
}
