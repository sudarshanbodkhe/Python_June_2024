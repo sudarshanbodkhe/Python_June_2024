{
 "cells": [
  {
   "cell_type": "markdown",
   "id": "7dc3719a-5fc3-42a2-a4d6-13b5f8dcb91f",
   "metadata": {},
   "source": [
    "**Loops**\n",
    "\n",
    "- Iterate the pisces of code until the condition is satisfy\n",
    "\n",
    "- we can run code normally\n",
    "\n",
    "- we can run code by using function wrapper\n",
    "\n",
    "- we can a run code multiple times(loops)\n",
    "\n",
    "- we can run a code by using condition\n",
    "  "
   ]
  },
  {
   "cell_type": "code",
   "execution_count": 1,
   "id": "0fc3ccc0-1552-4384-b044-c52ed305d698",
   "metadata": {},
   "outputs": [
    {
     "name": "stdout",
     "output_type": "stream",
     "text": [
      "30\n"
     ]
    }
   ],
   "source": [
    "def fun():\n",
    "    a=10\n",
    "    b=20\n",
    "    c=a+b\n",
    "    print(c)\n",
    "fun()\n",
    "    "
   ]
  },
  {
   "cell_type": "code",
   "execution_count": 6,
   "id": "4d8684d8-9ed1-4656-8be5-78a567c969be",
   "metadata": {},
   "outputs": [
    {
     "name": "stdin",
     "output_type": "stream",
     "text": [
      "Enter the salary: 100000\n",
      "Enter the tax per: 10\n"
     ]
    },
    {
     "name": "stdout",
     "output_type": "stream",
     "text": [
      "You have to pay 10000.0 tax amount\n"
     ]
    }
   ],
   "source": [
    "salary=eval(input(\"Enter the salary:\"))\n",
    "tax_per=eval(input(\"Enter the tax per:\"))\n",
    "tax_amount=salary*tax_per/100\n",
    "print(f\"You have to pay {tax_amount} tax amount\")"
   ]
  },
  {
   "cell_type": "code",
   "execution_count": 5,
   "id": "80710d13-0b0d-4587-a646-0af2b2e0762c",
   "metadata": {},
   "outputs": [
    {
     "name": "stdin",
     "output_type": "stream",
     "text": [
      "Enter the salary: 100000\n",
      "Enter the tax per: 10\n"
     ]
    },
    {
     "name": "stdout",
     "output_type": "stream",
     "text": [
      "10000.0\n"
     ]
    }
   ],
   "source": [
    "def tax():\n",
    "    salary=eval(input(\"Enter the salary:\"))\n",
    "    tax_per=eval(input(\"Enter the tax per:\"))\n",
    "    tax_amount=salary*tax_per/100\n",
    "    print(tax_amount)\n",
    "tax()"
   ]
  },
  {
   "cell_type": "markdown",
   "id": "affa1756-216f-4f06-8be6-f205489633c0",
   "metadata": {},
   "source": [
    "- for loop\n",
    "\n",
    "- while loop\n",
    "\n",
    "- any loop\n",
    "\n",
    "\n",
    "   - initial point to start the loop\n",
    "\n",
    "    - increment or decrement\n",
    "\n",
    "    - condition to stop the loop"
   ]
  },
  {
   "cell_type": "markdown",
   "id": "320e8e76-8b33-494f-b7df-0685efe5a02c",
   "metadata": {},
   "source": [
    "For Loop\n",
    "- pattern-1\n",
    "\n",
    "**range(stop)**"
   ]
  },
  {
   "cell_type": "code",
   "execution_count": null,
   "id": "26965766-7e2d-431f-b51c-7896f1a2e19e",
   "metadata": {},
   "outputs": [],
   "source": [
    "#syntax\n",
    "\n",
    "for i in range(<value>):\n",
    "    #start write your code"
   ]
  },
  {
   "cell_type": "markdown",
   "id": "de763085-80ad-4676-9537-c7ffaf3fba86",
   "metadata": {},
   "source": [
    "- when ever you see the word range it belongds to math family\n",
    "\n",
    "- inside range we need to provide one value ex:range(3)\n",
    "\n",
    "- if you provide only one value\n",
    "\n",
    "    - start value=0\n",
    " \n",
    "    - increment=+1\n",
    " \n",
    "    - last=stop-1\n",
    "\n",
    "- range(3)\n",
    "\n",
    "     - start value=1\n",
    " \n",
    "     - increment=1\n",
    " \n",
    "     - Last=3-1\n",
    " \n",
    "     - answers are :0 1 2\n",
    "     \n",
    "**note:in python index is always start with zero**"
   ]
  },
  {
   "cell_type": "code",
   "execution_count": 9,
   "id": "dae366fe-e909-42ba-aa7a-28ad612c4905",
   "metadata": {},
   "outputs": [
    {
     "name": "stdout",
     "output_type": "stream",
     "text": [
      "0\n",
      "1\n",
      "2\n"
     ]
    }
   ],
   "source": [
    "for i in range(3):\n",
    "    print(i)\n"
   ]
  },
  {
   "cell_type": "code",
   "execution_count": 11,
   "id": "aa028d2c-2c54-42c6-bbe5-31e32ebcd1bd",
   "metadata": {},
   "outputs": [
    {
     "name": "stdout",
     "output_type": "stream",
     "text": [
      "0\n",
      "1\n",
      "2\n",
      "3\n",
      "4\n",
      "5\n",
      "2\n"
     ]
    }
   ],
   "source": [
    "print(0)\n",
    "print(1)\n",
    "print(2)\n",
    "print(3)\n",
    "print(4)\n",
    "print(5)\n",
    "\n",
    "print(i)"
   ]
  },
  {
   "cell_type": "code",
   "execution_count": 13,
   "id": "97a24c0f-3204-4a01-94ed-8b15fc294be7",
   "metadata": {},
   "outputs": [
    {
     "name": "stdout",
     "output_type": "stream",
     "text": [
      "hello\n",
      "hello\n",
      "hello\n",
      "hello\n",
      "hello\n"
     ]
    }
   ],
   "source": [
    "#i want to print hello 5 times\n",
    "for i in range(5):\n",
    "    print(\"hello\")\n"
   ]
  },
  {
   "cell_type": "code",
   "execution_count": 15,
   "id": "cc898c32-1395-4efa-aba4-6595b3529e60",
   "metadata": {},
   "outputs": [
    {
     "name": "stdout",
     "output_type": "stream",
     "text": [
      "Number is odd\n"
     ]
    }
   ],
   "source": [
    "# for example\n",
    "# take a random number between 1 to 100\n",
    "#print it is even number or odd number\n",
    "#you need to generate three random number\n",
    "import random\n",
    "num1=random.randint(1,100)\n",
    "\n",
    "if num1%2==0:\n",
    "    print(\"Number is even\")\n",
    "\n",
    "else:\n",
    "    print(\"Number is odd\")"
   ]
  },
  {
   "cell_type": "code",
   "execution_count": 19,
   "id": "04c14a93-5d9c-4a05-b335-9c6c880667a6",
   "metadata": {},
   "outputs": [
    {
     "name": "stdout",
     "output_type": "stream",
     "text": [
      "68 is even\n",
      "81 is odd\n",
      "77 is odd\n"
     ]
    }
   ],
   "source": [
    "for i in range(3):\n",
    "    import random\n",
    "    num1=random.randint(1,100)\n",
    "    \n",
    "    if num1%2==0:\n",
    "        print(f\"{num1} is even\")\n",
    "    \n",
    "    else:\n",
    "        print(f\"{num1} is odd\")"
   ]
  },
  {
   "cell_type": "code",
   "execution_count": 22,
   "id": "09553aac-a515-4604-8850-e8b6d7142cba",
   "metadata": {},
   "outputs": [
    {
     "name": "stdout",
     "output_type": "stream",
     "text": [
      "0 1 2 3 4 5 6 7 8 9 "
     ]
    }
   ],
   "source": [
    "for i in range(10):\n",
    "    print(i,end=' ')"
   ]
  },
  {
   "cell_type": "markdown",
   "id": "87828efb-3d6d-4da8-a0d4-683e6e3ae7a5",
   "metadata": {},
   "source": [
    "$pattern-2$\n",
    "\n",
    "**range (start,stop)**\n",
    "\n",
    "- range(10,20)\n",
    "\n",
    "    - start value=10\n",
    " \n",
    "    - increment=1\n",
    " \n",
    "    - last=stop-1=20-1=19\n",
    " \n",
    "    - ans=10 11 12 13 14 15 16 17 18 19 "
   ]
  },
  {
   "cell_type": "code",
   "execution_count": 23,
   "id": "f0ccff27-cf38-4dcf-bc1c-a487703f390a",
   "metadata": {},
   "outputs": [
    {
     "name": "stdout",
     "output_type": "stream",
     "text": [
      "10 11 12 13 14 15 16 17 18 19 "
     ]
    }
   ],
   "source": [
    "for i in range(10,20):\n",
    "    print(i,end=' ')"
   ]
  },
  {
   "cell_type": "code",
   "execution_count": 49,
   "id": "d7de15f7-7ca4-41af-ae92-24ef7940ee30",
   "metadata": {},
   "outputs": [
    {
     "name": "stdout",
     "output_type": "stream",
     "text": [
      "The square of 20 is: 400\n",
      "The square of 21 is: 441\n",
      "The square of 22 is: 484\n",
      "The square of 23 is: 529\n",
      "The square of 24 is: 576\n"
     ]
    }
   ],
   "source": [
    "# wap ask the user print the square of the numbers between 20 to 25\n",
    "\n",
    "\n",
    "for i in range(20,25):\n",
    "   \n",
    "    print(f\"The square of {i} is:\",i*i)\n",
    " \n",
    "  "
   ]
  },
  {
   "cell_type": "code",
   "execution_count": 31,
   "id": "93fc3c49-528c-4078-99d0-38f4d5dea036",
   "metadata": {},
   "outputs": [
    {
     "name": "stdout",
     "output_type": "stream",
     "text": [
      "10 is even\n",
      "11 is odd\n",
      "12 is even\n",
      "13 is odd\n",
      "14 is even\n",
      "15 is odd\n",
      "16 is even\n",
      "17 is odd\n",
      "18 is even\n",
      "19 is odd\n"
     ]
    }
   ],
   "source": [
    "import random\n",
    "for i in range(10,20):\n",
    "    if i%2==0:\n",
    "        print(f\"{i} is even\")\n",
    "    \n",
    "    else:\n",
    "        print(f\"{i} is odd\")"
   ]
  },
  {
   "cell_type": "markdown",
   "id": "5e58206e-c3d6-4a58-8559-217308dcfb4f",
   "metadata": {},
   "source": [
    "$Pattern-3$\n",
    "\n",
    "**range(start,stop,step)**\n",
    "\n",
    "- start value=start values\n",
    "\n",
    "- step value\n",
    "\n",
    "    - positive step value\n",
    "     \n",
    "        - if step value is positive:increment\n",
    "     \n",
    "        - last=stop-1\n",
    "     \n",
    "     - negative step value\n",
    "         \n",
    "        - if step value is negative:decrement\n",
    "     \n",
    "        - last=stop+1  "
   ]
  },
  {
   "cell_type": "code",
   "execution_count": 35,
   "id": "5a20095e-2212-4d49-a658-589fd6fa1765",
   "metadata": {},
   "outputs": [
    {
     "name": "stdout",
     "output_type": "stream",
     "text": [
      "2 4 6 8 10 12 14 16 18 "
     ]
    }
   ],
   "source": [
    "#case-1\n",
    "\n",
    "for i in range(2,20,2):\n",
    "    print(i,end=' ')\n",
    "\n",
    "#start=2\n",
    "#step=+ve 2 \n",
    "#last=stop-1=20-1\n",
    "#2 4 6 8 10 12 14 16 18"
   ]
  },
  {
   "cell_type": "code",
   "execution_count": 39,
   "id": "04d43a4f-05bd-4386-bec5-db4163af2ee1",
   "metadata": {},
   "outputs": [],
   "source": [
    "#case-2\n",
    "for i in range(2,20,-2):\n",
    "    print(i,end=' ')\n",
    "#start value=2\n",
    "#step=-ve -2 negative dieection \n",
    "#last value=stop+1"
   ]
  },
  {
   "cell_type": "code",
   "execution_count": 51,
   "id": "f1bc77c7-1157-44af-ba24-b2b72cba0722",
   "metadata": {},
   "outputs": [
    {
     "name": "stdout",
     "output_type": "stream",
     "text": [
      "20 18 16 14 12 10 8 6 4 "
     ]
    }
   ],
   "source": [
    "#case-3\n",
    "for i in range(20,2,-2):\n",
    "    print(i,end=' ')\n",
    "#start value=20\n",
    "#step=-ve -2 negative direction\n",
    "#last value=2+1=3"
   ]
  },
  {
   "cell_type": "code",
   "execution_count": 52,
   "id": "93d7a0b6-3b64-4b31-bf40-45d2f959c63c",
   "metadata": {},
   "outputs": [
    {
     "name": "stdout",
     "output_type": "stream",
     "text": [
      "-20 -18 -16 -14 -12 -10 -8 -6 -4 -2 0 "
     ]
    }
   ],
   "source": [
    "for i in range(-20,2,2):\n",
    "    print(i,end=' ')"
   ]
  },
  {
   "cell_type": "code",
   "execution_count": 46,
   "id": "d5bf9aeb-3df9-4668-b251-5c5b4a7ec554",
   "metadata": {},
   "outputs": [
    {
     "name": "stdout",
     "output_type": "stream",
     "text": [
      "20 18 16 14 12 10 8 6 4 2 0 "
     ]
    }
   ],
   "source": [
    "for i in range(20,-2,-2):\n",
    "    print(i,end=' ')"
   ]
  },
  {
   "cell_type": "code",
   "execution_count": 3,
   "id": "6f69541c-7d39-4abd-bcff-689c49a1b4b6",
   "metadata": {},
   "outputs": [],
   "source": [
    "for i in range(20,-2,2):\n",
    "    print(i,end=\" \")"
   ]
  },
  {
   "cell_type": "code",
   "execution_count": 2,
   "id": "abd39f3f-fd59-4ea3-bd27-8abdc0f9cb7f",
   "metadata": {},
   "outputs": [
    {
     "name": "stdout",
     "output_type": "stream",
     "text": [
      "-20 -18 -16 -14 -12 -10 -8 -6 -4 "
     ]
    }
   ],
   "source": [
    "for i in range(-20,-2,2):\n",
    "    print(i,end=\" \")"
   ]
  },
  {
   "cell_type": "code",
   "execution_count": 4,
   "id": "8bce89e3-03db-4d86-92f3-0321a262fee9",
   "metadata": {},
   "outputs": [
    {
     "name": "stdin",
     "output_type": "stream",
     "text": [
      "Enter the number: 5\n"
     ]
    },
    {
     "name": "stdout",
     "output_type": "stream",
     "text": [
      "25\n"
     ]
    },
    {
     "name": "stdin",
     "output_type": "stream",
     "text": [
      "Enter the number: 6\n"
     ]
    },
    {
     "name": "stdout",
     "output_type": "stream",
     "text": [
      "36\n"
     ]
    },
    {
     "name": "stdin",
     "output_type": "stream",
     "text": [
      "Enter the number: 7\n"
     ]
    },
    {
     "name": "stdout",
     "output_type": "stream",
     "text": [
      "49\n"
     ]
    }
   ],
   "source": [
    "#wap ask the user enter a number three times \n",
    "#find the square of the number\n",
    "for i in range(3):\n",
    "    def num():\n",
    "        number=eval(input(\"Enter the number:\"))\n",
    "        square=number*number\n",
    "        print(square)\n",
    "    num()"
   ]
  },
  {
   "cell_type": "code",
   "execution_count": 15,
   "id": "45a78804-7f13-4bb1-9f98-593eebfdd619",
   "metadata": {},
   "outputs": [
    {
     "name": "stdin",
     "output_type": "stream",
     "text": [
      "Enter the table which you wants to see: 14\n"
     ]
    },
    {
     "name": "stdout",
     "output_type": "stream",
     "text": [
      "14 * 1=14\n",
      "14 * 2=28\n",
      "14 * 3=42\n",
      "14 * 4=56\n",
      "14 * 5=70\n",
      "14 * 6=84\n",
      "14 * 7=98\n",
      "14 * 8=112\n",
      "14 * 9=126\n",
      "14 * 10=140\n"
     ]
    }
   ],
   "source": [
    "#5 print the 14th table\n",
    "#ans =: 14*1=14\n",
    "num=eval(input(\"Enter the table which you wants to see:\"))\n",
    "for i in range(1,11):\n",
    "    def step():\n",
    "        val=i*num\n",
    "        print(f\"{num} * {i}={val}\")\n",
    "    step()"
   ]
  },
  {
   "cell_type": "code",
   "execution_count": 21,
   "id": "81db2017-588e-4ed5-8dc5-667f683ab44f",
   "metadata": {},
   "outputs": [
    {
     "name": "stdin",
     "output_type": "stream",
     "text": [
      "Enter the number you want to print factor: 100\n"
     ]
    },
    {
     "name": "stdout",
     "output_type": "stream",
     "text": [
      "1 is divisior of 100\n",
      "2 is divisior of 100\n",
      "4 is divisior of 100\n",
      "5 is divisior of 100\n",
      "10 is divisior of 100\n",
      "20 is divisior of 100\n",
      "25 is divisior of 100\n",
      "50 is divisior of 100\n",
      "100 is divisior of 100\n"
     ]
    }
   ],
   "source": [
    "#6 find the factors of 75\n",
    "#step-1:iterate the loop = which number factor you wants\n",
    "#step-2:apply the if condition\n",
    "#      con= divide the number with each i\n",
    "\n",
    "num=eval(input(\"Enter the number you want to print factor:\"))\n",
    "for i in range(1,num+1):\n",
    "    def factor():\n",
    "         if num%i==0:\n",
    "               print(f\"{i} is divisior of {num}\")\n",
    "    factor()\n",
    "        "
   ]
  },
  {
   "cell_type": "code",
   "execution_count": 12,
   "id": "bf5c5739-2875-4e58-923e-da71da7f0ea1",
   "metadata": {},
   "outputs": [
    {
     "name": "stdout",
     "output_type": "stream",
     "text": [
      "sum of first 10 natural number is:55\n"
     ]
    }
   ],
   "source": [
    "#write the sum of first 10 natural numbers\n",
    "summ=0\n",
    "for i in range(1,11):\n",
    "    summ=summ+i\n",
    "print(f\"sum of first 10 natural number is:{summ}\")"
   ]
  },
  {
   "cell_type": "markdown",
   "id": "047dff8f-d9c7-4195-9161-deb22f8bf4d5",
   "metadata": {},
   "source": [
    "**summation wrapper**\n",
    "- initially we need to keep summ=0\n",
    "\n",
    "- make sure that do not provide **sum**\n",
    "\n",
    "- because sum is the keyword\n",
    "\n",
    "- inside for loop:summ=summ+i\n"
   ]
  },
  {
   "cell_type": "code",
   "execution_count": 10,
   "id": "b7feb947-06cc-4bae-a67b-2eb983547c64",
   "metadata": {},
   "outputs": [
    {
     "name": "stdout",
     "output_type": "stream",
     "text": [
      "0+1=1\n",
      "1+2=3\n",
      "3+3=6\n",
      "6+4=10\n",
      "10+5=15\n",
      "15+6=21\n",
      "21+7=28\n",
      "28+8=36\n",
      "36+9=45\n",
      "45+10=55\n"
     ]
    }
   ],
   "source": [
    "#sum of numbers\n",
    "summ=0\n",
    "for i in range(1,11):\n",
    "    summ=summ+i\n",
    "    print(f\"{summ-i}+{i}={summ}\")\n",
    "\n"
   ]
  },
  {
   "cell_type": "markdown",
   "id": "a8e2c5ca-aa87-4bed-95e2-bd24d2d85913",
   "metadata": {},
   "source": [
    "**note**\n",
    "- if you print answer from out of for loop last answer will print"
   ]
  },
  {
   "cell_type": "code",
   "execution_count": 63,
   "id": "ea44da9b-5cdc-4ec1-b0f6-974a3cf0751e",
   "metadata": {},
   "outputs": [
    {
     "name": "stdin",
     "output_type": "stream",
     "text": [
      "Enter the number: 50\n"
     ]
    },
    {
     "name": "stdout",
     "output_type": "stream",
     "text": [
      "25.5\n"
     ]
    }
   ],
   "source": [
    "#8 find avaerage of 10 numbers\n",
    "#avg=summation of all the numbers/total number\n",
    "\n",
    "summ=0\n",
    "n=eval(input(\"Enter the number:\"))\n",
    "for i in range(1,n+1):\n",
    "    summ=summ+i\n",
    "    \n",
    "print(summ/n)\n"
   ]
  },
  {
   "cell_type": "markdown",
   "id": "25bca9fd-cca4-4b96-a226-b3bd89fbb8fe",
   "metadata": {},
   "source": [
    "**counter wrapper**\n",
    "- Before for loop initialize with couter=0\n",
    "\n",
    "- under for loop count=count+1\n",
    "\n",
    "- counter always increase by 1 only\n",
    "\n",
    "                    \n",
    "\n",
    "                            "
   ]
  },
  {
   "cell_type": "code",
   "execution_count": 1,
   "id": "99ffe792-ddcc-4ade-a6dd-b50efd5a96a5",
   "metadata": {},
   "outputs": [
    {
     "name": "stdin",
     "output_type": "stream",
     "text": [
      "which number factors you want 75\n"
     ]
    },
    {
     "name": "stdout",
     "output_type": "stream",
     "text": [
      "1 is the divisor of75 \n",
      "3 is the divisor of75 \n",
      "5 is the divisor of75 \n",
      "15 is the divisor of75 \n",
      "25 is the divisor of75 \n",
      "75 is the divisor of75 \n",
      "The number of divisior for 75 is 6\n"
     ]
    }
   ],
   "source": [
    "#find the numbers of divisior of 75\n",
    "count=0\n",
    "num=eval(input(\"which number factors you want\"))\n",
    "for i in range(1,num+1):\n",
    "    if num%i==0:\n",
    "        count=count+1\n",
    "        print(f\"{i} is the divisor of{num} \")\n",
    "print(f\"The number of divisior for {num} is {count}\")\n"
   ]
  },
  {
   "cell_type": "code",
   "execution_count": 1,
   "id": "6c751dab-21dc-4422-b950-3c0a8e6c2f69",
   "metadata": {},
   "outputs": [
    {
     "name": "stdin",
     "output_type": "stream",
     "text": [
      "Enter the number2: 1\n"
     ]
    },
    {
     "name": "stdout",
     "output_type": "stream",
     "text": [
      "Lose\n"
     ]
    },
    {
     "name": "stdin",
     "output_type": "stream",
     "text": [
      "Enter the number2: 2\n"
     ]
    },
    {
     "name": "stdout",
     "output_type": "stream",
     "text": [
      "Lose\n"
     ]
    },
    {
     "name": "stdin",
     "output_type": "stream",
     "text": [
      "Enter the number2: 3\n"
     ]
    },
    {
     "name": "stdout",
     "output_type": "stream",
     "text": [
      "Lose\n"
     ]
    }
   ],
   "source": [
    "#10\n",
    "#get a random number between 1 to 10:num1\n",
    "#ask the user enter the number:num2\n",
    "#if num1==num then print won\n",
    "#else print fail\n",
    "\n",
    "#give three chance\n",
    "import random\n",
    "for i in range(3):\n",
    "    num1=random.randint(1,10)\n",
    "    num2=eval(input(\"Enter the number2:\"))\n",
    "    if num1==num2:\n",
    "        print(\"Won\")\n",
    "    else:\n",
    "        print(\"Lose\")\n",
    "    \n",
    "        "
   ]
  },
  {
   "cell_type": "code",
   "execution_count": 72,
   "id": "b5a93da0-3d5d-41c0-af58-9cff4c6df682",
   "metadata": {},
   "outputs": [
    {
     "name": "stdin",
     "output_type": "stream",
     "text": [
      "Enter the number2: 1\n"
     ]
    },
    {
     "name": "stdout",
     "output_type": "stream",
     "text": [
      "won\n"
     ]
    }
   ],
   "source": [
    "#case-3:\n",
    "#suppose i want give 4 chances\n",
    "#every times you fail i want display number of chances left\n",
    "#    numbere of chances left\n",
    "\n",
    "#if all the chances you are used\n",
    "#      try again after 24 hours\n",
    "\n",
    "#if you are win  \n",
    "\n",
    "import random\n",
    "for i in range(4):\n",
    "    num1=random.randint(1,10)\n",
    "    num2=eval(input(\"Enter the number2:\"))\n",
    "    if num1!=num2:\n",
    "          print(\"Lost\")\n",
    "          print(f\"You have {3-i} number of chance\")\n",
    "    else:\n",
    "        print(\"won\")\n",
    "        break\n",
    "    if i==3:\n",
    "        print(\"***************please try after 24 hours*****************\")\n",
    "        \n"
   ]
  },
  {
   "cell_type": "code",
   "execution_count": 6,
   "id": "a4930f2d-972d-4e8c-9bfd-a76e28fc5276",
   "metadata": {},
   "outputs": [
    {
     "name": "stdout",
     "output_type": "stream",
     "text": [
      "The total number of even numbers are:2\n",
      "The total number of odd numbers are:3\n"
     ]
    }
   ],
   "source": [
    "#wap ask the user get 5 random numbers\n",
    "#get it is even number or odd number \n",
    "#also count how many even numbers are there\n",
    "#and count how many odd numbers are there\n",
    "\n",
    "#idea \n",
    "#take two counters one even and odd count\n",
    "#for loop 5 times \n",
    "#each time take the random number\n",
    "#if condition\n",
    "#     True counter update\n",
    "#else\n",
    "#     Update the counter\n",
    "\n",
    "import random\n",
    "even_count,odd_count=0,0\n",
    "for i in range(5):\n",
    "    num=random.randint(1,100)\n",
    "    if num%2==0:\n",
    "        even_count=even_count+1\n",
    "    else:\n",
    "        odd_count=odd_count+1\n",
    "print(f\"The total number of even numbers are:{even_count}\")\n",
    "print(f\"The total number of odd numbers are:{odd_count}\")    \n",
    "    \n"
   ]
  },
  {
   "cell_type": "code",
   "execution_count": 8,
   "id": "fda00a3b-0108-4cb0-95e0-44f8f84a41d1",
   "metadata": {},
   "outputs": [
    {
     "name": "stdout",
     "output_type": "stream",
     "text": [
      "sum of even numbers:166\n",
      "sum of odd numbers:140\n",
      "The total number of even numbers are:3\n",
      "The total number of odd numbers are:2\n"
     ]
    }
   ],
   "source": [
    "#wap ask the user get 5 random numbers\n",
    "#get it is even number or odd number \n",
    "#also count how many even numbers are there\n",
    "#and count how many odd numbers are there\n",
    "\n",
    "#idea \n",
    "#take two counters one even and odd count\n",
    "#for loop 5 times \n",
    "#each time take the random number\n",
    "#if condition\n",
    "#     True counter update\n",
    "#else\n",
    "#     Update the counter\n",
    "#print even sum and odd sum\n",
    "import random\n",
    "even_count,odd_count=0,0\n",
    "even_sum,odd_sum=0,0\n",
    "for i in range(5):\n",
    "    num=random.randint(1,100)\n",
    "    if num%2==0:\n",
    "        even_count=even_count+1\n",
    "        even_sum=even_sum+num\n",
    "    else:\n",
    "        odd_count=odd_count+1\n",
    "        odd_sum=odd_sum+num\n",
    "\n",
    "print(f\"sum of even numbers:{even_sum}\")\n",
    "print(f\"sum of odd numbers:{odd_sum}\")\n",
    "print(f\"The total number of even numbers are:{even_count}\")\n",
    "print(f\"The total number of odd numbers are:{odd_count}\")    \n",
    "    \n"
   ]
  },
  {
   "cell_type": "code",
   "execution_count": 18,
   "id": "74a6014e-3986-4073-8d4c-7f65ed51ccf2",
   "metadata": {},
   "outputs": [
    {
     "data": {
      "text/plain": [
       "(1, 14, 0, 0)"
      ]
     },
     "execution_count": 18,
     "metadata": {},
     "output_type": "execute_result"
    }
   ],
   "source": [
    "import random\n",
    "def fun():\n",
    "    \n",
    "    even_count,odd_count=0,0\n",
    "    even_sum,odd_sum=0,0\n",
    "\n",
    "    for i in range(5):\n",
    "        num=random.randint(1,100)\n",
    "        if num%2==0:\n",
    "            even_count=even_count+1\n",
    "            even_sum=even_sum+num\n",
    "        else:\n",
    "            odd_count=odd_count+1\n",
    "            odd_sum=odd_sum+num\n",
    "        return(even_count,even_sum,odd_count,odd_sum)    \n",
    "fun()"
   ]
  },
  {
   "cell_type": "markdown",
   "id": "b272b6c7-0f2e-4005-8101-83bdf3cb4407",
   "metadata": {},
   "source": [
    "**In Operator**"
   ]
  },
  {
   "cell_type": "code",
   "execution_count": 21,
   "id": "c2145f05-237f-4221-b52a-9ddbcdb73b0b",
   "metadata": {},
   "outputs": [
    {
     "data": {
      "text/plain": [
       "True"
      ]
     },
     "execution_count": 21,
     "metadata": {},
     "output_type": "execute_result"
    }
   ],
   "source": [
    "string1='python'\n",
    "'p' in string1\n",
    "'y' in string1\n",
    "'t' in string1"
   ]
  },
  {
   "cell_type": "code",
   "execution_count": 24,
   "id": "461108a0-2c63-4c02-aef2-e9979f51e37e",
   "metadata": {},
   "outputs": [
    {
     "name": "stdout",
     "output_type": "stream",
     "text": [
      "p\n",
      "y\n",
      "t\n",
      "h\n",
      "o\n",
      "n\n"
     ]
    }
   ],
   "source": [
    "for i in string1:\n",
    "    print(i)"
   ]
  },
  {
   "cell_type": "markdown",
   "id": "1a364c95-7383-431e-a622-5cd753d3a630",
   "metadata": {},
   "source": [
    "**Difference between in operator and range operator**\n",
    "\n",
    "- range belongs to math family\n",
    "\n",
    "- inside range we need to keep numbers only\n",
    "\n",
    "- whenever if we want iterate through a english letters\n",
    "\n",
    "- we need to choose in operator\n",
    "\n",
    "- range means Numbers\n",
    "\n",
    "- in means strings"
   ]
  },
  {
   "cell_type": "code",
   "execution_count": 25,
   "id": "0b3f9027-5276-493c-b07a-d647f23d6278",
   "metadata": {},
   "outputs": [
    {
     "data": {
      "text/plain": [
       "True"
      ]
     },
     "execution_count": 25,
     "metadata": {},
     "output_type": "execute_result"
    }
   ],
   "source": [
    "'p'>'P'"
   ]
  },
  {
   "cell_type": "markdown",
   "id": "768ba8dd-2875-45cb-aa99-bb76e74e5777",
   "metadata": {},
   "source": [
    "- every english letter\n",
    "\n",
    "- every special chrecter how machine will understand\n",
    "\n",
    "- machine language always consider as numbers\n",
    "\n",
    "- every non numeric assign a number\n",
    "\n",
    "- ASCII-American Standard Code for Information Interchange\n",
    "\n",
    "- A:65,a:96"
   ]
  },
  {
   "cell_type": "markdown",
   "id": "a0cd945c-44b0-4d1c-940d-c5526d5a4847",
   "metadata": {},
   "source": [
    "**ord-chr**"
   ]
  },
  {
   "cell_type": "code",
   "execution_count": null,
   "id": "52eeba7a-a287-4df6-b164-f3c6d7466516",
   "metadata": {},
   "outputs": [],
   "source": [
    "65===65===0b1000001"
   ]
  },
  {
   "cell_type": "code",
   "execution_count": 28,
   "id": "4ad8fe19-f46c-4ded-acf2-eae05e9e2a6b",
   "metadata": {},
   "outputs": [
    {
     "data": {
      "text/plain": [
       "65"
      ]
     },
     "execution_count": 28,
     "metadata": {},
     "output_type": "execute_result"
    }
   ],
   "source": [
    "0b1000001"
   ]
  },
  {
   "cell_type": "code",
   "execution_count": 30,
   "id": "4327a73c-714d-4821-a272-54d223f17545",
   "metadata": {},
   "outputs": [
    {
     "data": {
      "text/plain": [
       "(65, 97)"
      ]
     },
     "execution_count": 30,
     "metadata": {},
     "output_type": "execute_result"
    }
   ],
   "source": [
    "ord('A'),ord('a')"
   ]
  },
  {
   "cell_type": "code",
   "execution_count": 31,
   "id": "a63948bc-45d0-4a3e-894f-deb4cf34d3b0",
   "metadata": {},
   "outputs": [
    {
     "data": {
      "text/plain": [
       "(112, 80)"
      ]
     },
     "execution_count": 31,
     "metadata": {},
     "output_type": "execute_result"
    }
   ],
   "source": [
    "ord('p'),ord('P')  #112>80"
   ]
  },
  {
   "cell_type": "code",
   "execution_count": 33,
   "id": "ca78aa49-06cf-4e4d-97b4-857e1bba31ac",
   "metadata": {},
   "outputs": [
    {
     "data": {
      "text/plain": [
       "('p', 'P', 'A', 'a')"
      ]
     },
     "execution_count": 33,
     "metadata": {},
     "output_type": "execute_result"
    }
   ],
   "source": [
    "chr(112),chr(80),chr(65),chr(97)"
   ]
  },
  {
   "cell_type": "code",
   "execution_count": 34,
   "id": "f77de9d4-cf47-4e9b-9631-8fa53e9cd2cb",
   "metadata": {},
   "outputs": [
    {
     "data": {
      "text/plain": [
       "'b'"
      ]
     },
     "execution_count": 34,
     "metadata": {},
     "output_type": "execute_result"
    }
   ],
   "source": [
    "chr(98)"
   ]
  },
  {
   "cell_type": "code",
   "execution_count": 38,
   "id": "b710844b-df0b-4a95-9b0c-b5237e6a4426",
   "metadata": {},
   "outputs": [
    {
     "name": "stdout",
     "output_type": "stream",
     "text": [
      "The ASCII number for p is 112\n",
      "The ASCII number for y is 121\n",
      "The ASCII number for t is 116\n",
      "The ASCII number for h is 104\n",
      "The ASCII number for o is 111\n",
      "The ASCII number for n is 110\n"
     ]
    }
   ],
   "source": [
    "#i want string1:'python'\n",
    "# print all ascii numbers for 'python'\n",
    "for i in 'python':\n",
    "    print(f\"The ASCII number for {i} is {ord(i)}\")"
   ]
  },
  {
   "cell_type": "code",
   "execution_count": 42,
   "id": "57e9e191-c8c3-4613-9fe6-5eb20ebdf88c",
   "metadata": {},
   "outputs": [
    {
     "name": "stdout",
     "output_type": "stream",
     "text": [
      "The summation is674\n"
     ]
    }
   ],
   "source": [
    "\n",
    "\n",
    "summ=0\n",
    "for i in 'python':\n",
    "    summ=summ+ord(i)\n",
    "print(f\"The summation is{summ}\")\n",
    "    \n",
    "    "
   ]
  },
  {
   "cell_type": "code",
   "execution_count": 55,
   "id": "55326632-a533-4512-bc7e-ca6bd3c13377",
   "metadata": {},
   "outputs": [
    {
     "name": "stdout",
     "output_type": "stream",
     "text": [
      "Ascii values of A is 65\n",
      "Ascii values of B is 66\n",
      "Ascii values of C is 67\n",
      "Ascii values of D is 68\n",
      "Ascii values of E is 69\n",
      "Ascii values of F is 70\n",
      "Ascii values of G is 71\n",
      "Ascii values of H is 72\n",
      "Ascii values of I is 73\n",
      "Ascii values of J is 74\n",
      "Ascii values of K is 75\n",
      "Ascii values of L is 76\n",
      "Ascii values of M is 77\n",
      "Ascii values of N is 78\n",
      "Ascii values of O is 79\n",
      "Ascii values of P is 80\n",
      "Ascii values of Q is 81\n",
      "Ascii values of R is 82\n",
      "Ascii values of S is 83\n",
      "Ascii values of T is 84\n",
      "Ascii values of U is 85\n",
      "Ascii values of V is 86\n",
      "Ascii values of W is 87\n",
      "Ascii values of X is 88\n",
      "Ascii values of Y is 89\n",
      "Ascii values of Z is 90\n"
     ]
    }
   ],
   "source": [
    "# i want to know all ascii number from A to Z\n",
    "#package called :sstring\n",
    "#import the package\n",
    "#apply the dir\n",
    "#there are some methods are there\n",
    "#in that one method will capital letters\n",
    "\n",
    "#step-1:import <package_name>\n",
    "#step-2:dir<package_name>\n",
    "#step-3:Identify the methods\n",
    "\n",
    "import string\n",
    "for i in string.ascii_uppercase:\n",
    "    print(f\"Ascii values of {i} is {ord(i)}\")"
   ]
  },
  {
   "cell_type": "code",
   "execution_count": 57,
   "id": "1f5b956a-50fc-43c2-92f6-eeaa69ae78c7",
   "metadata": {},
   "outputs": [
    {
     "name": "stdout",
     "output_type": "stream",
     "text": [
      "values of ! of 33\n",
      "values of \" of 34\n",
      "values of # of 35\n",
      "values of $ of 36\n",
      "values of % of 37\n",
      "values of & of 38\n",
      "values of ' of 39\n",
      "values of ( of 40\n",
      "values of ) of 41\n",
      "values of * of 42\n",
      "values of + of 43\n",
      "values of , of 44\n",
      "values of - of 45\n",
      "values of . of 46\n",
      "values of / of 47\n",
      "values of : of 58\n",
      "values of ; of 59\n",
      "values of < of 60\n",
      "values of = of 61\n",
      "values of > of 62\n",
      "values of ? of 63\n",
      "values of @ of 64\n",
      "values of [ of 91\n",
      "values of \\ of 92\n",
      "values of ] of 93\n",
      "values of ^ of 94\n",
      "values of _ of 95\n",
      "values of ` of 96\n",
      "values of { of 123\n",
      "values of | of 124\n",
      "values of } of 125\n",
      "values of ~ of 126\n"
     ]
    }
   ],
   "source": [
    "import string\n",
    "for i in string.punctuation:\n",
    "    print(f\"values of {i} of {ord(i)}\")"
   ]
  },
  {
   "cell_type": "code",
   "execution_count": 58,
   "id": "8fe930c7-b429-4be5-941a-8c79da89c33b",
   "metadata": {},
   "outputs": [
    {
     "name": "stdout",
     "output_type": "stream",
     "text": [
      "Ascii values of a is 97\n",
      "Ascii values of b is 98\n",
      "Ascii values of c is 99\n",
      "Ascii values of d is 100\n",
      "Ascii values of e is 101\n",
      "Ascii values of f is 102\n",
      "Ascii values of g is 103\n",
      "Ascii values of h is 104\n",
      "Ascii values of i is 105\n",
      "Ascii values of j is 106\n",
      "Ascii values of k is 107\n",
      "Ascii values of l is 108\n",
      "Ascii values of m is 109\n",
      "Ascii values of n is 110\n",
      "Ascii values of o is 111\n",
      "Ascii values of p is 112\n",
      "Ascii values of q is 113\n",
      "Ascii values of r is 114\n",
      "Ascii values of s is 115\n",
      "Ascii values of t is 116\n",
      "Ascii values of u is 117\n",
      "Ascii values of v is 118\n",
      "Ascii values of w is 119\n",
      "Ascii values of x is 120\n",
      "Ascii values of y is 121\n",
      "Ascii values of z is 122\n"
     ]
    }
   ],
   "source": [
    "import string\n",
    "for i in string.ascii_lowercase:\n",
    "    print(f\"Ascii values of {i} is {ord(i)}\")"
   ]
  },
  {
   "cell_type": "code",
   "execution_count": 59,
   "id": "f75469e8-9e15-4880-a1d4-bef35bae36e9",
   "metadata": {},
   "outputs": [
    {
     "name": "stdout",
     "output_type": "stream",
     "text": [
      "33 ! 34 \" 35 # 36 $ 37 % 38 & 39 ' 40 ( 41 ) 42 * 43 + 44 , 45 - 46 . 47 / 48 0 49 1 50 2 51 3 52 4 53 5 54 6 55 7 56 8 57 9 58 : 59 ; 60 < 61 = 62 > 63 ? 64 @ 65 A 66 B 67 C 68 D 69 E 70 F 71 G 72 H 73 I 74 J 75 K 76 L 77 M 78 N 79 O 80 P 81 Q 82 R 83 S 84 T 85 U 86 V 87 W 88 X 89 Y 90 Z 91 [ 92 \\ 93 ] 94 ^ 95 _ 96 ` 97 a 98 b 99 c 100 d 101 e 102 f 103 g 104 h 105 i 106 j 107 k 108 l 109 m 110 n 111 o 112 p 113 q 114 r 115 s 116 t 117 u 118 v 119 w 120 x 121 y 122 z 123 { 124 | 125 } "
     ]
    }
   ],
   "source": [
    "for i in range(33,126):\n",
    "    print(i,chr(i),end=' ')"
   ]
  },
  {
   "cell_type": "code",
   "execution_count": 65,
   "id": "42d3762b-2bf7-4eca-86be-d9a6cc3fd9b6",
   "metadata": {},
   "outputs": [
    {
     "name": "stdout",
     "output_type": "stream",
     "text": [
      "2309 अ 2310 आ 2311 इ 2312 ई 2313 उ 2314 ऊ 2315 ऋ 2316 ऌ 2317 ऍ 2318 ऎ 2319 ए 2320 ऐ 2321 ऑ 2322 ऒ 2323 ओ 2324 औ 2325 क 2326 ख 2327 ग 2328 घ 2329 ङ 2330 च 2331 छ 2332 ज 2333 झ 2334 ञ 2335 ट 2336 ठ 2337 ड 2338 ढ 2339 ण 2340 त 2341 थ 2342 द 2343 ध 2344 न 2345 ऩ 2346 प 2347 फ 2348 ब 2349 भ 2350 म 2351 य 2352 र 2353 ऱ 2354 ल 2355 ळ 2356 ऴ 2357 व 2358 श 2359 ष 2360 स 2361 ह 2362 ऺ 2363 ऻ 2364 ़ 2365 ऽ 2366 ा 2367 ि 2368 ी 2369 ु 2370 ू 2371 ृ 2372 ॄ 2373 ॅ 2374 ॆ 2375 े 2376 ै 2377 ॉ 2378 ॊ 2379 ो 2380 ौ 2381 ् 2382 ॎ 2383 ॏ 2384 ॐ "
     ]
    }
   ],
   "source": [
    "for i in range(2309,2385):\n",
    "    print(i,chr(i),end=' ')"
   ]
  },
  {
   "cell_type": "code",
   "execution_count": 12,
   "id": "dc534f4d-f48c-4d3c-9698-07055b139b3f",
   "metadata": {},
   "outputs": [
    {
     "name": "stdout",
     "output_type": "stream",
     "text": [
      "0+1=1\n",
      "1+2=3\n",
      "3+3=6\n",
      "6+4=10\n",
      "10+5=15\n",
      "15+6=21\n",
      "21+7=28\n",
      "28+8=36\n",
      "36+9=45\n",
      "45+10=55\n"
     ]
    }
   ],
   "source": [
    " result=0\n",
    "for i in range(1,11):\n",
    "    result=result+i\n",
    "    print(f\"{result-i}+{i}={result}\")\n",
    "    "
   ]
  },
  {
   "cell_type": "code",
   "execution_count": 8,
   "id": "516da99d-c0e7-493d-9059-a9719936deab",
   "metadata": {},
   "outputs": [
    {
     "name": "stdin",
     "output_type": "stream",
     "text": [
      "Enter the number to find the square: 5\n"
     ]
    },
    {
     "name": "stdout",
     "output_type": "stream",
     "text": [
      "Square of 5 is 25\n"
     ]
    },
    {
     "name": "stdin",
     "output_type": "stream",
     "text": [
      "Enter the number to find the square: 7\n"
     ]
    },
    {
     "name": "stdout",
     "output_type": "stream",
     "text": [
      "Square of 7 is 49\n"
     ]
    }
   ],
   "source": [
    "i=1\n",
    "while i<3:\n",
    "    num=eval(input(\"Enter the number to find the square:\"))\n",
    "    square=num*num\n",
    "    print(f\"Square of {num} is {square}\")\n",
    "    i=i+1"
   ]
  },
  {
   "cell_type": "code",
   "execution_count": 18,
   "id": "78d303db-c1fd-4e39-8c49-d9454bbbad1b",
   "metadata": {
    "scrolled": true
   },
   "outputs": [
    {
     "name": "stdout",
     "output_type": "stream",
     "text": [
      "U=85\n",
      "P=80\n",
      "P=80\n",
      "E=69\n",
      "R=82\n",
      "C=67\n",
      "A=65\n",
      "S=83\n",
      "E=69\n"
     ]
    }
   ],
   "source": [
    "for i in 'UPPERCASE':\n",
    "    print(f\"{i}={ord(i)}\")"
   ]
  },
  {
   "cell_type": "code",
   "execution_count": 21,
   "id": "e32e3677-49aa-4448-b292-15908b2b6b15",
   "metadata": {},
   "outputs": [
    {
     "name": "stdout",
     "output_type": "stream",
     "text": [
      "K 75\n",
      "E 69\n",
      "D 68\n",
      "A 65\n",
      "R 82\n"
     ]
    }
   ],
   "source": [
    "for i in 'KEDAR':\n",
    "    print(i,ord(i))"
   ]
  },
  {
   "cell_type": "code",
   "execution_count": 23,
   "id": "5329b13e-4e28-4c62-8f0f-cb24034257a6",
   "metadata": {},
   "outputs": [
    {
     "data": {
      "text/plain": [
       "'K'"
      ]
     },
     "execution_count": 23,
     "metadata": {},
     "output_type": "execute_result"
    }
   ],
   "source": [
    "chr(75)"
   ]
  },
  {
   "cell_type": "code",
   "execution_count": 24,
   "id": "e192676b-8c40-4f20-9d8e-0cce670e048a",
   "metadata": {},
   "outputs": [
    {
     "data": {
      "text/plain": [
       "'E'"
      ]
     },
     "execution_count": 24,
     "metadata": {},
     "output_type": "execute_result"
    }
   ],
   "source": [
    "chr(69)"
   ]
  },
  {
   "cell_type": "code",
   "execution_count": 28,
   "id": "58ad313e-c1a8-4610-9f24-dfb90a9ae907",
   "metadata": {},
   "outputs": [
    {
     "data": {
      "text/plain": [
       "'D'"
      ]
     },
     "execution_count": 28,
     "metadata": {},
     "output_type": "execute_result"
    }
   ],
   "source": [
    "chr(68)"
   ]
  },
  {
   "cell_type": "code",
   "execution_count": 29,
   "id": "e9441c88-55e4-4245-8d43-d3b3826cbf24",
   "metadata": {},
   "outputs": [
    {
     "data": {
      "text/plain": [
       "'A'"
      ]
     },
     "execution_count": 29,
     "metadata": {},
     "output_type": "execute_result"
    }
   ],
   "source": [
    "chr(65)"
   ]
  },
  {
   "cell_type": "code",
   "execution_count": 30,
   "id": "b6e480e4-d71a-44b3-b955-c139f90f03d4",
   "metadata": {},
   "outputs": [
    {
     "data": {
      "text/plain": [
       "'R'"
      ]
     },
     "execution_count": 30,
     "metadata": {},
     "output_type": "execute_result"
    }
   ],
   "source": [
    "chr(82)"
   ]
  },
  {
   "cell_type": "code",
   "execution_count": 5,
   "id": "88f02f2a-0e95-4b8f-830e-a02778cfa716",
   "metadata": {},
   "outputs": [
    {
     "data": {
      "text/plain": [
       "'a'"
      ]
     },
     "execution_count": 5,
     "metadata": {},
     "output_type": "execute_result"
    }
   ],
   "source": [
    "c)"
   ]
  },
  {
   "cell_type": "code",
   "execution_count": null,
   "id": "17d2af01-373a-4c1f-9229-fbb969fda84b",
   "metadata": {},
   "outputs": [],
   "source": []
  }
 ],
 "metadata": {
  "kernelspec": {
   "display_name": "Python 3 (ipykernel)",
   "language": "python",
   "name": "python3"
  },
  "language_info": {
   "codemirror_mode": {
    "name": "ipython",
    "version": 3
   },
   "file_extension": ".py",
   "mimetype": "text/x-python",
   "name": "python",
   "nbconvert_exporter": "python",
   "pygments_lexer": "ipython3",
   "version": "3.11.7"
  }
 },
 "nbformat": 4,
 "nbformat_minor": 5
}
