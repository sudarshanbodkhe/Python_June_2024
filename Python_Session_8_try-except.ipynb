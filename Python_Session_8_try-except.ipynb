{
 "cells": [
  {
   "cell_type": "markdown",
   "id": "97212b87-77c4-4f37-967d-d551667ad7e5",
   "metadata": {},
   "source": [
    "**try-except**\n",
    "- Generally in real time we will write n number of python lines\n",
    "\n",
    "- There is a situatuion we might we get an error  might be unknown\n",
    "\n",
    "- this unknown error does not cause any harm\n",
    "\n",
    "- even though we are getting errror we need to proceed further\n",
    "\n",
    "- also we need to catch that error\n",
    "\n",
    "- beacuase we already known step by step process\n",
    "\n",
    "- means the line will execute step by step\n",
    "\n",
    "- suppose you an error is not harmful\n",
    "\n",
    "- so we want to continue the exicution\n",
    "\n",
    "- then we required try exception"
   ]
  },
  {
   "cell_type": "markdown",
   "id": "905c62e8-30cd-405a-a818-6b640fe708b1",
   "metadata": {},
   "source": [
    "- try-excep has two blocks\n",
    "- try block as actual code\n",
    "- except block will catch the error\n",
    "  \n"
   ]
  },
  {
   "cell_type": "code",
   "execution_count": 17,
   "id": "0b478c51-80cf-419a-9eda-0b78d8a1d274",
   "metadata": {},
   "outputs": [
    {
     "name": "stdin",
     "output_type": "stream",
     "text": [
      "Enter the number1 10\n",
      "Enter the number2 1\n"
     ]
    },
    {
     "name": "stdout",
     "output_type": "stream",
     "text": [
      "11\n"
     ]
    }
   ],
   "source": [
    "number1=eval(input(\"Enter the number1\"))\n",
    "number2=eval(input(\"Enter the number2\"))\n",
    "add=number1+number2\n",
    "print(add)"
   ]
  },
  {
   "cell_type": "code",
   "execution_count": 4,
   "id": "7c002f62-d215-4abd-aeed-14ef96eb47b4",
   "metadata": {},
   "outputs": [
    {
     "name": "stdin",
     "output_type": "stream",
     "text": [
      "Enter the number1 10\n",
      "Enter the number2 ten\n"
     ]
    },
    {
     "name": "stdout",
     "output_type": "stream",
     "text": [
      "hello\n",
      "you are getting error\n",
      "check the code proper\n"
     ]
    }
   ],
   "source": [
    "try:\n",
    "    number1=eval(input(\"Enter the number1\"))\n",
    "    number2=eval(input(\"Enter the number2\"))\n",
    "    add=number1+number2\n",
    "    print(add)\n",
    "except:\n",
    "    print(\"hello\")\n",
    "    print(\"you are getting error\")\n",
    "    print(\"check the code proper\")\n"
   ]
  },
  {
   "cell_type": "markdown",
   "id": "f548ad9f-464a-4ced-b375-9fc033c77c35",
   "metadata": {},
   "source": [
    "**Note**\n",
    "- generally try except block used to catch the error"
   ]
  },
  {
   "cell_type": "code",
   "execution_count": 12,
   "id": "882d44a9-8cc4-4f43-ab75-aa35c5f53da9",
   "metadata": {},
   "outputs": [
    {
     "name": "stdin",
     "output_type": "stream",
     "text": [
      "Enter the number1 10\n",
      "Enter the number2 ten\n"
     ]
    },
    {
     "name": "stdout",
     "output_type": "stream",
     "text": [
      "The error is name 'ten' is not defined\n"
     ]
    }
   ],
   "source": [
    "try:\n",
    "    number1=eval(input(\"Enter the number1\"))\n",
    "    number2=eval(input(\"Enter the number2\"))\n",
    "    add=number1+number2\n",
    "    print(add)\n",
    "except Exception as e:\n",
    "    print(f\"The error is {e}\")"
   ]
  },
  {
   "cell_type": "code",
   "execution_count": null,
   "id": "5096db4b-0e6a-45ba-8882-78c5478d0860",
   "metadata": {},
   "outputs": [],
   "source": [
    "#now onwords every code \n",
    "#need to use try-except"
   ]
  },
  {
   "cell_type": "code",
   "execution_count": 14,
   "id": "82ea75f6-d05f-4941-9695-6b622f021051",
   "metadata": {},
   "outputs": [
    {
     "name": "stdin",
     "output_type": "stream",
     "text": [
      "Enter the number: ten\n"
     ]
    },
    {
     "name": "stdout",
     "output_type": "stream",
     "text": [
      "The error is name 'ten' is not defined\n"
     ]
    }
   ],
   "source": [
    "try:\n",
    "    num=eval(input(\"Enter the number:\"))\n",
    "    \n",
    "    if num%2==0:\n",
    "        print(\"Number is even\")\n",
    "    else:\n",
    "        print(\"Number is odd\")\n",
    "except Exception as e:\n",
    "     print(f\"The error is {e}\")\n",
    "    "
   ]
  },
  {
   "cell_type": "code",
   "execution_count": 16,
   "id": "da84aa87-219e-4d8d-a391-e4d8c7997cf5",
   "metadata": {},
   "outputs": [
    {
     "name": "stdout",
     "output_type": "stream",
     "text": [
      "Number is odd\n"
     ]
    }
   ],
   "source": [
    "import random\n",
    "try:\n",
    "    num=random.randint(1,100 ) \n",
    "    if num%2==0:\n",
    "        print(\"Number is even\")\n",
    "    else:\n",
    "        print(\"Number is odd\")\n",
    "except Exception as e:\n",
    "     print(f\"The error is {e}\")\n",
    "    \n",
    "        "
   ]
  },
  {
   "cell_type": "code",
   "execution_count": 1,
   "id": "a0e4f69c-6b6b-4a84-886a-5640028a675e",
   "metadata": {},
   "outputs": [],
   "source": [
    "try:\n",
    "    def fun():\n",
    "        a=eval(input(\"Enter the number1\"))\n",
    "        b=eval(input(\"Enter the number2\"))\n",
    "        print(a+b)\n",
    "        print(a-c)\n",
    "except Exception as e:\n",
    "    print(f\"Error is {e}\")\n",
    "     "
   ]
  },
  {
   "cell_type": "code",
   "execution_count": null,
   "id": "1122dfa0-afee-46b2-a70d-a4969a79076b",
   "metadata": {},
   "outputs": [],
   "source": []
  },
  {
   "cell_type": "code",
   "execution_count": null,
   "id": "20ee1c31-c410-4f3a-a6f7-ff1f630370d1",
   "metadata": {},
   "outputs": [],
   "source": []
  }
 ],
 "metadata": {
  "kernelspec": {
   "display_name": "Python 3 (ipykernel)",
   "language": "python",
   "name": "python3"
  },
  "language_info": {
   "codemirror_mode": {
    "name": "ipython",
    "version": 3
   },
   "file_extension": ".py",
   "mimetype": "text/x-python",
   "name": "python",
   "nbconvert_exporter": "python",
   "pygments_lexer": "ipython3",
   "version": "3.11.7"
  }
 },
 "nbformat": 4,
 "nbformat_minor": 5
}
