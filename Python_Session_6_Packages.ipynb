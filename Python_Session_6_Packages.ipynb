{
 "cells": [
  {
   "cell_type": "markdown",
   "id": "c8fdeedd-bf61-43a2-ad26-a0b3795ce737",
   "metadata": {},
   "source": [
    "- package is there in your laptop\n",
    "- you want to use for the coding\n",
    "\n",
    "- the package name is:addition"
   ]
  },
  {
   "cell_type": "markdown",
   "id": "3ebe987a-49fc-4634-b55c-d3745bd6c2df",
   "metadata": {},
   "source": [
    "**Import**\n"
   ]
  },
  {
   "cell_type": "markdown",
   "id": "a11f071b-588a-4226-823b-4316f9503d8a",
   "metadata": {},
   "source": [
    "# syntax\n",
    "# import <package_name>"
   ]
  },
  {
   "cell_type": "code",
   "execution_count": 3,
   "id": "6bb496dc-d280-4847-bb66-4f4427332df7",
   "metadata": {},
   "outputs": [],
   "source": [
    "# package name:random\n",
    "import random"
   ]
  },
  {
   "cell_type": "code",
   "execution_count": 4,
   "id": "4463b682-a053-4ec4-ab43-0753e3cf690d",
   "metadata": {},
   "outputs": [],
   "source": [
    "# package name:time\n",
    "import time"
   ]
  },
  {
   "cell_type": "code",
   "execution_count": 5,
   "id": "7f03cd89-b17e-4fad-a87e-921eb9408556",
   "metadata": {},
   "outputs": [],
   "source": [
    "# package name:math\n",
    "import math"
   ]
  },
  {
   "cell_type": "code",
   "execution_count": 6,
   "id": "6b77bd9e-bbd1-4b77-9c56-173e62e08940",
   "metadata": {},
   "outputs": [],
   "source": [
    "# package namne:streamlit\n",
    "import streamlit"
   ]
  },
  {
   "cell_type": "code",
   "execution_count": 7,
   "id": "cd375715-4802-43ae-a158-925c2b74ea13",
   "metadata": {},
   "outputs": [],
   "source": [
    "# module not found\n",
    "# package or module both are same"
   ]
  },
  {
   "cell_type": "code",
   "execution_count": 9,
   "id": "a869beb4-c302-4456-a039-5eb13b47c3ed",
   "metadata": {},
   "outputs": [
    {
     "ename": "ModuleNotFoundError",
     "evalue": "No module named 'cv2'",
     "output_type": "error",
     "traceback": [
      "\u001b[1;31m---------------------------------------------------------------------------\u001b[0m",
      "\u001b[1;31mModuleNotFoundError\u001b[0m                       Traceback (most recent call last)",
      "Cell \u001b[1;32mIn[9], line 1\u001b[0m\n\u001b[1;32m----> 1\u001b[0m \u001b[38;5;28;01mimport\u001b[39;00m \u001b[38;5;21;01mcv2\u001b[39;00m\n",
      "\u001b[1;31mModuleNotFoundError\u001b[0m: No module named 'cv2'"
     ]
    }
   ],
   "source": [
    "import cv2\n",
    "\n",
    "# cv2 guy is not tie with anaconda\n",
    "# no module name:streamlit"
   ]
  },
  {
   "cell_type": "markdown",
   "id": "9de32ff7-b2f8-447a-82cc-d9e33ec522f3",
   "metadata": {},
   "source": [
    "# math operation\n",
    "- addition \n",
    "- substraction\n",
    "- multiplication\n",
    "- division"
   ]
  },
  {
   "cell_type": "code",
   "execution_count": 12,
   "id": "cc2fa707-c0e0-47f3-821a-a83d035b4107",
   "metadata": {},
   "outputs": [
    {
     "data": {
      "text/plain": [
       "['BPF',\n",
       " 'LOG4',\n",
       " 'NV_MAGICCONST',\n",
       " 'RECIP_BPF',\n",
       " 'Random',\n",
       " 'SG_MAGICCONST',\n",
       " 'SystemRandom',\n",
       " 'TWOPI',\n",
       " '_ONE',\n",
       " '_Sequence',\n",
       " '_Set',\n",
       " '__all__',\n",
       " '__builtins__',\n",
       " '__cached__',\n",
       " '__doc__',\n",
       " '__file__',\n",
       " '__loader__',\n",
       " '__name__',\n",
       " '__package__',\n",
       " '__spec__',\n",
       " '_accumulate',\n",
       " '_acos',\n",
       " '_bisect',\n",
       " '_ceil',\n",
       " '_cos',\n",
       " '_e',\n",
       " '_exp',\n",
       " '_floor',\n",
       " '_index',\n",
       " '_inst',\n",
       " '_isfinite',\n",
       " '_log',\n",
       " '_os',\n",
       " '_pi',\n",
       " '_random',\n",
       " '_repeat',\n",
       " '_sha512',\n",
       " '_sin',\n",
       " '_sqrt',\n",
       " '_test',\n",
       " '_test_generator',\n",
       " '_urandom',\n",
       " '_warn',\n",
       " 'betavariate',\n",
       " 'choice',\n",
       " 'choices',\n",
       " 'expovariate',\n",
       " 'gammavariate',\n",
       " 'gauss',\n",
       " 'getrandbits',\n",
       " 'getstate',\n",
       " 'lognormvariate',\n",
       " 'normalvariate',\n",
       " 'paretovariate',\n",
       " 'randbytes',\n",
       " 'randint',\n",
       " 'random',\n",
       " 'randrange',\n",
       " 'sample',\n",
       " 'seed',\n",
       " 'setstate',\n",
       " 'shuffle',\n",
       " 'triangular',\n",
       " 'uniform',\n",
       " 'vonmisesvariate',\n",
       " 'weibullvariate']"
      ]
     },
     "execution_count": 12,
     "metadata": {},
     "output_type": "execute_result"
    }
   ],
   "source": [
    "import random\n",
    "dir(random)"
   ]
  },
  {
   "cell_type": "code",
   "execution_count": 13,
   "id": "d2074a4c-3c4d-4f28-8c6b-4983d281ef51",
   "metadata": {},
   "outputs": [],
   "source": [
    "# syntax\n",
    "# <package_name>.<method_name>\n",
    "# pacakge_name:random\n",
    "# method_name:randint"
   ]
  },
  {
   "cell_type": "code",
   "execution_count": 14,
   "id": "b6584446-6c40-45e7-8454-a09365f2df7d",
   "metadata": {},
   "outputs": [
    {
     "name": "stdout",
     "output_type": "stream",
     "text": [
      "Help on method randint in module random:\n",
      "\n",
      "randint(a, b) method of random.Random instance\n",
      "    Return random integer in range [a, b], including both end points.\n",
      "\n"
     ]
    }
   ],
   "source": [
    "# help(<package_name.method_name>)\n",
    "# help will give the understanding of\n",
    "#how a method will woek\n",
    "# here I want to knoew what randint will do ?\n",
    "help(random.randint)"
   ]
  },
  {
   "cell_type": "code",
   "execution_count": 16,
   "id": "74785620-3803-4084-85e2-1c680496dd1b",
   "metadata": {},
   "outputs": [
    {
     "data": {
      "text/plain": [
       "5"
      ]
     },
     "execution_count": 16,
     "metadata": {},
     "output_type": "execute_result"
    }
   ],
   "source": [
    "random.randint(1,10)"
   ]
  },
  {
   "cell_type": "code",
   "execution_count": 18,
   "id": "ab070e0e-d748-4ba4-96e0-069bff13526d",
   "metadata": {},
   "outputs": [
    {
     "data": {
      "text/plain": [
       "3"
      ]
     },
     "execution_count": 18,
     "metadata": {},
     "output_type": "execute_result"
    }
   ],
   "source": [
    "random.randint(1,10)"
   ]
  },
  {
   "cell_type": "code",
   "execution_count": 19,
   "id": "6e50ef6d-b6f3-46f3-8462-0a8adfe5f278",
   "metadata": {},
   "outputs": [
    {
     "data": {
      "text/plain": [
       "9"
      ]
     },
     "execution_count": 19,
     "metadata": {},
     "output_type": "execute_result"
    }
   ],
   "source": [
    "# step-1:import <package_name>\n",
    "# step-2:dir(<package_name>)\n",
    "# step-3:\n",
    "# help(<package_name>.<method_name>)\n",
    "random.randint(1,10)"
   ]
  },
  {
   "cell_type": "code",
   "execution_count": 21,
   "id": "567a2f50-faec-4d3e-a22a-7173ceff1df9",
   "metadata": {},
   "outputs": [
    {
     "name": "stdout",
     "output_type": "stream",
     "text": [
      "Help on built-in function random:\n",
      "\n",
      "random() method of random.Random instance\n",
      "    random() -> x in the interval [0, 1).\n",
      "\n"
     ]
    }
   ],
   "source": [
    "import random\n",
    "dir(random)\n",
    "help(random.random)"
   ]
  },
  {
   "cell_type": "code",
   "execution_count": 22,
   "id": "1179470f-19fd-4e98-82bf-76ca18e30724",
   "metadata": {},
   "outputs": [
    {
     "data": {
      "text/plain": [
       "0.8493052832002113"
      ]
     },
     "execution_count": 22,
     "metadata": {},
     "output_type": "execute_result"
    }
   ],
   "source": [
    "random.random()"
   ]
  },
  {
   "cell_type": "markdown",
   "id": "37b7918b-1fbc-4f66-a68f-9409db0b57a1",
   "metadata": {},
   "source": [
    "**Math**"
   ]
  },
  {
   "cell_type": "code",
   "execution_count": 24,
   "id": "09f52a03-2f15-4692-94b2-a4d4effab9da",
   "metadata": {},
   "outputs": [],
   "source": [
    "# package name : math\n",
    "# method pi\n",
    "# sqrt\n",
    "# sin"
   ]
  },
  {
   "cell_type": "code",
   "execution_count": 32,
   "id": "ae34abaf-60d3-4a1b-8379-4b04b0f7caa1",
   "metadata": {},
   "outputs": [
    {
     "name": "stdout",
     "output_type": "stream",
     "text": [
      "Help on built-in function sqrt in module math:\n",
      "\n",
      "sqrt(x, /)\n",
      "    Return the square root of x.\n",
      "\n",
      "Help on built-in function sin in module math:\n",
      "\n",
      "sin(x, /)\n",
      "    Return the sine of x (measured in radians).\n",
      "\n",
      "Help on float object:\n",
      "\n",
      "class float(object)\n",
      " |  float(x=0, /)\n",
      " |  \n",
      " |  Convert a string or number to a floating point number, if possible.\n",
      " |  \n",
      " |  Methods defined here:\n",
      " |  \n",
      " |  __abs__(self, /)\n",
      " |      abs(self)\n",
      " |  \n",
      " |  __add__(self, value, /)\n",
      " |      Return self+value.\n",
      " |  \n",
      " |  __bool__(self, /)\n",
      " |      True if self else False\n",
      " |  \n",
      " |  __ceil__(self, /)\n",
      " |      Return the ceiling as an Integral.\n",
      " |  \n",
      " |  __divmod__(self, value, /)\n",
      " |      Return divmod(self, value).\n",
      " |  \n",
      " |  __eq__(self, value, /)\n",
      " |      Return self==value.\n",
      " |  \n",
      " |  __float__(self, /)\n",
      " |      float(self)\n",
      " |  \n",
      " |  __floor__(self, /)\n",
      " |      Return the floor as an Integral.\n",
      " |  \n",
      " |  __floordiv__(self, value, /)\n",
      " |      Return self//value.\n",
      " |  \n",
      " |  __format__(self, format_spec, /)\n",
      " |      Formats the float according to format_spec.\n",
      " |  \n",
      " |  __ge__(self, value, /)\n",
      " |      Return self>=value.\n",
      " |  \n",
      " |  __getattribute__(self, name, /)\n",
      " |      Return getattr(self, name).\n",
      " |  \n",
      " |  __getnewargs__(self, /)\n",
      " |  \n",
      " |  __gt__(self, value, /)\n",
      " |      Return self>value.\n",
      " |  \n",
      " |  __hash__(self, /)\n",
      " |      Return hash(self).\n",
      " |  \n",
      " |  __int__(self, /)\n",
      " |      int(self)\n",
      " |  \n",
      " |  __le__(self, value, /)\n",
      " |      Return self<=value.\n",
      " |  \n",
      " |  __lt__(self, value, /)\n",
      " |      Return self<value.\n",
      " |  \n",
      " |  __mod__(self, value, /)\n",
      " |      Return self%value.\n",
      " |  \n",
      " |  __mul__(self, value, /)\n",
      " |      Return self*value.\n",
      " |  \n",
      " |  __ne__(self, value, /)\n",
      " |      Return self!=value.\n",
      " |  \n",
      " |  __neg__(self, /)\n",
      " |      -self\n",
      " |  \n",
      " |  __pos__(self, /)\n",
      " |      +self\n",
      " |  \n",
      " |  __pow__(self, value, mod=None, /)\n",
      " |      Return pow(self, value, mod).\n",
      " |  \n",
      " |  __radd__(self, value, /)\n",
      " |      Return value+self.\n",
      " |  \n",
      " |  __rdivmod__(self, value, /)\n",
      " |      Return divmod(value, self).\n",
      " |  \n",
      " |  __repr__(self, /)\n",
      " |      Return repr(self).\n",
      " |  \n",
      " |  __rfloordiv__(self, value, /)\n",
      " |      Return value//self.\n",
      " |  \n",
      " |  __rmod__(self, value, /)\n",
      " |      Return value%self.\n",
      " |  \n",
      " |  __rmul__(self, value, /)\n",
      " |      Return value*self.\n",
      " |  \n",
      " |  __round__(self, ndigits=None, /)\n",
      " |      Return the Integral closest to x, rounding half toward even.\n",
      " |      \n",
      " |      When an argument is passed, work like built-in round(x, ndigits).\n",
      " |  \n",
      " |  __rpow__(self, value, mod=None, /)\n",
      " |      Return pow(value, self, mod).\n",
      " |  \n",
      " |  __rsub__(self, value, /)\n",
      " |      Return value-self.\n",
      " |  \n",
      " |  __rtruediv__(self, value, /)\n",
      " |      Return value/self.\n",
      " |  \n",
      " |  __sub__(self, value, /)\n",
      " |      Return self-value.\n",
      " |  \n",
      " |  __truediv__(self, value, /)\n",
      " |      Return self/value.\n",
      " |  \n",
      " |  __trunc__(self, /)\n",
      " |      Return the Integral closest to x between 0 and x.\n",
      " |  \n",
      " |  as_integer_ratio(self, /)\n",
      " |      Return integer ratio.\n",
      " |      \n",
      " |      Return a pair of integers, whose ratio is exactly equal to the original float\n",
      " |      and with a positive denominator.\n",
      " |      \n",
      " |      Raise OverflowError on infinities and a ValueError on NaNs.\n",
      " |      \n",
      " |      >>> (10.0).as_integer_ratio()\n",
      " |      (10, 1)\n",
      " |      >>> (0.0).as_integer_ratio()\n",
      " |      (0, 1)\n",
      " |      >>> (-.25).as_integer_ratio()\n",
      " |      (-1, 4)\n",
      " |  \n",
      " |  conjugate(self, /)\n",
      " |      Return self, the complex conjugate of any float.\n",
      " |  \n",
      " |  hex(self, /)\n",
      " |      Return a hexadecimal representation of a floating-point number.\n",
      " |      \n",
      " |      >>> (-0.1).hex()\n",
      " |      '-0x1.999999999999ap-4'\n",
      " |      >>> 3.14159.hex()\n",
      " |      '0x1.921f9f01b866ep+1'\n",
      " |  \n",
      " |  is_integer(self, /)\n",
      " |      Return True if the float is an integer.\n",
      " |  \n",
      " |  ----------------------------------------------------------------------\n",
      " |  Class methods defined here:\n",
      " |  \n",
      " |  __getformat__(typestr, /) from builtins.type\n",
      " |      You probably don't want to use this function.\n",
      " |      \n",
      " |        typestr\n",
      " |          Must be 'double' or 'float'.\n",
      " |      \n",
      " |      It exists mainly to be used in Python's test suite.\n",
      " |      \n",
      " |      This function returns whichever of 'unknown', 'IEEE, big-endian' or 'IEEE,\n",
      " |      little-endian' best describes the format of floating point numbers used by the\n",
      " |      C type named by typestr.\n",
      " |  \n",
      " |  fromhex(string, /) from builtins.type\n",
      " |      Create a floating-point number from a hexadecimal string.\n",
      " |      \n",
      " |      >>> float.fromhex('0x1.ffffp10')\n",
      " |      2047.984375\n",
      " |      >>> float.fromhex('-0x1p-1074')\n",
      " |      -5e-324\n",
      " |  \n",
      " |  ----------------------------------------------------------------------\n",
      " |  Static methods defined here:\n",
      " |  \n",
      " |  __new__(*args, **kwargs) from builtins.type\n",
      " |      Create and return a new object.  See help(type) for accurate signature.\n",
      " |  \n",
      " |  ----------------------------------------------------------------------\n",
      " |  Data descriptors defined here:\n",
      " |  \n",
      " |  imag\n",
      " |      the imaginary part of a complex number\n",
      " |  \n",
      " |  real\n",
      " |      the real part of a complex number\n",
      "\n"
     ]
    }
   ],
   "source": [
    "import math\n",
    "dir(math)\n",
    "help(math.sqrt)\n",
    "math.sqrt(25)\n",
    "help(math.sin)\n",
    "help(math.pi)"
   ]
  },
  {
   "cell_type": "code",
   "execution_count": 30,
   "id": "b85f5520-1479-4826-91e2-fe07670450a7",
   "metadata": {},
   "outputs": [
    {
     "name": "stdout",
     "output_type": "stream",
     "text": [
      "Help on built-in function pow in module math:\n",
      "\n",
      "pow(x, y, /)\n",
      "    Return x**y (x to the power of y).\n",
      "\n"
     ]
    }
   ],
   "source": [
    "help(math.pow)"
   ]
  },
  {
   "cell_type": "code",
   "execution_count": 31,
   "id": "34b42a05-8458-4ae5-b9ca-c9d2bacf61ea",
   "metadata": {},
   "outputs": [
    {
     "data": {
      "text/plain": [
       "8.0"
      ]
     },
     "execution_count": 31,
     "metadata": {},
     "output_type": "execute_result"
    }
   ],
   "source": [
    "math.pow(2,3)"
   ]
  },
  {
   "cell_type": "code",
   "execution_count": 33,
   "id": "f8599091-d8d5-4668-ae7e-1c2dc14e9242",
   "metadata": {},
   "outputs": [
    {
     "name": "stdout",
     "output_type": "stream",
     "text": [
      "Help on built-in function sin in module math:\n",
      "\n",
      "sin(x, /)\n",
      "    Return the sine of x (measured in radians).\n",
      "\n"
     ]
    }
   ],
   "source": [
    "help(math.sin)"
   ]
  },
  {
   "cell_type": "code",
   "execution_count": 34,
   "id": "da15270b-940a-4a5e-8952-b0f86426838a",
   "metadata": {},
   "outputs": [
    {
     "data": {
      "text/plain": [
       "0.8939966636005579"
      ]
     },
     "execution_count": 34,
     "metadata": {},
     "output_type": "execute_result"
    }
   ],
   "source": [
    "math.sin(90)"
   ]
  },
  {
   "cell_type": "code",
   "execution_count": 36,
   "id": "00c1b008-527a-4c0f-8048-51d39f817b20",
   "metadata": {},
   "outputs": [
    {
     "data": {
      "text/plain": [
       "5.0"
      ]
     },
     "execution_count": 36,
     "metadata": {},
     "output_type": "execute_result"
    }
   ],
   "source": [
    "math.sqrt(25)"
   ]
  },
  {
   "cell_type": "code",
   "execution_count": 37,
   "id": "44b36250-1abe-4ede-8266-e947bd7fe243",
   "metadata": {},
   "outputs": [
    {
     "data": {
      "text/plain": [
       "8.0"
      ]
     },
     "execution_count": 37,
     "metadata": {},
     "output_type": "execute_result"
    }
   ],
   "source": [
    "math.pow(2,3)"
   ]
  },
  {
   "cell_type": "code",
   "execution_count": 38,
   "id": "b8b2edc0-d277-452a-91c8-56dfc31ccb63",
   "metadata": {},
   "outputs": [
    {
     "data": {
      "text/plain": [
       "0.8939966636005579"
      ]
     },
     "execution_count": 38,
     "metadata": {},
     "output_type": "execute_result"
    }
   ],
   "source": [
    "math.sin(90)"
   ]
  },
  {
   "cell_type": "code",
   "execution_count": 43,
   "id": "eba5454d-edf1-42af-a2d3-e28b8042da0b",
   "metadata": {},
   "outputs": [
    {
     "data": {
      "text/plain": [
       "3.1622776601683795"
      ]
     },
     "execution_count": 43,
     "metadata": {},
     "output_type": "execute_result"
    }
   ],
   "source": [
    "math.sqrt(10)\n",
    "# cursor inside the bracker\n",
    "# then apply shift+tab\n",
    "\n"
   ]
  },
  {
   "cell_type": "code",
   "execution_count": 44,
   "id": "89901bd6-5b34-4fea-8a15-002ee21fee2a",
   "metadata": {},
   "outputs": [
    {
     "data": {
      "text/plain": [
       "<function math.sqrt(x, /)>"
      ]
     },
     "execution_count": 44,
     "metadata": {},
     "output_type": "execute_result"
    }
   ],
   "source": [
    "math.sqrt"
   ]
  },
  {
   "cell_type": "markdown",
   "id": "fe2f846d-acce-4c93-b0a3-d6096217b9c6",
   "metadata": {},
   "source": [
    "- function means we are forgetting brackets\n",
    "- we need to keep brackets\n",
    "- bound method also means forgetting the brackets only\n",
    "- not collable means remove the brackets\n",
    "- whenever you see slash  don provide variable name directly give the value"
   ]
  },
  {
   "cell_type": "code",
   "execution_count": 49,
   "id": "9664fd54-e15e-4570-90a2-53f729c987c3",
   "metadata": {},
   "outputs": [
    {
     "data": {
      "text/plain": [
       "1.4142135623730951"
      ]
     },
     "execution_count": 49,
     "metadata": {},
     "output_type": "execute_result"
    }
   ],
   "source": [
    "math.sqrt(2)"
   ]
  },
  {
   "cell_type": "code",
   "execution_count": 5,
   "id": "42820106-4e88-4c33-8a8a-748787eb773b",
   "metadata": {},
   "outputs": [
    {
     "data": {
      "text/plain": [
       "4"
      ]
     },
     "execution_count": 5,
     "metadata": {},
     "output_type": "execute_result"
    }
   ],
   "source": [
    "import random\n",
    "random.randint(2,4)"
   ]
  },
  {
   "cell_type": "code",
   "execution_count": 8,
   "id": "681bdc25-1fa2-4a4e-bf89-1f3a10b882f5",
   "metadata": {},
   "outputs": [
    {
     "data": {
      "text/plain": [
       "<function Random.random()>"
      ]
     },
     "execution_count": 8,
     "metadata": {},
     "output_type": "execute_result"
    }
   ],
   "source": [
    "random.random"
   ]
  },
  {
   "cell_type": "code",
   "execution_count": 22,
   "id": "9c82c150-3089-4eba-9e63-cd7778acb5f7",
   "metadata": {},
   "outputs": [
    {
     "data": {
      "text/plain": [
       "3.1622776601683795"
      ]
     },
     "execution_count": 22,
     "metadata": {},
     "output_type": "execute_result"
    }
   ],
   "source": [
    "import math\n",
    "math.sqrt(10)"
   ]
  },
  {
   "cell_type": "code",
   "execution_count": 55,
   "id": "15dcf218-f303-4f84-8376-4b92b512c4e5",
   "metadata": {},
   "outputs": [
    {
     "data": {
      "text/plain": [
       "3.141592653589793"
      ]
     },
     "execution_count": 55,
     "metadata": {},
     "output_type": "execute_result"
    }
   ],
   "source": [
    "math.pi\n",
    "# direct value never includes brackets\n"
   ]
  },
  {
   "cell_type": "code",
   "execution_count": 59,
   "id": "4f8e3c08-52ce-4712-abbd-0aac06f23ab8",
   "metadata": {},
   "outputs": [
    {
     "data": {
      "text/plain": [
       "['False',\n",
       " 'None',\n",
       " 'True',\n",
       " 'and',\n",
       " 'as',\n",
       " 'assert',\n",
       " 'async',\n",
       " 'await',\n",
       " 'break',\n",
       " 'class',\n",
       " 'continue',\n",
       " 'def',\n",
       " 'del',\n",
       " 'elif',\n",
       " 'else',\n",
       " 'except',\n",
       " 'finally',\n",
       " 'for',\n",
       " 'from',\n",
       " 'global',\n",
       " 'if',\n",
       " 'import',\n",
       " 'in',\n",
       " 'is',\n",
       " 'lambda',\n",
       " 'nonlocal',\n",
       " 'not',\n",
       " 'or',\n",
       " 'pass',\n",
       " 'raise',\n",
       " 'return',\n",
       " 'try',\n",
       " 'while',\n",
       " 'with',\n",
       " 'yield']"
      ]
     },
     "execution_count": 59,
     "metadata": {},
     "output_type": "execute_result"
    }
   ],
   "source": [
    "# pqckage name:keyword\n",
    "# method name:kwlist\n",
    "\n",
    "import keyword\n",
    "keyword.kwlist\n"
   ]
  },
  {
   "cell_type": "code",
   "execution_count": 2,
   "id": "fc3a80c2-7643-4540-860d-6c54467d4a12",
   "metadata": {},
   "outputs": [],
   "source": [
    "# step-1:\n",
    "# import <package_name>\n",
    "\n",
    "# step-2:\n",
    "#dir(<package_name>)\n",
    "\n",
    "# step-3:\n",
    "# help(<package_name>.<method_name>)\n"
   ]
  },
  {
   "cell_type": "code",
   "execution_count": 4,
   "id": "4f5ca98e-ac48-45e8-95e5-fe590971ad7f",
   "metadata": {},
   "outputs": [],
   "source": [
    "import math"
   ]
  },
  {
   "cell_type": "code",
   "execution_count": 5,
   "id": "b3db8987-5a47-4284-9803-29537705e43a",
   "metadata": {},
   "outputs": [
    {
     "data": {
      "text/plain": [
       "3.141592653589793"
      ]
     },
     "execution_count": 5,
     "metadata": {},
     "output_type": "execute_result"
    }
   ],
   "source": [
    "math.pi"
   ]
  },
  {
   "cell_type": "markdown",
   "id": "785e3213-0391-4b14-9d27-87393c093cb2",
   "metadata": {},
   "source": [
    "- () :functions or methods\n",
    "\n",
    "- only functions or methods callable\n",
    "\n",
    "- if something says not collable means,it is not a function\n",
    "\n",
    "- it is not a function means,you need to remove bracket\n",
    "\n",
    "- bound method means======add the brackets\n",
    "\n",
    "- function mean======add the brackets\n",
    "\n",
    "- not collable means=====remove the brackets"
   ]
  },
  {
   "cell_type": "markdown",
   "id": "e3eecd0d-e09d-46fe-aa49-866c00f1a1db",
   "metadata": {},
   "source": [
    "- random\n",
    "\n",
    "- math\n",
    "\n",
    "- keyword "
   ]
  },
  {
   "cell_type": "markdown",
   "id": "8842d1d9-0171-4c55-a46a-f8f6ce40720b",
   "metadata": {},
   "source": [
    "**time**"
   ]
  },
  {
   "cell_type": "code",
   "execution_count": 7,
   "id": "f28ce7a7-6131-48e0-9d19-c02449a76cc5",
   "metadata": {},
   "outputs": [
    {
     "name": "stdout",
     "output_type": "stream",
     "text": [
      "Father:hello\n",
      "d:hey papa how are you\n",
      "Father:Do you have school today\n"
     ]
    }
   ],
   "source": [
    "import time\n",
    "\n",
    "\n",
    "print(\"Father:hello\")\n",
    "time.sleep(2)\n",
    "print(\"d:hey papa how are you\")\n",
    "time.sleep(2)\n",
    "print(\"Father:Do you have school today\")\n"
   ]
  },
  {
   "cell_type": "markdown",
   "id": "d88d371c-d490-4686-9a6c-745d8ed9dbaf",
   "metadata": {},
   "source": [
    "- Computer vision is used to image operations , video operations\n",
    "\n",
    "- We called it open cv\n",
    "\n",
    "- package name=cv2"
   ]
  },
  {
   "cell_type": "markdown",
   "id": "298b68d1-cb81-476a-90be-33989837d136",
   "metadata": {},
   "source": [
    "- whenever module not found we need to install it \n",
    "\n",
    "- here our package name is cv2\n",
    "\n",
    "- 99% the installtion name is like this pip install <package_name >\n",
    "\n",
    "- Some packages installiation name will distribution and python import name is different\n",
    "\n",
    "- in order to install the package we need internet\n",
    "\n",
    "- if internet error occurs during the installiation we will get http error\n"
   ]
  },
  {
   "cell_type": "code",
   "execution_count": 10,
   "id": "f112860d-95b8-4bff-abd2-0159deb9dcc2",
   "metadata": {},
   "outputs": [],
   "source": [
    "import cv2"
   ]
  },
  {
   "cell_type": "code",
   "execution_count": 11,
   "id": "685193de-611e-4da4-9bb6-931c105c22a6",
   "metadata": {},
   "outputs": [],
   "source": [
    "import numpy"
   ]
  },
  {
   "cell_type": "code",
   "execution_count": 12,
   "id": "0e883a72-4c60-420a-a771-2af7b62c549f",
   "metadata": {},
   "outputs": [
    {
     "data": {
      "text/plain": [
       "<module 'numpy' from 'C:\\\\Users\\\\Lenovo\\\\anaconda3\\\\Lib\\\\site-packages\\\\numpy\\\\__init__.py'>"
      ]
     },
     "execution_count": 12,
     "metadata": {},
     "output_type": "execute_result"
    }
   ],
   "source": [
    "numpy"
   ]
  },
  {
   "cell_type": "markdown",
   "id": "ae3e6ed2-f828-4d4d-bdf3-aa83f3f77b54",
   "metadata": {},
   "source": [
    "!pip install opencv-python\n",
    "\n",
    "- in jupyter notebook we need to add ! mark\n",
    "\n",
    "- in anaconda promt no need of ! mark\n",
    "\n",
    "- directly name you can provide"
   ]
  },
  {
   "cell_type": "code",
   "execution_count": 14,
   "id": "fca87655-2572-4f19-8cb2-bdf5e9895833",
   "metadata": {},
   "outputs": [
    {
     "name": "stdout",
     "output_type": "stream",
     "text": [
      "30\n"
     ]
    }
   ],
   "source": [
    "# hardcoding means we are fixing the values\n",
    "number1=10\n",
    "number2=20\n",
    "add=number1+number2\n",
    "print(add)"
   ]
  },
  {
   "cell_type": "code",
   "execution_count": 15,
   "id": "3d657b27-3293-42fa-a2b1-22bcc05265a0",
   "metadata": {},
   "outputs": [
    {
     "name": "stdin",
     "output_type": "stream",
     "text": [
      "enter the number1: 10\n",
      "enter the number2: 20\n"
     ]
    },
    {
     "name": "stdout",
     "output_type": "stream",
     "text": [
      "30\n"
     ]
    }
   ],
   "source": [
    "number1=eval(input(\"enter the number1:\"))\n",
    "number2=eval(input(\"enter the number2:\"))\n",
    "add=number1+number2\n",
    "print(add)"
   ]
  },
  {
   "cell_type": "code",
   "execution_count": 17,
   "id": "7d6b40b8-2524-4bf9-b5bf-38076aace304",
   "metadata": {},
   "outputs": [
    {
     "name": "stdout",
     "output_type": "stream",
     "text": [
      "416\n"
     ]
    }
   ],
   "source": [
    "# we can take the numbers randomly also\n",
    "import random\n",
    "\n",
    "number1=random.randint(1,100)\n",
    "number2=random.randint(200,400)\n",
    "\n",
    "add=number1+number2\n",
    "\n",
    "print(add)\n"
   ]
  },
  {
   "cell_type": "markdown",
   "id": "2099b09c-87d5-4bb8-85d5-87a6c2b17195",
   "metadata": {},
   "source": [
    "**How we pass the numbers**\n",
    "\n",
    "- hard codings\n",
    "\n",
    "- using keyboard\n",
    "\n",
    "- using random package,taking numbers randomly"
   ]
  },
  {
   "cell_type": "code",
   "execution_count": 18,
   "id": "78a7c6f0-c41a-487f-9709-304110c5ad38",
   "metadata": {},
   "outputs": [
    {
     "name": "stdin",
     "output_type": "stream",
     "text": [
      "enter the number 2 10\n"
     ]
    },
    {
     "name": "stdout",
     "output_type": "stream",
     "text": [
      "The average of 10,10 and 7 is:9.0\n"
     ]
    }
   ],
   "source": [
    "n1=10\n",
    "n2=eval(input(\"enter the number 2\"))\n",
    "n3=random.randint(1,10)\n",
    "avg=(n1+n2+n3)/3\n",
    "\n",
    "print(f\"The average of {n1},{n2} and {n3} is:{avg}\")"
   ]
  },
  {
   "cell_type": "code",
   "execution_count": 19,
   "id": "255fc7a3-4001-4bdf-9b7d-2911441105da",
   "metadata": {},
   "outputs": [],
   "source": [
    "# assignment-2\n",
    "# assignment-1 qns only but\n",
    "# you need to take random values everywhere\n",
    "# 11 th print statement using time.sleep only"
   ]
  },
  {
   "cell_type": "code",
   "execution_count": null,
   "id": "c3cb6a44-93de-4435-8486-87581c01594a",
   "metadata": {},
   "outputs": [],
   "source": [
    "#in the entire notebook\n"
   ]
  },
  {
   "cell_type": "markdown",
   "id": "11ebec3e-9ae2-469e-9621-890436cc7054",
   "metadata": {},
   "source": [
    "**round**"
   ]
  },
  {
   "cell_type": "code",
   "execution_count": 21,
   "id": "154dc4d3-5509-4138-9a57-4536c783f5d8",
   "metadata": {},
   "outputs": [
    {
     "data": {
      "text/plain": [
       "9"
      ]
     },
     "execution_count": 21,
     "metadata": {},
     "output_type": "execute_result"
    }
   ],
   "source": [
    "round(avg)"
   ]
  },
  {
   "cell_type": "code",
   "execution_count": 22,
   "id": "ea470799-fb80-46cc-b489-cf1f050e4491",
   "metadata": {},
   "outputs": [
    {
     "data": {
      "text/plain": [
       "22"
      ]
     },
     "execution_count": 22,
     "metadata": {},
     "output_type": "execute_result"
    }
   ],
   "source": [
    "avg=22.262676\n",
    "round(avg)"
   ]
  },
  {
   "cell_type": "code",
   "execution_count": null,
   "id": "e2174440-c077-4cb2-8816-b0bd8a587cec",
   "metadata": {},
   "outputs": [],
   "source": []
  }
 ],
 "metadata": {
  "kernelspec": {
   "display_name": "Python 3 (ipykernel)",
   "language": "python",
   "name": "python3"
  },
  "language_info": {
   "codemirror_mode": {
    "name": "ipython",
    "version": 3
   },
   "file_extension": ".py",
   "mimetype": "text/x-python",
   "name": "python",
   "nbconvert_exporter": "python",
   "pygments_lexer": "ipython3",
   "version": "3.11.7"
  }
 },
 "nbformat": 4,
 "nbformat_minor": 5
}
