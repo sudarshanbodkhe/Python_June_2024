{
 "cells": [
  {
   "cell_type": "markdown",
   "id": "a313f44d-5370-4d8c-8136-a509373a32b0",
   "metadata": {},
   "source": [
    "- we can store the output values by using append operation\n",
    "\n",
    "- we are taking empty list\n",
    "\n",
    "- we are iterating through elements from a given list\n",
    "\n",
    "- The result we are appending in a new list"
   ]
  },
  {
   "cell_type": "code",
   "execution_count": 2,
   "id": "6e26cfde-4621-4826-968e-f9503287d85d",
   "metadata": {},
   "outputs": [
    {
     "data": {
      "text/plain": [
       "[0, 1, 4, 9, 16, 25, 36, 49, 64, 81]"
      ]
     },
     "execution_count": 2,
     "metadata": {},
     "output_type": "execute_result"
    }
   ],
   "source": [
    "square_list=[]\n",
    "for i in range(10):\n",
    "    square_list.append(i*i)\n",
    "square_list"
   ]
  },
  {
   "cell_type": "markdown",
   "id": "622d458e-489f-49d1-885b-5adba25a8200",
   "metadata": {},
   "source": [
    "- There are almost 3 lines are in the process\n",
    "\n",
    "- The Three lines we can make into a single line\n",
    "\n",
    "- This is called as LIST COMPREHENSION"
   ]
  },
  {
   "cell_type": "markdown",
   "id": "c6e2f2d9-d4f1-41b5-8a8d-5e86732feffb",
   "metadata": {},
   "source": [
    "$pattern-1$\n",
    "\n",
    "**Only for loop**"
   ]
  },
  {
   "cell_type": "code",
   "execution_count": null,
   "id": "ed796194-c158-4970-bdfc-e6880138a605",
   "metadata": {},
   "outputs": [],
   "source": [
    "# syntax\n",
    "# [<output>   <for loop>]"
   ]
  },
  {
   "cell_type": "code",
   "execution_count": 8,
   "id": "fde62168-4315-4f1e-8729-fc81b9ab5084",
   "metadata": {},
   "outputs": [
    {
     "data": {
      "text/plain": [
       "[0, 1, 4, 9, 16, 25, 36, 49, 64, 81]"
      ]
     },
     "execution_count": 8,
     "metadata": {},
     "output_type": "execute_result"
    }
   ],
   "source": [
    "square_list=[]\n",
    "for i in range(10):\n",
    "    square_list.append(i*i)\n",
    "square_list\n",
    "\n",
    "# Q1)What is the output? i*i\n",
    "# Q2)What is output list name? square_list\n",
    "# Q3)what is the for loop ? for i in range(10)\n",
    "\n",
    "# [<output>  <for loop>]\n",
    "\n",
    "sq_list=[i*i for i in range(10)]"
   ]
  },
  {
   "cell_type": "code",
   "execution_count": 6,
   "id": "1378563d-3b9d-4479-a6bb-0a5dccda80b4",
   "metadata": {},
   "outputs": [
    {
     "data": {
      "text/plain": [
       "[0, 1, 4, 9, 16, 25, 36, 49, 64, 81]"
      ]
     },
     "execution_count": 6,
     "metadata": {},
     "output_type": "execute_result"
    }
   ],
   "source": [
    "[i*i for i in range(10)]"
   ]
  },
  {
   "cell_type": "code",
   "execution_count": 12,
   "id": "0db465fa-003c-413d-8ac8-2a1ebe43df0d",
   "metadata": {},
   "outputs": [
    {
     "data": {
      "text/plain": [
       "['HYD', 'MUMBAI', 'CHENNAI', 'BLR']"
      ]
     },
     "execution_count": 12,
     "metadata": {},
     "output_type": "execute_result"
    }
   ],
   "source": [
    "# Q1) ehat is output\n",
    "# Q2) what is output list name? upper_list\n",
    "# Q3) what is the for loop? for i in l1\n",
    "# [<output>  <for loop>]\n",
    "upper_list=[i.upper() for i in l1]\n",
    "upper_list"
   ]
  },
  {
   "cell_type": "code",
   "execution_count": 15,
   "id": "473391fb-a8ae-4018-a612-1502c7b2ebd8",
   "metadata": {},
   "outputs": [
    {
     "data": {
      "text/plain": [
       "['hyd', 'mumbai', 'chennai', 'blr']"
      ]
     },
     "execution_count": 15,
     "metadata": {},
     "output_type": "execute_result"
    }
   ],
   "source": [
    "l1=['HYD', 'MUMBAI', 'CHENNAI', 'BLR']\n",
    "lower_list=[]\n",
    "lower_list=[i.lower() for i in l1]\n",
    "lower_list"
   ]
  },
  {
   "cell_type": "code",
   "execution_count": 20,
   "id": "7ce35111-5a2c-4a26-ad58-1f45da93841d",
   "metadata": {},
   "outputs": [
    {
     "name": "stdout",
     "output_type": "stream",
     "text": [
      "0\n",
      "1\n",
      "2\n",
      "3\n"
     ]
    },
    {
     "data": {
      "text/plain": [
       "6"
      ]
     },
     "execution_count": 20,
     "metadata": {},
     "output_type": "execute_result"
    }
   ],
   "source": [
    "# Q4)l2=['Hyd','Mumbai','Chennai','blr']\n",
    "# sum of the indexes of all elements\n",
    "l2=['Hyd','Mumbai','Chennai','blr']\n",
    "summ=0\n",
    "for i in l2:\n",
    "    print(l2.index(i))\n",
    "    summ=summ+l2.index(i)\n",
    "summ"
   ]
  },
  {
   "cell_type": "code",
   "execution_count": 26,
   "id": "4ee0926a-0e9f-43db-b923-7c0881c29a28",
   "metadata": {},
   "outputs": [
    {
     "data": {
      "text/plain": [
       "6"
      ]
     },
     "execution_count": 26,
     "metadata": {},
     "output_type": "execute_result"
    }
   ],
   "source": [
    "idx_list=[l2.index(i) for i in l2]\n",
    "sum(idx_list)"
   ]
  },
  {
   "cell_type": "markdown",
   "id": "1169b792-21bd-48a8-9f3f-b05ece36fa88",
   "metadata": {},
   "source": [
    "- making empty list and initialization will not work in list comprehension\n",
    "\n",
    "- initializations will not works in List comprehension\n",
    "\n",
    "- assignment operation also not works"
   ]
  },
  {
   "cell_type": "markdown",
   "id": "65cb93f9-e719-4474-a02a-18de1378ec08",
   "metadata": {},
   "source": [
    "$Pattern-2$\n",
    "\n",
    "**For loop-if condition**"
   ]
  },
  {
   "cell_type": "code",
   "execution_count": 31,
   "id": "42a1872a-7d95-4c00-bf8b-75577f19d766",
   "metadata": {},
   "outputs": [],
   "source": [
    "# syntax\n",
    "\n",
    "#[<output> <for loop> <if condition>]"
   ]
  },
  {
   "cell_type": "code",
   "execution_count": 22,
   "id": "bef1c91a-bec4-476a-a241-84ade89a829d",
   "metadata": {},
   "outputs": [
    {
     "name": "stdout",
     "output_type": "stream",
     "text": [
      "mumbai\n",
      "chennai\n"
     ]
    }
   ],
   "source": [
    "#Q5) l1=['hyd','mumbai','chennai','blr']\n",
    "l1=['hyd','mumbai','chennai','blr']\n",
    "for i in l1:\n",
    "    if len(i)>4:\n",
    "       print(i)"
   ]
  },
  {
   "cell_type": "code",
   "execution_count": 45,
   "id": "c00a056e-ff33-41d2-9af4-ce53d7e036e6",
   "metadata": {},
   "outputs": [
    {
     "data": {
      "text/plain": [
       "['mumbai', 'chennai']"
      ]
     },
     "execution_count": 45,
     "metadata": {},
     "output_type": "execute_result"
    }
   ],
   "source": [
    "ans_list=[i for i in l1 if len(i)>4]\n",
    "ans_list"
   ]
  },
  {
   "cell_type": "code",
   "execution_count": 10,
   "id": "9a66d31f-d9bc-44f4-b7f1-d5008108d31f",
   "metadata": {},
   "outputs": [
    {
     "data": {
      "text/plain": [
       "['Hyd', 'Mumbai']"
      ]
     },
     "execution_count": 10,
     "metadata": {},
     "output_type": "execute_result"
    }
   ],
   "source": [
    "#Q5) l1=['Hyd','Mumbai','chennai','blr']\n",
    "# ans=['Hyd','Mumbai']\n",
    "# we want elements which are having first letter capital\n",
    "l1=['Hyd','Mumbai','chennai','blr']\n",
    "ans_list=[]\n",
    "for i in l1:\n",
    "    if i[0].isupper():\n",
    "        ans_list.append(i)\n",
    "ans_list"
   ]
  },
  {
   "cell_type": "code",
   "execution_count": 4,
   "id": "23d982eb-d455-4a4f-8cb8-56295f30693c",
   "metadata": {},
   "outputs": [
    {
     "data": {
      "text/plain": [
       "['Hyd', 'Mumbai']"
      ]
     },
     "execution_count": 4,
     "metadata": {},
     "output_type": "execute_result"
    }
   ],
   "source": [
    "ans_list=[i for i in l1 if i[0].isupper()]\n",
    "ans_list"
   ]
  },
  {
   "cell_type": "code",
   "execution_count": 5,
   "id": "e46785f9-8881-4ff9-a51f-a0c0740fa636",
   "metadata": {},
   "outputs": [
    {
     "data": {
      "text/plain": [
       "['Mum#bai', 'chen#nai']"
      ]
     },
     "execution_count": 5,
     "metadata": {},
     "output_type": "execute_result"
    }
   ],
   "source": [
    "l1=['Hyd','Mum#bai','chen#nai','blr']\n",
    "ans_list=[]\n",
    "for i in l1:\n",
    "    if '#' in i:\n",
    "        ans_list.append(i)\n",
    "ans_list"
   ]
  },
  {
   "cell_type": "code",
   "execution_count": 8,
   "id": "013335c0-54ad-426a-bf71-c130f9fad278",
   "metadata": {},
   "outputs": [
    {
     "data": {
      "text/plain": [
       "['Mum#bai', 'chen#nai']"
      ]
     },
     "execution_count": 8,
     "metadata": {},
     "output_type": "execute_result"
    }
   ],
   "source": [
    "ans_list=[i for i in l1  if '#' in i]\n",
    "ans_list"
   ]
  },
  {
   "cell_type": "code",
   "execution_count": 18,
   "id": "9204c0bb-6538-4526-9965-0f9d91c4edec",
   "metadata": {},
   "outputs": [
    {
     "data": {
      "text/plain": [
       "['Mum#bai', 'chen#nai']"
      ]
     },
     "execution_count": 18,
     "metadata": {},
     "output_type": "execute_result"
    }
   ],
   "source": [
    "l1=['Hyd','Mum#bai','chen#nai','blr']\n",
    "ans_list=[i for i in l1 if '#' in i]\n",
    "ans_list"
   ]
  },
  {
   "cell_type": "code",
   "execution_count": 24,
   "id": "826cd4dc-3590-4360-9979-c2e1552d6642",
   "metadata": {},
   "outputs": [
    {
     "name": "stdout",
     "output_type": "stream",
     "text": [
      "virat\n",
      " Rohit\n",
      " KL\n"
     ]
    }
   ],
   "source": [
    "# Q9) str1='virat.kohli@rcb.com, Rohit.sharma@mi.co, KL.Rahul@lucknow.com'\n",
    "# Firstname=[]  second name=[]  cname =[]\n",
    "# append first name should be in first name list\n",
    "#        second name should be in second name list\n",
    "#        third name will be in third name list\n",
    "\n",
    "str1='virat.kohli@rcb.com, Rohit.sharma@mi.com, KL.Rahul@lucknow.com'\n",
    "list1=str1.split(',')\n",
    "# lis1[i][:<first_dot_indexl>]\n",
    "for i in list1:\n",
    ".    print(i[:i.index('.')])"
   ]
  },
  {
   "cell_type": "markdown",
   "id": "12527abc-9aad-44b6-8c27-1fb1d500b7c0",
   "metadata": {},
   "source": [
    "[<output> <forloop>:] for loop\n",
    "[<output> <forloop> <if condition>:]  for-if\n",
    "[<ifoutput> <if> <else> <else_op> <for>]:if-else"
   ]
  },
  {
   "cell_type": "markdown",
   "id": "e8b9ead8-d2d4-4fea-9563-98551aefb223",
   "metadata": {},
   "source": [
    "**even-odd**"
   ]
  },
  {
   "cell_type": "code",
   "execution_count": 18,
   "id": "eae8dcee-7d62-4c01-9c9c-f8ff62ede88c",
   "metadata": {},
   "outputs": [
    {
     "data": {
      "text/plain": [
       "['odd:1',\n",
       " 'even:2',\n",
       " 'odd:3',\n",
       " 'even:4',\n",
       " 'odd:5',\n",
       " 'even:6',\n",
       " 'odd:7',\n",
       " 'even:8',\n",
       " 'odd:9',\n",
       " 'even:10',\n",
       " 'odd:11',\n",
       " 'even:12',\n",
       " 'odd:13',\n",
       " 'even:14',\n",
       " 'odd:15',\n",
       " 'even:16',\n",
       " 'odd:17',\n",
       " 'even:18',\n",
       " 'odd:19']"
      ]
     },
     "execution_count": 18,
     "metadata": {},
     "output_type": "execute_result"
    }
   ],
   "source": [
    "op_list=[]\n",
    "for i in range(1,20):\n",
    "    if i%2==0:\n",
    "        op_list.append(f\"even:{i}\")\n",
    "    else:\n",
    "        op_list.append(f\"odd:{i}\")\n",
    "\n",
    "op_list"
   ]
  },
  {
   "cell_type": "code",
   "execution_count": 2,
   "id": "91576c09-819e-4de5-817d-76f3fe20610e",
   "metadata": {},
   "outputs": [
    {
     "data": {
      "text/plain": [
       "['__add__',\n",
       " '__class__',\n",
       " '__class_getitem__',\n",
       " '__contains__',\n",
       " '__delattr__',\n",
       " '__delitem__',\n",
       " '__dir__',\n",
       " '__doc__',\n",
       " '__eq__',\n",
       " '__format__',\n",
       " '__ge__',\n",
       " '__getattribute__',\n",
       " '__getitem__',\n",
       " '__getstate__',\n",
       " '__gt__',\n",
       " '__hash__',\n",
       " '__iadd__',\n",
       " '__imul__',\n",
       " '__init__',\n",
       " '__init_subclass__',\n",
       " '__iter__',\n",
       " '__le__',\n",
       " '__len__',\n",
       " '__lt__',\n",
       " '__mul__',\n",
       " '__ne__',\n",
       " '__new__',\n",
       " '__reduce__',\n",
       " '__reduce_ex__',\n",
       " '__repr__',\n",
       " '__reversed__',\n",
       " '__rmul__',\n",
       " '__setattr__',\n",
       " '__setitem__',\n",
       " '__sizeof__',\n",
       " '__str__',\n",
       " '__subclasshook__',\n",
       " 'append',\n",
       " 'clear',\n",
       " 'copy',\n",
       " 'count',\n",
       " 'extend',\n",
       " 'index',\n",
       " 'insert',\n",
       " 'pop',\n",
       " 'remove',\n",
       " 'reverse',\n",
       " 'sort']"
      ]
     },
     "execution_count": 2,
     "metadata": {},
     "output_type": "execute_result"
    }
   ],
   "source": [
    "dir([])"
   ]
  },
  {
   "cell_type": "code",
   "execution_count": 8,
   "id": "4875cb32-1fd5-4084-a449-bb543a548187",
   "metadata": {},
   "outputs": [
    {
     "data": {
      "text/plain": [
       "[2, 4, 6, 8]"
      ]
     },
     "execution_count": 8,
     "metadata": {},
     "output_type": "execute_result"
    }
   ],
   "source": [
    "a=[i for i in range(1,10) if i%2==0]\n",
    "a"
   ]
  },
  {
   "cell_type": "code",
   "execution_count": 15,
   "id": "7df7e891-43ae-449c-b440-5acf0610734b",
   "metadata": {},
   "outputs": [
    {
     "data": {
      "text/plain": [
       "[1, 4, 9, 16, 25, 36, 49, 64, 81, 100]"
      ]
     },
     "execution_count": 15,
     "metadata": {},
     "output_type": "execute_result"
    }
   ],
   "source": [
    "square_list=[]\n",
    "for i in range(1,11):\n",
    "    square_list.append(i*i)\n",
    "square_list"
   ]
  },
  {
   "cell_type": "code",
   "execution_count": 18,
   "id": "99bf978d-7d1c-420a-b93a-206764741d23",
   "metadata": {},
   "outputs": [
    {
     "data": {
      "text/plain": [
       "['HYD', 'MUM#BAI', 'CHEN#NAI', 'BLR']"
      ]
     },
     "execution_count": 18,
     "metadata": {},
     "output_type": "execute_result"
    }
   ],
   "source": [
    "l1=['Hyd','Mum#bai','chen#nai','blr']\n",
    "upper_list=[i.upper() for i in l1]\n",
    "upper_list"
   ]
  },
  {
   "cell_type": "code",
   "execution_count": null,
   "id": "05f34631-1bb7-4c57-8476-2938d08faaeb",
   "metadata": {},
   "outputs": [],
   "source": []
  }
 ],
 "metadata": {
  "kernelspec": {
   "display_name": "Python 3 (ipykernel)",
   "language": "python",
   "name": "python3"
  },
  "language_info": {
   "codemirror_mode": {
    "name": "ipython",
    "version": 3
   },
   "file_extension": ".py",
   "mimetype": "text/x-python",
   "name": "python",
   "nbconvert_exporter": "python",
   "pygments_lexer": "ipython3",
   "version": "3.11.7"
  }
 },
 "nbformat": 4,
 "nbformat_minor": 5
}
