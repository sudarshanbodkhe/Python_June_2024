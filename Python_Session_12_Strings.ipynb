{
 "cells": [
  {
   "cell_type": "code",
   "execution_count": null,
   "id": "66a55ab6-cdfe-4bdc-ae09-5c151b8cb31a",
   "metadata": {},
   "outputs": [],
   "source": [
    " ############### Python divided 3 parts3 ####################\n",
    "-----Basics Part\n",
    "1)Variables\n",
    "2)Data types\n",
    "3)Type conversion\n",
    "4)Eval input\n",
    "5)Packages\n",
    "6)Conditional statements\n",
    "7)Try-except\n",
    "8)Functions\n",
    "9)For\n",
    "10)While\n",
    "\n",
    "\n",
    "------Intermediate Part\n",
    "11)Strings\n",
    "12)Lists\n",
    "13)Dictionary\n",
    "14)Tuples(You will do this)\n",
    "15)Sets\n",
    "16)Lambda Functions\n",
    "17)File handling session\n",
    "\n",
    "----------Advanced\n",
    "18)OOPS"
   ]
  },
  {
   "cell_type": "markdown",
   "id": "6596c1e0-0e2b-47c9-85f4-cc44ef868b11",
   "metadata": {},
   "source": [
    "********************************Part-1********************************\n",
    "\n",
    "- Initialization\n",
    "\n",
    "- type\n",
    "\n",
    "- len\n",
    "\n",
    "- max\n",
    "\n",
    "- min\n",
    "\n",
    "- sorted\n",
    "\n",
    "- reversed\n",
    "\n",
    "- in\n",
    "\n",
    "- for loop\n",
    "\n",
    "- index\n",
    "\n",
    "- for loop index\n",
    "\n",
    "- mutable\n",
    "\n",
    "- concatenation\n",
    "\n",
    "\n",
    "\n",
    "\n",
    "********************************Part-2********************************\n",
    "\n",
    "- Methods\n"
   ]
  },
  {
   "cell_type": "markdown",
   "id": "3e3ce3c6-e91c-4a6f-9c54-157fd0161c68",
   "metadata": {},
   "source": [
    "**Initialization**"
   ]
  },
  {
   "cell_type": "code",
   "execution_count": 6,
   "id": "f7425cb3-9136-4a57-ab66-df79fd89a13d",
   "metadata": {},
   "outputs": [
    {
     "data": {
      "text/plain": [
       "'python'"
      ]
     },
     "execution_count": 6,
     "metadata": {},
     "output_type": "execute_result"
    }
   ],
   "source": [
    "str1='python'\n",
    "str1"
   ]
  },
  {
   "cell_type": "code",
   "execution_count": 7,
   "id": "b2050e7f-e2d5-4269-a69b-0ade9ec62dc2",
   "metadata": {},
   "outputs": [
    {
     "data": {
      "text/plain": [
       "'Python'"
      ]
     },
     "execution_count": 7,
     "metadata": {},
     "output_type": "execute_result"
    }
   ],
   "source": [
    "str2=\"Python\"\n",
    "str2"
   ]
  },
  {
   "cell_type": "code",
   "execution_count": 56,
   "id": "123935f0-1ebb-4cbd-b7c5-4f76651331ec",
   "metadata": {},
   "outputs": [
    {
     "ename": "NameError",
     "evalue": "name 'str2' is not defined",
     "output_type": "error",
     "traceback": [
      "\u001b[1;31m---------------------------------------------------------------------------\u001b[0m",
      "\u001b[1;31mNameError\u001b[0m                                 Traceback (most recent call last)",
      "Cell \u001b[1;32mIn[56], line 1\u001b[0m\n\u001b[1;32m----> 1\u001b[0m \u001b[38;5;28mprint\u001b[39m(str2)\n",
      "\u001b[1;31mNameError\u001b[0m: name 'str2' is not defined"
     ]
    }
   ],
   "source": [
    "print(str2) \n",
    "# do not confused i am not seeing the quotes"
   ]
  },
  {
   "cell_type": "markdown",
   "id": "3872ed8f-782f-4ae8-a839-78d8be6a6a51",
   "metadata": {},
   "source": [
    "**Note**\n",
    "- If we:mentioned single quotes or double quotes by default python provides in single quotes only\n",
    "\n",
    "- if we print the string,we will see answer without quotes\n",
    "\n",
    "- Triple quotes are using for doc string\n",
    "\n",
    "- In order to convey the information about coding part we will use doc string\n",
    "\n",
    "- Anything inside single quotes or double quotes is considered as string in python"
   ]
  },
  {
   "cell_type": "markdown",
   "id": "2cb3b90b-8e6e-4f55-a71f-2534aaeb6cae",
   "metadata": {},
   "source": [
    "**Triple quotes**"
   ]
  },
  {
   "cell_type": "code",
   "execution_count": 10,
   "id": "f9ffcf01-3ffc-4262-9f93-b0cbc3db9106",
   "metadata": {},
   "outputs": [
    {
     "data": {
      "text/plain": [
       "'hi how are you\\n        i am good'"
      ]
     },
     "execution_count": 10,
     "metadata": {},
     "output_type": "execute_result"
    }
   ],
   "source": [
    "str3=\"\"\"hi how are you\n",
    "        i am good\"\"\"\n",
    "str3"
   ]
  },
  {
   "cell_type": "code",
   "execution_count": 3,
   "id": "fbffb876-a0a5-4f40-93f0-e0b977d76267",
   "metadata": {},
   "outputs": [
    {
     "name": "stdout",
     "output_type": "stream",
     "text": [
      "hii i am sudarshan bodkhe\n",
      "                i am from chatrapati sambhajinager\n"
     ]
    }
   ],
   "source": [
    "str2=\"\"\"hii i am sudarshan bodkhe\n",
    "                i am from chatrapati sambhajinager\"\"\"\n",
    "print(str2)"
   ]
  },
  {
   "cell_type": "code",
   "execution_count": 11,
   "id": "c1145e15-e6f3-47d3-919e-994621f74632",
   "metadata": {},
   "outputs": [
    {
     "name": "stdout",
     "output_type": "stream",
     "text": [
      "hi how are you\n",
      "        i am good\n"
     ]
    }
   ],
   "source": [
    "print(str3)"
   ]
  },
  {
   "cell_type": "markdown",
   "id": "7a02a40a-cdf4-40ce-a19a-cfb5c411698e",
   "metadata": {},
   "source": [
    "**type**"
   ]
  },
  {
   "cell_type": "code",
   "execution_count": 12,
   "id": "932a05b0-bcde-4f5f-a21f-50ddcfcae8de",
   "metadata": {},
   "outputs": [
    {
     "data": {
      "text/plain": [
       "str"
      ]
     },
     "execution_count": 12,
     "metadata": {},
     "output_type": "execute_result"
    }
   ],
   "source": [
    "type(str1) #type is string type"
   ]
  },
  {
   "cell_type": "code",
   "execution_count": 13,
   "id": "47490d77-be9e-4cde-82a7-9e0232b19540",
   "metadata": {},
   "outputs": [],
   "source": [
    "str4='10' #integer value in the form of string\n",
    "str5='10.5' #float value in the form of string\n",
    "str6='123abc' #Alpha numeric value in the form of string\n",
    "str7='True'  #Boolean in the form of string\n",
    "\n",
    "#All are in quotes,means in red color:strings"
   ]
  },
  {
   "cell_type": "markdown",
   "id": "8d23b5c1-51c3-49b4-8060-f62f208cd2f8",
   "metadata": {},
   "source": [
    "**Len**"
   ]
  },
  {
   "cell_type": "code",
   "execution_count": 14,
   "id": "9d33cd0c-2d12-4c71-8dfc-022c16807863",
   "metadata": {},
   "outputs": [
    {
     "data": {
      "text/plain": [
       "6"
      ]
     },
     "execution_count": 14,
     "metadata": {},
     "output_type": "execute_result"
    }
   ],
   "source": [
    "str1='python'\n",
    "len(str1)"
   ]
  },
  {
   "cell_type": "code",
   "execution_count": 2,
   "id": "8e85eaac-484b-4e0f-a83c-d79b9a328b77",
   "metadata": {},
   "outputs": [
    {
     "data": {
      "text/plain": [
       "22"
      ]
     },
     "execution_count": 2,
     "metadata": {},
     "output_type": "execute_result"
    }
   ],
   "source": [
    "l1='sudarshan patil bodkhe'\n",
    "len(l1)"
   ]
  },
  {
   "cell_type": "code",
   "execution_count": 5,
   "id": "755dbdf4-e95e-482a-b76e-3325f863e2c4",
   "metadata": {},
   "outputs": [
    {
     "data": {
      "text/plain": [
       "9"
      ]
     },
     "execution_count": 5,
     "metadata": {},
     "output_type": "execute_result"
    }
   ],
   "source": [
    "str='sudarshan'\n",
    "len(str)"
   ]
  },
  {
   "cell_type": "markdown",
   "id": "7be892d7-4fcd-4cf2-8a62-633ba88de04b",
   "metadata": {},
   "source": [
    "**max and min**"
   ]
  },
  {
   "cell_type": "code",
   "execution_count": 63,
   "id": "8b48823a-2273-4ad9-b45c-648c03bc84e9",
   "metadata": {},
   "outputs": [
    {
     "data": {
      "text/plain": [
       "'y'"
      ]
     },
     "execution_count": 63,
     "metadata": {},
     "output_type": "execute_result"
    }
   ],
   "source": [
    "str1='python'\n",
    "max(str1)"
   ]
  },
  {
   "cell_type": "code",
   "execution_count": 62,
   "id": "ad65599b-3620-4e39-9f94-77b83871bf17",
   "metadata": {},
   "outputs": [
    {
     "data": {
      "text/plain": [
       "'t'"
      ]
     },
     "execution_count": 62,
     "metadata": {},
     "output_type": "execute_result"
    }
   ],
   "source": [
    "s='patil'\n",
    "max(s)"
   ]
  },
  {
   "cell_type": "code",
   "execution_count": 18,
   "id": "7c8560dd-f513-4310-a42a-a8cea22fc8b2",
   "metadata": {},
   "outputs": [
    {
     "data": {
      "text/plain": [
       "'h'"
      ]
     },
     "execution_count": 18,
     "metadata": {},
     "output_type": "execute_result"
    }
   ],
   "source": [
    "str1='python'\n",
    "min(str1)"
   ]
  },
  {
   "cell_type": "code",
   "execution_count": 19,
   "id": "97b81d3d-891e-412e-a75c-a44fe9355a2f",
   "metadata": {},
   "outputs": [
    {
     "data": {
      "text/plain": [
       "(112, 121, 116, 104, 111, 110)"
      ]
     },
     "execution_count": 19,
     "metadata": {},
     "output_type": "execute_result"
    }
   ],
   "source": [
    "ord('p'),ord('y'),ord('t'),ord('h'),ord('o'),ord('n')"
   ]
  },
  {
   "cell_type": "code",
   "execution_count": 21,
   "id": "f251a76f-d222-45e2-b73f-88e9bbdbee80",
   "metadata": {},
   "outputs": [
    {
     "data": {
      "text/plain": [
       "'u'"
      ]
     },
     "execution_count": 21,
     "metadata": {},
     "output_type": "execute_result"
    }
   ],
   "source": [
    "str2='sudarshan'\n",
    "max(str2)"
   ]
  },
  {
   "cell_type": "code",
   "execution_count": 23,
   "id": "d46a5dce-2e74-4da0-a945-a704aff57ecb",
   "metadata": {},
   "outputs": [
    {
     "data": {
      "text/plain": [
       "'a'"
      ]
     },
     "execution_count": 23,
     "metadata": {},
     "output_type": "execute_result"
    }
   ],
   "source": [
    "str1='sudarshan'\n",
    "min(str1)"
   ]
  },
  {
   "cell_type": "markdown",
   "id": "4bd469d2-35e5-4509-b663-f873850d1cf8",
   "metadata": {},
   "source": [
    "**Keywords vs Methods**"
   ]
  },
  {
   "cell_type": "code",
   "execution_count": null,
   "id": "b0f70d1e-1337-42b0-b978-37df5327969e",
   "metadata": {},
   "outputs": [],
   "source": [
    "type(<>)\n",
    "print(<>)\n",
    "len(<>)\n",
    "max(<>)\n",
    "eval(<>)\n",
    "input(<>)\n",
    "max(<>)\n",
    "min(<>)"
   ]
  },
  {
   "cell_type": "code",
   "execution_count": null,
   "id": "419e72dd-518c-4c31-b14c-caaba005dfd9",
   "metadata": {},
   "outputs": [],
   "source": [
    "- in order to use method we need to call package\n",
    "\n",
    "import random\n",
    "random.randint()\n",
    "\n",
    "import math\n",
    "math.sqrt()\n",
    "\n",
    "import time\n",
    "tme.sleep()"
   ]
  },
  {
   "cell_type": "code",
   "execution_count": 25,
   "id": "f1dd7da1-3be3-4a09-9881-3958962c082b",
   "metadata": {},
   "outputs": [
    {
     "data": {
      "text/plain": [
       "'y'"
      ]
     },
     "execution_count": 25,
     "metadata": {},
     "output_type": "execute_result"
    }
   ],
   "source": [
    "str1='python123'\n",
    "max(str1)"
   ]
  },
  {
   "cell_type": "markdown",
   "id": "a2451dad-a41f-410c-b2f9-844739b1c623",
   "metadata": {},
   "source": [
    "**sum**"
   ]
  },
  {
   "cell_type": "code",
   "execution_count": 27,
   "id": "bd623368-d2f3-405b-8108-486cc53ec5a8",
   "metadata": {},
   "outputs": [
    {
     "ename": "TypeError",
     "evalue": "unsupported operand type(s) for +: 'int' and 'str'",
     "output_type": "error",
     "traceback": [
      "\u001b[1;31m---------------------------------------------------------------------------\u001b[0m",
      "\u001b[1;31mTypeError\u001b[0m                                 Traceback (most recent call last)",
      "Cell \u001b[1;32mIn[27], line 2\u001b[0m\n\u001b[0;32m      1\u001b[0m str1\u001b[38;5;241m=\u001b[39m\u001b[38;5;124m'\u001b[39m\u001b[38;5;124mp+y+t+h+o+n\u001b[39m\u001b[38;5;124m'\u001b[39m\n\u001b[1;32m----> 2\u001b[0m \u001b[38;5;28msum\u001b[39m(str1)\n",
      "\u001b[1;31mTypeError\u001b[0m: unsupported operand type(s) for +: 'int' and 'str'"
     ]
    }
   ],
   "source": [
    "str1='python'\n",
    "sum(str1)"
   ]
  },
  {
   "cell_type": "code",
   "execution_count": 8,
   "id": "5af41e65-a715-4394-89b6-fb990fa73339",
   "metadata": {},
   "outputs": [
    {
     "data": {
      "text/plain": [
       "6"
      ]
     },
     "execution_count": 8,
     "metadata": {},
     "output_type": "execute_result"
    }
   ],
   "source": [
    "sum([1,2,3])"
   ]
  },
  {
   "cell_type": "markdown",
   "id": "df617f84-503f-43f4-b651-ba29cc49f232",
   "metadata": {},
   "source": [
    "**sorted**"
   ]
  },
  {
   "cell_type": "code",
   "execution_count": 30,
   "id": "92805ce2-e3c9-4d7a-87e3-e72f5fcbd084",
   "metadata": {},
   "outputs": [
    {
     "name": "stdout",
     "output_type": "stream",
     "text": [
      "python\n"
     ]
    },
    {
     "data": {
      "text/plain": [
       "6"
      ]
     },
     "execution_count": 30,
     "metadata": {},
     "output_type": "execute_result"
    }
   ],
   "source": [
    "len('python')\n",
    "max('python')\n",
    "min('python')\n",
    "print('python')\n",
    "len('python')"
   ]
  },
  {
   "cell_type": "code",
   "execution_count": 31,
   "id": "446f83f0-c90e-41ac-b081-f2db345857d2",
   "metadata": {},
   "outputs": [
    {
     "data": {
      "text/plain": [
       "['h', 'n', 'o', 'p', 't', 'y']"
      ]
     },
     "execution_count": 31,
     "metadata": {},
     "output_type": "execute_result"
    }
   ],
   "source": [
    "sorted('python')"
   ]
  },
  {
   "cell_type": "markdown",
   "id": "1567472d-936e-4df0-a559-1458fa5d5544",
   "metadata": {},
   "source": [
    "- sorted gives ascending order based on ASCII numbers:\n",
    "\n",
    "- sorted is kind of a function\n",
    "\n",
    "- Every function we have arguments\n",
    "\n",
    "- In that one default argument is **reverse-false**\n",
    "\n",
    "- By default sorted output gives **ascending order**\n",
    "\n",
    "- we can change the order by providing **reverse=True**\n",
    "\n",
    "- **If we do not mention,it will give the default answer**"
   ]
  },
  {
   "cell_type": "code",
   "execution_count": 1,
   "id": "ffbb2c9a-01db-4282-bd4f-a3dd28d77567",
   "metadata": {},
   "outputs": [
    {
     "data": {
      "text/plain": [
       "['y', 't', 'p', 'o', 'n', 'h']"
      ]
     },
     "execution_count": 1,
     "metadata": {},
     "output_type": "execute_result"
    }
   ],
   "source": [
    "sorted('python',reverse=True)"
   ]
  },
  {
   "cell_type": "code",
   "execution_count": 4,
   "id": "b2db971f-67a1-47df-aa24-a4d5948b5558",
   "metadata": {},
   "outputs": [
    {
     "data": {
      "text/plain": [
       "['A', 'B', 'C', 'D', 'E']"
      ]
     },
     "execution_count": 4,
     "metadata": {},
     "output_type": "execute_result"
    }
   ],
   "source": [
    "sorted('EDCBA')"
   ]
  },
  {
   "cell_type": "code",
   "execution_count": 6,
   "id": "142dd99f-09d9-490b-a9aa-8c20cbcd9801",
   "metadata": {},
   "outputs": [
    {
     "data": {
      "text/plain": [
       "['h', 'n', 'o', 'p', 't', 'y']"
      ]
     },
     "execution_count": 6,
     "metadata": {},
     "output_type": "execute_result"
    }
   ],
   "source": [
    "sorted('python')"
   ]
  },
  {
   "cell_type": "code",
   "execution_count": 7,
   "id": "ea24337a-cf9b-467e-bc3a-33824842ae35",
   "metadata": {},
   "outputs": [
    {
     "data": {
      "text/plain": [
       "['a', 'a', 'd', 'h', 'n', 'r', 's', 's', 'u']"
      ]
     },
     "execution_count": 7,
     "metadata": {},
     "output_type": "execute_result"
    }
   ],
   "source": [
    "sorted('sudarshan')"
   ]
  },
  {
   "cell_type": "code",
   "execution_count": 8,
   "id": "0c851233-1d04-4716-8bde-8b8e5ee96edd",
   "metadata": {},
   "outputs": [
    {
     "data": {
      "text/plain": [
       "['u', 's', 's', 'r', 'n', 'h', 'd', 'a', 'a']"
      ]
     },
     "execution_count": 8,
     "metadata": {},
     "output_type": "execute_result"
    }
   ],
   "source": [
    "sorted('sudarshan',reverse=True)"
   ]
  },
  {
   "cell_type": "code",
   "execution_count": 2,
   "id": "5f8963ea-76cf-4c50-a007-c15e45c1dc51",
   "metadata": {},
   "outputs": [
    {
     "data": {
      "text/plain": [
       "0j"
      ]
     },
     "execution_count": 2,
     "metadata": {},
     "output_type": "execute_result"
    }
   ],
   "source": [
    "complex()"
   ]
  },
  {
   "cell_type": "code",
   "execution_count": 3,
   "id": "bc19cb86-8421-460f-bf55-633204b18bcd",
   "metadata": {},
   "outputs": [
    {
     "data": {
      "text/plain": [
       "(10+20j)"
      ]
     },
     "execution_count": 3,
     "metadata": {},
     "output_type": "execute_result"
    }
   ],
   "source": [
    "complex(10,20)"
   ]
  },
  {
   "cell_type": "code",
   "execution_count": 5,
   "id": "d7f990d3-c901-44b4-95a9-80deb5ad1ccc",
   "metadata": {},
   "outputs": [
    {
     "data": {
      "text/plain": [
       "(10+30j)"
      ]
     },
     "execution_count": 5,
     "metadata": {},
     "output_type": "execute_result"
    }
   ],
   "source": [
    "complex(real=10,imag=30)"
   ]
  },
  {
   "cell_type": "code",
   "execution_count": null,
   "id": "42b5b0ce-ef4a-4d5a-b3d8-9befec911b3d",
   "metadata": {},
   "outputs": [],
   "source": [
    "function() #Answer\n",
    "function(a,b) # this might return error if we dont gives the value of a and bsorte\n",
    "function(a=10,b=10) #ans"
   ]
  },
  {
   "cell_type": "code",
   "execution_count": null,
   "id": "ecf90645-6b35-43f8-9da6-6cccef7beaaa",
   "metadata": {},
   "outputs": [],
   "source": [
    "function()\n",
    "function(a,b)\n",
    "function(a=20,b=10)"
   ]
  },
  {
   "cell_type": "code",
   "execution_count": 13,
   "id": "da760a7c-4848-4192-9321-9f0a4d662852",
   "metadata": {},
   "outputs": [
    {
     "data": {
      "text/plain": [
       "0.14939993308245103"
      ]
     },
     "execution_count": 13,
     "metadata": {},
     "output_type": "execute_result"
    }
   ],
   "source": [
    "import random\n",
    "random.random() #we will get answer but answer is not in our hands"
   ]
  },
  {
   "cell_type": "code",
   "execution_count": 11,
   "id": "3865ec36-b5c1-47aa-9b4f-fb8bb6b7bf12",
   "metadata": {},
   "outputs": [
    {
     "data": {
      "text/plain": [
       "11"
      ]
     },
     "execution_count": 11,
     "metadata": {},
     "output_type": "execute_result"
    }
   ],
   "source": [
    "import random\n",
    "random.randint(10,20)"
   ]
  },
  {
   "cell_type": "code",
   "execution_count": 9,
   "id": "77094556-ccdd-493e-b911-70e66580f4ac",
   "metadata": {},
   "outputs": [
    {
     "data": {
      "text/plain": [
       "0j"
      ]
     },
     "execution_count": 9,
     "metadata": {},
     "output_type": "execute_result"
    }
   ],
   "source": [
    "complex() #By default"
   ]
  },
  {
   "cell_type": "code",
   "execution_count": 10,
   "id": "b674fa2a-ee71-49ba-9fc0-5d573d7ea79f",
   "metadata": {},
   "outputs": [
    {
     "data": {
      "text/plain": [
       "(10+20j)"
      ]
     },
     "execution_count": 10,
     "metadata": {},
     "output_type": "execute_result"
    }
   ],
   "source": [
    "complex(10,20)"
   ]
  },
  {
   "cell_type": "code",
   "execution_count": 14,
   "id": "3a706b02-6f7a-4b0e-acdc-2244072eebdd",
   "metadata": {},
   "outputs": [
    {
     "ename": "TypeError",
     "evalue": "sorted expected 1 argument, got 0",
     "output_type": "error",
     "traceback": [
      "\u001b[1;31m---------------------------------------------------------------------------\u001b[0m",
      "\u001b[1;31mTypeError\u001b[0m                                 Traceback (most recent call last)",
      "Cell \u001b[1;32mIn[14], line 1\u001b[0m\n\u001b[1;32m----> 1\u001b[0m \u001b[38;5;28msorted\u001b[39m(iterable\u001b[38;5;241m=\u001b[39m\u001b[38;5;124m'\u001b[39m\u001b[38;5;124mpython\u001b[39m\u001b[38;5;124m'\u001b[39m) \u001b[38;5;66;03m#error\u001b[39;00m\n\u001b[0;32m      2\u001b[0m random\u001b[38;5;241m.\u001b[39mrandint(a\u001b[38;5;241m=\u001b[39m\u001b[38;5;241m10\u001b[39m,b\u001b[38;5;241m=\u001b[39m\u001b[38;5;241m30\u001b[39m)\n",
      "\u001b[1;31mTypeError\u001b[0m: sorted expected 1 argument, got 0"
     ]
    }
   ],
   "source": [
    "sorted(iterable='python') #error\n",
    "random.randint(a=10,b=30) #answer"
   ]
  },
  {
   "cell_type": "code",
   "execution_count": 17,
   "id": "4c47546f-6eb0-4f2f-8b22-966f40ba80aa",
   "metadata": {},
   "outputs": [
    {
     "data": {
      "text/plain": [
       "['h', 'n', 'o', 'p', 't', 'y']"
      ]
     },
     "execution_count": 17,
     "metadata": {},
     "output_type": "execute_result"
    }
   ],
   "source": [
    "sorted('python') #answer"
   ]
  },
  {
   "cell_type": "code",
   "execution_count": 18,
   "id": "6f5e27f6-530d-444b-9384-0f1806b1c683",
   "metadata": {},
   "outputs": [
    {
     "data": {
      "text/plain": [
       "['y', 't', 'p', 'o', 'n', 'h']"
      ]
     },
     "execution_count": 18,
     "metadata": {},
     "output_type": "execute_result"
    }
   ],
   "source": [
    "sorted('python') #answer\n",
    "sorted('python',reverse=True) #answer"
   ]
  },
  {
   "cell_type": "code",
   "execution_count": 5,
   "id": "4fca0458-0a63-4e73-b580-74fe4a232d29",
   "metadata": {},
   "outputs": [
    {
     "data": {
      "text/plain": [
       "['U', 'V', 'W', 'X', 'Y', 'Z']"
      ]
     },
     "execution_count": 5,
     "metadata": {},
     "output_type": "execute_result"
    }
   ],
   "source": [
    "sorted('ZYXWVU')"
   ]
  },
  {
   "cell_type": "markdown",
   "id": "02854684-54ec-4936-87da-6f4a56101b7d",
   "metadata": {},
   "source": [
    "**Note**\n",
    "\n",
    "- we have arguments before / and after slash\n",
    "\n",
    "- we can use the argument after / only\n",
    "\n",
    "- for example sorted has two argument one is iterable and another is reverse.\n",
    "\n",
    "- iterable is mentioned before / symbol\n",
    "\n",
    "- reverse is metioned after / symbol\n",
    "\n",
    "- so we can use only reverse argument name while we are doing the work\n",
    "\n",
    "- we can not use iterable argument name\n",
    "\n",
    "- instead of using iterable name,we can provide direct value at the position"
   ]
  },
  {
   "cell_type": "markdown",
   "id": "2046fe53-e84b-4981-9e76-2b94bb383031",
   "metadata": {},
   "source": [
    "**reversed**"
   ]
  },
  {
   "cell_type": "markdown",
   "id": "1c91d839-7841-4853-acaa-b00bd66bd950",
   "metadata": {},
   "source": [
    "type()\n",
    "len()\n",
    "max()\n",
    "min()\n",
    "print()\n",
    "sorted()\n"
   ]
  },
  {
   "cell_type": "code",
   "execution_count": 21,
   "id": "c0f51c32-1999-4ff2-9ae7-07d1e79a37e4",
   "metadata": {},
   "outputs": [
    {
     "data": {
      "text/plain": [
       "<reversed at 0x11e28377cd0>"
      ]
     },
     "execution_count": 21,
     "metadata": {},
     "output_type": "execute_result"
    }
   ],
   "source": [
    "reversed('python')"
   ]
  },
  {
   "cell_type": "markdown",
   "id": "b0309c40-5e3e-4489-bf0f-4eab29aead05",
   "metadata": {},
   "source": [
    "- I already done my work\n",
    "\n",
    "- Your output is stored in the memmory location\n",
    "\n",
    "- whenever you see this kind of answer less than and greater than symbol or memmory\n",
    "\n",
    "- use for loop to see the answer "
   ]
  },
  {
   "cell_type": "code",
   "execution_count": 52,
   "id": "a840ae91-880a-43b0-b6a7-eef7a0ebe299",
   "metadata": {},
   "outputs": [
    {
     "name": "stdout",
     "output_type": "stream",
     "text": [
      "u\n",
      "o\n",
      "y\n",
      " \n",
      "e\n",
      "r\n",
      "a\n",
      " \n",
      "w\n",
      "o\n",
      "h\n",
      " \n",
      "h\n",
      "s\n",
      "e\n",
      "r\n",
      "a\n",
      "n\n",
      " \n",
      "i\n",
      "a\n",
      "h\n"
     ]
    }
   ],
   "source": [
    "str=\"hai naresh how are you\"\n",
    "output=reversed(str)\n",
    "for i in output:\n",
    "    print(i)"
   ]
  },
  {
   "cell_type": "code",
   "execution_count": 57,
   "id": "5542f8cb-5e5e-41ec-97ae-2ea0a0513349",
   "metadata": {},
   "outputs": [
    {
     "name": "stdout",
     "output_type": "stream",
     "text": [
      "n\n",
      "o\n",
      "h\n",
      "t\n",
      "y\n",
      "p\n"
     ]
    }
   ],
   "source": [
    "str1='python'\n",
    "output=reversed(str1)\n",
    "for i in output:\n",
    "    print(i)"
   ]
  },
  {
   "cell_type": "code",
   "execution_count": 24,
   "id": "07e32467-a04f-4737-8b4e-83470dfe8034",
   "metadata": {},
   "outputs": [
    {
     "name": "stdout",
     "output_type": "stream",
     "text": [
      "n\n",
      "a\n",
      "h\n",
      "s\n",
      "r\n",
      "a\n",
      "d\n",
      "u\n",
      "s\n"
     ]
    }
   ],
   "source": [
    "str2='sudarshan'\n",
    "name=reversed(str2)\n",
    "for i in name:\n",
    "    print(i)"
   ]
  },
  {
   "cell_type": "code",
   "execution_count": 25,
   "id": "7efa4d7e-c70f-4cb5-b339-bb7de2b4a869",
   "metadata": {},
   "outputs": [
    {
     "data": {
      "text/plain": [
       "['h', 'n', 'o', 'p', 't', 'y']"
      ]
     },
     "execution_count": 25,
     "metadata": {},
     "output_type": "execute_result"
    }
   ],
   "source": [
    "sorted('python')"
   ]
  },
  {
   "cell_type": "code",
   "execution_count": 27,
   "id": "07a7782c-86aa-41ce-8a88-ff20c3aa663a",
   "metadata": {},
   "outputs": [
    {
     "data": {
      "text/plain": [
       "'u'"
      ]
     },
     "execution_count": 27,
     "metadata": {},
     "output_type": "execute_result"
    }
   ],
   "source": [
    "max('sudarshan')"
   ]
  },
  {
   "cell_type": "code",
   "execution_count": 4,
   "id": "b407b32e-ea41-4380-8bc1-73d202a7d345",
   "metadata": {},
   "outputs": [
    {
     "data": {
      "text/plain": [
       "['y', 't', 'p', 'o', 'n', 'h']"
      ]
     },
     "execution_count": 4,
     "metadata": {},
     "output_type": "execute_result"
    }
   ],
   "source": [
    "sorted('python',reverse=True)"
   ]
  },
  {
   "cell_type": "code",
   "execution_count": 6,
   "id": "1f8976f3-363c-4c11-9be3-59c28ad5a610",
   "metadata": {},
   "outputs": [
    {
     "data": {
      "text/plain": [
       "['a', 'e', 'h', 'n', 'r', 's']"
      ]
     },
     "execution_count": 6,
     "metadata": {},
     "output_type": "execute_result"
    }
   ],
   "source": [
    "#sorted()\n",
    "#it will provides the values either ascending or decending\n",
    "\n",
    "sorted('naresh') #Ascending or Descending\n",
    "\n",
    "# when I run directly it will give one answer\n",
    "# the function has a default behaviour:ascending\n",
    "\n",
    "#How this default mentioned\n",
    "#we need to understand about arguments"
   ]
  },
  {
   "cell_type": "code",
   "execution_count": 10,
   "id": "74eaa81a-be18-4310-887a-156a006c926f",
   "metadata": {},
   "outputs": [
    {
     "data": {
      "text/plain": [
       "['s', 'r', 'n', 'h', 'e', 'a']"
      ]
     },
     "execution_count": 10,
     "metadata": {},
     "output_type": "execute_result"
    }
   ],
   "source": [
    "sorted('naresh',reverse=True)"
   ]
  },
  {
   "cell_type": "code",
   "execution_count": 7,
   "id": "562e844c-5a1f-41b1-a0bf-bcbf189db999",
   "metadata": {},
   "outputs": [
    {
     "name": "stdout",
     "output_type": "stream",
     "text": [
      "l\n",
      "i\n",
      "t\n",
      "a\n",
      "p\n"
     ]
    }
   ],
   "source": [
    "str3='patil'\n",
    "name=reversed(str3)\n",
    "for i in name:\n",
    "    print(i)\n"
   ]
  },
  {
   "cell_type": "code",
   "execution_count": 15,
   "id": "edd0433a-822e-4f45-b303-191ffaffe704",
   "metadata": {},
   "outputs": [
    {
     "data": {
      "text/plain": [
       "[1, 2, 10, 20, 30]"
      ]
     },
     "execution_count": 15,
     "metadata": {},
     "output_type": "execute_result"
    }
   ],
   "source": [
    "sorted([1,10,2,20,30])"
   ]
  },
  {
   "cell_type": "code",
   "execution_count": 6,
   "id": "af6b7f56-9e36-4d9d-90de-4b4f5153f080",
   "metadata": {},
   "outputs": [
    {
     "name": "stdout",
     "output_type": "stream",
     "text": [
      "u\n",
      "o\n",
      "y\n",
      " \n",
      "e\n",
      "r\n",
      "a\n",
      " \n",
      "w\n",
      "o\n",
      "h\n",
      " \n",
      "i\n",
      "a\n",
      "h\n"
     ]
    }
   ],
   "source": [
    "str1='hai how are you'\n",
    "value=reversed(str1)\n",
    "for i in value:\n",
    "    print(i)"
   ]
  },
  {
   "cell_type": "code",
   "execution_count": 16,
   "id": "6ca8eabb-96a1-4bf4-aed6-bfa5edf810af",
   "metadata": {},
   "outputs": [
    {
     "data": {
      "text/plain": [
       "[30, 20, 10, 2, 1]"
      ]
     },
     "execution_count": 16,
     "metadata": {},
     "output_type": "execute_result"
    }
   ],
   "source": [
    "sorted([1,10,2,20,30],reverse=True)"
   ]
  },
  {
   "cell_type": "markdown",
   "id": "6e795897-c39b-450a-8c1c-adcc5eef7e69",
   "metadata": {},
   "source": [
    "**In**"
   ]
  },
  {
   "cell_type": "code",
   "execution_count": 19,
   "id": "e1ae27f1-4865-483a-970a-ddc89e6bd6f3",
   "metadata": {},
   "outputs": [
    {
     "data": {
      "text/plain": [
       "False"
      ]
     },
     "execution_count": 19,
     "metadata": {},
     "output_type": "execute_result"
    }
   ],
   "source": [
    "str1='naresh'\n",
    "\n",
    "'n' not in str1"
   ]
  },
  {
   "cell_type": "code",
   "execution_count": 21,
   "id": "6855e030-6d33-4944-be65-10f951ec34d4",
   "metadata": {},
   "outputs": [
    {
     "name": "stdout",
     "output_type": "stream",
     "text": [
      "n\n",
      "a\n",
      "r\n",
      "e\n",
      "s\n",
      "h\n"
     ]
    }
   ],
   "source": [
    "for i in str1:\n",
    "    print(i)"
   ]
  },
  {
   "cell_type": "markdown",
   "id": "0704a2b6-35da-4c6b-9bf6-bde633606565",
   "metadata": {},
   "source": [
    "**Note**"
   ]
  },
  {
   "cell_type": "markdown",
   "id": "46d6d30e-0596-4f85-9552-c9704158457d",
   "metadata": {},
   "source": [
    "**in operator** "
   ]
  },
  {
   "cell_type": "code",
   "execution_count": 31,
   "id": "731c673d-1438-497b-ae1a-da46336ec073",
   "metadata": {},
   "outputs": [
    {
     "name": "stdout",
     "output_type": "stream",
     "text": [
      "The count is:3\n"
     ]
    }
   ],
   "source": [
    "# wap ask the user count how many 'a' are present in a string\n",
    "#str1='hai naresh how are you'\n",
    "\n",
    "\n",
    "#idea: count wrapper\n",
    "#step-1:count=0\n",
    "#step-2:using for loop in operator iterate through given string\n",
    "#step-3:apply the condition whenever the letter 'a'\n",
    "#step-4:count=count+1\n",
    "str1=\"hai naresh how are you\"\n",
    "count=0\n",
    "for i in str1:\n",
    "    if i=='a':\n",
    "        count=count+1\n",
    "print(f\"The count is:{count}\")"
   ]
  },
  {
   "cell_type": "code",
   "execution_count": 21,
   "id": "968d772c-c9c1-4500-b84b-5d7a0a5fe84a",
   "metadata": {},
   "outputs": [
    {
     "name": "stdout",
     "output_type": "stream",
     "text": [
      "There are 9 vowels in a string\n"
     ]
    }
   ],
   "source": [
    "#Q2) wap ask the user find how many vowels are there in a given string\n",
    "##str1='hai naresh how are you'\n",
    "count=0\n",
    "str1='hai naresh how are you'\n",
    "for i in str1:\n",
    "    if i in 'aieou':\n",
    "        count=count+1\n",
    "print(f\"There are {count} vowels in a string\")\n",
    "\n"
   ]
  },
  {
   "cell_type": "code",
   "execution_count": 9,
   "id": "54dc3e33-1c72-43c5-a83e-64193b613b00",
   "metadata": {},
   "outputs": [
    {
     "name": "stdout",
     "output_type": "stream",
     "text": [
      "5\n"
     ]
    }
   ],
   "source": [
    "#Home work question\n",
    "#str1='hai naresh how are you'\n",
    "#repeated vowels are there\n",
    "#we dont wants to repeat vowels\n",
    "#count the vowels avoid repitation:Unique Vowels\n",
    "\n",
    "#step-1:count=0\n",
    "#step-2:take one more empty string: ex= s2=''\n",
    "#step-3: using for loop iterate operate through given string\n",
    "#step-4:      condition-1:That letter should not availble in s2\n",
    "#step-5:       condition-2:vowel check condition\n",
    "#step-7         update the s2 = s2=s2+<letter>\n",
    "\n",
    "\n",
    "str1='hai naresh how are you'\n",
    "str2=''\n",
    "count=0\n",
    "for i in str1:\n",
    "    if i not in str2:\n",
    "        if i in 'aeiou':\n",
    "            count=count+1\n",
    "            str2=str2+i\n",
    "print(count)\n",
    "    "
   ]
  },
  {
   "cell_type": "code",
   "execution_count": 10,
   "id": "257fc79d-280f-45f2-9b22-2a380a4f88c6",
   "metadata": {},
   "outputs": [
    {
     "name": "stdout",
     "output_type": "stream",
     "text": [
      "5\n"
     ]
    }
   ],
   "source": [
    "str1='sudarshan bodkhe patil'\n",
    "str2=''\n",
    "count=0\n",
    "for i in str1:\n",
    "    if i not in str2:\n",
    "        if i in 'aeiou':\n",
    "            count=count+1\n",
    "            str2=str2+i\n",
    "print(count)"
   ]
  },
  {
   "cell_type": "markdown",
   "id": "61df827c-742c-4309-aa09-3b12b0b8c5e1",
   "metadata": {},
   "source": [
    "**How to update the string**"
   ]
  },
  {
   "cell_type": "code",
   "execution_count": 12,
   "id": "1bfa5d95-c973-4e0b-a3e2-a79974dcd82d",
   "metadata": {},
   "outputs": [
    {
     "data": {
      "text/plain": [
       "'python'"
      ]
     },
     "execution_count": 12,
     "metadata": {},
     "output_type": "execute_result"
    }
   ],
   "source": [
    "s1='python'\n",
    "s2=''\n",
    "\n",
    "for i in s1:\n",
    "    s2=s2+i\n",
    "s2"
   ]
  },
  {
   "cell_type": "code",
   "execution_count": 11,
   "id": "368ab905-cbc0-4531-8e15-8810db33e211",
   "metadata": {},
   "outputs": [
    {
     "data": {
      "text/plain": [
       "'patil'"
      ]
     },
     "execution_count": 11,
     "metadata": {},
     "output_type": "execute_result"
    }
   ],
   "source": [
    "s1='patil'\n",
    "k1=''\n",
    "for i in s1:\n",
    "    k1=k1+i\n",
    "k1"
   ]
  },
  {
   "cell_type": "code",
   "execution_count": 32,
   "id": "4142ccea-a310-4bdb-8ceb-b17f86663a59",
   "metadata": {},
   "outputs": [
    {
     "data": {
      "text/plain": [
       "'sudarshan'"
      ]
     },
     "execution_count": 32,
     "metadata": {},
     "output_type": "execute_result"
    }
   ],
   "source": [
    "k='sudarshan'\n",
    "s=''\n",
    "for i in k:\n",
    "    s=s+i\n",
    "s"
   ]
  },
  {
   "cell_type": "markdown",
   "id": "d488c984-946f-4ada-91ee-3fb48a642da2",
   "metadata": {},
   "source": [
    "**Concatenation**"
   ]
  },
  {
   "cell_type": "code",
   "execution_count": 3,
   "id": "4c83af0b-b31a-404f-9158-0922ef5d2552",
   "metadata": {},
   "outputs": [
    {
     "data": {
      "text/plain": [
       "'hellobye'"
      ]
     },
     "execution_count": 3,
     "metadata": {},
     "output_type": "execute_result"
    }
   ],
   "source": [
    "s1='hello'\n",
    "s2='bye'\n",
    "s1+s2"
   ]
  },
  {
   "cell_type": "code",
   "execution_count": 48,
   "id": "83e3f8a8-1465-4e25-8e66-f900817dc7d6",
   "metadata": {},
   "outputs": [
    {
     "data": {
      "text/plain": [
       "'hello bye'"
      ]
     },
     "execution_count": 48,
     "metadata": {},
     "output_type": "execute_result"
    }
   ],
   "source": [
    "s1='hello'\n",
    "s2=' bye'\n",
    "s1+s2"
   ]
  },
  {
   "cell_type": "code",
   "execution_count": 51,
   "id": "ccee2083-73cf-4e4e-837f-4297335de060",
   "metadata": {},
   "outputs": [
    {
     "data": {
      "text/plain": [
       "'hello bye'"
      ]
     },
     "execution_count": 51,
     "metadata": {},
     "output_type": "execute_result"
    }
   ],
   "source": [
    "s1='hello'\n",
    "s2=' '\n",
    "s3=\"bye\"\n",
    "s1+s2+s3"
   ]
  },
  {
   "cell_type": "code",
   "execution_count": 54,
   "id": "17e5d056-a107-4424-bcdb-3ef26ceeb7b7",
   "metadata": {},
   "outputs": [
    {
     "ename": "TypeError",
     "evalue": "can't multiply sequence by non-int of type 'str'",
     "output_type": "error",
     "traceback": [
      "\u001b[1;31m---------------------------------------------------------------------------\u001b[0m",
      "\u001b[1;31mTypeError\u001b[0m                                 Traceback (most recent call last)",
      "Cell \u001b[1;32mIn[54], line 3\u001b[0m\n\u001b[0;32m      1\u001b[0m s1\u001b[38;5;241m=\u001b[39m\u001b[38;5;124m'\u001b[39m\u001b[38;5;124mhello\u001b[39m\u001b[38;5;124m'\u001b[39m\n\u001b[0;32m      2\u001b[0m s2\u001b[38;5;241m=\u001b[39m\u001b[38;5;124m'\u001b[39m\u001b[38;5;124mbye\u001b[39m\u001b[38;5;124m'\u001b[39m\n\u001b[1;32m----> 3\u001b[0m s1\u001b[38;5;241m*\u001b[39ms2\n",
      "\u001b[1;31mTypeError\u001b[0m: can't multiply sequence by non-int of type 'str'"
     ]
    }
   ],
   "source": [
    "s1='hello'\n",
    "s2='bye'\n",
    "s1*s2\n",
    "s1-s2\n",
    "s1/s2\n",
    "#can't multiply sequence by non-int of type 'str'"
   ]
  },
  {
   "cell_type": "code",
   "execution_count": 57,
   "id": "cbafa156-8a0d-4c62-8a95-979c37dbe26b",
   "metadata": {},
   "outputs": [
    {
     "data": {
      "text/plain": [
       "'hellohello'"
      ]
     },
     "execution_count": 57,
     "metadata": {},
     "output_type": "execute_result"
    }
   ],
   "source": [
    "s1='hello'\n",
    "s2=2\n",
    "s1*s2"
   ]
  },
  {
   "cell_type": "code",
   "execution_count": null,
   "id": "9f44f6c8-e83f-44ce-98a3-afc922ae2e85",
   "metadata": {},
   "outputs": [],
   "source": [
    "s1+s1====>s1*2\n",
    "2*3  3*2"
   ]
  },
  {
   "cell_type": "markdown",
   "id": "e21dea7e-7322-4512-9811-59b21ac8741c",
   "metadata": {},
   "source": [
    "**Index**\n",
    "\n",
    "- Index meaning a number attached to  a letter\n",
    "\n",
    "- in python index starts with zero\n",
    "\n",
    "- we have two directions\n",
    "\n",
    "    - positive direction\n",
    " \n",
    "        - positive numbers starts with zero\n",
    "          \n",
    "    - Negative direction\n",
    "        \n",
    "        - negative numbers starts with -1,applicable to last letter\n",
    "       "
   ]
  },
  {
   "cell_type": "code",
   "execution_count": 1,
   "id": "b13332c9-8b2d-4110-ba92-d66d62da1cab",
   "metadata": {},
   "outputs": [
    {
     "data": {
      "text/plain": [
       "('P', 'y', 'h', 'o', 'n')"
      ]
     },
     "execution_count": 1,
     "metadata": {},
     "output_type": "execute_result"
    }
   ],
   "source": [
    "s1='Python'\n",
    "s1[0],s1[1],s1[3],s1[4],s1[5]"
   ]
  },
  {
   "cell_type": "code",
   "execution_count": 64,
   "id": "dd87d87c-9861-4dcc-85fa-ba8cf4b030f3",
   "metadata": {},
   "outputs": [
    {
     "data": {
      "text/plain": [
       "('n', 'o', 'h', 't', 'y', 'p')"
      ]
     },
     "execution_count": 64,
     "metadata": {},
     "output_type": "execute_result"
    }
   ],
   "source": [
    "s1='python'\n",
    "s1[-1],s1[-2],s1[-3],s1[-4],s1[-5],s1[-6]"
   ]
  },
  {
   "cell_type": "code",
   "execution_count": 70,
   "id": "138576ba-b54e-4f4d-8fca-3b08852d92e4",
   "metadata": {},
   "outputs": [
    {
     "name": "stdout",
     "output_type": "stream",
     "text": [
      "3\n"
     ]
    }
   ],
   "source": [
    "str1='sudarshan'\n",
    "count=0\n",
    "for i in str1:\n",
    "    if i in 'aeiou':\n",
    "        count=count+1\n",
    "print(count)"
   ]
  },
  {
   "cell_type": "markdown",
   "id": "5d559659-f43e-469b-a21d-4aee13b1c7da",
   "metadata": {},
   "source": [
    "**mutable-immutable**\n",
    "\n",
    "- mutable:can change\n",
    "  \n",
    "  - we can change using indexing\n",
    " \n",
    "\n",
    "- immutable:can not change\n",
    "\n",
    "  - we can not change using indexing "
   ]
  },
  {
   "cell_type": "code",
   "execution_count": 8,
   "id": "064ef490-10f0-4be4-8e60-f779393e8477",
   "metadata": {},
   "outputs": [
    {
     "ename": "TypeError",
     "evalue": "'str' object does not support item assignment",
     "output_type": "error",
     "traceback": [
      "\u001b[1;31m---------------------------------------------------------------------------\u001b[0m",
      "\u001b[1;31mTypeError\u001b[0m                                 Traceback (most recent call last)",
      "Cell \u001b[1;32mIn[8], line 5\u001b[0m\n\u001b[0;32m      1\u001b[0m s\u001b[38;5;241m=\u001b[39m\u001b[38;5;124m'\u001b[39m\u001b[38;5;124mwelcome\u001b[39m\u001b[38;5;124m'\u001b[39m\n\u001b[0;32m      2\u001b[0m \u001b[38;5;66;03m# i want to replace 'l' with 'L'\u001b[39;00m\n\u001b[0;32m      3\u001b[0m \u001b[38;5;66;03m#possible\u001b[39;00m\n\u001b[0;32m      4\u001b[0m \u001b[38;5;66;03m#Not possible\u001b[39;00m\n\u001b[1;32m----> 5\u001b[0m s[\u001b[38;5;241m0\u001b[39m]\u001b[38;5;241m=\u001b[39m\u001b[38;5;124m'\u001b[39m\u001b[38;5;124mL\u001b[39m\u001b[38;5;124m'\u001b[39m\n",
      "\u001b[1;31mTypeError\u001b[0m: 'str' object does not support item assignment"
     ]
    }
   ],
   "source": [
    "s='welcome'\n",
    "# i want to replace 'l' with 'L'\n",
    "#possible\n",
    "#Not possible\n",
    "s[0]='L'"
   ]
  },
  {
   "cell_type": "markdown",
   "id": "693b8046-20f1-4586-b51e-b3d2ec2e264b",
   "metadata": {},
   "source": [
    "# Strings are immutable"
   ]
  },
  {
   "cell_type": "code",
   "execution_count": 6,
   "id": "f99a2c0d-5ad8-4d2d-a0ea-31092e1e12ee",
   "metadata": {},
   "outputs": [
    {
     "data": {
      "text/plain": [
       "[1, 200, 3, 4]"
      ]
     },
     "execution_count": 6,
     "metadata": {},
     "output_type": "execute_result"
    }
   ],
   "source": [
    "l=[1,2,3,4]       #2=200\n",
    "l[1]=200\n",
    "l"
   ]
  },
  {
   "cell_type": "markdown",
   "id": "c667a618-407f-499a-9501-99334c9e586b",
   "metadata": {},
   "source": [
    "\n",
    "\n",
    "\n",
    "\n",
    "\n",
    "\n",
    "\n",
    "\n",
    "- range belongs to which family\n",
    "  \n",
    "  - math family\n",
    " \n",
    "- inside range bracket what we need to provide\n",
    "    - number\n",
    "\n",
    "- How many numbers we need to provide\n",
    "\n",
    "  - number of letter:len(string)\n",
    " \n",
    "- How to acsess the letter using number\n",
    "\n",
    "   - by using index  "
   ]
  },
  {
   "cell_type": "code",
   "execution_count": 7,
   "id": "58d8eb61-880a-4026-80a8-c50eaee3a2bb",
   "metadata": {},
   "outputs": [
    {
     "name": "stdout",
     "output_type": "stream",
     "text": [
      "w\n",
      "e\n",
      "l\n",
      "c\n",
      "o\n",
      "m\n",
      "e\n"
     ]
    }
   ],
   "source": [
    "#Q4) print each letter using for loop range\n",
    "\n",
    "s='welcome'\n",
    "\n",
    "for i in s:\n",
    "    print(i)\n"
   ]
  },
  {
   "cell_type": "code",
   "execution_count": 9,
   "id": "de3282d7-02e6-4a9e-adea-1d4e905d4363",
   "metadata": {},
   "outputs": [
    {
     "name": "stdout",
     "output_type": "stream",
     "text": [
      "w\n",
      "e\n",
      "l\n",
      "c\n",
      "o\n",
      "m\n",
      "e\n"
     ]
    }
   ],
   "source": [
    "s='welcome'\n",
    "#range belongs to which family\n",
    "#inside bracket we need to provide number\n",
    "\n",
    "for i in range(7):\n",
    "    print(s[i])\n"
   ]
  },
  {
   "cell_type": "code",
   "execution_count": 48,
   "id": "80fd9943-91b9-4cbc-99dc-9f89048d9aa1",
   "metadata": {},
   "outputs": [
    {
     "data": {
      "text/plain": [
       "['__add__',\n",
       " '__class__',\n",
       " '__contains__',\n",
       " '__delattr__',\n",
       " '__dir__',\n",
       " '__doc__',\n",
       " '__eq__',\n",
       " '__format__',\n",
       " '__ge__',\n",
       " '__getattribute__',\n",
       " '__getitem__',\n",
       " '__getnewargs__',\n",
       " '__getstate__',\n",
       " '__gt__',\n",
       " '__hash__',\n",
       " '__init__',\n",
       " '__init_subclass__',\n",
       " '__iter__',\n",
       " '__le__',\n",
       " '__len__',\n",
       " '__lt__',\n",
       " '__mod__',\n",
       " '__mul__',\n",
       " '__ne__',\n",
       " '__new__',\n",
       " '__reduce__',\n",
       " '__reduce_ex__',\n",
       " '__repr__',\n",
       " '__rmod__',\n",
       " '__rmul__',\n",
       " '__setattr__',\n",
       " '__sizeof__',\n",
       " '__str__',\n",
       " '__subclasshook__',\n",
       " 'capitalize',\n",
       " 'casefold',\n",
       " 'center',\n",
       " 'count',\n",
       " 'encode',\n",
       " 'endswith',\n",
       " 'expandtabs',\n",
       " 'find',\n",
       " 'format',\n",
       " 'format_map',\n",
       " 'index',\n",
       " 'isalnum',\n",
       " 'isalpha',\n",
       " 'isascii',\n",
       " 'isdecimal',\n",
       " 'isdigit',\n",
       " 'isidentifier',\n",
       " 'islower',\n",
       " 'isnumeric',\n",
       " 'isprintable',\n",
       " 'isspace',\n",
       " 'istitle',\n",
       " 'isupper',\n",
       " 'join',\n",
       " 'ljust',\n",
       " 'lower',\n",
       " 'lstrip',\n",
       " 'maketrans',\n",
       " 'partition',\n",
       " 'removeprefix',\n",
       " 'removesuffix',\n",
       " 'replace',\n",
       " 'rfind',\n",
       " 'rindex',\n",
       " 'rjust',\n",
       " 'rpartition',\n",
       " 'rsplit',\n",
       " 'rstrip',\n",
       " 'split',\n",
       " 'splitlines',\n",
       " 'startswith',\n",
       " 'strip',\n",
       " 'swapcase',\n",
       " 'title',\n",
       " 'translate',\n",
       " 'upper',\n",
       " 'zfill']"
      ]
     },
     "execution_count": 48,
     "metadata": {},
     "output_type": "execute_result"
    }
   ],
   "source": [
    "dir('')"
   ]
  },
  {
   "cell_type": "code",
   "execution_count": 10,
   "id": "61e49574-ea98-477c-bea3-94112e3a5cae",
   "metadata": {},
   "outputs": [
    {
     "name": "stdout",
     "output_type": "stream",
     "text": [
      "w\n",
      "e\n",
      "l\n",
      "c\n",
      "o\n",
      "m\n",
      "e\n",
      " \n",
      "t\n",
      "o\n",
      " \n",
      "n\n",
      "a\n",
      "r\n",
      "e\n",
      "s\n",
      "h\n",
      " \n",
      "i\n",
      "t\n"
     ]
    }
   ],
   "source": [
    "s='welcome to naresh it'\n",
    "n=len(s)\n",
    "for i in range(n):\n",
    "    print(s[i])"
   ]
  },
  {
   "cell_type": "markdown",
   "id": "23cb3e3d-c597-4e3d-b750-bac53e4c4b53",
   "metadata": {},
   "source": [
    "- **for-in** directly acsess the letter\n",
    "\n",
    "- **for-range** will acsess using index"
   ]
  },
  {
   "cell_type": "code",
   "execution_count": 33,
   "id": "4b2b3430-4f78-4293-be7d-8dea21b5e61c",
   "metadata": {},
   "outputs": [
    {
     "name": "stdout",
     "output_type": "stream",
     "text": [
      "0 w\n",
      "The positive index of w is 0\n",
      "1 e\n",
      "The positive index of e is 1\n",
      "2 l\n",
      "The positive index of l is 2\n",
      "3 c\n",
      "The positive index of c is 3\n",
      "4 o\n",
      "The positive index of o is 4\n",
      "5 m\n",
      "The positive index of m is 5\n",
      "6 e\n",
      "The positive index of e is 6\n"
     ]
    }
   ],
   "source": [
    "#Q5) wap ask the user iterate using a string\n",
    "#string='welcome'\n",
    "# print the positive index of w is 0\n",
    "#     the positive index of e is 1\n",
    "#     the positive index of l is 2\n",
    "\n",
    "s2='welcome'\n",
    "for i in range(len(s2)):\n",
    "    print(i,s2[i])\n",
    "    print(f\"The positive index of {s2[i]} is {i}\")"
   ]
  },
  {
   "cell_type": "code",
   "execution_count": 27,
   "id": "36dfcbe3-a30c-49f9-91a8-54eae552df5b",
   "metadata": {},
   "outputs": [
    {
     "name": "stdout",
     "output_type": "stream",
     "text": [
      "0 -7\n",
      "The negative index of 0 is -7\n",
      "1 -6\n",
      "The negative index of 1 is -6\n",
      "2 -5\n",
      "The negative index of 2 is -5\n",
      "3 -4\n",
      "The negative index of 3 is -4\n",
      "4 -3\n",
      "The negative index of 4 is -3\n",
      "5 -2\n",
      "The negative index of 5 is -2\n",
      "6 -1\n",
      "The negative index of 6 is -1\n"
     ]
    }
   ],
   "source": [
    "#wap ask the user iterate using a string\n",
    "#string='welcome'\n",
    "#print the negative index of w is -7\n",
    "#      the negative index of e is -6\n",
    "#      the negative index of e is -5\n",
    "\n",
    "s2='welcome'\n",
    "for i in range(len(s2)):\n",
    "    print(i,i-len(s2))\n",
    "    print(f\"The negative index of {i} is {i-len(s2)}\")\n",
    "    \n",
    "    "
   ]
  },
  {
   "cell_type": "code",
   "execution_count": 14,
   "id": "73dbb3cd-5e7c-4f29-baff-2d45eea977cb",
   "metadata": {},
   "outputs": [
    {
     "name": "stdout",
     "output_type": "stream",
     "text": [
      "0 s\n",
      "1 u\n",
      "2 d\n",
      "3 a\n",
      "4 r\n",
      "5 s\n",
      "6 h\n",
      "7 a\n",
      "8 n\n"
     ]
    }
   ],
   "source": [
    "str='sudarshan'\n",
    "for i in range(len(str)):\n",
    "    print(i,str[i])"
   ]
  },
  {
   "cell_type": "code",
   "execution_count": 32,
   "id": "89cbe3d2-1cd4-4a61-9e4f-e500025b012f",
   "metadata": {},
   "outputs": [
    {
     "name": "stdout",
     "output_type": "stream",
     "text": [
      "1\n",
      "8\n",
      "18\n"
     ]
    }
   ],
   "source": [
    "#Q8) wap ask the user get the index of each 'a' in a given string\n",
    "#s='hai how are you i am good'\n",
    "s='hai how are you i am good'\n",
    "for i in range(len(s)):\n",
    "    if s[i]=='a':\n",
    "        print(i)\n",
    "    "
   ]
  },
  {
   "cell_type": "code",
   "execution_count": 38,
   "id": "21fee329-9d09-45de-8857-050bdc8c8bea",
   "metadata": {},
   "outputs": [
    {
     "name": "stdout",
     "output_type": "stream",
     "text": [
      "3\n",
      "7\n"
     ]
    }
   ],
   "source": [
    "k='sudarshan'\n",
    "for i in range(len(k)):\n",
    "    if k[i]=='a':\n",
    "        print(i)"
   ]
  },
  {
   "cell_type": "code",
   "execution_count": 33,
   "id": "3f42370c-ab5c-457c-b2fc-09777910a216",
   "metadata": {},
   "outputs": [
    {
     "name": "stdout",
     "output_type": "stream",
     "text": [
      "2\n",
      "19\n"
     ]
    }
   ],
   "source": [
    "str1='hai what are you doing'\n",
    "n=len(str1)\n",
    "for i in range(n):\n",
    "    if str1[i]=='i':\n",
    "        print(i)"
   ]
  },
  {
   "cell_type": "code",
   "execution_count": 13,
   "id": "67b7ffe2-4f17-430f-a9a5-53e378aa0b81",
   "metadata": {},
   "outputs": [
    {
     "name": "stdout",
     "output_type": "stream",
     "text": [
      "3\n"
     ]
    }
   ],
   "source": [
    "#Q9) wap ask the user to get count of number 'a' in a given string\n",
    "#    using for -range\n",
    "s='hai how are you i am good'\n",
    "count=0\n",
    "for i in range(len(s)):\n",
    "    if s[i]=='a':\n",
    "        count=count+1\n",
    "print(count)"
   ]
  },
  {
   "cell_type": "code",
   "execution_count": 44,
   "id": "81504fdc-b8e4-4b53-b1eb-104693234893",
   "metadata": {},
   "outputs": [
    {
     "name": "stdout",
     "output_type": "stream",
     "text": [
      "a\n",
      "i\n",
      "o\n",
      "a\n",
      "e\n",
      "o\n",
      "u\n",
      "i\n",
      "a\n",
      "o\n",
      "o\n",
      "The number of vowels are: 11\n"
     ]
    }
   ],
   "source": [
    "#wap ask the user get the vowels from a given using for-range\n",
    "s='hai how are you i am good'\n",
    "count=0\n",
    "for i in range(len(s)):\n",
    "    if s[i] in 'aeiou':\n",
    "        print(s[i])\n",
    "        count=count+1\n",
    "\n",
    "\n",
    "print(\"The number of vowels are:\",count)"
   ]
  },
  {
   "cell_type": "code",
   "execution_count": 24,
   "id": "7940c0e3-5b66-404d-871b-aae2271215e0",
   "metadata": {},
   "outputs": [
    {
     "name": "stdout",
     "output_type": "stream",
     "text": [
      "1\n",
      "2\n",
      "6\n",
      "10\n",
      "11\n",
      "13\n",
      "15\n",
      "18\n",
      "19\n",
      "There are 9 vowels present in str1\n"
     ]
    }
   ],
   "source": [
    "str1='hai what you are doing'\n",
    "count=0\n",
    "for i in range(len(str1)):\n",
    "    if str1[i] in 'aeiou':\n",
    "        print(i)\n",
    "        count=count+1 \n",
    "print(f\"There are {count} vowels present in str1\")"
   ]
  },
  {
   "cell_type": "code",
   "execution_count": 50,
   "id": "2796ef27-ad54-45f8-beb4-11e830339e19",
   "metadata": {},
   "outputs": [
    {
     "name": "stdout",
     "output_type": "stream",
     "text": [
      "75\n"
     ]
    }
   ],
   "source": [
    "s='sudarshan bodkhe patil'\n",
    "summ=0\n",
    "for i in range(len(s)):\n",
    "    if s[i] in 'aeiou':\n",
    "        summ=summ+i\n",
    "print(summ)    "
   ]
  },
  {
   "cell_type": "markdown",
   "id": "789bff8b-e9f0-4d08-8c74-9230b426d2c3",
   "metadata": {},
   "source": [
    "**Slice**"
   ]
  },
  {
   "cell_type": "markdown",
   "id": "a12e9bc9-5299-4d0a-9d98-4d2f47831f3e",
   "metadata": {},
   "source": [
    "- we can cut into pices\n",
    "\n",
    "- similar to range concept\n",
    "\n",
    "- start,stop,step,here also "
   ]
  },
  {
   "cell_type": "code",
   "execution_count": null,
   "id": "30a6f7de-43e8-4559-9650-b714ec0fa280",
   "metadata": {},
   "outputs": [],
   "source": [
    "str1='hai how are you'"
   ]
  },
  {
   "cell_type": "code",
   "execution_count": null,
   "id": "fc092cef-bac3-4b62-8fb8-1298af92c269",
   "metadata": {},
   "outputs": [],
   "source": [
    "-15  -14 -13 -12 -11 -10 -9 -8 -7 -6 -5 -4 -3 -2 -1\n",
    " h    a    i       h   o  w     a  r  e     y  o   u\n",
    "\n",
    " 0    1    2   3   4   5  6  7  8  9  10 11 12 13  14"
   ]
  },
  {
   "cell_type": "code",
   "execution_count": null,
   "id": "af2c6adc-a462-44d4-a3ce-316ed3a34dd2",
   "metadata": {},
   "outputs": [],
   "source": [
    "str[start:stop:step]"
   ]
  },
  {
   "cell_type": "markdown",
   "id": "faa5753d-c395-43aa-b9a9-69189ec5a426",
   "metadata": {},
   "source": [
    "$pattern-1$"
   ]
  },
  {
   "cell_type": "markdown",
   "id": "71e74699-3411-470f-9472-51c404b6baeb",
   "metadata": {},
   "source": [
    "**str1[start:]**"
   ]
  },
  {
   "cell_type": "markdown",
   "id": "73758d98-8bbf-480b-a6b2-77742aaa62ae",
   "metadata": {},
   "source": [
    "- By deg=fault start value=start only\n",
    "\n",
    "- last value nothing mentioned automatically it will go till=last only\n",
    "\n",
    "- Step nothing means,it is a possitive direction and increment by 1"
   ]
  },
  {
   "cell_type": "code",
   "execution_count": 7,
   "id": "22eef3e8-8abf-4430-a650-dc6e4857a2e8",
   "metadata": {},
   "outputs": [
    {
     "data": {
      "text/plain": [
       "'e you'"
      ]
     },
     "execution_count": 7,
     "metadata": {},
     "output_type": "execute_result"
    }
   ],
   "source": [
    "#-15  -14 -13 -12 -11 -10 -9 -8 -7 -6 -5 -4 -3 -2 -1\n",
    "\n",
    "#h    a    i       h   o  w     a  r  e     y  o   u\n",
    "\n",
    "#0    1    2   3   4   5  6  7  8  9  10 11 12 13  14\n",
    "str1='hai how are you'\n",
    "str1[10:]"
   ]
  },
  {
   "cell_type": "code",
   "execution_count": 6,
   "id": "b059efdb-d5d8-419c-9555-2c11741873bd",
   "metadata": {},
   "outputs": [
    {
     "data": {
      "text/plain": [
       "'ow are you'"
      ]
     },
     "execution_count": 6,
     "metadata": {},
     "output_type": "execute_result"
    }
   ],
   "source": [
    "str1[5:]"
   ]
  },
  {
   "cell_type": "code",
   "execution_count": 8,
   "id": "257ee2f2-e16b-4ebb-a528-bd491eb32754",
   "metadata": {},
   "outputs": [
    {
     "data": {
      "text/plain": [
       "'ow are you'"
      ]
     },
     "execution_count": 8,
     "metadata": {},
     "output_type": "execute_result"
    }
   ],
   "source": [
    "str1[-10:]"
   ]
  },
  {
   "cell_type": "code",
   "execution_count": 9,
   "id": "4ef1dafd-1065-4c29-95c0-c0dfeb8342b2",
   "metadata": {},
   "outputs": [
    {
     "data": {
      "text/plain": [
       "'u'"
      ]
     },
     "execution_count": 9,
     "metadata": {},
     "output_type": "execute_result"
    }
   ],
   "source": [
    "str1[-1:]"
   ]
  },
  {
   "cell_type": "code",
   "execution_count": 17,
   "id": "670abd0a-4e23-4521-89fd-e6e5056557f4",
   "metadata": {},
   "outputs": [
    {
     "name": "stdout",
     "output_type": "stream",
     "text": [
      "ae\n"
     ]
    }
   ],
   "source": [
    "s='sudarshan bodkhe'\n",
    "print(s[::-2][:6:2][::-2])\n"
   ]
  },
  {
   "cell_type": "code",
   "execution_count": 19,
   "id": "1ef4de0d-3f61-4b96-bf54-74f2ce1a2e74",
   "metadata": {},
   "outputs": [
    {
     "data": {
      "text/plain": [
       "['__add__',\n",
       " '__class__',\n",
       " '__class_getitem__',\n",
       " '__contains__',\n",
       " '__delattr__',\n",
       " '__delitem__',\n",
       " '__dir__',\n",
       " '__doc__',\n",
       " '__eq__',\n",
       " '__format__',\n",
       " '__ge__',\n",
       " '__getattribute__',\n",
       " '__getitem__',\n",
       " '__getstate__',\n",
       " '__gt__',\n",
       " '__hash__',\n",
       " '__iadd__',\n",
       " '__imul__',\n",
       " '__init__',\n",
       " '__init_subclass__',\n",
       " '__iter__',\n",
       " '__le__',\n",
       " '__len__',\n",
       " '__lt__',\n",
       " '__mul__',\n",
       " '__ne__',\n",
       " '__new__',\n",
       " '__reduce__',\n",
       " '__reduce_ex__',\n",
       " '__repr__',\n",
       " '__reversed__',\n",
       " '__rmul__',\n",
       " '__setattr__',\n",
       " '__setitem__',\n",
       " '__sizeof__',\n",
       " '__str__',\n",
       " '__subclasshook__',\n",
       " 'append',\n",
       " 'clear',\n",
       " 'copy',\n",
       " 'count',\n",
       " 'extend',\n",
       " 'index',\n",
       " 'insert',\n",
       " 'pop',\n",
       " 'remove',\n",
       " 'reverse',\n",
       " 'sort']"
      ]
     },
     "execution_count": 19,
     "metadata": {},
     "output_type": "execute_result"
    }
   ],
   "source": [
    "dir([])"
   ]
  },
  {
   "cell_type": "markdown",
   "id": "0026d8f8-b924-489e-bd04-a647818b2216",
   "metadata": {},
   "source": [
    "$Pattern-2$\n",
    "\n",
    "- str[start:stop]\n",
    "\n",
    "- start value means by default start only\n",
    "\n",
    "- step is not mentioned positive direction\n",
    "\n",
    "- last=stop-1"
   ]
  },
  {
   "cell_type": "code",
   "execution_count": 11,
   "id": "176796ce-1038-4c2c-a0dd-09d53de72eb6",
   "metadata": {},
   "outputs": [
    {
     "data": {
      "text/plain": [
       "'ai'"
      ]
     },
     "execution_count": 11,
     "metadata": {},
     "output_type": "execute_result"
    }
   ],
   "source": [
    "-15  -14 -13 -12 -11 -10 -9 -8 -7 -6 -5 -4 -3 -2 -1\n",
    "\n",
    "#h    a    i       h   o  w     a  r  e     y  o   u\n",
    "\n",
    "#0    1    2   3   4   5  6  7  8  9  10 11 12 13  14\n",
    "str1='hai how are you'\n",
    "str1[1:3]"
   ]
  },
  {
   "cell_type": "code",
   "execution_count": 12,
   "id": "7758b9b3-3ef9-4c3e-ae34-c636d659fc1e",
   "metadata": {},
   "outputs": [
    {
     "data": {
      "text/plain": [
       "'ow ar'"
      ]
     },
     "execution_count": 12,
     "metadata": {},
     "output_type": "execute_result"
    }
   ],
   "source": [
    "str1[5:10]"
   ]
  },
  {
   "cell_type": "code",
   "execution_count": 13,
   "id": "822fd357-1d6d-451d-a74f-6b2b6a28f0a1",
   "metadata": {},
   "outputs": [
    {
     "data": {
      "text/plain": [
       "'ow are yo'"
      ]
     },
     "execution_count": 13,
     "metadata": {},
     "output_type": "execute_result"
    }
   ],
   "source": [
    "str1[5:14]"
   ]
  },
  {
   "cell_type": "code",
   "execution_count": 14,
   "id": "226368ea-42cf-4342-b6eb-004f580f2e58",
   "metadata": {},
   "outputs": [
    {
     "data": {
      "text/plain": [
       "'e yo'"
      ]
     },
     "execution_count": 14,
     "metadata": {},
     "output_type": "execute_result"
    }
   ],
   "source": [
    "str1[-5:14]"
   ]
  },
  {
   "cell_type": "code",
   "execution_count": 15,
   "id": "6f1c55f8-ec7d-4c82-9a15-fb70b9bc5401",
   "metadata": {},
   "outputs": [
    {
     "data": {
      "text/plain": [
       "''"
      ]
     },
     "execution_count": 15,
     "metadata": {},
     "output_type": "execute_result"
    }
   ],
   "source": [
    "str1[5:-14]"
   ]
  },
  {
   "cell_type": "code",
   "execution_count": 16,
   "id": "93296511-46cd-4882-b69a-9f933fb6125e",
   "metadata": {},
   "outputs": [
    {
     "data": {
      "text/plain": [
       "'ai h'"
      ]
     },
     "execution_count": 16,
     "metadata": {},
     "output_type": "execute_result"
    }
   ],
   "source": [
    "str1[-14:5]"
   ]
  },
  {
   "cell_type": "code",
   "execution_count": 19,
   "id": "d7d805f5-69d2-4d32-9ba5-8e56a5ecf68d",
   "metadata": {},
   "outputs": [
    {
     "data": {
      "text/plain": [
       "'e yo'"
      ]
     },
     "execution_count": 19,
     "metadata": {},
     "output_type": "execute_result"
    }
   ],
   "source": [
    "str1='hai how are you'\n",
    "str1[-5:14]"
   ]
  },
  {
   "cell_type": "code",
   "execution_count": 20,
   "id": "76c120ed-8edc-4d00-86d3-0be7b0464ef9",
   "metadata": {},
   "outputs": [
    {
     "data": {
      "text/plain": [
       "''"
      ]
     },
     "execution_count": 20,
     "metadata": {},
     "output_type": "execute_result"
    }
   ],
   "source": [
    "str1[-5:-14]"
   ]
  },
  {
   "cell_type": "code",
   "execution_count": 21,
   "id": "ea4b5751-7f6b-41c7-af8b-727a834e1ec0",
   "metadata": {},
   "outputs": [
    {
     "data": {
      "text/plain": [
       "''"
      ]
     },
     "execution_count": 21,
     "metadata": {},
     "output_type": "execute_result"
    }
   ],
   "source": [
    "str1[5:-14]"
   ]
  },
  {
   "cell_type": "code",
   "execution_count": 22,
   "id": "6f58b5ee-2bf9-4b51-8e8f-8d7b7c1d5367",
   "metadata": {},
   "outputs": [
    {
     "data": {
      "text/plain": [
       "'ow are you'"
      ]
     },
     "execution_count": 22,
     "metadata": {},
     "output_type": "execute_result"
    }
   ],
   "source": [
    "str1[5:500]"
   ]
  },
  {
   "cell_type": "markdown",
   "id": "b46bf766-825a-4bf2-bea2-84bf514226d2",
   "metadata": {},
   "source": [
    "**Truncation behaviour**\n",
    "\n",
    "- when ever string range is limited,but we provided unlimited number\n",
    "\n",
    "- string will consider till the range we have\n",
    "\n",
    "- in the above example our range only 15 letters\n",
    "\n",
    "- we provided 500,then 500 will truncate to till 15 letters"
   ]
  },
  {
   "cell_type": "code",
   "execution_count": 24,
   "id": "8fa8d434-79f1-449c-827d-f816a398e134",
   "metadata": {},
   "outputs": [
    {
     "data": {
      "text/plain": [
       "'ow are you'"
      ]
     },
     "execution_count": 24,
     "metadata": {},
     "output_type": "execute_result"
    }
   ],
   "source": [
    "str1[5:500]"
   ]
  },
  {
   "cell_type": "code",
   "execution_count": 25,
   "id": "265b22e8-8d1f-4ee9-b53f-bae7ceec1004",
   "metadata": {},
   "outputs": [
    {
     "data": {
      "text/plain": [
       "'hai how are you'"
      ]
     },
     "execution_count": 25,
     "metadata": {},
     "output_type": "execute_result"
    }
   ],
   "source": [
    "str1[-500:500]"
   ]
  },
  {
   "cell_type": "code",
   "execution_count": 26,
   "id": "6e1b4185-ebb2-43ba-a949-b244b30a928d",
   "metadata": {},
   "outputs": [
    {
     "data": {
      "text/plain": [
       "'u'"
      ]
     },
     "execution_count": 26,
     "metadata": {},
     "output_type": "execute_result"
    }
   ],
   "source": [
    "str1[-1:500]"
   ]
  },
  {
   "cell_type": "code",
   "execution_count": 28,
   "id": "8a5c2684-2577-4cc1-8867-6d17557c6d54",
   "metadata": {},
   "outputs": [
    {
     "data": {
      "text/plain": [
       "''"
      ]
     },
     "execution_count": 28,
     "metadata": {},
     "output_type": "execute_result"
    }
   ],
   "source": [
    "str1[500:]"
   ]
  },
  {
   "cell_type": "code",
   "execution_count": 29,
   "id": "7bd46504-6dea-4b9d-a457-9ad68ca1038c",
   "metadata": {},
   "outputs": [
    {
     "data": {
      "text/plain": [
       "''"
      ]
     },
     "execution_count": 29,
     "metadata": {},
     "output_type": "execute_result"
    }
   ],
   "source": [
    "str1[-500:-100]"
   ]
  },
  {
   "cell_type": "markdown",
   "id": "5aad8a53-d22c-4b05-9638-df54ffaa3a71",
   "metadata": {},
   "source": [
    "$Pattern-3$\n",
    "\n",
    "**str1[start:stop:step]**\n",
    "\n",
    "- start value means start only\n",
    "\n",
    "- if step value positive\n",
    "    \n",
    "    - last value=stop+1\n",
    "\n",
    "- if step value negative\n",
    "\n",
    "    - last value=stop-1"
   ]
  },
  {
   "cell_type": "code",
   "execution_count": 2,
   "id": "608ea5f9-b178-4b4c-8740-3ba057fd7864",
   "metadata": {},
   "outputs": [
    {
     "data": {
      "text/plain": [
       "15"
      ]
     },
     "execution_count": 2,
     "metadata": {},
     "output_type": "execute_result"
    }
   ],
   "source": [
    "str1='hai how are you'\n",
    "len(str1)"
   ]
  },
  {
   "cell_type": "code",
   "execution_count": null,
   "id": "c9d99af8-d4af-4bd9-8780-c3edfcc438b4",
   "metadata": {},
   "outputs": [],
   "source": [
    "str2='yeshwanth'\n",
    "y e s h w n t h\n",
    "1 2 3 4 5 6 7 8 "
   ]
  },
  {
   "cell_type": "code",
   "execution_count": 31,
   "id": "a4589bee-16c0-4c1c-9175-47c1aa97ad12",
   "metadata": {},
   "outputs": [
    {
     "data": {
      "text/plain": [
       "'ihwaey'"
      ]
     },
     "execution_count": 31,
     "metadata": {},
     "output_type": "execute_result"
    }
   ],
   "source": [
    "-15  -14 -13 -12 -11 -10 -9 -8 -7 -6 -5 -4 -3 -2 -1\n",
    "\n",
    "#h    a    i       h   o  w     a  r  e     y  o   u\n",
    "\n",
    "#0    1    2   3   4   5  6  7  8  9  10 11 12 13  14\n",
    "str1='hai how are you'\n",
    "str1[2:13:2]"
   ]
  },
  {
   "cell_type": "code",
   "execution_count": 33,
   "id": "570eee70-4773-4c3c-8107-e3768f0e9584",
   "metadata": {},
   "outputs": [
    {
     "data": {
      "text/plain": [
       "''"
      ]
     },
     "execution_count": 33,
     "metadata": {},
     "output_type": "execute_result"
    }
   ],
   "source": [
    "str1[2:13:-2]"
   ]
  },
  {
   "cell_type": "code",
   "execution_count": 35,
   "id": "e1cb3c50-3085-4be6-86c4-aacadc3989af",
   "metadata": {},
   "outputs": [
    {
     "data": {
      "text/plain": [
       "''"
      ]
     },
     "execution_count": 35,
     "metadata": {},
     "output_type": "execute_result"
    }
   ],
   "source": [
    "str1[2:-13:2]"
   ]
  },
  {
   "cell_type": "code",
   "execution_count": 36,
   "id": "d8e5af3e-0389-4f3e-9785-2a1c6df7bfd2",
   "metadata": {},
   "outputs": [
    {
     "data": {
      "text/plain": [
       "''"
      ]
     },
     "execution_count": 36,
     "metadata": {},
     "output_type": "execute_result"
    }
   ],
   "source": [
    "str1[-2:-13:2]"
   ]
  },
  {
   "cell_type": "code",
   "execution_count": 37,
   "id": "e52bc5e6-2617-4bb6-b18d-0e12faf99b14",
   "metadata": {},
   "outputs": [
    {
     "data": {
      "text/plain": [
       "'o r o '"
      ]
     },
     "execution_count": 37,
     "metadata": {},
     "output_type": "execute_result"
    }
   ],
   "source": [
    "str1[-2:-13:-2]"
   ]
  },
  {
   "cell_type": "code",
   "execution_count": 38,
   "id": "f04c4aca-491f-4648-8480-a2fb1798e596",
   "metadata": {},
   "outputs": [
    {
     "data": {
      "text/plain": [
       "''"
      ]
     },
     "execution_count": 38,
     "metadata": {},
     "output_type": "execute_result"
    }
   ],
   "source": [
    "str1[-13:2:-2]"
   ]
  },
  {
   "cell_type": "code",
   "execution_count": 39,
   "id": "0759d88b-d872-4fde-99e4-9dc5f5015abd",
   "metadata": {},
   "outputs": [
    {
     "data": {
      "text/plain": [
       "'i'"
      ]
     },
     "execution_count": 39,
     "metadata": {},
     "output_type": "execute_result"
    }
   ],
   "source": [
    "str1[2:3:2]"
   ]
  },
  {
   "cell_type": "markdown",
   "id": "1a23d1a7-6712-4bf5-98e5-1c9f42c3b0c0",
   "metadata": {},
   "source": [
    "**Methods**"
   ]
  },
  {
   "cell_type": "markdown",
   "id": "4604f2e3-326b-4215-a6ee-513019a9b7a9",
   "metadata": {},
   "source": [
    "- strings lists tuple dictionary every data types has its own methods\n",
    "\n",
    "- we already seen that packages has different method\n",
    "\n",
    "- for example random package:  randint method\n",
    "\n",
    "- math package: sqrt\n",
    "\n",
    "- In that same way strings also have methods\n",
    "\n",
    "- in order to see methods for the packages\n",
    "\n",
    "    - we are importing the package\n",
    " \n",
    "    - we are applying dir\n",
    " \n",
    "- in the similar way in order to see the methods of string, we need to apply dir only "
   ]
  },
  {
   "cell_type": "code",
   "execution_count": 14,
   "id": "997fd5c4-5ed6-465d-8bd0-3a7d325c3c64",
   "metadata": {},
   "outputs": [
    {
     "data": {
      "text/plain": [
       "['__add__',\n",
       " '__class__',\n",
       " '__contains__',\n",
       " '__delattr__',\n",
       " '__dir__',\n",
       " '__doc__',\n",
       " '__eq__',\n",
       " '__format__',\n",
       " '__ge__',\n",
       " '__getattribute__',\n",
       " '__getitem__',\n",
       " '__getnewargs__',\n",
       " '__getstate__',\n",
       " '__gt__',\n",
       " '__hash__',\n",
       " '__init__',\n",
       " '__init_subclass__',\n",
       " '__iter__',\n",
       " '__le__',\n",
       " '__len__',\n",
       " '__lt__',\n",
       " '__mod__',\n",
       " '__mul__',\n",
       " '__ne__',\n",
       " '__new__',\n",
       " '__reduce__',\n",
       " '__reduce_ex__',\n",
       " '__repr__',\n",
       " '__rmod__',\n",
       " '__rmul__',\n",
       " '__setattr__',\n",
       " '__sizeof__',\n",
       " '__str__',\n",
       " '__subclasshook__',\n",
       " 'capitalize',\n",
       " 'casefold',\n",
       " 'center',\n",
       " 'count',\n",
       " 'encode',\n",
       " 'endswith',\n",
       " 'expandtabs',\n",
       " 'find',\n",
       " 'format',\n",
       " 'format_map',\n",
       " 'index',\n",
       " 'isalnum',\n",
       " 'isalpha',\n",
       " 'isascii',\n",
       " 'isdecimal',\n",
       " 'isdigit',\n",
       " 'isidentifier',\n",
       " 'islower',\n",
       " 'isnumeric',\n",
       " 'isprintable',\n",
       " 'isspace',\n",
       " 'istitle',\n",
       " 'isupper',\n",
       " 'join',\n",
       " 'ljust',\n",
       " 'lower',\n",
       " 'lstrip',\n",
       " 'maketrans',\n",
       " 'partition',\n",
       " 'removeprefix',\n",
       " 'removesuffix',\n",
       " 'replace',\n",
       " 'rfind',\n",
       " 'rindex',\n",
       " 'rjust',\n",
       " 'rpartition',\n",
       " 'rsplit',\n",
       " 'rstrip',\n",
       " 'split',\n",
       " 'splitlines',\n",
       " 'startswith',\n",
       " 'strip',\n",
       " 'swapcase',\n",
       " 'title',\n",
       " 'translate',\n",
       " 'upper',\n",
       " 'zfill']"
      ]
     },
     "execution_count": 14,
     "metadata": {},
     "output_type": "execute_result"
    }
   ],
   "source": [
    "dir('') \n",
    "#dir('hai')\n",
    "#str1='apple'\n",
    "#dir(str1)"
   ]
  },
  {
   "cell_type": "markdown",
   "id": "44d2b3c6-b2a5-44dd-b6fb-8824fb1a6d49",
   "metadata": {},
   "source": [
    "- Lower\n",
    "\n",
    "- Upper\n",
    "\n",
    "- Capitalize\n",
    "\n",
    "- Title\n",
    "\n",
    "- Casefold\n",
    "\n",
    "- center"
   ]
  },
  {
   "cell_type": "markdown",
   "id": "0d2813fa-ee10-45a7-96ce-cc8513ff2da5",
   "metadata": {},
   "source": [
    "**Upper**"
   ]
  },
  {
   "cell_type": "code",
   "execution_count": 3,
   "id": "a3ff3766-6f9e-4267-9184-64bf0a40cf68",
   "metadata": {},
   "outputs": [
    {
     "name": "stdout",
     "output_type": "stream",
     "text": [
      "Help on built-in function upper:\n",
      "\n",
      "upper() method of builtins.str instance\n",
      "    Return a copy of the string converted to uppercase.\n",
      "\n"
     ]
    }
   ],
   "source": [
    "str1='hai how are you'\n",
    "type(str1)\n",
    "help(str1.upper)"
   ]
  },
  {
   "cell_type": "code",
   "execution_count": 16,
   "id": "157f1128-71ca-42ea-b64e-215b1ee72fb1",
   "metadata": {},
   "outputs": [
    {
     "data": {
      "text/plain": [
       "'HAI HOW ARE YOU'"
      ]
     },
     "execution_count": 16,
     "metadata": {},
     "output_type": "execute_result"
    }
   ],
   "source": [
    "str1.upper()"
   ]
  },
  {
   "cell_type": "code",
   "execution_count": 25,
   "id": "54604046-73bc-4058-a83d-bce015b32bb9",
   "metadata": {},
   "outputs": [
    {
     "data": {
      "text/plain": [
       "'SUDARSHAN'"
      ]
     },
     "execution_count": 25,
     "metadata": {},
     "output_type": "execute_result"
    }
   ],
   "source": [
    "s='sudarshan'\n",
    "s.upper()"
   ]
  },
  {
   "cell_type": "code",
   "execution_count": 17,
   "id": "af1a163e-7fa3-4755-91c1-003d19f569cd",
   "metadata": {},
   "outputs": [
    {
     "data": {
      "text/plain": [
       "<function str.upper()>"
      ]
     },
     "execution_count": 17,
     "metadata": {},
     "output_type": "execute_result"
    }
   ],
   "source": [
    "str1.upper"
   ]
  },
  {
   "cell_type": "markdown",
   "id": "c167d992-845a-4fbc-81d3-b8b77c22eca3",
   "metadata": {},
   "source": [
    "**Lower**"
   ]
  },
  {
   "cell_type": "code",
   "execution_count": 18,
   "id": "29d6c228-9488-4f2b-8274-5f68a3e3d17e",
   "metadata": {},
   "outputs": [
    {
     "name": "stdout",
     "output_type": "stream",
     "text": [
      "Help on built-in function lower:\n",
      "\n",
      "lower() method of builtins.str instance\n",
      "    Return a copy of the string converted to lowercase.\n",
      "\n"
     ]
    }
   ],
   "source": [
    "help(str1.lower)"
   ]
  },
  {
   "cell_type": "code",
   "execution_count": 4,
   "id": "05ae8377-b6ec-4101-ad33-961600f726b1",
   "metadata": {},
   "outputs": [
    {
     "data": {
      "text/plain": [
       "'hai how are you'"
      ]
     },
     "execution_count": 4,
     "metadata": {},
     "output_type": "execute_result"
    }
   ],
   "source": [
    "str1.lower()"
   ]
  },
  {
   "cell_type": "markdown",
   "id": "593b60b7-5e46-4515-8fdc-467b016851e8",
   "metadata": {},
   "source": [
    "**Capitalize**"
   ]
  },
  {
   "cell_type": "code",
   "execution_count": 20,
   "id": "4feca6f2-798a-47b8-a402-af37ef49bc92",
   "metadata": {},
   "outputs": [
    {
     "name": "stdout",
     "output_type": "stream",
     "text": [
      "Help on built-in function capitalize:\n",
      "\n",
      "capitalize() method of builtins.str instance\n",
      "    Return a capitalized version of the string.\n",
      "    \n",
      "    More specifically, make the first character have upper case and the rest lower\n",
      "    case.\n",
      "\n"
     ]
    }
   ],
   "source": [
    "help(str1.capitalize)"
   ]
  },
  {
   "cell_type": "code",
   "execution_count": 21,
   "id": "afe32fb8-5daa-4df4-a7d4-9217fcd3e31c",
   "metadata": {},
   "outputs": [
    {
     "data": {
      "text/plain": [
       "'Hai how are you'"
      ]
     },
     "execution_count": 21,
     "metadata": {},
     "output_type": "execute_result"
    }
   ],
   "source": [
    "str1.capitalize()"
   ]
  },
  {
   "cell_type": "markdown",
   "id": "dbfe9baa-d48f-4b73-ba8e-367568baedd4",
   "metadata": {},
   "source": [
    "**Title**"
   ]
  },
  {
   "cell_type": "code",
   "execution_count": 22,
   "id": "9026fa8b-f080-455f-a5fa-e02b424eea5d",
   "metadata": {},
   "outputs": [
    {
     "name": "stdout",
     "output_type": "stream",
     "text": [
      "Help on built-in function title:\n",
      "\n",
      "title() method of builtins.str instance\n",
      "    Return a version of the string where each word is titlecased.\n",
      "    \n",
      "    More specifically, words start with uppercased characters and all remaining\n",
      "    cased characters have lower case.\n",
      "\n"
     ]
    }
   ],
   "source": [
    "help(str1.title)"
   ]
  },
  {
   "cell_type": "code",
   "execution_count": 23,
   "id": "22dba5d7-3206-46c4-b0ed-2c302973d40f",
   "metadata": {},
   "outputs": [
    {
     "data": {
      "text/plain": [
       "'Hai How Are You'"
      ]
     },
     "execution_count": 23,
     "metadata": {},
     "output_type": "execute_result"
    }
   ],
   "source": [
    "str1.title()"
   ]
  },
  {
   "cell_type": "markdown",
   "id": "2916506f-7060-4293-acf9-7a52309001c2",
   "metadata": {},
   "source": [
    "**Casefold**"
   ]
  },
  {
   "cell_type": "code",
   "execution_count": 24,
   "id": "8951fd35-0945-411a-a0a3-8306b7a98dc5",
   "metadata": {},
   "outputs": [
    {
     "name": "stdout",
     "output_type": "stream",
     "text": [
      "Help on built-in function casefold:\n",
      "\n",
      "casefold() method of builtins.str instance\n",
      "    Return a version of the string suitable for caseless comparisons.\n",
      "\n"
     ]
    }
   ],
   "source": [
    "help(str1.casefold)"
   ]
  },
  {
   "cell_type": "code",
   "execution_count": 26,
   "id": "36ac5faa-5530-4ace-ae30-2da1c506d4eb",
   "metadata": {},
   "outputs": [
    {
     "data": {
      "text/plain": [
       "'hai how are you'"
      ]
     },
     "execution_count": 26,
     "metadata": {},
     "output_type": "execute_result"
    }
   ],
   "source": [
    "str1.casefold()"
   ]
  },
  {
   "cell_type": "markdown",
   "id": "1a17e066-49a0-45b2-bfbc-bca1946e865c",
   "metadata": {},
   "source": [
    "**Center**"
   ]
  },
  {
   "cell_type": "code",
   "execution_count": 27,
   "id": "5998ce7b-74d1-40f6-8b83-6d7dea949aac",
   "metadata": {},
   "outputs": [
    {
     "name": "stdout",
     "output_type": "stream",
     "text": [
      "Help on built-in function center:\n",
      "\n",
      "center(width, fillchar=' ', /) method of builtins.str instance\n",
      "    Return a centered string of length width.\n",
      "    \n",
      "    Padding is done using the specified fill character (default is a space).\n",
      "\n"
     ]
    }
   ],
   "source": [
    "help(str1.center)"
   ]
  },
  {
   "cell_type": "code",
   "execution_count": 52,
   "id": "e9090e97-bdfa-4ed6-ae4a-52fca3ca7d6f",
   "metadata": {},
   "outputs": [
    {
     "data": {
      "text/plain": [
       "'****sudarshan bodkhe patil****'"
      ]
     },
     "execution_count": 52,
     "metadata": {},
     "output_type": "execute_result"
    }
   ],
   "source": [
    "s='sudarshan bodkhe patil'\n",
    "s.center(30,'*')"
   ]
  },
  {
   "cell_type": "code",
   "execution_count": 31,
   "id": "2ee40c4a-941b-4392-96bd-222bc3b59162",
   "metadata": {},
   "outputs": [
    {
     "data": {
      "text/plain": [
       "'  hai how are you   '"
      ]
     },
     "execution_count": 31,
     "metadata": {},
     "output_type": "execute_result"
    }
   ],
   "source": [
    "str1.center(20)"
   ]
  },
  {
   "cell_type": "markdown",
   "id": "06d53a97-28d1-412a-991f-38dfdcf0d01a",
   "metadata": {},
   "source": [
    "- center has two arguments\n",
    "\n",
    "    - width\n",
    " \n",
    "    - fill char\n",
    "\n",
    "- original string already:15 letters\n",
    "\n",
    "- we want to create a new string with 20 letters\n",
    "\n",
    "- Remaining 5 letters by default empty\n",
    "\n",
    "- we can fill with charecters also"
   ]
  },
  {
   "cell_type": "code",
   "execution_count": 32,
   "id": "ad441907-d287-47a2-87f1-8f85e9c5efd6",
   "metadata": {},
   "outputs": [
    {
     "data": {
      "text/plain": [
       "'*****hai how are you******'"
      ]
     },
     "execution_count": 32,
     "metadata": {},
     "output_type": "execute_result"
    }
   ],
   "source": [
    "str1.center(26,'*')"
   ]
  },
  {
   "cell_type": "code",
   "execution_count": 33,
   "id": "56498032-395d-4c86-877b-95f87d554d08",
   "metadata": {},
   "outputs": [
    {
     "data": {
      "text/plain": [
       "'&&hai how are you&&&'"
      ]
     },
     "execution_count": 33,
     "metadata": {},
     "output_type": "execute_result"
    }
   ],
   "source": [
    "str1.center(20,'&')"
   ]
  },
  {
   "cell_type": "code",
   "execution_count": 28,
   "id": "1df8af84-4e1e-4f4f-997b-88d92c21b66f",
   "metadata": {},
   "outputs": [
    {
     "data": {
      "text/plain": [
       "'****sudarshan bodkhe patil****'"
      ]
     },
     "execution_count": 28,
     "metadata": {},
     "output_type": "execute_result"
    }
   ],
   "source": [
    "s='sudarshan bodkhe patil'\n",
    "s.center(30,'*')"
   ]
  },
  {
   "cell_type": "code",
   "execution_count": 37,
   "id": "0a142679-bbc7-406f-87d0-175f9e004bd9",
   "metadata": {},
   "outputs": [
    {
     "name": "stdin",
     "output_type": "stream",
     "text": [
      " hai naresh how are you\n"
     ]
    },
    {
     "name": "stdout",
     "output_type": "stream",
     "text": [
      "21\n"
     ]
    }
   ],
   "source": [
    "str=input()\n",
    "s=''\n",
    "for i in range(len(str)):\n",
    "    if i==0 and ord(str[i])<=122 and ord(str[i])<=97:\n",
    "        s=s+chr(ord(str[i])-32)\n",
    "    elif str[i-1]=='':\n",
    "        s=s+chr(ord(str[i])-32)\n",
    "    else:\n",
    "        s=s+str[i]\n",
    "print(i)"
   ]
  },
  {
   "cell_type": "code",
   "execution_count": 38,
   "id": "af67d52a-892e-46ef-89a3-994a0ff328e7",
   "metadata": {},
   "outputs": [
    {
     "name": "stdin",
     "output_type": "stream",
     "text": [
      " sudarshan bodkhe patil\n"
     ]
    },
    {
     "data": {
      "text/plain": [
       "'Sudarshan Bodkhe Patil'"
      ]
     },
     "execution_count": 38,
     "metadata": {},
     "output_type": "execute_result"
    }
   ],
   "source": [
    "str1=input()\n",
    "str1.title()"
   ]
  },
  {
   "cell_type": "code",
   "execution_count": 4,
   "id": "23e12996-6510-4f35-90ec-cb8017f6a2f8",
   "metadata": {},
   "outputs": [
    {
     "name": "stdin",
     "output_type": "stream",
     "text": [
      " SUDARSHAN BODKHE PATIL\n"
     ]
    },
    {
     "data": {
      "text/plain": [
       "'sudarshan bodkhe patil'"
      ]
     },
     "execution_count": 4,
     "metadata": {},
     "output_type": "execute_result"
    }
   ],
   "source": [
    "str1=input()\n",
    "str1.lower()"
   ]
  },
  {
   "cell_type": "code",
   "execution_count": 12,
   "id": "9fe80cbd-1e8a-4725-9ab4-b656812a63ee",
   "metadata": {},
   "outputs": [
    {
     "name": "stdin",
     "output_type": "stream",
     "text": [
      " sudarshan\n"
     ]
    },
    {
     "name": "stdout",
     "output_type": "stream",
     "text": [
      "Sudarshan\n"
     ]
    },
    {
     "data": {
      "text/plain": [
       "'********sudarshan********'"
      ]
     },
     "execution_count": 12,
     "metadata": {},
     "output_type": "execute_result"
    }
   ],
   "source": [
    "str1=input()\n",
    "str1.center(25,'*')"
   ]
  },
  {
   "cell_type": "markdown",
   "id": "cd07257a-c1e0-410f-a901-ec3f419189d6",
   "metadata": {},
   "source": [
    "**Count**"
   ]
  },
  {
   "cell_type": "code",
   "execution_count": null,
   "id": "c2b824d5-2434-402a-be49-b39e824da2d1",
   "metadata": {},
   "outputs": [],
   "source": [
    "str1='hai how are you'\n",
    "#How many 'a' are there"
   ]
  },
  {
   "cell_type": "code",
   "execution_count": 5,
   "id": "a2f47506-a698-4b76-bc78-1981522e31cc",
   "metadata": {},
   "outputs": [
    {
     "data": {
      "text/plain": [
       "2"
      ]
     },
     "execution_count": 5,
     "metadata": {},
     "output_type": "execute_result"
    }
   ],
   "source": [
    "count=0\n",
    "str1='hai how are you'\n",
    "for i in str1:\n",
    "    if i=='a':\n",
    "        count=count+1\n",
    "count"
   ]
  },
  {
   "cell_type": "code",
   "execution_count": 14,
   "id": "975b005e-7df4-46bf-8281-93386dc924d6",
   "metadata": {},
   "outputs": [
    {
     "data": {
      "text/plain": [
       "2"
      ]
     },
     "execution_count": 14,
     "metadata": {},
     "output_type": "execute_result"
    }
   ],
   "source": [
    "str1='hai how are you'\n",
    "str1.count('a')"
   ]
  },
  {
   "cell_type": "code",
   "execution_count": 15,
   "id": "8d56fc33-7e6f-4d77-bea4-8f605f115f9a",
   "metadata": {},
   "outputs": [
    {
     "data": {
      "text/plain": [
       "3"
      ]
     },
     "execution_count": 15,
     "metadata": {},
     "output_type": "execute_result"
    }
   ],
   "source": [
    "str1='hai hai hai'\n",
    "str1.count('a')"
   ]
  },
  {
   "cell_type": "code",
   "execution_count": 29,
   "id": "10bd5dfa-a359-4bfd-b846-621a0faa6476",
   "metadata": {},
   "outputs": [
    {
     "data": {
      "text/plain": [
       "1"
      ]
     },
     "execution_count": 29,
     "metadata": {},
     "output_type": "execute_result"
    }
   ],
   "source": [
    "s='sudarshan'\n",
    "s.count('u')"
   ]
  },
  {
   "cell_type": "markdown",
   "id": "990dceec-b574-4db7-8806-809c0d9ce3a2",
   "metadata": {},
   "source": [
    "- we want number of a from a specific index\n",
    "\n",
    "- we want number of a between two indexes"
   ]
  },
  {
   "cell_type": "code",
   "execution_count": 16,
   "id": "9c5bd471-3be4-464e-b439-f327f81409b8",
   "metadata": {},
   "outputs": [
    {
     "data": {
      "text/plain": [
       "2"
      ]
     },
     "execution_count": 16,
     "metadata": {},
     "output_type": "execute_result"
    }
   ],
   "source": [
    "#h  a  i    h  a  i     h  a  i\n",
    "#0  1  2  3 4  5  6  7  8   9  10\n",
    "str1.count('a',3)"
   ]
  },
  {
   "cell_type": "code",
   "execution_count": 17,
   "id": "ff336806-2960-4bf5-a694-556f3a310665",
   "metadata": {},
   "outputs": [
    {
     "data": {
      "text/plain": [
       "1"
      ]
     },
     "execution_count": 17,
     "metadata": {},
     "output_type": "execute_result"
    }
   ],
   "source": [
    "str1.count('a',4,8)"
   ]
  },
  {
   "cell_type": "code",
   "execution_count": 18,
   "id": "74e1f161-be75-4431-afea-958c6e87299b",
   "metadata": {},
   "outputs": [
    {
     "data": {
      "text/plain": [
       "2"
      ]
     },
     "execution_count": 18,
     "metadata": {},
     "output_type": "execute_result"
    }
   ],
   "source": [
    "str1.count('a',5)"
   ]
  },
  {
   "cell_type": "code",
   "execution_count": 22,
   "id": "077c6f4e-cdae-4ddc-8eff-4f672ff0f768",
   "metadata": {},
   "outputs": [
    {
     "data": {
      "text/plain": [
       "3"
      ]
     },
     "execution_count": 22,
     "metadata": {},
     "output_type": "execute_result"
    }
   ],
   "source": [
    "#Reverse check kro\n",
    "str1='ola ola ola'\n",
    "str1.count('ola')"
   ]
  },
  {
   "cell_type": "code",
   "execution_count": 33,
   "id": "bc495400-4222-4be3-935a-42a453c1527c",
   "metadata": {},
   "outputs": [
    {
     "data": {
      "text/plain": [
       "'alo alo a'"
      ]
     },
     "execution_count": 33,
     "metadata": {},
     "output_type": "execute_result"
    }
   ],
   "source": [
    "str1[-1:-10:-1]"
   ]
  },
  {
   "cell_type": "code",
   "execution_count": 39,
   "id": "83fc879f-7138-4dde-9d08-c8de642c73fc",
   "metadata": {},
   "outputs": [
    {
     "name": "stdout",
     "output_type": "stream",
     "text": [
      "The total repitation of ola is 3\n"
     ]
    }
   ],
   "source": [
    "str1='ola ola ola'\n",
    "count=0\n",
    "for i in range(len(str1)):\n",
    "    if str1[i:i+3]=='ola':\n",
    "        count=count+1\n",
    "print(f\"The total repitation of ola is {count}\")"
   ]
  },
  {
   "cell_type": "code",
   "execution_count": 60,
   "id": "1a595316-d06c-41ea-bf98-87d7a4a0d47d",
   "metadata": {},
   "outputs": [
    {
     "data": {
      "text/plain": [
       "3"
      ]
     },
     "execution_count": 60,
     "metadata": {},
     "output_type": "execute_result"
    }
   ],
   "source": [
    "str1='hai hai hai how how how are you'\n",
    "count=0\n",
    "for i in range(len(str1)):\n",
    "    if str1[i:i+3]=='hai':\n",
    "        count=count+1\n",
    "count       "
   ]
  },
  {
   "cell_type": "code",
   "execution_count": 20,
   "id": "9c70e0d6-7a7f-451c-bf5c-8a744b477234",
   "metadata": {},
   "outputs": [
    {
     "data": {
      "text/plain": [
       "1"
      ]
     },
     "execution_count": 20,
     "metadata": {},
     "output_type": "execute_result"
    }
   ],
   "source": [
    "str1='ola ola ola'\n",
    "str1.count(str1)"
   ]
  },
  {
   "cell_type": "markdown",
   "id": "ffcb5142-6e15-4582-bd50-93c7ec8d2712",
   "metadata": {},
   "source": [
    "**Replace**"
   ]
  },
  {
   "cell_type": "code",
   "execution_count": 52,
   "id": "4bc9cf8d-1956-476c-92f1-52cc9214dd50",
   "metadata": {},
   "outputs": [],
   "source": [
    "str1='welcome'\n",
    "#i want to replace 'L' with 'l'"
   ]
  },
  {
   "cell_type": "code",
   "execution_count": null,
   "id": "41e24622-a401-4fe7-90e0-9cde468a3dee",
   "metadata": {},
   "outputs": [],
   "source": [
    "# we know thw strings are immutable\n",
    "# we can not use index operations also\n",
    "#slice and concatenation\n",
    "#Divide welcome : we  come\n",
    "#s1='we'\n",
    "#s2='come'\n",
    "#s1+'l'+'s2'"
   ]
  },
  {
   "cell_type": "code",
   "execution_count": 54,
   "id": "55579989-e274-46f3-8b51-e329f53fad1e",
   "metadata": {},
   "outputs": [
    {
     "data": {
      "text/plain": [
       "'welcome'"
      ]
     },
     "execution_count": 54,
     "metadata": {},
     "output_type": "execute_result"
    }
   ],
   "source": [
    "s1='we'\n",
    "s2='come'\n",
    "s1+'l'+s2"
   ]
  },
  {
   "cell_type": "code",
   "execution_count": 57,
   "id": "08c4dc49-19c6-49b4-b822-91cd63a8f39c",
   "metadata": {},
   "outputs": [
    {
     "data": {
      "text/plain": [
       "'weLcome'"
      ]
     },
     "execution_count": 57,
     "metadata": {},
     "output_type": "execute_result"
    }
   ],
   "source": [
    "str1='welcome'\n",
    "s1=str1[0:2]\n",
    "s2=str1[3:]\n",
    "s1+'L'+s2"
   ]
  },
  {
   "cell_type": "code",
   "execution_count": 58,
   "id": "013e0d10-08a2-452e-9b69-a4b7f1db7f63",
   "metadata": {},
   "outputs": [
    {
     "data": {
      "text/plain": [
       "'welcome'"
      ]
     },
     "execution_count": 58,
     "metadata": {},
     "output_type": "execute_result"
    }
   ],
   "source": [
    "str1.replace('L','l')"
   ]
  },
  {
   "cell_type": "code",
   "execution_count": 60,
   "id": "e2e1a74d-d435-4a68-be29-aed1c7dcdefa",
   "metadata": {},
   "outputs": [
    {
     "data": {
      "text/plain": [
       "'weLLcome'"
      ]
     },
     "execution_count": 60,
     "metadata": {},
     "output_type": "execute_result"
    }
   ],
   "source": [
    "str1='wellcome'\n",
    "str1.replace('l','L')"
   ]
  },
  {
   "cell_type": "markdown",
   "id": "066d0a3d-de1e-4305-8dc6-350fbbdb976e",
   "metadata": {},
   "source": [
    "- by default replace will change all the occurances\n",
    "\n",
    "- count= -1 is responsible for that\n",
    "\n",
    "- which means we can provide some count also,which how many i want to change\n",
    "\n",
    "- Give wellcome and change count=1 and count=2 explore it"
   ]
  },
  {
   "cell_type": "code",
   "execution_count": 63,
   "id": "3f56d98f-ad44-4b2c-8ecc-af6d7e9eb366",
   "metadata": {},
   "outputs": [
    {
     "data": {
      "text/plain": [
       "'weLLlcome'"
      ]
     },
     "execution_count": 63,
     "metadata": {},
     "output_type": "execute_result"
    }
   ],
   "source": [
    "str1='welllcome'\n",
    "str1.replace('l','L',2)\n",
    "#when we write count=1\n",
    "#It will change only one letter\n",
    "#that to first "
   ]
  },
  {
   "cell_type": "code",
   "execution_count": 64,
   "id": "7d9a2ba1-18af-4c9d-ac58-a4264d865059",
   "metadata": {},
   "outputs": [
    {
     "data": {
      "text/plain": [
       "'resta$t'"
      ]
     },
     "execution_count": 64,
     "metadata": {},
     "output_type": "execute_result"
    }
   ],
   "source": [
    "#str1='restart'\n",
    "#i/p='resta$t'\n",
    "str1='restart'\n",
    "s1=str1[:1]\n",
    "s2=str1[1:]\n",
    "s3=s2.replace('r','$')\n",
    "s1+s3"
   ]
  },
  {
   "cell_type": "code",
   "execution_count": 67,
   "id": "be455bda-b35d-4276-8b70-b589cc6a409b",
   "metadata": {},
   "outputs": [
    {
     "data": {
      "text/plain": [
       "'t$atser'"
      ]
     },
     "execution_count": 67,
     "metadata": {},
     "output_type": "execute_result"
    }
   ],
   "source": [
    "str1=s1+s3\n",
    "str1[::-1]"
   ]
  },
  {
   "cell_type": "markdown",
   "id": "c68522ca-50be-43e4-b22e-031d459e24ec",
   "metadata": {},
   "source": [
    "**Index-find**"
   ]
  },
  {
   "cell_type": "code",
   "execution_count": 68,
   "id": "3983746a-0619-48d5-a7d1-8059a694fe12",
   "metadata": {},
   "outputs": [
    {
     "data": {
      "text/plain": [
       "['__add__',\n",
       " '__class__',\n",
       " '__contains__',\n",
       " '__delattr__',\n",
       " '__dir__',\n",
       " '__doc__',\n",
       " '__eq__',\n",
       " '__format__',\n",
       " '__ge__',\n",
       " '__getattribute__',\n",
       " '__getitem__',\n",
       " '__getnewargs__',\n",
       " '__getstate__',\n",
       " '__gt__',\n",
       " '__hash__',\n",
       " '__init__',\n",
       " '__init_subclass__',\n",
       " '__iter__',\n",
       " '__le__',\n",
       " '__len__',\n",
       " '__lt__',\n",
       " '__mod__',\n",
       " '__mul__',\n",
       " '__ne__',\n",
       " '__new__',\n",
       " '__reduce__',\n",
       " '__reduce_ex__',\n",
       " '__repr__',\n",
       " '__rmod__',\n",
       " '__rmul__',\n",
       " '__setattr__',\n",
       " '__sizeof__',\n",
       " '__str__',\n",
       " '__subclasshook__',\n",
       " 'capitalize',\n",
       " 'casefold',\n",
       " 'center',\n",
       " 'count',\n",
       " 'encode',\n",
       " 'endswith',\n",
       " 'expandtabs',\n",
       " 'find',\n",
       " 'format',\n",
       " 'format_map',\n",
       " 'index',\n",
       " 'isalnum',\n",
       " 'isalpha',\n",
       " 'isascii',\n",
       " 'isdecimal',\n",
       " 'isdigit',\n",
       " 'isidentifier',\n",
       " 'islower',\n",
       " 'isnumeric',\n",
       " 'isprintable',\n",
       " 'isspace',\n",
       " 'istitle',\n",
       " 'isupper',\n",
       " 'join',\n",
       " 'ljust',\n",
       " 'lower',\n",
       " 'lstrip',\n",
       " 'maketrans',\n",
       " 'partition',\n",
       " 'removeprefix',\n",
       " 'removesuffix',\n",
       " 'replace',\n",
       " 'rfind',\n",
       " 'rindex',\n",
       " 'rjust',\n",
       " 'rpartition',\n",
       " 'rsplit',\n",
       " 'rstrip',\n",
       " 'split',\n",
       " 'splitlines',\n",
       " 'startswith',\n",
       " 'strip',\n",
       " 'swapcase',\n",
       " 'title',\n",
       " 'translate',\n",
       " 'upper',\n",
       " 'zfill']"
      ]
     },
     "execution_count": 68,
     "metadata": {},
     "output_type": "execute_result"
    }
   ],
   "source": [
    "dir('str1')"
   ]
  },
  {
   "cell_type": "code",
   "execution_count": 69,
   "id": "31280a28-125c-41fc-a225-c714f65f4415",
   "metadata": {},
   "outputs": [
    {
     "data": {
      "text/plain": [
       "3"
      ]
     },
     "execution_count": 69,
     "metadata": {},
     "output_type": "execute_result"
    }
   ],
   "source": [
    "str1='hai hai hai'\n",
    "str1.count('hai')"
   ]
  },
  {
   "cell_type": "code",
   "execution_count": 71,
   "id": "5cdf7430-431c-4bc5-91ea-085ec0cce57c",
   "metadata": {},
   "outputs": [
    {
     "data": {
      "text/plain": [
       "False"
      ]
     },
     "execution_count": 71,
     "metadata": {},
     "output_type": "execute_result"
    }
   ],
   "source": [
    "str1='hello'\n",
    "str1.isupper()"
   ]
  },
  {
   "cell_type": "code",
   "execution_count": null,
   "id": "5c52566f-c02d-4a74-a553-adc388495186",
   "metadata": {},
   "outputs": [],
   "source": [
    "'index',\n",
    " 'isalnum',\n",
    " 'isalpha',\n",
    " 'isascii',\n",
    " 'isdecimal',\n",
    " 'isdigit',\n",
    " 'isidentifier',\n",
    " 'islower',\n",
    " 'isnumeric',\n",
    " 'isprintable',\n",
    " 'isspace',\n",
    " 'istitle',\n",
    " 'isupper',\n",
    " 'join',\n",
    " 'ljust',\n",
    " 'lower',\n",
    " 'lstrip',\n",
    " 'maketrans',\n",
    " 'partition',\n",
    " 'removeprefix',\n",
    " 'removesuffix',\n",
    " 'replace',\n",
    " 'rfind',\n",
    " 'rindex',\n",
    " 'rjust',\n",
    " 'rpartition',\n",
    " 'rsplit',\n",
    " 'rstrip',\n",
    " 'split',\n",
    " 'splitlines',\n",
    " 'startswith',\n",
    " 'strip',\n",
    " 'swapcase',"
   ]
  },
  {
   "cell_type": "code",
   "execution_count": 85,
   "id": "3cf63e28-ef7c-4302-9652-5b56d14fb26d",
   "metadata": {},
   "outputs": [
    {
     "data": {
      "text/plain": [
       "True"
      ]
     },
     "execution_count": 85,
     "metadata": {},
     "output_type": "execute_result"
    }
   ],
   "source": [
    "str1='sudarshan'\n",
    "str1.isalnum()"
   ]
  },
  {
   "cell_type": "code",
   "execution_count": 36,
   "id": "519e8bd8-3f7d-4de0-ad5e-bc8cf9251c9f",
   "metadata": {},
   "outputs": [
    {
     "data": {
      "text/plain": [
       "True"
      ]
     },
     "execution_count": 36,
     "metadata": {},
     "output_type": "execute_result"
    }
   ],
   "source": [
    "str1='sk'\n",
    "bool(str1)"
   ]
  },
  {
   "cell_type": "markdown",
   "id": "e1f807ea-838c-448d-b1e7-6905de14eda2",
   "metadata": {},
   "source": [
    "**Index**\n",
    "\n",
    "- index says that it will gives index of any letter in a given string\n",
    "\n",
    "- we already seen about count:count wil give how many letters are there in a string\n",
    "\n",
    "    - at what index you want to count\n",
    " \n",
    "    - between indexes also we can count\n",
    " \n",
    "- index meaning it wil provide the index\n",
    "\n",
    "- imagine that there are same letters repeated\n",
    "\n",
    "- how can we find the next index "
   ]
  },
  {
   "cell_type": "code",
   "execution_count": 6,
   "id": "fcba19b6-a67b-4c80-90b3-38247442adda",
   "metadata": {},
   "outputs": [
    {
     "data": {
      "text/plain": [
       "1"
      ]
     },
     "execution_count": 6,
     "metadata": {},
     "output_type": "execute_result"
    }
   ],
   "source": [
    "#h  a i   h a i  h a i\n",
    "#0  1 2 3 4 5 6 7 8 9 10\n",
    "str1='hai hai hai'\n",
    "str1.index('a')"
   ]
  },
  {
   "cell_type": "code",
   "execution_count": 2,
   "id": "61abaabe-0c12-4c19-a3d1-2a449217d3b5",
   "metadata": {},
   "outputs": [
    {
     "data": {
      "text/plain": [
       "1"
      ]
     },
     "execution_count": 2,
     "metadata": {},
     "output_type": "execute_result"
    }
   ],
   "source": [
    "str1='hai hai hai'\n",
    "str1.index('a',5)"
   ]
  },
  {
   "cell_type": "code",
   "execution_count": 15,
   "id": "bf86d16c-fa90-490e-994f-a3fbb7c0e572",
   "metadata": {},
   "outputs": [
    {
     "data": {
      "text/plain": [
       "5"
      ]
     },
     "execution_count": 15,
     "metadata": {},
     "output_type": "execute_result"
    }
   ],
   "source": [
    "str1='hai hai hai'\n",
    "str1.index('a',3,7)"
   ]
  },
  {
   "cell_type": "code",
   "execution_count": 12,
   "id": "10f0eb79-6ff9-41cf-9b8f-e20009a24f4e",
   "metadata": {},
   "outputs": [
    {
     "data": {
      "text/plain": [
       "9"
      ]
     },
     "execution_count": 12,
     "metadata": {},
     "output_type": "execute_result"
    }
   ],
   "source": [
    "str1='hai hai hai'\n",
    "str1.index('a',-3,-1)"
   ]
  },
  {
   "cell_type": "code",
   "execution_count": 18,
   "id": "58778aa3-c57e-4c53-98f4-bcb96f284248",
   "metadata": {},
   "outputs": [
    {
     "name": "stdout",
     "output_type": "stream",
     "text": [
      "1\n"
     ]
    }
   ],
   "source": [
    "#-11 -10 -9  -8 -7 -6  -5 -4 -3 -2 -1\n",
    "# h   a   i      h  a  i      h  a  i\n",
    "# 0   1   2   3   4  5  6  7   8  9  10\n",
    "\n",
    "str1='hai hai hai'\n",
    "str1.count('a')\n",
    "print(str1.count('a',3,7))"
   ]
  },
  {
   "cell_type": "code",
   "execution_count": 19,
   "id": "3c6b7a1f-184c-4236-86dd-bec1e6298496",
   "metadata": {},
   "outputs": [
    {
     "name": "stdout",
     "output_type": "stream",
     "text": [
      "5\n"
     ]
    }
   ],
   "source": [
    "str1='hai hai hai'\n",
    "print(str1.index('a',3,7))"
   ]
  },
  {
   "cell_type": "code",
   "execution_count": 22,
   "id": "e6348a97-9b33-404b-97ec-f7179749a1c1",
   "metadata": {},
   "outputs": [
    {
     "name": "stdout",
     "output_type": "stream",
     "text": [
      "1\n",
      "5\n",
      "9\n"
     ]
    }
   ],
   "source": [
    "str1='hai hai hai'\n",
    "for i in range(len(str1)):\n",
    "    if str1[i]=='a':\n",
    "        print(i)"
   ]
  },
  {
   "cell_type": "code",
   "execution_count": 23,
   "id": "ffba289b-ab67-4782-975a-591c4228e721",
   "metadata": {},
   "outputs": [
    {
     "name": "stdout",
     "output_type": "stream",
     "text": [
      "1\n"
     ]
    }
   ],
   "source": [
    "str1='hai hai hai'\n",
    "i1=str1.index('a')\n",
    "print(i1)"
   ]
  },
  {
   "cell_type": "code",
   "execution_count": 24,
   "id": "28aabc6f-7806-4b53-9898-39d7410eae39",
   "metadata": {},
   "outputs": [
    {
     "name": "stdout",
     "output_type": "stream",
     "text": [
      "5\n"
     ]
    }
   ],
   "source": [
    "i2=str1.index('a',i1+1)\n",
    "print(i2)"
   ]
  },
  {
   "cell_type": "code",
   "execution_count": 25,
   "id": "793857e0-fdb7-4b2f-9d2a-f43224e00ce0",
   "metadata": {},
   "outputs": [
    {
     "name": "stdout",
     "output_type": "stream",
     "text": [
      "9\n"
     ]
    }
   ],
   "source": [
    "i3=str1.index('a',i2+1)\n",
    "print(i)"
   ]
  },
  {
   "cell_type": "code",
   "execution_count": 7,
   "id": "4fd006d9-886c-4c69-83f1-c171ee31d91b",
   "metadata": {},
   "outputs": [
    {
     "name": "stdout",
     "output_type": "stream",
     "text": [
      "1\n",
      "5\n",
      "9\n",
      "13\n"
     ]
    }
   ],
   "source": [
    "str1='hai hai hai hai'\n",
    "for i in range(len(str1)):\n",
    "    if str1[i]=='a':\n",
    "        print(i)"
   ]
  },
  {
   "cell_type": "markdown",
   "id": "eeb5e0bc-b06c-4d67-8fc5-3a7f8916c2a6",
   "metadata": {},
   "source": [
    "**Find**"
   ]
  },
  {
   "cell_type": "code",
   "execution_count": 41,
   "id": "a2f17aa7-69c6-4de7-9ca7-b6bad3171390",
   "metadata": {},
   "outputs": [
    {
     "name": "stdout",
     "output_type": "stream",
     "text": [
      "1\n",
      "5\n",
      "9\n",
      "13\n"
     ]
    }
   ],
   "source": [
    "str1='hai hai hai hai'\n",
    "i1=str1.find('a')\n",
    "print(i1)\n",
    "i2=str1.find('a',i1+1)\n",
    "print(i2)\n",
    "i3=str1.find('a',i2+1)\n",
    "print(i3)\n",
    "i4=str1.index('a',i3+1)\n",
    "print(i4)"
   ]
  },
  {
   "cell_type": "code",
   "execution_count": 46,
   "id": "15c6a169-af7c-49df-b9d7-9fd80308fc4e",
   "metadata": {},
   "outputs": [
    {
     "data": {
      "text/plain": [
       "'hai hai hai'"
      ]
     },
     "execution_count": 46,
     "metadata": {},
     "output_type": "execute_result"
    }
   ],
   "source": [
    "str1='hai hai hai'\n",
    "str1.replace('z','Z')"
   ]
  },
  {
   "cell_type": "markdown",
   "id": "f518024d-407c-4a64-90a5-65677ad48361",
   "metadata": {},
   "source": [
    "- if substring not found\n",
    "\n",
    "- count method will give zero\n",
    "\n",
    "- Replace method wil give original string\n",
    "\n",
    "- index will give **sub string not found error**\n",
    "\n",
    "- find will give -1"
   ]
  },
  {
   "cell_type": "code",
   "execution_count": 45,
   "id": "92ce5b10-52cf-422c-98b4-cf674a5e07a4",
   "metadata": {},
   "outputs": [
    {
     "data": {
      "text/plain": [
       "('omkar', 'nallgoni', 'cognizant')"
      ]
     },
     "execution_count": 45,
     "metadata": {},
     "output_type": "execute_result"
    }
   ],
   "source": [
    "str1='omkar.nallgoni@cognizant.com'\n",
    "i1=str1.index('.')\n",
    "i2=str1.index('@')\n",
    "i3=str1.index('.',i1+1)\n",
    "first_name=str1[:i1]\n",
    "second_name=str1[i1+1:i2]\n",
    "cname=str1[i2+1:i3]\n",
    "first_name,second_name,cname"
   ]
  },
  {
   "cell_type": "markdown",
   "id": "ccd82891-fb94-4e79-845e-21dc7ea610f1",
   "metadata": {},
   "source": [
    "**Representation**"
   ]
  },
  {
   "cell_type": "markdown",
   "id": "ddcbdde2-083c-4d50-994b-938ecb2921f8",
   "metadata": {},
   "source": [
    "- string representation with quotes\n",
    "\n",
    "- List represent with square brackets[]"
   ]
  },
  {
   "cell_type": "code",
   "execution_count": 1,
   "id": "cb10da40-2936-4eac-bb95-eb7a3909814a",
   "metadata": {},
   "outputs": [
    {
     "data": {
      "text/plain": [
       "[1, 2, 3, 4]"
      ]
     },
     "execution_count": 1,
     "metadata": {},
     "output_type": "execute_result"
    }
   ],
   "source": [
    "l1=[1,2,3,4]\n",
    "l1"
   ]
  },
  {
   "cell_type": "code",
   "execution_count": 2,
   "id": "d11f7802-61a6-40b1-bc2f-d4f156fdf502",
   "metadata": {},
   "outputs": [
    {
     "data": {
      "text/plain": [
       "list"
      ]
     },
     "execution_count": 2,
     "metadata": {},
     "output_type": "execute_result"
    }
   ],
   "source": [
    "type(l1)"
   ]
  },
  {
   "cell_type": "code",
   "execution_count": 5,
   "id": "55810d4a-8515-441a-970e-d0440b1fbae7",
   "metadata": {},
   "outputs": [
    {
     "data": {
      "text/plain": [
       "['A', 'B', 'C', 'D']"
      ]
     },
     "execution_count": 5,
     "metadata": {},
     "output_type": "execute_result"
    }
   ],
   "source": [
    "l2=['A','B','C','D']\n",
    "l2"
   ]
  },
  {
   "cell_type": "code",
   "execution_count": 7,
   "id": "a11663be-b504-469c-b594-8a32c0f66252",
   "metadata": {},
   "outputs": [
    {
     "data": {
      "text/plain": [
       "[1, 2, 3, 4, 'A', 'B', 'C', 'D']"
      ]
     },
     "execution_count": 7,
     "metadata": {},
     "output_type": "execute_result"
    }
   ],
   "source": [
    "l3=[1,2,3,4,'A','B','C','D']\n",
    "l3"
   ]
  },
  {
   "cell_type": "code",
   "execution_count": 8,
   "id": "ba9c2e9e-3d1d-4bb9-9aed-e0e178382237",
   "metadata": {},
   "outputs": [
    {
     "data": {
      "text/plain": [
       "[1, 2, 3, 4, 'Apple', 'Ball', 'Cat', True, False]"
      ]
     },
     "execution_count": 8,
     "metadata": {},
     "output_type": "execute_result"
    }
   ],
   "source": [
    "l4=[1,2,3,4,'Apple','Ball','Cat',True,False]\n",
    "l4"
   ]
  },
  {
   "cell_type": "code",
   "execution_count": 11,
   "id": "6800daef-a728-4f8e-a2db-e82b008f7e2a",
   "metadata": {},
   "outputs": [
    {
     "data": {
      "text/plain": [
       "['naresh it']"
      ]
     },
     "execution_count": 11,
     "metadata": {},
     "output_type": "execute_result"
    }
   ],
   "source": [
    "name='naresh it'\n",
    "l5=[name]\n",
    "l5"
   ]
  },
  {
   "cell_type": "code",
   "execution_count": 12,
   "id": "0b549565-9de5-4b86-99b5-e3c8995b962c",
   "metadata": {},
   "outputs": [
    {
     "data": {
      "text/plain": [
       "[100, 100, 100]"
      ]
     },
     "execution_count": 12,
     "metadata": {},
     "output_type": "execute_result"
    }
   ],
   "source": [
    "l6=[100,100,100]\n",
    "l6"
   ]
  },
  {
   "cell_type": "code",
   "execution_count": 14,
   "id": "5c6ae472-0f8d-4d5f-ae60-ecbc40567a26",
   "metadata": {},
   "outputs": [
    {
     "data": {
      "text/plain": [
       "[100, 'Apple', ['A', 2]]"
      ]
     },
     "execution_count": 14,
     "metadata": {},
     "output_type": "execute_result"
    }
   ],
   "source": [
    "l7=[100,'Apple',['A',2]]\n",
    "l7"
   ]
  },
  {
   "cell_type": "markdown",
   "id": "47e2d25a-72af-482e-acc6-33b70cc09da1",
   "metadata": {},
   "source": [
    "- list are array of elements\n",
    "\n",
    "- list elements are heterogeneous all the data types we can represented in a list\n",
    "\n",
    "- list elements are allowed duplicates\n",
    "\n",
    "- list in list is possible\n",
    "\n",
    "- variable assignment also possible in the list"
   ]
  },
  {
   "cell_type": "markdown",
   "id": "47d9d654-2618-4bd9-be5f-e05b8d14edf3",
   "metadata": {},
   "source": [
    "- len\n",
    "\n",
    "- max\n",
    "\n",
    "- min\n",
    "\n",
    "- sorted\n",
    "\n",
    "- reversed"
   ]
  },
  {
   "cell_type": "markdown",
   "id": "d4d48f55-e2bb-4c50-a017-edd6ac8b2bbc",
   "metadata": {},
   "source": [
    "**Len**"
   ]
  },
  {
   "cell_type": "code",
   "execution_count": 37,
   "id": "5845bed2-d99e-457f-9128-989a5d9aae16",
   "metadata": {},
   "outputs": [
    {
     "data": {
      "text/plain": [
       "4"
      ]
     },
     "execution_count": 37,
     "metadata": {},
     "output_type": "execute_result"
    }
   ],
   "source": [
    "l1=[1,2,3,4]\n",
    "len(l1)"
   ]
  },
  {
   "cell_type": "code",
   "execution_count": 16,
   "id": "573d3f19-8380-4dcd-a6d4-85eec4569e40",
   "metadata": {},
   "outputs": [
    {
     "data": {
      "text/plain": [
       "4"
      ]
     },
     "execution_count": 16,
     "metadata": {},
     "output_type": "execute_result"
    }
   ],
   "source": [
    "l2=['A','B','C','D']\n",
    "len(l2)"
   ]
  },
  {
   "cell_type": "code",
   "execution_count": 17,
   "id": "bf18a6e0-f995-42f5-acaf-6cb6909ca8d8",
   "metadata": {},
   "outputs": [
    {
     "data": {
      "text/plain": [
       "8"
      ]
     },
     "execution_count": 17,
     "metadata": {},
     "output_type": "execute_result"
    }
   ],
   "source": [
    "l3=[1,2,3,4,'A','B','C','D']\n",
    "len(l3)"
   ]
  },
  {
   "cell_type": "code",
   "execution_count": 18,
   "id": "9c62d4b6-42bf-41cb-9bbc-664174b8af1b",
   "metadata": {},
   "outputs": [
    {
     "data": {
      "text/plain": [
       "9"
      ]
     },
     "execution_count": 18,
     "metadata": {},
     "output_type": "execute_result"
    }
   ],
   "source": [
    "l4=[1,2,3,4,'Apple','Ball','Cat',True,False]\n",
    "len(l4)"
   ]
  },
  {
   "cell_type": "code",
   "execution_count": 19,
   "id": "14bfaed9-9e96-4a54-9f6a-3d7a5564ce8a",
   "metadata": {},
   "outputs": [
    {
     "data": {
      "text/plain": [
       "1"
      ]
     },
     "execution_count": 19,
     "metadata": {},
     "output_type": "execute_result"
    }
   ],
   "source": [
    "name='naresh it'\n",
    "l5=[name]\n",
    "len(l5)"
   ]
  },
  {
   "cell_type": "code",
   "execution_count": 20,
   "id": "451db986-6182-4aa6-95b2-d393ba431ed7",
   "metadata": {},
   "outputs": [
    {
     "data": {
      "text/plain": [
       "3"
      ]
     },
     "execution_count": 20,
     "metadata": {},
     "output_type": "execute_result"
    }
   ],
   "source": [
    "l6=[100,100,100]\n",
    "len(l6)"
   ]
  },
  {
   "cell_type": "code",
   "execution_count": 44,
   "id": "29fcc0ef-afd1-4e6d-9fd7-726c289d144a",
   "metadata": {},
   "outputs": [
    {
     "data": {
      "text/plain": [
       "3"
      ]
     },
     "execution_count": 44,
     "metadata": {},
     "output_type": "execute_result"
    }
   ],
   "source": [
    "l7=[100,'Apple',['A',2]]\n",
    "len(l7)"
   ]
  },
  {
   "cell_type": "markdown",
   "id": "80e4c837-343f-4d9c-8c3e-681ce379c190",
   "metadata": {},
   "source": [
    "**max**"
   ]
  },
  {
   "cell_type": "code",
   "execution_count": 23,
   "id": "0dd9b674-740c-44bd-9048-abac21775857",
   "metadata": {},
   "outputs": [
    {
     "data": {
      "text/plain": [
       "4"
      ]
     },
     "execution_count": 23,
     "metadata": {},
     "output_type": "execute_result"
    }
   ],
   "source": [
    "l1=[1,2,3,4]\n",
    "max(l1)"
   ]
  },
  {
   "cell_type": "code",
   "execution_count": 24,
   "id": "e9a47e91-3e3e-48c3-a045-7735ce3b652a",
   "metadata": {},
   "outputs": [
    {
     "data": {
      "text/plain": [
       "'D'"
      ]
     },
     "execution_count": 24,
     "metadata": {},
     "output_type": "execute_result"
    }
   ],
   "source": [
    "l2=['A','B','C','D']\n",
    "max(l2)"
   ]
  },
  {
   "cell_type": "code",
   "execution_count": 25,
   "id": "10170e18-2a15-47ca-8135-a627befbe94a",
   "metadata": {},
   "outputs": [
    {
     "ename": "TypeError",
     "evalue": "'>' not supported between instances of 'str' and 'int'",
     "output_type": "error",
     "traceback": [
      "\u001b[1;31m---------------------------------------------------------------------------\u001b[0m",
      "\u001b[1;31mTypeError\u001b[0m                                 Traceback (most recent call last)",
      "Cell \u001b[1;32mIn[25], line 2\u001b[0m\n\u001b[0;32m      1\u001b[0m l3\u001b[38;5;241m=\u001b[39m[\u001b[38;5;241m1\u001b[39m,\u001b[38;5;241m2\u001b[39m,\u001b[38;5;241m3\u001b[39m,\u001b[38;5;241m4\u001b[39m,\u001b[38;5;124m'\u001b[39m\u001b[38;5;124mA\u001b[39m\u001b[38;5;124m'\u001b[39m,\u001b[38;5;124m'\u001b[39m\u001b[38;5;124mB\u001b[39m\u001b[38;5;124m'\u001b[39m,\u001b[38;5;124m'\u001b[39m\u001b[38;5;124mC\u001b[39m\u001b[38;5;124m'\u001b[39m,\u001b[38;5;124m'\u001b[39m\u001b[38;5;124mD\u001b[39m\u001b[38;5;124m'\u001b[39m]\n\u001b[1;32m----> 2\u001b[0m \u001b[38;5;28mmax\u001b[39m(l3)\n",
      "\u001b[1;31mTypeError\u001b[0m: '>' not supported between instances of 'str' and 'int'"
     ]
    }
   ],
   "source": [
    "l3=[1,2,3,4,'A','B','C','D']\n",
    "max(l3)"
   ]
  },
  {
   "cell_type": "code",
   "execution_count": 26,
   "id": "7821ffc6-7684-4fa3-a01a-6e6164a52dd0",
   "metadata": {},
   "outputs": [
    {
     "ename": "TypeError",
     "evalue": "'>' not supported between instances of 'str' and 'int'",
     "output_type": "error",
     "traceback": [
      "\u001b[1;31m---------------------------------------------------------------------------\u001b[0m",
      "\u001b[1;31mTypeError\u001b[0m                                 Traceback (most recent call last)",
      "Cell \u001b[1;32mIn[26], line 2\u001b[0m\n\u001b[0;32m      1\u001b[0m l4\u001b[38;5;241m=\u001b[39m[\u001b[38;5;241m1\u001b[39m,\u001b[38;5;241m2\u001b[39m,\u001b[38;5;241m3\u001b[39m,\u001b[38;5;241m4\u001b[39m,\u001b[38;5;124m'\u001b[39m\u001b[38;5;124mApple\u001b[39m\u001b[38;5;124m'\u001b[39m,\u001b[38;5;124m'\u001b[39m\u001b[38;5;124mBall\u001b[39m\u001b[38;5;124m'\u001b[39m,\u001b[38;5;124m'\u001b[39m\u001b[38;5;124mCat\u001b[39m\u001b[38;5;124m'\u001b[39m,\u001b[38;5;28;01mTrue\u001b[39;00m,\u001b[38;5;28;01mFalse\u001b[39;00m]\n\u001b[1;32m----> 2\u001b[0m \u001b[38;5;28mmax\u001b[39m(l4)\n",
      "\u001b[1;31mTypeError\u001b[0m: '>' not supported between instances of 'str' and 'int'"
     ]
    }
   ],
   "source": [
    "l4=[1,2,3,4,'Apple','Ball','Cat',True,False]\n",
    "max(l4)"
   ]
  },
  {
   "cell_type": "code",
   "execution_count": 27,
   "id": "767a5712-c826-468b-bb27-d1d3fa020049",
   "metadata": {},
   "outputs": [
    {
     "data": {
      "text/plain": [
       "'naresh it'"
      ]
     },
     "execution_count": 27,
     "metadata": {},
     "output_type": "execute_result"
    }
   ],
   "source": [
    "name='naresh it'\n",
    "l5=[name]\n",
    "max(l5)"
   ]
  },
  {
   "cell_type": "code",
   "execution_count": 28,
   "id": "37d87f3e-561d-4a43-8436-55cf757e9677",
   "metadata": {},
   "outputs": [
    {
     "data": {
      "text/plain": [
       "100"
      ]
     },
     "execution_count": 28,
     "metadata": {},
     "output_type": "execute_result"
    }
   ],
   "source": [
    "name='naresh it'\n",
    "l5=[name]\n",
    "max(l5)"
   ]
  },
  {
   "cell_type": "code",
   "execution_count": 29,
   "id": "949fc661-a2f2-4270-a514-2df41b41f6ba",
   "metadata": {},
   "outputs": [
    {
     "ename": "TypeError",
     "evalue": "'>' not supported between instances of 'str' and 'int'",
     "output_type": "error",
     "traceback": [
      "\u001b[1;31m---------------------------------------------------------------------------\u001b[0m",
      "\u001b[1;31mTypeError\u001b[0m                                 Traceback (most recent call last)",
      "Cell \u001b[1;32mIn[29], line 2\u001b[0m\n\u001b[0;32m      1\u001b[0m l7\u001b[38;5;241m=\u001b[39m[\u001b[38;5;241m100\u001b[39m,\u001b[38;5;124m'\u001b[39m\u001b[38;5;124mApple\u001b[39m\u001b[38;5;124m'\u001b[39m,[\u001b[38;5;124m'\u001b[39m\u001b[38;5;124mA\u001b[39m\u001b[38;5;124m'\u001b[39m,\u001b[38;5;241m2\u001b[39m]]\n\u001b[1;32m----> 2\u001b[0m \u001b[38;5;28mmax\u001b[39m(l7)\n",
      "\u001b[1;31mTypeError\u001b[0m: '>' not supported between instances of 'str' and 'int'"
     ]
    }
   ],
   "source": [
    "l7=[100,'Apple',['A',2]]\n",
    "max(l7)\n"
   ]
  },
  {
   "cell_type": "markdown",
   "id": "d0074283-2dfd-4353-9d32-e6932bf41467",
   "metadata": {},
   "source": [
    "**Min**"
   ]
  },
  {
   "cell_type": "code",
   "execution_count": 30,
   "id": "43a95d0c-e633-4858-b23a-8b25f99ff304",
   "metadata": {},
   "outputs": [
    {
     "data": {
      "text/plain": [
       "1"
      ]
     },
     "execution_count": 30,
     "metadata": {},
     "output_type": "execute_result"
    }
   ],
   "source": [
    "l1=[1,2,3,4]\n",
    "min(l1)"
   ]
  },
  {
   "cell_type": "code",
   "execution_count": 31,
   "id": "a9b3d2b7-9797-4f3b-93a5-442dabfa1991",
   "metadata": {},
   "outputs": [
    {
     "data": {
      "text/plain": [
       "'A'"
      ]
     },
     "execution_count": 31,
     "metadata": {},
     "output_type": "execute_result"
    }
   ],
   "source": [
    "l2=['A','B','C','D']\n",
    "min(l2)"
   ]
  },
  {
   "cell_type": "code",
   "execution_count": 32,
   "id": "e5337048-f82f-458c-8b1e-f43953c14dbd",
   "metadata": {},
   "outputs": [
    {
     "ename": "TypeError",
     "evalue": "'<' not supported between instances of 'str' and 'int'",
     "output_type": "error",
     "traceback": [
      "\u001b[1;31m---------------------------------------------------------------------------\u001b[0m",
      "\u001b[1;31mTypeError\u001b[0m                                 Traceback (most recent call last)",
      "Cell \u001b[1;32mIn[32], line 2\u001b[0m\n\u001b[0;32m      1\u001b[0m l3\u001b[38;5;241m=\u001b[39m[\u001b[38;5;241m1\u001b[39m,\u001b[38;5;241m2\u001b[39m,\u001b[38;5;241m3\u001b[39m,\u001b[38;5;241m4\u001b[39m,\u001b[38;5;124m'\u001b[39m\u001b[38;5;124mA\u001b[39m\u001b[38;5;124m'\u001b[39m,\u001b[38;5;124m'\u001b[39m\u001b[38;5;124mB\u001b[39m\u001b[38;5;124m'\u001b[39m,\u001b[38;5;124m'\u001b[39m\u001b[38;5;124mC\u001b[39m\u001b[38;5;124m'\u001b[39m,\u001b[38;5;124m'\u001b[39m\u001b[38;5;124mD\u001b[39m\u001b[38;5;124m'\u001b[39m]\n\u001b[1;32m----> 2\u001b[0m \u001b[38;5;28mmin\u001b[39m(l3)\n",
      "\u001b[1;31mTypeError\u001b[0m: '<' not supported between instances of 'str' and 'int'"
     ]
    }
   ],
   "source": [
    "l3=[1,2,3,4,'A','B','C','D']\n",
    "min(l3)"
   ]
  },
  {
   "cell_type": "code",
   "execution_count": 33,
   "id": "174580dd-f137-4959-b137-92571ae97e3a",
   "metadata": {},
   "outputs": [
    {
     "ename": "TypeError",
     "evalue": "'<' not supported between instances of 'str' and 'int'",
     "output_type": "error",
     "traceback": [
      "\u001b[1;31m---------------------------------------------------------------------------\u001b[0m",
      "\u001b[1;31mTypeError\u001b[0m                                 Traceback (most recent call last)",
      "Cell \u001b[1;32mIn[33], line 2\u001b[0m\n\u001b[0;32m      1\u001b[0m l4\u001b[38;5;241m=\u001b[39m[\u001b[38;5;241m1\u001b[39m,\u001b[38;5;241m2\u001b[39m,\u001b[38;5;241m3\u001b[39m,\u001b[38;5;241m4\u001b[39m,\u001b[38;5;124m'\u001b[39m\u001b[38;5;124mApple\u001b[39m\u001b[38;5;124m'\u001b[39m,\u001b[38;5;124m'\u001b[39m\u001b[38;5;124mBall\u001b[39m\u001b[38;5;124m'\u001b[39m,\u001b[38;5;124m'\u001b[39m\u001b[38;5;124mCat\u001b[39m\u001b[38;5;124m'\u001b[39m,\u001b[38;5;28;01mTrue\u001b[39;00m,\u001b[38;5;28;01mFalse\u001b[39;00m]\n\u001b[1;32m----> 2\u001b[0m \u001b[38;5;28mmin\u001b[39m(l4)\n",
      "\u001b[1;31mTypeError\u001b[0m: '<' not supported between instances of 'str' and 'int'"
     ]
    }
   ],
   "source": [
    "l4=[1,2,3,4,'Apple','Ball','Cat',True,False]\n",
    "min(l4)"
   ]
  },
  {
   "cell_type": "code",
   "execution_count": 34,
   "id": "fd6d6553-b88e-4923-814a-b192c15afec9",
   "metadata": {},
   "outputs": [
    {
     "data": {
      "text/plain": [
       "'naresh it'"
      ]
     },
     "execution_count": 34,
     "metadata": {},
     "output_type": "execute_result"
    }
   ],
   "source": [
    "name='naresh it'\n",
    "l5=[name]\n",
    "min(l5)"
   ]
  },
  {
   "cell_type": "code",
   "execution_count": 40,
   "id": "a9e6131c-1e70-4dab-b081-307cc6c2b642",
   "metadata": {},
   "outputs": [
    {
     "data": {
      "text/plain": [
       "100"
      ]
     },
     "execution_count": 40,
     "metadata": {},
     "output_type": "execute_result"
    }
   ],
   "source": [
    "l6=[100,100,100]\n",
    "min(l6)"
   ]
  },
  {
   "cell_type": "code",
   "execution_count": 41,
   "id": "6e4af225-547d-4539-adee-6f9c1af4c8d7",
   "metadata": {},
   "outputs": [
    {
     "ename": "TypeError",
     "evalue": "'<' not supported between instances of 'str' and 'int'",
     "output_type": "error",
     "traceback": [
      "\u001b[1;31m---------------------------------------------------------------------------\u001b[0m",
      "\u001b[1;31mTypeError\u001b[0m                                 Traceback (most recent call last)",
      "Cell \u001b[1;32mIn[41], line 2\u001b[0m\n\u001b[0;32m      1\u001b[0m l7\u001b[38;5;241m=\u001b[39m[\u001b[38;5;241m100\u001b[39m,\u001b[38;5;124m'\u001b[39m\u001b[38;5;124mApple\u001b[39m\u001b[38;5;124m'\u001b[39m,[\u001b[38;5;124m'\u001b[39m\u001b[38;5;124mA\u001b[39m\u001b[38;5;124m'\u001b[39m,\u001b[38;5;241m2\u001b[39m]]\n\u001b[1;32m----> 2\u001b[0m \u001b[38;5;28mmin\u001b[39m(l7)\n",
      "\u001b[1;31mTypeError\u001b[0m: '<' not supported between instances of 'str' and 'int'"
     ]
    }
   ],
   "source": [
    "l7=[100,'Apple',['A',2]]\n",
    "min(l7)"
   ]
  },
  {
   "cell_type": "markdown",
   "id": "22810217-ae95-40a2-b0cf-4488601e9352",
   "metadata": {},
   "source": [
    "**sorted**"
   ]
  },
  {
   "cell_type": "code",
   "execution_count": 43,
   "id": "011f1af8-3dc9-487f-8b10-e98cbef78d5e",
   "metadata": {},
   "outputs": [
    {
     "data": {
      "text/plain": [
       "[1, 2, 3, 4]"
      ]
     },
     "execution_count": 43,
     "metadata": {},
     "output_type": "execute_result"
    }
   ],
   "source": [
    "l1=[1,2,3,4]\n",
    "sorted(l1)"
   ]
  },
  {
   "cell_type": "code",
   "execution_count": 39,
   "id": "8c361026-6e82-459f-8a16-642db6571d1b",
   "metadata": {},
   "outputs": [
    {
     "data": {
      "text/plain": [
       "['A', 'B', 'C', 'D']"
      ]
     },
     "execution_count": 39,
     "metadata": {},
     "output_type": "execute_result"
    }
   ],
   "source": [
    "l2=['A','B','C','D']\n",
    "sorted(l2)"
   ]
  },
  {
   "cell_type": "code",
   "execution_count": 40,
   "id": "7ac770a9-86ef-4c20-8149-87203e931094",
   "metadata": {},
   "outputs": [
    {
     "ename": "TypeError",
     "evalue": "'<' not supported between instances of 'str' and 'int'",
     "output_type": "error",
     "traceback": [
      "\u001b[1;31m---------------------------------------------------------------------------\u001b[0m",
      "\u001b[1;31mTypeError\u001b[0m                                 Traceback (most recent call last)",
      "Cell \u001b[1;32mIn[40], line 2\u001b[0m\n\u001b[0;32m      1\u001b[0m l3\u001b[38;5;241m=\u001b[39m[\u001b[38;5;241m1\u001b[39m,\u001b[38;5;241m2\u001b[39m,\u001b[38;5;241m3\u001b[39m,\u001b[38;5;241m4\u001b[39m,\u001b[38;5;124m'\u001b[39m\u001b[38;5;124mA\u001b[39m\u001b[38;5;124m'\u001b[39m,\u001b[38;5;124m'\u001b[39m\u001b[38;5;124mB\u001b[39m\u001b[38;5;124m'\u001b[39m,\u001b[38;5;124m'\u001b[39m\u001b[38;5;124mC\u001b[39m\u001b[38;5;124m'\u001b[39m,\u001b[38;5;124m'\u001b[39m\u001b[38;5;124mD\u001b[39m\u001b[38;5;124m'\u001b[39m]\n\u001b[1;32m----> 2\u001b[0m \u001b[38;5;28msorted\u001b[39m(l3)\n",
      "\u001b[1;31mTypeError\u001b[0m: '<' not supported between instances of 'str' and 'int'"
     ]
    }
   ],
   "source": [
    "l3=[1,2,3,4,'A','B','C','D']\n",
    "sorted(l3)"
   ]
  },
  {
   "cell_type": "code",
   "execution_count": 38,
   "id": "e604061f-4856-4b59-850c-4905544f1104",
   "metadata": {},
   "outputs": [
    {
     "ename": "TypeError",
     "evalue": "'<' not supported between instances of 'str' and 'int'",
     "output_type": "error",
     "traceback": [
      "\u001b[1;31m---------------------------------------------------------------------------\u001b[0m",
      "\u001b[1;31mTypeError\u001b[0m                                 Traceback (most recent call last)",
      "Cell \u001b[1;32mIn[38], line 2\u001b[0m\n\u001b[0;32m      1\u001b[0m l4\u001b[38;5;241m=\u001b[39m[\u001b[38;5;241m1\u001b[39m,\u001b[38;5;241m2\u001b[39m,\u001b[38;5;241m3\u001b[39m,\u001b[38;5;241m4\u001b[39m,\u001b[38;5;124m'\u001b[39m\u001b[38;5;124mApple\u001b[39m\u001b[38;5;124m'\u001b[39m,\u001b[38;5;124m'\u001b[39m\u001b[38;5;124mBall\u001b[39m\u001b[38;5;124m'\u001b[39m,\u001b[38;5;124m'\u001b[39m\u001b[38;5;124mCat\u001b[39m\u001b[38;5;124m'\u001b[39m,\u001b[38;5;28;01mTrue\u001b[39;00m,\u001b[38;5;28;01mFalse\u001b[39;00m]\n\u001b[1;32m----> 2\u001b[0m \u001b[38;5;28msorted\u001b[39m(l4)\n",
      "\u001b[1;31mTypeError\u001b[0m: '<' not supported between instances of 'str' and 'int'"
     ]
    }
   ],
   "source": [
    "l4=[1,2,3,4,'Apple','Ball','Cat',True,False]\n",
    "sorted(l4)"
   ]
  },
  {
   "cell_type": "code",
   "execution_count": 46,
   "id": "a7d424ad-9255-4db3-bd49-dee7535dcf94",
   "metadata": {},
   "outputs": [
    {
     "data": {
      "text/plain": [
       "['naresh it']"
      ]
     },
     "execution_count": 46,
     "metadata": {},
     "output_type": "execute_result"
    }
   ],
   "source": [
    "name='naresh it'\n",
    "l5=[name]\n",
    "sorted(l5)"
   ]
  },
  {
   "cell_type": "code",
   "execution_count": 9,
   "id": "73e9f6d2-2761-4eae-8d54-4a58ea9d2e40",
   "metadata": {},
   "outputs": [
    {
     "data": {
      "text/plain": [
       "[100, 100, 100]"
      ]
     },
     "execution_count": 9,
     "metadata": {},
     "output_type": "execute_result"
    }
   ],
   "source": [
    "l6=[100,100,100]\n",
    "sorted(l6)"
   ]
  },
  {
   "cell_type": "code",
   "execution_count": 28,
   "id": "987b571e-1139-4f6b-8519-6d5e243ce3ce",
   "metadata": {},
   "outputs": [
    {
     "ename": "TypeError",
     "evalue": "'<' not supported between instances of 'str' and 'int'",
     "output_type": "error",
     "traceback": [
      "\u001b[1;31m---------------------------------------------------------------------------\u001b[0m",
      "\u001b[1;31mTypeError\u001b[0m                                 Traceback (most recent call last)",
      "Cell \u001b[1;32mIn[28], line 2\u001b[0m\n\u001b[0;32m      1\u001b[0m l7\u001b[38;5;241m=\u001b[39m[\u001b[38;5;241m100\u001b[39m,\u001b[38;5;124m'\u001b[39m\u001b[38;5;124mApple\u001b[39m\u001b[38;5;124m'\u001b[39m,[\u001b[38;5;124m'\u001b[39m\u001b[38;5;124mA\u001b[39m\u001b[38;5;124m'\u001b[39m,\u001b[38;5;241m2\u001b[39m]]\n\u001b[1;32m----> 2\u001b[0m \u001b[38;5;28msorted\u001b[39m(l7)\n",
      "\u001b[1;31mTypeError\u001b[0m: '<' not supported between instances of 'str' and 'int'"
     ]
    }
   ],
   "source": [
    "l7=[100,'Apple',['A',2]]\n",
    "sorted(l7)"
   ]
  },
  {
   "cell_type": "markdown",
   "id": "291a1780-72da-4a6c-9237-07add349c9c0",
   "metadata": {},
   "source": [
    "**reversed**"
   ]
  },
  {
   "cell_type": "code",
   "execution_count": 49,
   "id": "ec08c02a-4e89-4613-b9f2-540e4cb05d66",
   "metadata": {},
   "outputs": [
    {
     "data": {
      "text/plain": [
       "[False, True, 'Cat', 'Ball', 'Apple', 4, 3, 2, 1]"
      ]
     },
     "execution_count": 49,
     "metadata": {},
     "output_type": "execute_result"
    }
   ],
   "source": [
    "l1=[1,2,3,4]\n",
    "list(reversed(l4))"
   ]
  },
  {
   "cell_type": "code",
   "execution_count": 50,
   "id": "8b7ddcfe-2e03-4ad2-9ea0-6b09a6aaf9e0",
   "metadata": {},
   "outputs": [
    {
     "data": {
      "text/plain": [
       "['D', 'C', 'B', 'A']"
      ]
     },
     "execution_count": 50,
     "metadata": {},
     "output_type": "execute_result"
    }
   ],
   "source": [
    "l2=['A','B','C','D']\n",
    "list(reversed(l2))"
   ]
  },
  {
   "cell_type": "code",
   "execution_count": 51,
   "id": "0070ce7b-e14b-4f39-9efe-f614de9bf6fa",
   "metadata": {},
   "outputs": [
    {
     "data": {
      "text/plain": [
       "['D', 'C', 'B', 'A', 4, 3, 2, 1]"
      ]
     },
     "execution_count": 51,
     "metadata": {},
     "output_type": "execute_result"
    }
   ],
   "source": [
    "l3=[1,2,3,4,'A','B','C','D']\n",
    "list(reversed(l3))"
   ]
  },
  {
   "cell_type": "code",
   "execution_count": 52,
   "id": "6db4c04a-0d67-4a7b-9d67-99885ff9c750",
   "metadata": {},
   "outputs": [
    {
     "data": {
      "text/plain": [
       "[False, True, 'Cat', 'Ball', 'Apple', 4, 3, 2, 1]"
      ]
     },
     "execution_count": 52,
     "metadata": {},
     "output_type": "execute_result"
    }
   ],
   "source": [
    "l4=[1,2,3,4,'Apple','Ball','Cat',True,False]\n",
    "list(reversed(l4))"
   ]
  },
  {
   "cell_type": "code",
   "execution_count": 53,
   "id": "ce6ee667-6fb8-40b0-b044-505aee5b29ce",
   "metadata": {},
   "outputs": [
    {
     "data": {
      "text/plain": [
       "['naresh it']"
      ]
     },
     "execution_count": 53,
     "metadata": {},
     "output_type": "execute_result"
    }
   ],
   "source": [
    "name='naresh it'\n",
    "l5=[name]\n",
    "list(reversed(l5))"
   ]
  },
  {
   "cell_type": "code",
   "execution_count": 54,
   "id": "75889ba6-9272-4724-84dd-dfa89f7504ff",
   "metadata": {},
   "outputs": [
    {
     "data": {
      "text/plain": [
       "[100, 100, 100]"
      ]
     },
     "execution_count": 54,
     "metadata": {},
     "output_type": "execute_result"
    }
   ],
   "source": [
    "l6=[100,100,100]\n",
    "list(reversed(l6))"
   ]
  },
  {
   "cell_type": "code",
   "execution_count": 55,
   "id": "b9d28e7e-9968-4662-add0-8ef98bce7bf4",
   "metadata": {},
   "outputs": [
    {
     "data": {
      "text/plain": [
       "[['A', 2], 'Apple', 100]"
      ]
     },
     "execution_count": 55,
     "metadata": {},
     "output_type": "execute_result"
    }
   ],
   "source": [
    "l7=[100,'Apple',['A',2]]\n",
    "list(reversed(l7))"
   ]
  },
  {
   "cell_type": "code",
   "execution_count": 56,
   "id": "01ca5971-1453-413f-99bf-8904a313f186",
   "metadata": {},
   "outputs": [
    {
     "data": {
      "text/plain": [
       "3"
      ]
     },
     "execution_count": 56,
     "metadata": {},
     "output_type": "execute_result"
    }
   ],
   "source": [
    "list1=['Apple',\n",
    "       1,\n",
    "       ['apple','sudarshan']\n",
    "      ]\n",
    "len(list1)"
   ]
  },
  {
   "cell_type": "code",
   "execution_count": 11,
   "id": "296df6f5-58f7-447b-80a8-ace34c9821ba",
   "metadata": {},
   "outputs": [
    {
     "ename": "TypeError",
     "evalue": "'>' not supported between instances of 'str' and 'int'",
     "output_type": "error",
     "traceback": [
      "\u001b[1;31m---------------------------------------------------------------------------\u001b[0m",
      "\u001b[1;31mTypeError\u001b[0m                                 Traceback (most recent call last)",
      "Cell \u001b[1;32mIn[11], line 2\u001b[0m\n\u001b[0;32m      1\u001b[0m list1\u001b[38;5;241m=\u001b[39m[\u001b[38;5;241m65\u001b[39m,\u001b[38;5;124m'\u001b[39m\u001b[38;5;124mA\u001b[39m\u001b[38;5;124m'\u001b[39m]\n\u001b[1;32m----> 2\u001b[0m \u001b[38;5;28mmax\u001b[39m(list1)\n",
      "\u001b[1;31mTypeError\u001b[0m: '>' not supported between instances of 'str' and 'int'"
     ]
    }
   ],
   "source": [
    "list1=[65,'A']\n",
    "max(list1)"
   ]
  },
  {
   "cell_type": "markdown",
   "id": "47abade7-a9af-4026-983a-26d856969ac0",
   "metadata": {},
   "source": [
    "**Index**"
   ]
  },
  {
   "cell_type": "code",
   "execution_count": 58,
   "id": "169f76f9-3652-4bbc-b7ff-0d2791ad699d",
   "metadata": {},
   "outputs": [
    {
     "data": {
      "text/plain": [
       "[1, 2, 3, 4, 'Apple', 'Ball', 'Cat', True, False]"
      ]
     },
     "execution_count": 58,
     "metadata": {},
     "output_type": "execute_result"
    }
   ],
   "source": [
    "l4=[1,2,3,4,'Apple','Ball','Cat',True,False]\n",
    "l4"
   ]
  },
  {
   "cell_type": "code",
   "execution_count": 59,
   "id": "25fdbd35-3186-40b9-9e74-95a141d6caf8",
   "metadata": {},
   "outputs": [
    {
     "data": {
      "text/plain": [
       "(4, 'Apple')"
      ]
     },
     "execution_count": 59,
     "metadata": {},
     "output_type": "execute_result"
    }
   ],
   "source": [
    "l4[3],l4[-5]"
   ]
  },
  {
   "cell_type": "code",
   "execution_count": 60,
   "id": "dbed5b31-f2d9-4d4c-9bf6-47d55bfdee99",
   "metadata": {},
   "outputs": [
    {
     "data": {
      "text/plain": [
       "(4, 'Apple')"
      ]
     },
     "execution_count": 60,
     "metadata": {},
     "output_type": "execute_result"
    }
   ],
   "source": [
    "l4[3],l4[-5]"
   ]
  },
  {
   "cell_type": "code",
   "execution_count": 62,
   "id": "35a82990-3aa4-4e74-a918-cdc19dc922fe",
   "metadata": {},
   "outputs": [
    {
     "data": {
      "text/plain": [
       "[1, [2]]"
      ]
     },
     "execution_count": 62,
     "metadata": {},
     "output_type": "execute_result"
    }
   ],
   "source": [
    "l1=[1,[2]]\n",
    "l1"
   ]
  },
  {
   "cell_type": "code",
   "execution_count": 67,
   "id": "4845e1d7-29c6-49db-9494-8e059f2cab2f",
   "metadata": {},
   "outputs": [
    {
     "data": {
      "text/plain": [
       "2"
      ]
     },
     "execution_count": 67,
     "metadata": {},
     "output_type": "execute_result"
    }
   ],
   "source": [
    "l1=[1,[2]]\n",
    "new=l1[1]\n",
    "new[0]\n",
    "\n",
    "l1[1][0]"
   ]
  },
  {
   "cell_type": "code",
   "execution_count": 69,
   "id": "dca4a6e2-84c1-4ce7-8478-3c5037f6fa24",
   "metadata": {},
   "outputs": [
    {
     "data": {
      "text/plain": [
       "'A'"
      ]
     },
     "execution_count": 69,
     "metadata": {},
     "output_type": "execute_result"
    }
   ],
   "source": [
    "l1=[1,[2,'A']]\n",
    "l1[1][1]"
   ]
  },
  {
   "cell_type": "code",
   "execution_count": 73,
   "id": "9077d304-86c5-49af-8615-4c0d955bf1dd",
   "metadata": {},
   "outputs": [
    {
     "data": {
      "text/plain": [
       "'A'"
      ]
     },
     "execution_count": 73,
     "metadata": {},
     "output_type": "execute_result"
    }
   ],
   "source": [
    "# How to get 'A'\n",
    "l1=[1,[2,'A']]\n",
    "l1[1][1]"
   ]
  },
  {
   "cell_type": "code",
   "execution_count": 16,
   "id": "8958ea4e-956d-446d-bc05-9676110bc24a",
   "metadata": {},
   "outputs": [
    {
     "data": {
      "text/plain": [
       "[2, ['A', 'B']]"
      ]
     },
     "execution_count": 16,
     "metadata": {},
     "output_type": "execute_result"
    }
   ],
   "source": [
    "l1=[1,[2,['A','B']]]\n",
    "l1[1]"
   ]
  },
  {
   "cell_type": "code",
   "execution_count": 17,
   "id": "be8f93c5-5840-441e-8c99-43ca9fd9b0d4",
   "metadata": {},
   "outputs": [
    {
     "data": {
      "text/plain": [
       "[1, [2, ['A', 'B']]]"
      ]
     },
     "execution_count": 17,
     "metadata": {},
     "output_type": "execute_result"
    }
   ],
   "source": [
    "l1[1][1]\n",
    "l1"
   ]
  },
  {
   "cell_type": "code",
   "execution_count": 18,
   "id": "45326174-c923-4252-9a76-a3e4beec098a",
   "metadata": {},
   "outputs": [
    {
     "data": {
      "text/plain": [
       "'B'"
      ]
     },
     "execution_count": 18,
     "metadata": {},
     "output_type": "execute_result"
    }
   ],
   "source": [
    "l1[1][1][1]"
   ]
  },
  {
   "cell_type": "code",
   "execution_count": 34,
   "id": "3a8748b7-10a2-4c4a-b075-ab8c5ce3aa44",
   "metadata": {},
   "outputs": [
    {
     "data": {
      "text/plain": [
       "3"
      ]
     },
     "execution_count": 34,
     "metadata": {},
     "output_type": "execute_result"
    }
   ],
   "source": [
    "l1=[1,2,[3,[4,[5,['Apple']]]]]\n",
    "len(l1)"
   ]
  },
  {
   "cell_type": "code",
   "execution_count": 88,
   "id": "02e57d97-7ff5-4c5d-a6f5-c9f65cf21d72",
   "metadata": {},
   "outputs": [
    {
     "data": {
      "text/plain": [
       "[3, [4, [5, ['Apple']]]]"
      ]
     },
     "execution_count": 88,
     "metadata": {},
     "output_type": "execute_result"
    }
   ],
   "source": [
    "l1[2]"
   ]
  },
  {
   "cell_type": "code",
   "execution_count": 90,
   "id": "6f171a70-7660-43be-92b4-a0373a206a69",
   "metadata": {},
   "outputs": [
    {
     "data": {
      "text/plain": [
       "[4, [5, ['Apple']]]"
      ]
     },
     "execution_count": 90,
     "metadata": {},
     "output_type": "execute_result"
    }
   ],
   "source": [
    "l1[2][1]"
   ]
  },
  {
   "cell_type": "code",
   "execution_count": 94,
   "id": "d8924e9a-acf2-47bd-90ae-04b58a55f379",
   "metadata": {},
   "outputs": [
    {
     "data": {
      "text/plain": [
       "[5, ['Apple']]"
      ]
     },
     "execution_count": 94,
     "metadata": {},
     "output_type": "execute_result"
    }
   ],
   "source": [
    "l1[2][1][1]"
   ]
  },
  {
   "cell_type": "code",
   "execution_count": 98,
   "id": "d02cc3af-42d9-4aed-b395-2607dec2a760",
   "metadata": {},
   "outputs": [
    {
     "data": {
      "text/plain": [
       "['Apple']"
      ]
     },
     "execution_count": 98,
     "metadata": {},
     "output_type": "execute_result"
    }
   ],
   "source": [
    "l1[2][1][1][1]"
   ]
  },
  {
   "cell_type": "code",
   "execution_count": 42,
   "id": "b660d68b-a331-4188-8966-7227756be96e",
   "metadata": {},
   "outputs": [
    {
     "data": {
      "text/plain": [
       "5"
      ]
     },
     "execution_count": 42,
     "metadata": {},
     "output_type": "execute_result"
    }
   ],
   "source": [
    "list1=['Apple',1,'solapur',['cherry','papaya',70,[123,'Banana'],'tomato'],'python']\n",
    "len(list1)"
   ]
  },
  {
   "cell_type": "code",
   "execution_count": 106,
   "id": "65c0e847-cc78-44c6-9d6b-4c8b33b7dc94",
   "metadata": {},
   "outputs": [
    {
     "data": {
      "text/plain": [
       "2"
      ]
     },
     "execution_count": 106,
     "metadata": {},
     "output_type": "execute_result"
    }
   ],
   "source": [
    "list1=['MH',['nagpur',['orange'],['likes'],['king'],['shivaji',['son',['sambhaji']]]]]\n",
    "len(list1)"
   ]
  },
  {
   "cell_type": "code",
   "execution_count": 108,
   "id": "6976d483-97a4-4660-a1f8-e3a25bb0073d",
   "metadata": {},
   "outputs": [
    {
     "data": {
      "text/plain": [
       "['nagpur', ['orange'], ['likes'], ['king'], ['shivaji', ['son', ['sambhaji']]]]"
      ]
     },
     "execution_count": 108,
     "metadata": {},
     "output_type": "execute_result"
    }
   ],
   "source": [
    "list1[1]"
   ]
  },
  {
   "cell_type": "code",
   "execution_count": 10,
   "id": "3c0c23f5-86b8-488f-a9a8-c94f69c6bbe6",
   "metadata": {},
   "outputs": [
    {
     "name": "stdout",
     "output_type": "stream",
     "text": [
      "The positive index of 1 is 0\n",
      "The positive index of 2 is 1\n",
      "The positive index of 3 is 2\n",
      "The positive index of 4 is 3\n",
      "The positive index of Apple is 4\n",
      "The positive index of Ball is 5\n",
      "The positive index of Cat is 6\n",
      "The positive index of True is 7\n",
      "The positive index of False is 8\n"
     ]
    }
   ],
   "source": [
    "l4=[1,2,3,4,'Apple','Ball','Cat',True,False]\n",
    "\n",
    "#-8 -7 -6  -5   -4   -3   -2    -1\n",
    "#1  2  3  'A'  'B'  'c'  True  False\n",
    "#0  1  2   3    4    5     6    7\n",
    "\n",
    "for i in range(len(l4)):\n",
    "    print(f\"The positive index of {l4[i]} is {i}\")"
   ]
  },
  {
   "cell_type": "code",
   "execution_count": 20,
   "id": "77fe8c3c-bf03-49c5-a162-50bdc8497176",
   "metadata": {},
   "outputs": [
    {
     "name": "stdout",
     "output_type": "stream",
     "text": [
      "The negative index of 0 is -9\n",
      "The negative index of 1 is -8\n",
      "The negative index of 2 is -7\n",
      "The negative index of 3 is -6\n",
      "The negative index of 4 is -5\n",
      "The negative index of 5 is -4\n",
      "The negative index of 6 is -3\n",
      "The negative index of 7 is -2\n",
      "The negative index of 8 is -1\n"
     ]
    }
   ],
   "source": [
    "l4=[1,2,3,4,'Apple','Ball','Cat',True,False]\n",
    "for i in range(len(l4)):\n",
    "    print(f\"The negative index of {i} is {i-len(l4)}\")"
   ]
  },
  {
   "cell_type": "code",
   "execution_count": 15,
   "id": "14164bd2-f886-450d-ab64-20f62ca538b2",
   "metadata": {},
   "outputs": [
    {
     "data": {
      "text/plain": [
       "[1, 2, 3, 100, 5]"
      ]
     },
     "execution_count": 15,
     "metadata": {},
     "output_type": "execute_result"
    }
   ],
   "source": [
    "s=[1,2,3,4,5]\n",
    "s[3]=100\n",
    "s"
   ]
  },
  {
   "cell_type": "code",
   "execution_count": 32,
   "id": "82f2f503-666b-42c5-84ec-ad7b6f197849",
   "metadata": {},
   "outputs": [
    {
     "ename": "TypeError",
     "evalue": "'str' object does not support item assignment",
     "output_type": "error",
     "traceback": [
      "\u001b[1;31m---------------------------------------------------------------------------\u001b[0m",
      "\u001b[1;31mTypeError\u001b[0m                                 Traceback (most recent call last)",
      "Cell \u001b[1;32mIn[32], line 2\u001b[0m\n\u001b[0;32m      1\u001b[0m s\u001b[38;5;241m=\u001b[39m\u001b[38;5;124m'\u001b[39m\u001b[38;5;124mnaresh\u001b[39m\u001b[38;5;124m'\u001b[39m\n\u001b[1;32m----> 2\u001b[0m s[\u001b[38;5;241m5\u001b[39m]\u001b[38;5;241m=\u001b[39m\u001b[38;5;124m'\u001b[39m\u001b[38;5;124mI\u001b[39m\u001b[38;5;124m'\u001b[39m\n",
      "\u001b[1;31mTypeError\u001b[0m: 'str' object does not support item assignment"
     ]
    }
   ],
   "source": [
    "s='naresh'\n",
    "s[5]='I'"
   ]
  },
  {
   "cell_type": "code",
   "execution_count": 33,
   "id": "dc644ca0-ca3e-4e20-bcfe-0540b60b3177",
   "metadata": {},
   "outputs": [
    {
     "data": {
      "text/plain": [
       "[1, 2, 3, 4, 5, 6, 'A', 'B', 'C', 'D', 'E', 'F', 'G']"
      ]
     },
     "execution_count": 33,
     "metadata": {},
     "output_type": "execute_result"
    }
   ],
   "source": [
    "l=[1,2,3,4,5,6,'A','B','C','D','E','F','G']\n",
    "l"
   ]
  },
  {
   "cell_type": "code",
   "execution_count": null,
   "id": "d0c3dbb3-19d5-4338-bb4e-3bf19ef69c10",
   "metadata": {},
   "outputs": [],
   "source": [
    "l[3,9,2]\n",
    "l[3,9,-2]\n",
    "l[3,-9,2]\n",
    "l[3,-9,-2]\n",
    "l[-3,9,2]\n",
    "l[-3,-9,-2]\n",
    "l[-3,9,2]"
   ]
  },
  {
   "cell_type": "code",
   "execution_count": 25,
   "id": "5e105479-dc59-4a70-a007-1211b09fd764",
   "metadata": {},
   "outputs": [
    {
     "data": {
      "text/plain": [
       "[]"
      ]
     },
     "execution_count": 25,
     "metadata": {},
     "output_type": "execute_result"
    }
   ],
   "source": [
    "l[3:9:-2]"
   ]
  },
  {
   "cell_type": "code",
   "execution_count": 26,
   "id": "d521b6cf-9ef9-442c-9247-a1cbc27ea354",
   "metadata": {},
   "outputs": [
    {
     "data": {
      "text/plain": [
       "[4]"
      ]
     },
     "execution_count": 26,
     "metadata": {},
     "output_type": "execute_result"
    }
   ],
   "source": [
    "l[3:-9:2]"
   ]
  },
  {
   "cell_type": "code",
   "execution_count": 28,
   "id": "9f985d8e-4949-4519-9d9d-1cd32b6281d6",
   "metadata": {},
   "outputs": [
    {
     "data": {
      "text/plain": [
       "[]"
      ]
     },
     "execution_count": 28,
     "metadata": {},
     "output_type": "execute_result"
    }
   ],
   "source": [
    "l[3:-9:-2]"
   ]
  },
  {
   "cell_type": "code",
   "execution_count": 29,
   "id": "72d0ffa7-84fc-4f20-b773-34a36eb20c85",
   "metadata": {},
   "outputs": [
    {
     "data": {
      "text/plain": [
       "['E', 'C', 'A']"
      ]
     },
     "execution_count": 29,
     "metadata": {},
     "output_type": "execute_result"
    }
   ],
   "source": [
    "l[-3:-9:-2]"
   ]
  },
  {
   "cell_type": "code",
   "execution_count": 30,
   "id": "aed5dc91-92f7-4fac-a5b2-6c4443d7e540",
   "metadata": {},
   "outputs": [
    {
     "data": {
      "text/plain": [
       "[]"
      ]
     },
     "execution_count": 30,
     "metadata": {},
     "output_type": "execute_result"
    }
   ],
   "source": [
    "l[-3:9:2]"
   ]
  },
  {
   "cell_type": "markdown",
   "id": "87fc2a70-6043-42f3-91f8-4da1382bf763",
   "metadata": {},
   "source": [
    "**List Methods**"
   ]
  },
  {
   "cell_type": "code",
   "execution_count": 31,
   "id": "5917eb90-dfba-4b6f-a104-b079226db502",
   "metadata": {},
   "outputs": [
    {
     "data": {
      "text/plain": [
       "['__add__',\n",
       " '__class__',\n",
       " '__class_getitem__',\n",
       " '__contains__',\n",
       " '__delattr__',\n",
       " '__delitem__',\n",
       " '__dir__',\n",
       " '__doc__',\n",
       " '__eq__',\n",
       " '__format__',\n",
       " '__ge__',\n",
       " '__getattribute__',\n",
       " '__getitem__',\n",
       " '__getstate__',\n",
       " '__gt__',\n",
       " '__hash__',\n",
       " '__iadd__',\n",
       " '__imul__',\n",
       " '__init__',\n",
       " '__init_subclass__',\n",
       " '__iter__',\n",
       " '__le__',\n",
       " '__len__',\n",
       " '__lt__',\n",
       " '__mul__',\n",
       " '__ne__',\n",
       " '__new__',\n",
       " '__reduce__',\n",
       " '__reduce_ex__',\n",
       " '__repr__',\n",
       " '__reversed__',\n",
       " '__rmul__',\n",
       " '__setattr__',\n",
       " '__setitem__',\n",
       " '__sizeof__',\n",
       " '__str__',\n",
       " '__subclasshook__',\n",
       " 'append',\n",
       " 'clear',\n",
       " 'copy',\n",
       " 'count',\n",
       " 'extend',\n",
       " 'index',\n",
       " 'insert',\n",
       " 'pop',\n",
       " 'remove',\n",
       " 'reverse',\n",
       " 'sort']"
      ]
     },
     "execution_count": 31,
     "metadata": {},
     "output_type": "execute_result"
    }
   ],
   "source": [
    "dir(list)"
   ]
  },
  {
   "cell_type": "code",
   "execution_count": null,
   "id": "090bf9e1-3399-4936-a6d7-432ad57422a4",
   "metadata": {},
   "outputs": [],
   "source": [
    "'append',\n",
    " 'clear',\n",
    " 'copy',\n",
    " 'count',\n",
    " 'extend',\n",
    " 'index',\n",
    " 'insert',\n",
    " 'pop',\n",
    " 'remove',\n",
    " 'reverse',\n",
    " 'sort'"
   ]
  },
  {
   "cell_type": "markdown",
   "id": "c39eb609-4403-44a5-917c-8176fdc3d131",
   "metadata": {},
   "source": [
    "**Append**\n",
    "\n",
    "- adding element in a list at last index\n",
    "\n",
    "- append method is very important\n",
    "\n",
    "- most of the time we will use append in the real time\n",
    "\n",
    "- when you add the value the original list will be overwrite\n"
   ]
  },
  {
   "cell_type": "code",
   "execution_count": 38,
   "id": "58ae0cc8-328f-44ba-bb8f-0cefd2758161",
   "metadata": {},
   "outputs": [
    {
     "data": {
      "text/plain": [
       "['Apple', 'Ball', 'Cat', 'Doll']"
      ]
     },
     "execution_count": 38,
     "metadata": {},
     "output_type": "execute_result"
    }
   ],
   "source": [
    "l=['Apple','Ball','Cat']\n",
    "l.append('Doll')\n",
    "l"
   ]
  },
  {
   "cell_type": "code",
   "execution_count": null,
   "id": "bd6d8934-f902-4a1d-b4ca-c787222f4520",
   "metadata": {},
   "outputs": [],
   "source": [
    "#you want to add Doll in given list\n",
    "\n",
    "#keywords vs methods\n",
    "len()\n",
    "max()\n",
    "min()\n",
    "reversed()\n",
    "sorted()\n",
    "\n",
    "#Methods\n",
    "<package>.<method>()"
   ]
  },
  {
   "cell_type": "code",
   "execution_count": 42,
   "id": "918d5cb7-021e-40f7-aa38-22de4af83961",
   "metadata": {},
   "outputs": [
    {
     "data": {
      "text/plain": [
       "[10, 20, 'apple', ['A', 1], True]"
      ]
     },
     "execution_count": 42,
     "metadata": {},
     "output_type": "execute_result"
    }
   ],
   "source": [
    "l2=[]\n",
    "l2.append(10)\n",
    "l2.append(20)\n",
    "l2.append('apple')\n",
    "l2.append(['A',1])\n",
    "l2.append(True)\n",
    "l2"
   ]
  },
  {
   "cell_type": "markdown",
   "id": "22ddc039-4403-4520-b653-b7dfa7d93e60",
   "metadata": {},
   "source": [
    "**Append method used to solve**"
   ]
  },
  {
   "cell_type": "code",
   "execution_count": 43,
   "id": "3d050680-1e27-4bd3-a080-5c5c19a444ca",
   "metadata": {},
   "outputs": [
    {
     "name": "stdout",
     "output_type": "stream",
     "text": [
      "1\n",
      "4\n",
      "9\n",
      "16\n",
      "25\n"
     ]
    }
   ],
   "source": [
    "square_list=[]\n",
    "for i in range(1,6):\n",
    "    print(i*i)"
   ]
  },
  {
   "cell_type": "code",
   "execution_count": 46,
   "id": "3b7acdc7-372b-410e-b2fa-ff5e3dd78613",
   "metadata": {},
   "outputs": [
    {
     "data": {
      "text/plain": [
       "[1, 4, 9, 16, 25]"
      ]
     },
     "execution_count": 46,
     "metadata": {},
     "output_type": "execute_result"
    }
   ],
   "source": [
    "square_list=[]\n",
    "for i in range(1,6):\n",
    "    square_list.append(i*i)\n",
    "square_list"
   ]
  },
  {
   "cell_type": "code",
   "execution_count": 47,
   "id": "01d5fa7f-5526-4c76-b10e-c7bb7d8a2451",
   "metadata": {},
   "outputs": [],
   "source": [
    "s=''\n",
    "for i in 'python':\n",
    "    s=s+i\n",
    "    k"
   ]
  },
  {
   "cell_type": "code",
   "execution_count": 51,
   "id": "0284a883-3fd0-459d-abdb-b33bb0283303",
   "metadata": {},
   "outputs": [
    {
     "data": {
      "text/plain": [
       "([1, 5, 9], 15)"
      ]
     },
     "execution_count": 51,
     "metadata": {},
     "output_type": "execute_result"
    }
   ],
   "source": [
    "str1='hai hai hai'\n",
    "id_list=[]\n",
    "for i in range(len(str1)):\n",
    "    if str1[i]=='a':\n",
    "        id_list.append(i)\n",
    "id_list,sum(id_list)"
   ]
  },
  {
   "cell_type": "code",
   "execution_count": 2,
   "id": "5f91f2fd-a7ba-4707-89d5-2c22c63645de",
   "metadata": {},
   "outputs": [
    {
     "data": {
      "text/plain": [
       "['__add__',\n",
       " '__class__',\n",
       " '__contains__',\n",
       " '__delattr__',\n",
       " '__dir__',\n",
       " '__doc__',\n",
       " '__eq__',\n",
       " '__format__',\n",
       " '__ge__',\n",
       " '__getattribute__',\n",
       " '__getitem__',\n",
       " '__getnewargs__',\n",
       " '__getstate__',\n",
       " '__gt__',\n",
       " '__hash__',\n",
       " '__init__',\n",
       " '__init_subclass__',\n",
       " '__iter__',\n",
       " '__le__',\n",
       " '__len__',\n",
       " '__lt__',\n",
       " '__mod__',\n",
       " '__mul__',\n",
       " '__ne__',\n",
       " '__new__',\n",
       " '__reduce__',\n",
       " '__reduce_ex__',\n",
       " '__repr__',\n",
       " '__rmod__',\n",
       " '__rmul__',\n",
       " '__setattr__',\n",
       " '__sizeof__',\n",
       " '__str__',\n",
       " '__subclasshook__',\n",
       " 'capitalize',\n",
       " 'casefold',\n",
       " 'center',\n",
       " 'count',\n",
       " 'encode',\n",
       " 'endswith',\n",
       " 'expandtabs',\n",
       " 'find',\n",
       " 'format',\n",
       " 'format_map',\n",
       " 'index',\n",
       " 'isalnum',\n",
       " 'isalpha',\n",
       " 'isascii',\n",
       " 'isdecimal',\n",
       " 'isdigit',\n",
       " 'isidentifier',\n",
       " 'islower',\n",
       " 'isnumeric',\n",
       " 'isprintable',\n",
       " 'isspace',\n",
       " 'istitle',\n",
       " 'isupper',\n",
       " 'join',\n",
       " 'ljust',\n",
       " 'lower',\n",
       " 'lstrip',\n",
       " 'maketrans',\n",
       " 'partition',\n",
       " 'removeprefix',\n",
       " 'removesuffix',\n",
       " 'replace',\n",
       " 'rfind',\n",
       " 'rindex',\n",
       " 'rjust',\n",
       " 'rpartition',\n",
       " 'rsplit',\n",
       " 'rstrip',\n",
       " 'split',\n",
       " 'splitlines',\n",
       " 'startswith',\n",
       " 'strip',\n",
       " 'swapcase',\n",
       " 'title',\n",
       " 'translate',\n",
       " 'upper',\n",
       " 'zfill']"
      ]
     },
     "execution_count": 2,
     "metadata": {},
     "output_type": "execute_result"
    }
   ],
   "source": [
    "dir('')"
   ]
  },
  {
   "cell_type": "code",
   "execution_count": 5,
   "id": "4314b1fa-a9df-49a2-87fe-478af7d3118c",
   "metadata": {},
   "outputs": [
    {
     "name": "stdout",
     "output_type": "stream",
     "text": [
      "1\n",
      "2\n",
      "3\n",
      "9\n"
     ]
    }
   ],
   "source": [
    "str1='sudarshan1239'\n",
    "for i in range(len(str1)):\n",
    "    if str1[i].isdigit():\n",
    "        print(str1[i])"
   ]
  },
  {
   "cell_type": "markdown",
   "id": "534b9662-3916-41be-9ff3-71100eca9e20",
   "metadata": {},
   "source": [
    "- initialization\n",
    "\n",
    "- len\n",
    "\n",
    "- min\n",
    "\n",
    "- max\n",
    "\n",
    "- sorted\n",
    "\n",
    "- reverse\n",
    "\n",
    "- index\n",
    "\n",
    "- in\n",
    "\n",
    "- for loop in"
   ]
  },
  {
   "cell_type": "code",
   "execution_count": null,
   "id": "2b298a8d-6f7e-4f6f-b0ec-8078667c529e",
   "metadata": {},
   "outputs": [],
   "source": []
  }
 ],
 "metadata": {
  "kernelspec": {
   "display_name": "Python 3 (ipykernel)",
   "language": "python",
   "name": "python3"
  },
  "language_info": {
   "codemirror_mode": {
    "name": "ipython",
    "version": 3
   },
   "file_extension": ".py",
   "mimetype": "text/x-python",
   "name": "python",
   "nbconvert_exporter": "python",
   "pygments_lexer": "ipython3",
   "version": "3.11.7"
  }
 },
 "nbformat": 4,
 "nbformat_minor": 5
}
