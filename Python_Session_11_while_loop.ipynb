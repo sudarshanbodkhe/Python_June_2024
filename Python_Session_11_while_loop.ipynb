{
 "cells": [
  {
   "cell_type": "markdown",
   "id": "f2409786-3f23-41dc-b3a2-e257f0e9537e",
   "metadata": {},
   "source": [
    "**Loops**\n",
    "\n",
    "- for loop\n",
    "\n",
    "- while loop:If you want to run an infinite iterations will choose while loop()\n",
    "\n",
    "    - initial point (starting point)\n",
    " \n",
    "    - Increment or decrement\n",
    " \n",
    "    - condition(stop point)\n",
    "   "
   ]
  },
  {
   "cell_type": "code",
   "execution_count": 2,
   "id": "edddec0a-6730-4786-b1c0-dc1ebd86b6fa",
   "metadata": {},
   "outputs": [
    {
     "name": "stdout",
     "output_type": "stream",
     "text": [
      "1 3 5 7 9 "
     ]
    }
   ],
   "source": [
    "for i in range(1,10,2):\n",
    "    print(i,end=' ')"
   ]
  },
  {
   "cell_type": "markdown",
   "id": "cd54d78e-c872-4ef8-a07f-4dc48e2ff4ba",
   "metadata": {},
   "source": [
    " - in for loop all thre things mentioned in a single line:range(start,stop,step)\n",
    "\n",
    " - in while loop we will use three line as follow:\n",
    "    "
   ]
  },
  {
   "cell_type": "code",
   "execution_count": null,
   "id": "b6cde15d-75d0-45f0-96d6-c9e83449d599",
   "metadata": {},
   "outputs": [],
   "source": [
    "<start point>\n",
    "while <how to stop>:\n",
    "    codeline1\n",
    "    codeline2\n",
    "    <increment or decrement>"
   ]
  },
  {
   "cell_type": "code",
   "execution_count": 1,
   "id": "9926dc63-8eda-42da-bb1a-26e6ef9c1358",
   "metadata": {},
   "outputs": [
    {
     "name": "stdout",
     "output_type": "stream",
     "text": [
      "1\n",
      "2\n",
      "3\n",
      "4\n",
      "5\n",
      "6\n",
      "7\n",
      "8\n",
      "9\n"
     ]
    }
   ],
   "source": [
    "#starting point i=1\n",
    "#while <condition to stop>:\n",
    "#     <codeline1>\n",
    "#     <codeline2>\n",
    "#    increment or decrement\n",
    "\n",
    "\n",
    "i=1\n",
    "while i<10:\n",
    "    print(i)\n",
    "    i=i+1\n",
    "\n",
    "    \n",
    "#step-1= i=1  while 1<2 True print(1) i=1+1 i=2\n",
    "#step-2= i=2 while  2<2 false"
   ]
  },
  {
   "cell_type": "markdown",
   "id": "6b5a1291-6a97-4a35-970d-28b3373d881d",
   "metadata": {},
   "source": [
    "**True:**\n",
    "- If you dont know about valid condition ti enter inside while loop\n",
    " \n",
    "- then use **True**\n",
    "\n",
    "- true will gives entry pass irrespective of the conditions\n",
    "\n",
    "- but if you want to come out we need apply if condition and apply break\n",
    "\n",
    "- if you dont apply break inside,the it becomes infinite loop"
   ]
  },
  {
   "cell_type": "code",
   "execution_count": 2,
   "id": "402dba47-0acc-490b-8457-f2a422813efc",
   "metadata": {},
   "outputs": [],
   "source": [
    "i=1\n",
    "while i==10:\n",
    "    print(i,end=' ')\n",
    "    i=i+1"
   ]
  },
  {
   "cell_type": "code",
   "execution_count": 1,
   "id": "cb9c3c1d-0996-47ee-9a0c-c310c0862d5f",
   "metadata": {},
   "outputs": [
    {
     "name": "stdout",
     "output_type": "stream",
     "text": [
      "1 0 -1 -2 -3 -4 -5 -6 -7 -8 -9 "
     ]
    }
   ],
   "source": [
    "i=1\n",
    "while i<11:\n",
    "    print(i,end=' ')\n",
    "    i=i-1\n",
    "    if i==-10:\n",
    "        break"
   ]
  },
  {
   "cell_type": "code",
   "execution_count": 1,
   "id": "1a86dfdd-8b91-4e30-9e64-33f3a05a687f",
   "metadata": {},
   "outputs": [
    {
     "name": "stdout",
     "output_type": "stream",
     "text": [
      "20 19 18 17 16 15 14 13 12 11 10 9 8 7 6 5 4 3 2 1 "
     ]
    }
   ],
   "source": [
    "#20 to 1\n",
    "i=20\n",
    "while i>0:\n",
    "    print(i,end=' ')\n",
    "    i=i-1\n",
    "    "
   ]
  },
  {
   "cell_type": "code",
   "execution_count": 2,
   "id": "81f88d99-880e-4489-b955-06ce6a5fa912",
   "metadata": {},
   "outputs": [
    {
     "name": "stdout",
     "output_type": "stream",
     "text": [
      "-20 -19 -18 -17 -16 -15 -14 -13 -12 -11 -10 -9 -8 -7 -6 -5 -4 -3 -2 -1 0 "
     ]
    }
   ],
   "source": [
    "#-20 to 0\n",
    "i=-20\n",
    "while i<1:\n",
    "    print(i,end=' ')\n",
    "    i=i+1"
   ]
  },
  {
   "cell_type": "code",
   "execution_count": 4,
   "id": "89cb40b0-4b7f-4cc3-acb2-28bdcf97e7e3",
   "metadata": {},
   "outputs": [
    {
     "name": "stdout",
     "output_type": "stream",
     "text": [
      "20 19 18 17 16 15 14 13 12 11 10 9 8 7 6 5 4 3 2 1 "
     ]
    }
   ],
   "source": [
    "#20 to 1\n",
    "i=20\n",
    "while i>0:\n",
    "    print(i,end=' ')\n",
    "    i=i-1\n",
    "    if i==0:\n",
    "        break"
   ]
  },
  {
   "cell_type": "code",
   "execution_count": 5,
   "id": "ad588425-0505-41f6-8b35-590806fc06e5",
   "metadata": {},
   "outputs": [
    {
     "name": "stdout",
     "output_type": "stream",
     "text": [
      "-20 -19 -18 -17 -16 -15 -14 -13 -12 -11 -10 -9 -8 -7 -6 -5 -4 -3 -2 -1 0 "
     ]
    }
   ],
   "source": [
    "#-20 to 0\n",
    "i=-20\n",
    "while i<1:\n",
    "    print(i,end=' ')\n",
    "    i=i+1\n",
    "    if i==1:\n",
    "        break"
   ]
  },
  {
   "cell_type": "code",
   "execution_count": 12,
   "id": "e6dbc784-da29-4eb9-95d8-72f624b4d168",
   "metadata": {},
   "outputs": [
    {
     "name": "stdout",
     "output_type": "stream",
     "text": [
      "16 is even\n",
      "79 is odd\n",
      "88 is even\n"
     ]
    }
   ],
   "source": [
    "import random\n",
    "for i in range(3):\n",
    "    num=random.randint(1,100)\n",
    "    if num%2==0:\n",
    "        print(f\"{num} is even\")\n",
    "\n",
    "    else:\n",
    "        print(f\"{num} is odd\")"
   ]
  },
  {
   "cell_type": "code",
   "execution_count": null,
   "id": "9ebb60fa-8bb4-47aa-a489-000ae1180912",
   "metadata": {},
   "outputs": [],
   "source": [
    "###############All for loop need to convert into while loop############\n",
    "kindly complete all questions , we will do same replica in While loop\n",
    "#1Q) For example \n",
    "# take a random number between  1 to 100\n",
    "# print it is a even number and odd number\n",
    "# you need to generate 3 random number \n",
    "\n",
    "#2Q) wap ask the user print the number is even or odd between 10 to 20\n",
    "\n",
    "#3Q) wap ask the user print the square of the number between\n",
    "# 20 to 25\n",
    "\n",
    "#4Q) WAP ask the user enter number three times find the square of the number\n",
    "# How many times loop should run\n",
    "\n",
    "\n",
    "#5Q) Print the 14th table\n",
    "# ans:   14 x 1 = 14\n",
    "#        14 x 2 = 28\n",
    "#        14 x 3 = 42\n",
    "#\n",
    "#\n",
    "#        14 x10 = 140\n",
    "# How many times 10\n",
    "\n",
    "\n",
    "#6 Q) Find the factors of 75\n",
    "# step-1: Iterate the loop = which numbers factor you want\n",
    "# step-2: Apply the if condition\n",
    "#         cond= divide the number with each i\n",
    "\n",
    "\n",
    "#7Q) Write the sum of first 10 Natural numbers\n",
    "# 1 to 10\n",
    "# 1+2+3+4+5+6+7+8+9+10=55\n",
    "\n",
    "\n",
    "# 8Q) Average first 1 to 10 numbers\n",
    "# avg= summation of all the numbers/total number\n",
    "#Wap to find the average of ' N ' numbers in Python.\n",
    "\n",
    "\n",
    "#9Q) Find the number of divisors of 75\n",
    "# ans: 1,3,5,15,25,75\n",
    "# Number =6\n",
    "\n",
    "\n",
    "\n",
    "# 10Q)\n",
    "# Get a random number between  1 to 10 :  num1\n",
    "# Ask the user enter a number : num2\n",
    "# if num1 == num2  then print won\n",
    "# else print fail\n",
    "\n",
    "# Give 3 chances\n",
    "\n",
    "# Case-2: whenever you won the code should stop\n",
    "\n",
    "# Case-3:\n",
    "# Suppose i want to give 4 chances\n",
    "# Every time you fail I want to display \n",
    "#      Number of chances left\n",
    "\n",
    "# If all the chances you are used\n",
    "#    Try again after 24 hours\n",
    "\n",
    "# If you are win \n",
    "\n",
    "\n",
    "\n",
    "\n",
    "11q)# wap ask the user get 5 random numbers\n",
    "# Get it is an even number or odd number \n",
    "# also count how many even numbers are there\n",
    "# and  count how many odd numbers are there\n",
    "\n",
    "# Idea\n",
    "# take two counters one even and odd count\n",
    "# For loop 5 times\n",
    "# each time take the random number\n",
    "# If condition\n",
    "#    True counter update\n",
    "# else\n",
    "#   Update the counter\n",
    "\n",
    "\n",
    "12Q) # wap ask the user get 5 random numbers\n",
    "# Get it is an even number or odd number \n",
    "# also count how many even numbers are there\n",
    "# and  count how many odd numbers are there\n",
    "# I want summ even numbers\n",
    "# I want summ odd numbers"
   ]
  },
  {
   "cell_type": "code",
   "execution_count": 2,
   "id": "569a3f7f-f3f1-4c7c-8a70-9a32f0cebb66",
   "metadata": {},
   "outputs": [
    {
     "name": "stdout",
     "output_type": "stream",
     "text": [
      "45 is odd\n",
      "24 is even\n",
      "93 is odd\n"
     ]
    }
   ],
   "source": [
    "#1Q) For example \n",
    "# take a random number between  1 to 100\n",
    "# print it is a even number and odd number\n",
    "# you need to generate 3 random number \n",
    "\n",
    "import random\n",
    "i=0\n",
    "while i<3:\n",
    "    i=i+1\n",
    "    num=random.randint(1,100)\n",
    "    if num%2==0:\n",
    "        print(f\"{num} is even\")\n",
    "\n",
    "    else:\n",
    "        print(f\"{num} is odd\")\n",
    "    \n",
    "     "
   ]
  },
  {
   "cell_type": "code",
   "execution_count": 1,
   "id": "78ea1d20-2587-4780-b03d-c6c6cb13a301",
   "metadata": {},
   "outputs": [
    {
     "name": "stdout",
     "output_type": "stream",
     "text": [
      "10\n",
      "number is even\n",
      "11\n",
      "number is odd\n",
      "12\n",
      "number is even\n",
      "13\n",
      "number is odd\n",
      "14\n",
      "number is even\n",
      "15\n",
      "number is odd\n",
      "16\n",
      "number is even\n",
      "17\n",
      "number is odd\n",
      "18\n",
      "number is even\n",
      "19\n",
      "number is odd\n",
      "20\n",
      "number is even\n"
     ]
    }
   ],
   "source": [
    "#2Q) wap ask the user print the number is even or odd between 10 to 20\n",
    "\n",
    "i=10\n",
    "while i<21:\n",
    "    print(i)\n",
    "    if i%2==0:\n",
    "        print(\"number is even\")\n",
    "    else:\n",
    "        print(\"number is odd\")\n",
    "    i=i+1\n",
    "    "
   ]
  },
  {
   "cell_type": "code",
   "execution_count": 5,
   "id": "52555416-90df-4adf-9567-be8fbea12ff7",
   "metadata": {},
   "outputs": [
    {
     "name": "stdout",
     "output_type": "stream",
     "text": [
      "Square of 20 is 400\n",
      "Square of 21 is 441\n",
      "Square of 22 is 484\n",
      "Square of 23 is 529\n",
      "Square of 24 is 576\n",
      "Square of 25 is 625\n"
     ]
    }
   ],
   "source": [
    "#3Q) wap ask the user print the square of the number between\n",
    "# 20 to 25\n",
    "\n",
    "i=20\n",
    "while i<26:\n",
    "    square=i*i\n",
    "    print(f\"Square of {i} is {square}\")\n",
    "    i=i+1"
   ]
  },
  {
   "cell_type": "code",
   "execution_count": 6,
   "id": "6ddc547c-e242-416f-9bd2-a2d33821d086",
   "metadata": {},
   "outputs": [
    {
     "name": "stdin",
     "output_type": "stream",
     "text": [
      "Enter the number: 5\n"
     ]
    },
    {
     "name": "stdout",
     "output_type": "stream",
     "text": [
      "The square of 5 is 25\n"
     ]
    },
    {
     "name": "stdin",
     "output_type": "stream",
     "text": [
      "Enter the number: 6\n"
     ]
    },
    {
     "name": "stdout",
     "output_type": "stream",
     "text": [
      "The square of 6 is 36\n"
     ]
    },
    {
     "name": "stdin",
     "output_type": "stream",
     "text": [
      "Enter the number: 7\n"
     ]
    },
    {
     "name": "stdout",
     "output_type": "stream",
     "text": [
      "The square of 7 is 49\n"
     ]
    }
   ],
   "source": [
    "#4Q) WAP ask the user enter number three times find the square of the number\n",
    "i=0\n",
    "while i<3:\n",
    "    num=eval(input(\"Enter the number:\"))\n",
    "    square=num*num\n",
    "    print(f\"The square of {num} is {square}\")\n",
    "    i=i+1\n",
    "\n",
    "\n"
   ]
  },
  {
   "cell_type": "code",
   "execution_count": 12,
   "id": "738ca561-12de-41f2-b75c-c260798175fc",
   "metadata": {},
   "outputs": [
    {
     "name": "stdin",
     "output_type": "stream",
     "text": [
      "Enter the number to find table: 14\n"
     ]
    },
    {
     "name": "stdout",
     "output_type": "stream",
     "text": [
      "14 * 1 = 14\n",
      "14 * 2 = 28\n",
      "14 * 3 = 42\n",
      "14 * 4 = 56\n",
      "14 * 5 = 70\n",
      "14 * 6 = 84\n",
      "14 * 7 = 98\n",
      "14 * 8 = 112\n",
      "14 * 9 = 126\n",
      "14 * 10 = 140\n"
     ]
    }
   ],
   "source": [
    "#5Q) Print the 14th table\n",
    "# ans:   14 x 1 = 14\n",
    "#        14 x 2 = 28\n",
    "#        14 x 3 = 42\n",
    "#\n",
    "#\n",
    "#        14 x10 = 140\n",
    "# How many times 10\n",
    "\n",
    "i=1\n",
    "num=eval(input(\"Enter the number to find table:\"))\n",
    "while i<11:\n",
    "    table=num*i\n",
    "    print(f\"{num} * {i} = {table}\")\n",
    "    i=i+1\n"
   ]
  },
  {
   "cell_type": "code",
   "execution_count": 1,
   "id": "6e02d9f1-004c-4220-9547-94a1240250d7",
   "metadata": {},
   "outputs": [
    {
     "name": "stdin",
     "output_type": "stream",
     "text": [
      "Enter the number to find the factors: 75\n"
     ]
    },
    {
     "name": "stdout",
     "output_type": "stream",
     "text": [
      "1 is the factors of 75\n",
      "3 is the factors of 75\n",
      "5 is the factors of 75\n",
      "15 is the factors of 75\n",
      "25 is the factors of 75\n",
      "75 is the factors of 75\n"
     ]
    }
   ],
   "source": [
    "#6 Q) Find the factors of 75\n",
    "# step-1: Iterate the loop = which numbers factor you want\n",
    "# step-2: Apply the if condition\n",
    "#         cond= divide the number with each i\n",
    "\n",
    "num=eval(input(\"Enter the number to find the factors:\"))\n",
    "i=1\n",
    "while i<num+1:\n",
    "    if num%i==0:\n",
    "        print(f\"{i} is the factors of {num}\")\n",
    "    i=i+1"
   ]
  },
  {
   "cell_type": "code",
   "execution_count": 6,
   "id": "0a379326-246b-48d7-8e03-dc22b6732a62",
   "metadata": {},
   "outputs": [
    {
     "name": "stdout",
     "output_type": "stream",
     "text": [
      "sum of first 10 natural numbers is 55\n"
     ]
    }
   ],
   "source": [
    "#7Q) Write the sum of first 10 Natural numbers\n",
    "# 1 to 10\n",
    "# 1+2+3+4+5+6+7+8+9+10=55\n",
    "\n",
    "summ=0\n",
    "i=1\n",
    "while i<11:\n",
    "    summ=summ+i\n",
    "    i=i+1\n",
    "print(f\"sum of first 10 natural numbers is {summ}\")"
   ]
  },
  {
   "cell_type": "code",
   "execution_count": 10,
   "id": "cb5fd476-ec0c-4646-ad32-aef57b801b67",
   "metadata": {},
   "outputs": [
    {
     "name": "stdout",
     "output_type": "stream",
     "text": [
      "Sum of first 10 numbers is:55\n",
      "Average of first 10 numbers is:5.5\n"
     ]
    }
   ],
   "source": [
    "#8Q) Average first 1 to 10 numbers\n",
    "# avg= summation of all the numbers/total number\n",
    "summ=0\n",
    "i=1\n",
    "while i<11:\n",
    "    summ=summ+i\n",
    "    avg=summ/i\n",
    "    i=i+1\n",
    "print(f\"Sum of first 10 numbers is:{summ}\")\n",
    "print(f\"Average of first 10 numbers is:{avg}\")"
   ]
  },
  {
   "cell_type": "code",
   "execution_count": 3,
   "id": "53026f08-1e07-4d12-971e-144311c06542",
   "metadata": {},
   "outputs": [
    {
     "name": "stdin",
     "output_type": "stream",
     "text": [
      "Enter the number: 75\n"
     ]
    },
    {
     "name": "stdout",
     "output_type": "stream",
     "text": [
      "1,3,5,15,25,75,\n",
      "Number=6\n"
     ]
    }
   ],
   "source": [
    "#9Q) Find the number of divisors of 75\n",
    "# ans: 1,3,5,15,25,75\n",
    "# Number =6\n",
    "num=eval(input(\"Enter the number:\"))\n",
    "i=1\n",
    "num_count=0\n",
    "while i<num+1:\n",
    "    if num%i==0:\n",
    "        num_count=num_count+1\n",
    "        print(i,end=\",\")\n",
    "    i=i+1\n",
    "print(sep=' ')    \n",
    "print(f\"Number={num_count}\")"
   ]
  },
  {
   "cell_type": "code",
   "execution_count": 13,
   "id": "ca984352-3f33-4357-a78f-b8a82f918998",
   "metadata": {},
   "outputs": [
    {
     "name": "stdin",
     "output_type": "stream",
     "text": [
      "Enter the the number2: 1\n"
     ]
    },
    {
     "name": "stdout",
     "output_type": "stream",
     "text": [
      "fail\n",
      "you have 2 chance left\n"
     ]
    },
    {
     "name": "stdin",
     "output_type": "stream",
     "text": [
      "Enter the the number2: 2\n"
     ]
    },
    {
     "name": "stdout",
     "output_type": "stream",
     "text": [
      "Won\n"
     ]
    }
   ],
   "source": [
    "# 10Q)\n",
    "# Get a random number between  1 to 10 :  num1\n",
    "# Ask the user enter a number : num2\n",
    "# if num1 == num2  then print won\n",
    "# else print fail\n",
    "\n",
    "# Give 3 chances\n",
    "\n",
    "# Case-2: whenever you won the code should stop\n",
    "\n",
    "# Case-3:\n",
    "# Suppose i want to give 4 chances\n",
    "# Every time you fail I want to display \n",
    "#      Number of chances left\n",
    "\n",
    "# If all the chances you are used\n",
    "#    Try again after 24 hours\n",
    "\n",
    "# If you are win \n",
    "\n",
    "import random\n",
    "i=1\n",
    "while i<3:\n",
    "    num1=random.randint(1,10)\n",
    "    num2=eval(input(\"Enter the the number2:\"))\n",
    "    if num1!=num2:\n",
    "        print(\"fail\")\n",
    "        print(f\"you have {3-i} chance left\")\n",
    "    else:\n",
    "        print(\"Won\")\n",
    "        break\n",
    "    if i==3:\n",
    "        print(\"*****Try after 24 hours*****\")"
   ]
  },
  {
   "cell_type": "code",
   "execution_count": 1,
   "id": "7b443676-494a-436b-8078-d49b72189163",
   "metadata": {},
   "outputs": [
    {
     "name": "stdout",
     "output_type": "stream",
     "text": [
      "Total number of even number is:2\n",
      "Total number of odd number is:3\n"
     ]
    }
   ],
   "source": [
    "#Q11)\n",
    "#wap ask the user get 5 random numbers\n",
    "# Get it is an even number or odd number \n",
    "# also count how many even numbers are there\n",
    "# and  count how many odd numbers are there\n",
    "\n",
    "# Idea\n",
    "# take two counters one even and odd count\n",
    "# For loop 5 times\n",
    "# each time take the random number\n",
    "# If condition\n",
    "#    True counter update\n",
    "# else\n",
    "#   Update the counter\n",
    "\n",
    "import random\n",
    "even_count,odd_count=0,0\n",
    "i=0\n",
    "while i<5:\n",
    "    num=random.randint(1,100)\n",
    "    if num%2==0:\n",
    "        even_count=even_count+1\n",
    "    else:\n",
    "        odd_count=odd_count+1\n",
    "    i=i+1\n",
    "\n",
    "print(f\"Total number of even number is:{even_count}\")\n",
    "print(f\"Total number of odd number is:{odd_count}\")\n",
    "    \n",
    "    \n",
    "    "
   ]
  },
  {
   "cell_type": "code",
   "execution_count": 4,
   "id": "9b57f463-e08e-4540-b2b6-7b6d9a59bdce",
   "metadata": {},
   "outputs": [
    {
     "name": "stdout",
     "output_type": "stream",
     "text": [
      "Sum of even numbers is:58\n",
      "Sum of odd numbers is:135\n",
      "Total count of even number is:2\n",
      "Total count of odd number is:3\n"
     ]
    }
   ],
   "source": [
    "#Question-12\n",
    "# wap ask the user get 5 random numbers\n",
    "# Get it is an even number or odd number \n",
    "# also count how many even numbers are there\n",
    "# and  count how many odd numbers are there\n",
    "# I want summ even numbers\n",
    "# I want summ odd numbers\n",
    "\n",
    "\n",
    "import random\n",
    "even_sum,odd_sum=0,0\n",
    "even_count,odd_count=0,0\n",
    "i=0\n",
    "while i<5:\n",
    "    num=random.randint(1,100)\n",
    "    if num%2==0:\n",
    "        even_count=even_count+1\n",
    "        even_sum=even_sum+num\n",
    "    else:\n",
    "        odd_count=odd_count+1\n",
    "        odd_sum=odd_sum+num\n",
    "    i=i+1\n",
    "        \n",
    "print(f\"Sum of even numbers is:{even_sum}\")\n",
    "print(f\"Sum of odd numbers is:{odd_sum}\")\n",
    "print(f\"Total count of even number is:{even_count}\")\n",
    "print(f\"Total count of odd number is:{odd_count}\")\n",
    "    \n",
    "            \n",
    "\n"
   ]
  },
  {
   "cell_type": "code",
   "execution_count": null,
   "id": "57d3d3b4-f149-4e8c-8228-ebc224fb9cb5",
   "metadata": {},
   "outputs": [],
   "source": []
  }
 ],
 "metadata": {
  "kernelspec": {
   "display_name": "Python 3 (ipykernel)",
   "language": "python",
   "name": "python3"
  },
  "language_info": {
   "codemirror_mode": {
    "name": "ipython",
    "version": 3
   },
   "file_extension": ".py",
   "mimetype": "text/x-python",
   "name": "python",
   "nbconvert_exporter": "python",
   "pygments_lexer": "ipython3",
   "version": "3.11.7"
  }
 },
 "nbformat": 4,
 "nbformat_minor": 5
}
